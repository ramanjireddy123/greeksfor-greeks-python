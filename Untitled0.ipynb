{
  "nbformat": 4,
  "nbformat_minor": 0,
  "metadata": {
    "colab": {
      "name": "Untitled0.ipynb",
      "provenance": [],
      "collapsed_sections": [
        "tcnt-TFp_w1F",
        "nG5kLXmkEUao",
        "ZpWjXWq3GreL",
        "B6BHPvDIITw9",
        "a4-5KcUDJ8UT",
        "lXQxtIHOE49Q",
        "HyJCpOw5G2vw",
        "udLSBoZ1I5g6",
        "ZQguOOgeQBWq",
        "zZJe08riQPT_",
        "Ayvt8zT_RaIr",
        "vZ7Ub9I1SKSU",
        "nx9qb4H5TNzu",
        "NS6SelPnTxRo",
        "XxFN_RJBU98a",
        "YTw1lcLLVtVc",
        "8A8r8WI5Wf-C",
        "NBqPh0dZXlB5",
        "F9QbaGkzpxpa",
        "yCNDg9rCb1xs",
        "99Yas175caDE",
        "qd2ujau6dwzK",
        "8AdR6Khde9Pm",
        "V94HQMhqnxG4",
        "VmVY8YHYw0Sc"
      ],
      "toc_visible": true,
      "authorship_tag": "ABX9TyMV16SW6uEq9MJ7o4ei2oij",
      "include_colab_link": true
    },
    "kernelspec": {
      "name": "python3",
      "display_name": "Python 3"
    },
    "language_info": {
      "name": "python"
    }
  },
  "cells": [
    {
      "cell_type": "markdown",
      "metadata": {
        "id": "view-in-github",
        "colab_type": "text"
      },
      "source": [
        "<a href=\"https://colab.research.google.com/github/ramanjireddy123/greeksfor-greeks-python/blob/main/Untitled0.ipynb\" target=\"_parent\"><img src=\"https://colab.research.google.com/assets/colab-badge.svg\" alt=\"Open In Colab\"/></a>"
      ]
    },
    {
      "cell_type": "code",
      "metadata": {
        "colab": {
          "base_uri": "https://localhost:8080/"
        },
        "id": "GBnuzmJBre61",
        "outputId": "1fc12e3c-e6f7-43a1-bc7d-72e4cee20bd8"
      },
      "source": [
        "print(\"Hello world\")"
      ],
      "execution_count": null,
      "outputs": [
        {
          "output_type": "stream",
          "text": [
            "Hello world\n"
          ],
          "name": "stdout"
        }
      ]
    },
    {
      "cell_type": "code",
      "metadata": {
        "id": "YRWk9aukwLT-"
      },
      "source": [
        "hello = \"ram\""
      ],
      "execution_count": null,
      "outputs": []
    },
    {
      "cell_type": "code",
      "metadata": {
        "colab": {
          "base_uri": "https://localhost:8080/"
        },
        "id": "L7XfwdLrxd86",
        "outputId": "6553f63d-8297-47d3-a903-df658b33649d"
      },
      "source": [
        "print(hello)"
      ],
      "execution_count": null,
      "outputs": [
        {
          "output_type": "stream",
          "text": [
            "ram\n"
          ],
          "name": "stdout"
        }
      ]
    },
    {
      "cell_type": "code",
      "metadata": {
        "colab": {
          "base_uri": "https://localhost:8080/",
          "height": 35
        },
        "id": "MoQvLPtIxgRd",
        "outputId": "7c3cbd9b-cf50-4f80-fab5-4b6fc6a01868"
      },
      "source": [
        "hello"
      ],
      "execution_count": null,
      "outputs": [
        {
          "output_type": "execute_result",
          "data": {
            "application/vnd.google.colaboratory.intrinsic+json": {
              "type": "string"
            },
            "text/plain": [
              "'ram'"
            ]
          },
          "metadata": {
            "tags": []
          },
          "execution_count": 5
        }
      ]
    },
    {
      "cell_type": "code",
      "metadata": {
        "colab": {
          "base_uri": "https://localhost:8080/"
        },
        "id": "51Vn7kadxhY7",
        "outputId": "ee3c38c6-01b0-4349-e1b8-14b344b707a0"
      },
      "source": [
        "name = input(\"Enter your name\")"
      ],
      "execution_count": null,
      "outputs": [
        {
          "output_type": "stream",
          "text": [
            "Enter your nameRAM\n"
          ],
          "name": "stdout"
        }
      ]
    },
    {
      "cell_type": "code",
      "metadata": {
        "colab": {
          "base_uri": "https://localhost:8080/"
        },
        "id": "NysQket4xnFd",
        "outputId": "a3441edc-09de-48ee-ddea-7f9f56ff8f4a"
      },
      "source": [
        "name = input(\"Enter your name \")\n",
        "print(\"hi\", name)"
      ],
      "execution_count": null,
      "outputs": [
        {
          "output_type": "stream",
          "text": [
            "Enter your name RAM\n",
            "hi RAM\n"
          ],
          "name": "stdout"
        }
      ]
    },
    {
      "cell_type": "code",
      "metadata": {
        "id": "_7vFnqOAx9Qs"
      },
      "source": [
        ""
      ],
      "execution_count": null,
      "outputs": []
    },
    {
      "cell_type": "markdown",
      "metadata": {
        "id": "Mg8f8hZz_gkL"
      },
      "source": [
        "# VARIABLES "
      ]
    },
    {
      "cell_type": "code",
      "metadata": {
        "id": "qGr05gli0QGl"
      },
      "source": [
        "# # what is data type i.e the type of values we assigned to a varible\n",
        "\n",
        "# integers   = only numbers\n",
        "\n",
        "# floats = having only decimals vlues\n",
        "\n",
        "# string = characters that '', \"\"\n"
      ],
      "execution_count": null,
      "outputs": []
    },
    {
      "cell_type": "code",
      "metadata": {
        "colab": {
          "base_uri": "https://localhost:8080/"
        },
        "id": "prhHn-951O8R",
        "outputId": "5e2832e1-4766-4dae-a110-34f369bb98d1"
      },
      "source": [
        "x = 100\n",
        "\n",
        "type(x)"
      ],
      "execution_count": null,
      "outputs": [
        {
          "output_type": "execute_result",
          "data": {
            "text/plain": [
              "int"
            ]
          },
          "metadata": {
            "tags": []
          },
          "execution_count": 9
        }
      ]
    },
    {
      "cell_type": "code",
      "metadata": {
        "colab": {
          "base_uri": "https://localhost:8080/"
        },
        "id": "y-mP_JOA1R0t",
        "outputId": "037526f6-3678-4b99-f538-4f8c8c2d911a"
      },
      "source": [
        "print(x)"
      ],
      "execution_count": null,
      "outputs": [
        {
          "output_type": "stream",
          "text": [
            "100\n"
          ],
          "name": "stdout"
        }
      ]
    },
    {
      "cell_type": "code",
      "metadata": {
        "colab": {
          "base_uri": "https://localhost:8080/"
        },
        "id": "EyoQYSC81TsE",
        "outputId": "642d0956-f041-4064-fd59-2ce861f3e8a9"
      },
      "source": [
        "x = 3.14\n",
        "type(x)"
      ],
      "execution_count": null,
      "outputs": [
        {
          "output_type": "execute_result",
          "data": {
            "text/plain": [
              "float"
            ]
          },
          "metadata": {
            "tags": []
          },
          "execution_count": 11
        }
      ]
    },
    {
      "cell_type": "code",
      "metadata": {
        "colab": {
          "base_uri": "https://localhost:8080/"
        },
        "id": "kqCMkA7q1Ztu",
        "outputId": "187b59df-2115-4d12-8d79-5c2a65d911bd"
      },
      "source": [
        "print(x)"
      ],
      "execution_count": null,
      "outputs": [
        {
          "output_type": "stream",
          "text": [
            "3.14\n"
          ],
          "name": "stdout"
        }
      ]
    },
    {
      "cell_type": "code",
      "metadata": {
        "id": "YjOUzbDp1b12"
      },
      "source": [
        "x = 'RAM'"
      ],
      "execution_count": null,
      "outputs": []
    },
    {
      "cell_type": "code",
      "metadata": {
        "colab": {
          "base_uri": "https://localhost:8080/",
          "height": 35
        },
        "id": "GheMxYp51mVf",
        "outputId": "b1b021ef-d048-46c1-d364-c71e4cf8afec"
      },
      "source": [
        "x"
      ],
      "execution_count": null,
      "outputs": [
        {
          "output_type": "execute_result",
          "data": {
            "application/vnd.google.colaboratory.intrinsic+json": {
              "type": "string"
            },
            "text/plain": [
              "'RAM'"
            ]
          },
          "metadata": {
            "tags": []
          },
          "execution_count": 14
        }
      ]
    },
    {
      "cell_type": "code",
      "metadata": {
        "colab": {
          "base_uri": "https://localhost:8080/"
        },
        "id": "o5b7ACMw1m_q",
        "outputId": "28bc9226-8e15-4c5b-deb5-709f3a990172"
      },
      "source": [
        "print(x)"
      ],
      "execution_count": null,
      "outputs": [
        {
          "output_type": "stream",
          "text": [
            "RAM\n"
          ],
          "name": "stdout"
        }
      ]
    },
    {
      "cell_type": "code",
      "metadata": {
        "colab": {
          "base_uri": "https://localhost:8080/"
        },
        "id": "hLS5dDXS1o73",
        "outputId": "0ca7701c-6d42-44a0-f14b-ed7ef22d0918"
      },
      "source": [
        "type(x)"
      ],
      "execution_count": null,
      "outputs": [
        {
          "output_type": "execute_result",
          "data": {
            "text/plain": [
              "str"
            ]
          },
          "metadata": {
            "tags": []
          },
          "execution_count": 16
        }
      ]
    },
    {
      "cell_type": "code",
      "metadata": {
        "id": "OCx1zg4b1qcR"
      },
      "source": [
        "x = \"RAM\""
      ],
      "execution_count": null,
      "outputs": []
    },
    {
      "cell_type": "code",
      "metadata": {
        "colab": {
          "base_uri": "https://localhost:8080/"
        },
        "id": "VlyfNcVi1tN2",
        "outputId": "012ece0b-62b6-470d-d3d6-4262a9463abe"
      },
      "source": [
        "print(x)"
      ],
      "execution_count": null,
      "outputs": [
        {
          "output_type": "stream",
          "text": [
            "RAM\n"
          ],
          "name": "stdout"
        }
      ]
    },
    {
      "cell_type": "code",
      "metadata": {
        "colab": {
          "base_uri": "https://localhost:8080/",
          "height": 35
        },
        "id": "avfZXKnw1uvO",
        "outputId": "f02ca2c7-e031-483b-aaa2-5704d044b8ba"
      },
      "source": [
        "x"
      ],
      "execution_count": null,
      "outputs": [
        {
          "output_type": "execute_result",
          "data": {
            "application/vnd.google.colaboratory.intrinsic+json": {
              "type": "string"
            },
            "text/plain": [
              "'RAM'"
            ]
          },
          "metadata": {
            "tags": []
          },
          "execution_count": 19
        }
      ]
    },
    {
      "cell_type": "code",
      "metadata": {
        "colab": {
          "base_uri": "https://localhost:8080/"
        },
        "id": "5rUXMB-b1wIB",
        "outputId": "6078dee5-f44d-4f2e-c707-98460c3a3776"
      },
      "source": [
        "type(x)"
      ],
      "execution_count": null,
      "outputs": [
        {
          "output_type": "execute_result",
          "data": {
            "text/plain": [
              "str"
            ]
          },
          "metadata": {
            "tags": []
          },
          "execution_count": 20
        }
      ]
    },
    {
      "cell_type": "markdown",
      "metadata": {
        "id": "sNOdCag1_mOz"
      },
      "source": [
        " # LISTS"
      ]
    },
    {
      "cell_type": "code",
      "metadata": {
        "colab": {
          "base_uri": "https://localhost:8080/"
        },
        "id": "dUNeT9St1xp5",
        "outputId": "cbd13da7-343b-482b-eb18-cfca6a5984c2"
      },
      "source": [
        "## LISTS it is set of collection of values\n",
        "\n",
        "x = [1,2,3,4,5,6,]\n",
        "print(x)"
      ],
      "execution_count": null,
      "outputs": [
        {
          "output_type": "stream",
          "text": [
            "[1, 2, 3, 4, 5, 6]\n"
          ],
          "name": "stdout"
        }
      ]
    },
    {
      "cell_type": "code",
      "metadata": {
        "colab": {
          "base_uri": "https://localhost:8080/"
        },
        "id": "QcUb1GOv2KSi",
        "outputId": "77aea30f-6338-4070-f0dc-82c813913f5c"
      },
      "source": [
        "type(x)"
      ],
      "execution_count": null,
      "outputs": [
        {
          "output_type": "execute_result",
          "data": {
            "text/plain": [
              "list"
            ]
          },
          "metadata": {
            "tags": []
          },
          "execution_count": 22
        }
      ]
    },
    {
      "cell_type": "code",
      "metadata": {
        "colab": {
          "base_uri": "https://localhost:8080/"
        },
        "id": "13o6HyXh2UX_",
        "outputId": "18c41c40-7048-488c-c4c0-66562f41f7ed"
      },
      "source": [
        "x[0]"
      ],
      "execution_count": null,
      "outputs": [
        {
          "output_type": "execute_result",
          "data": {
            "text/plain": [
              "1"
            ]
          },
          "metadata": {
            "tags": []
          },
          "execution_count": 23
        }
      ]
    },
    {
      "cell_type": "code",
      "metadata": {
        "colab": {
          "base_uri": "https://localhost:8080/"
        },
        "id": "jlyTghL72WJU",
        "outputId": "81148979-7a4c-49ef-da73-8ae1c625d535"
      },
      "source": [
        "x[4]"
      ],
      "execution_count": null,
      "outputs": [
        {
          "output_type": "execute_result",
          "data": {
            "text/plain": [
              "5"
            ]
          },
          "metadata": {
            "tags": []
          },
          "execution_count": 24
        }
      ]
    },
    {
      "cell_type": "code",
      "metadata": {
        "colab": {
          "base_uri": "https://localhost:8080/"
        },
        "id": "dx7BVgu42X_p",
        "outputId": "7a7961d0-cf1b-4723-d193-f28065fbcfbc"
      },
      "source": [
        "print(x[3])"
      ],
      "execution_count": null,
      "outputs": [
        {
          "output_type": "stream",
          "text": [
            "4\n"
          ],
          "name": "stdout"
        }
      ]
    },
    {
      "cell_type": "code",
      "metadata": {
        "id": "q8UzJ0LC2dC-"
      },
      "source": [
        "x[2] = 56"
      ],
      "execution_count": null,
      "outputs": []
    },
    {
      "cell_type": "code",
      "metadata": {
        "colab": {
          "base_uri": "https://localhost:8080/"
        },
        "id": "m_3TGyIA2roD",
        "outputId": "02cc2214-9e61-4ba7-debb-40cb4cec3bc5"
      },
      "source": [
        "print(x)"
      ],
      "execution_count": null,
      "outputs": [
        {
          "output_type": "stream",
          "text": [
            "[1, 2, 56, 4, 5, 6]\n"
          ],
          "name": "stdout"
        }
      ]
    },
    {
      "cell_type": "markdown",
      "metadata": {
        "id": "JIxqneHQ_pv7"
      },
      "source": [
        " # TUPLE"
      ]
    },
    {
      "cell_type": "code",
      "metadata": {
        "id": "Y0vcan932svI"
      },
      "source": [
        "## TUPLE\n",
        "\n",
        "x = (2,3,4,5,6,7)"
      ],
      "execution_count": null,
      "outputs": []
    },
    {
      "cell_type": "code",
      "metadata": {
        "colab": {
          "base_uri": "https://localhost:8080/"
        },
        "id": "RAgy9jRB3Ddp",
        "outputId": "c25ded0e-6c54-4594-b775-2e623c111ab4"
      },
      "source": [
        "x"
      ],
      "execution_count": null,
      "outputs": [
        {
          "output_type": "execute_result",
          "data": {
            "text/plain": [
              "(2, 3, 4, 5, 6, 7)"
            ]
          },
          "metadata": {
            "tags": []
          },
          "execution_count": 29
        }
      ]
    },
    {
      "cell_type": "code",
      "metadata": {
        "colab": {
          "base_uri": "https://localhost:8080/"
        },
        "id": "10ENhxAE3D6N",
        "outputId": "68844af0-2ea3-40fa-e037-c97633a0142f"
      },
      "source": [
        "type(x)"
      ],
      "execution_count": null,
      "outputs": [
        {
          "output_type": "execute_result",
          "data": {
            "text/plain": [
              "tuple"
            ]
          },
          "metadata": {
            "tags": []
          },
          "execution_count": 30
        }
      ]
    },
    {
      "cell_type": "code",
      "metadata": {
        "colab": {
          "base_uri": "https://localhost:8080/"
        },
        "id": "mYvj25R83H_n",
        "outputId": "5f0ee058-e9ad-492b-d5b8-97ef7d47f2bd"
      },
      "source": [
        "x[1]"
      ],
      "execution_count": null,
      "outputs": [
        {
          "output_type": "execute_result",
          "data": {
            "text/plain": [
              "3"
            ]
          },
          "metadata": {
            "tags": []
          },
          "execution_count": 31
        }
      ]
    },
    {
      "cell_type": "code",
      "metadata": {
        "colab": {
          "base_uri": "https://localhost:8080/"
        },
        "id": "bMvZUVZf3K9y",
        "outputId": "e4a339ca-781d-4d35-f53c-cb0708874d79"
      },
      "source": [
        "print(x[2])"
      ],
      "execution_count": null,
      "outputs": [
        {
          "output_type": "stream",
          "text": [
            "4\n"
          ],
          "name": "stdout"
        }
      ]
    },
    {
      "cell_type": "code",
      "metadata": {
        "colab": {
          "base_uri": "https://localhost:8080/",
          "height": 162
        },
        "id": "F_Eu_XO13Q5t",
        "outputId": "9e818686-7e5b-4913-d443-0be4a4005753"
      },
      "source": [
        "x[1] = 6"
      ],
      "execution_count": null,
      "outputs": [
        {
          "output_type": "error",
          "ename": "TypeError",
          "evalue": "ignored",
          "traceback": [
            "\u001b[0;31m---------------------------------------------------------------------------\u001b[0m",
            "\u001b[0;31mTypeError\u001b[0m                                 Traceback (most recent call last)",
            "\u001b[0;32m<ipython-input-33-2eb0c4610ca7>\u001b[0m in \u001b[0;36m<module>\u001b[0;34m()\u001b[0m\n\u001b[0;32m----> 1\u001b[0;31m \u001b[0mx\u001b[0m\u001b[0;34m[\u001b[0m\u001b[0;36m1\u001b[0m\u001b[0;34m]\u001b[0m \u001b[0;34m=\u001b[0m \u001b[0;36m6\u001b[0m\u001b[0;34m\u001b[0m\u001b[0;34m\u001b[0m\u001b[0m\n\u001b[0m",
            "\u001b[0;31mTypeError\u001b[0m: 'tuple' object does not support item assignment"
          ]
        }
      ]
    },
    {
      "cell_type": "code",
      "metadata": {
        "id": "Kpu7zQaU310U"
      },
      "source": [
        "x , y ,z = (1,2,3)"
      ],
      "execution_count": null,
      "outputs": []
    },
    {
      "cell_type": "code",
      "metadata": {
        "id": "yu-ZdRrE4Wnf",
        "colab": {
          "base_uri": "https://localhost:8080/"
        },
        "outputId": "89978799-aaae-4358-d91c-fc7c8cd5b538"
      },
      "source": [
        "print(x)"
      ],
      "execution_count": null,
      "outputs": [
        {
          "output_type": "stream",
          "text": [
            "(2, 3, 4, 5, 6, 7)\n"
          ],
          "name": "stdout"
        }
      ]
    },
    {
      "cell_type": "code",
      "metadata": {
        "id": "B3Pb59RB4YAg",
        "colab": {
          "base_uri": "https://localhost:8080/"
        },
        "outputId": "ff8a0da9-8527-4745-c791-a95b54db28fa"
      },
      "source": [
        "print(y)"
      ],
      "execution_count": null,
      "outputs": [
        {
          "output_type": "stream",
          "text": [
            "2\n"
          ],
          "name": "stdout"
        }
      ]
    },
    {
      "cell_type": "code",
      "metadata": {
        "id": "IV52Zsn04Zoc",
        "colab": {
          "base_uri": "https://localhost:8080/"
        },
        "outputId": "2f60f3c8-1011-4d5b-80d1-7eb801e5e5b9"
      },
      "source": [
        "print(z)"
      ],
      "execution_count": null,
      "outputs": [
        {
          "output_type": "stream",
          "text": [
            "3\n"
          ],
          "name": "stdout"
        }
      ]
    },
    {
      "cell_type": "code",
      "metadata": {
        "id": "yM10S--W4bHh",
        "colab": {
          "base_uri": "https://localhost:8080/",
          "height": 162
        },
        "outputId": "40aaf105-84dd-4c9a-d8c7-3ff187a31fb2"
      },
      "source": [
        "x, y, z = 1,2,3,4"
      ],
      "execution_count": null,
      "outputs": [
        {
          "output_type": "error",
          "ename": "ValueError",
          "evalue": "ignored",
          "traceback": [
            "\u001b[0;31m---------------------------------------------------------------------------\u001b[0m",
            "\u001b[0;31mValueError\u001b[0m                                Traceback (most recent call last)",
            "\u001b[0;32m<ipython-input-41-dc838e58bd52>\u001b[0m in \u001b[0;36m<module>\u001b[0;34m()\u001b[0m\n\u001b[0;32m----> 1\u001b[0;31m \u001b[0mx\u001b[0m\u001b[0;34m,\u001b[0m \u001b[0my\u001b[0m\u001b[0;34m,\u001b[0m \u001b[0mz\u001b[0m \u001b[0;34m=\u001b[0m \u001b[0;36m1\u001b[0m\u001b[0;34m,\u001b[0m\u001b[0;36m2\u001b[0m\u001b[0;34m,\u001b[0m\u001b[0;36m3\u001b[0m\u001b[0;34m,\u001b[0m\u001b[0;36m4\u001b[0m\u001b[0;34m\u001b[0m\u001b[0;34m\u001b[0m\u001b[0m\n\u001b[0m",
            "\u001b[0;31mValueError\u001b[0m: too many values to unpack (expected 3)"
          ]
        }
      ]
    },
    {
      "cell_type": "code",
      "metadata": {
        "id": "w-jS0LNa4jPA"
      },
      "source": [
        "x = y = z = 1"
      ],
      "execution_count": null,
      "outputs": []
    },
    {
      "cell_type": "code",
      "metadata": {
        "id": "em1mpezh4p3P",
        "colab": {
          "base_uri": "https://localhost:8080/"
        },
        "outputId": "3d5cf16d-c7b3-4260-cdba-38a8426d730c"
      },
      "source": [
        "print(x)\n",
        "print(y)\n",
        "print(z)"
      ],
      "execution_count": null,
      "outputs": [
        {
          "output_type": "stream",
          "text": [
            "1\n",
            "1\n",
            "1\n"
          ],
          "name": "stdout"
        }
      ]
    },
    {
      "cell_type": "code",
      "metadata": {
        "id": "i-0OekF4496J",
        "colab": {
          "base_uri": "https://localhost:8080/"
        },
        "outputId": "32436075-32d5-4128-a4ff-9d35df9c6427"
      },
      "source": [
        "print(x, y, z)"
      ],
      "execution_count": null,
      "outputs": [
        {
          "output_type": "stream",
          "text": [
            "1 1 1\n"
          ],
          "name": "stdout"
        }
      ]
    },
    {
      "cell_type": "code",
      "metadata": {
        "id": "6zmRbj265DIa"
      },
      "source": [
        "(x, y, z) = 1, 3, 5"
      ],
      "execution_count": null,
      "outputs": []
    },
    {
      "cell_type": "code",
      "metadata": {
        "id": "7SgVAB335GsI",
        "colab": {
          "base_uri": "https://localhost:8080/"
        },
        "outputId": "88268e59-062c-4a9c-a4fa-c4712c16c530"
      },
      "source": [
        "print(z)"
      ],
      "execution_count": null,
      "outputs": [
        {
          "output_type": "stream",
          "text": [
            "1\n"
          ],
          "name": "stdout"
        }
      ]
    },
    {
      "cell_type": "code",
      "metadata": {
        "id": "UZVm50e25IjF"
      },
      "source": [
        "### Varaibale name start with alphabets or _ mark , \n",
        "## no special sign are add in variable name this will through error\n",
        "# Reserved names can not used as variables i.e (class, try, break, continue, while, pass  etc)"
      ],
      "execution_count": null,
      "outputs": []
    },
    {
      "cell_type": "code",
      "metadata": {
        "id": "-FkEUHpt6BTl"
      },
      "source": [
        "###Python is case senstive a  and A are both differnt"
      ],
      "execution_count": null,
      "outputs": []
    },
    {
      "cell_type": "markdown",
      "metadata": {
        "id": "tcnt-TFp_w1F"
      },
      "source": [
        "# Arithmatic operators"
      ]
    },
    {
      "cell_type": "code",
      "metadata": {
        "id": "Vi7p627Q6M_W"
      },
      "source": [
        "\n",
        "## Arithmatic operators"
      ],
      "execution_count": null,
      "outputs": []
    },
    {
      "cell_type": "code",
      "metadata": {
        "id": "q5oPex8l63KJ"
      },
      "source": [
        "x = 10\n",
        "y = 20"
      ],
      "execution_count": null,
      "outputs": []
    },
    {
      "cell_type": "code",
      "metadata": {
        "colab": {
          "base_uri": "https://localhost:8080/"
        },
        "id": "ErxsSpJ865gS",
        "outputId": "d4e893e7-62f0-45bc-a9c1-563e1869f4d7"
      },
      "source": [
        "print(x + y)"
      ],
      "execution_count": null,
      "outputs": [
        {
          "output_type": "stream",
          "text": [
            "30\n"
          ],
          "name": "stdout"
        }
      ]
    },
    {
      "cell_type": "code",
      "metadata": {
        "colab": {
          "base_uri": "https://localhost:8080/"
        },
        "id": "Sadwm8n567ym",
        "outputId": "5214489e-f0f7-4d97-baf9-00252b685b07"
      },
      "source": [
        "print(x - y)"
      ],
      "execution_count": null,
      "outputs": [
        {
          "output_type": "stream",
          "text": [
            "-10\n"
          ],
          "name": "stdout"
        }
      ]
    },
    {
      "cell_type": "code",
      "metadata": {
        "colab": {
          "base_uri": "https://localhost:8080/"
        },
        "id": "T2Bq5uZ869qV",
        "outputId": "10a9e9d7-b7b1-4a4f-9cb9-f61cbc6a90ea"
      },
      "source": [
        "print(x * y)"
      ],
      "execution_count": null,
      "outputs": [
        {
          "output_type": "stream",
          "text": [
            "200\n"
          ],
          "name": "stdout"
        }
      ]
    },
    {
      "cell_type": "code",
      "metadata": {
        "colab": {
          "base_uri": "https://localhost:8080/"
        },
        "id": "0Dcpziui7Bki",
        "outputId": "137873e4-31d9-456b-80a5-9bcb3476535f"
      },
      "source": [
        "result = (x / y)\n",
        "print(result)"
      ],
      "execution_count": null,
      "outputs": [
        {
          "output_type": "stream",
          "text": [
            "0.5\n"
          ],
          "name": "stdout"
        }
      ]
    },
    {
      "cell_type": "code",
      "metadata": {
        "colab": {
          "base_uri": "https://localhost:8080/"
        },
        "id": "B5vatlts7K0f",
        "outputId": "0fbc5447-4390-40e8-e072-a6dca7cd10c7"
      },
      "source": [
        "result = (x // y)\n",
        "print(result)"
      ],
      "execution_count": null,
      "outputs": [
        {
          "output_type": "stream",
          "text": [
            "0\n"
          ],
          "name": "stdout"
        }
      ]
    },
    {
      "cell_type": "code",
      "metadata": {
        "colab": {
          "base_uri": "https://localhost:8080/"
        },
        "id": "6YbRkVXB7S2X",
        "outputId": "20e3bd55-3f88-424e-f558-c1603de7edaf"
      },
      "source": [
        "result = x % y \n",
        "print(result)"
      ],
      "execution_count": null,
      "outputs": [
        {
          "output_type": "stream",
          "text": [
            "10\n"
          ],
          "name": "stdout"
        }
      ]
    },
    {
      "cell_type": "markdown",
      "metadata": {
        "id": "IF-zwfzx_4d8"
      },
      "source": [
        " ## String operators"
      ]
    },
    {
      "cell_type": "code",
      "metadata": {
        "id": "WBmpmdMH_7GX"
      },
      "source": [
        "var = 'Ramanjaneyareddy'"
      ],
      "execution_count": null,
      "outputs": []
    },
    {
      "cell_type": "code",
      "metadata": {
        "colab": {
          "base_uri": "https://localhost:8080/"
        },
        "id": "u5HIGl0rBI3Y",
        "outputId": "c517b31f-724d-4267-e94c-b0753865df2d"
      },
      "source": [
        "var[0]"
      ],
      "execution_count": null,
      "outputs": [
        {
          "output_type": "execute_result",
          "data": {
            "application/vnd.google.colaboratory.intrinsic+json": {
              "type": "string"
            },
            "text/plain": [
              "'R'"
            ]
          },
          "metadata": {
            "tags": []
          },
          "execution_count": 73
        }
      ]
    },
    {
      "cell_type": "code",
      "metadata": {
        "colab": {
          "base_uri": "https://localhost:8080/"
        },
        "id": "8k-xF3obBKlH",
        "outputId": "acc1d350-062b-4bb2-8a30-39ff56c3134a"
      },
      "source": [
        "print(var[0])"
      ],
      "execution_count": null,
      "outputs": [
        {
          "output_type": "stream",
          "text": [
            "R\n"
          ],
          "name": "stdout"
        }
      ]
    },
    {
      "cell_type": "code",
      "metadata": {
        "colab": {
          "base_uri": "https://localhost:8080/"
        },
        "id": "HQOODl05BQIy",
        "outputId": "c49a5f01-80a3-4952-a050-e23afb48e18e"
      },
      "source": [
        "print(var[2:5])"
      ],
      "execution_count": null,
      "outputs": [
        {
          "output_type": "stream",
          "text": [
            "man\n"
          ],
          "name": "stdout"
        }
      ]
    },
    {
      "cell_type": "code",
      "metadata": {
        "colab": {
          "base_uri": "https://localhost:8080/"
        },
        "id": "WWZYC2VJBXXj",
        "outputId": "6ed2ccab-b69c-4326-c2f4-5e93a7ec5671"
      },
      "source": [
        "print(var[3:])"
      ],
      "execution_count": null,
      "outputs": [
        {
          "output_type": "stream",
          "text": [
            "anjaneyareddy\n"
          ],
          "name": "stdout"
        }
      ]
    },
    {
      "cell_type": "code",
      "metadata": {
        "colab": {
          "base_uri": "https://localhost:8080/"
        },
        "id": "xO-NOCGpEdtJ",
        "outputId": "c33970ac-5e6e-43bf-ffbd-12c8ba1a3de4"
      },
      "source": [
        "print(var[3:30])"
      ],
      "execution_count": null,
      "outputs": [
        {
          "output_type": "stream",
          "text": [
            "anjaneyareddy\n"
          ],
          "name": "stdout"
        }
      ]
    },
    {
      "cell_type": "code",
      "metadata": {
        "colab": {
          "base_uri": "https://localhost:8080/"
        },
        "id": "zXIUY_AMEojx",
        "outputId": "4d43e1b0-57dc-4362-cf8c-493c82a84446"
      },
      "source": [
        "len(var)"
      ],
      "execution_count": null,
      "outputs": [
        {
          "output_type": "execute_result",
          "data": {
            "text/plain": [
              "16"
            ]
          },
          "metadata": {
            "tags": []
          },
          "execution_count": 78
        }
      ]
    },
    {
      "cell_type": "code",
      "metadata": {
        "id": "L9J_z5AZEsmL"
      },
      "source": [
        ""
      ],
      "execution_count": null,
      "outputs": []
    },
    {
      "cell_type": "markdown",
      "metadata": {
        "id": "nG5kLXmkEUao"
      },
      "source": [
        "# NUMBERS IN PYTHON"
      ]
    },
    {
      "cell_type": "code",
      "metadata": {
        "colab": {
          "base_uri": "https://localhost:8080/"
        },
        "id": "jpI3vbVNEYBi",
        "outputId": "30edf6f7-9236-47a1-eeb1-1e544aa53eff"
      },
      "source": [
        "x = 100\n",
        "type(x)"
      ],
      "execution_count": null,
      "outputs": [
        {
          "output_type": "execute_result",
          "data": {
            "text/plain": [
              "int"
            ]
          },
          "metadata": {
            "tags": []
          },
          "execution_count": 79
        }
      ]
    },
    {
      "cell_type": "code",
      "metadata": {
        "colab": {
          "base_uri": "https://localhost:8080/"
        },
        "id": "MFh_fPCmEamA",
        "outputId": "e88ba5e0-c9a1-454e-c4bf-a63dc3d1e550"
      },
      "source": [
        "y = 2.4\n",
        "type(y)"
      ],
      "execution_count": null,
      "outputs": [
        {
          "output_type": "execute_result",
          "data": {
            "text/plain": [
              "float"
            ]
          },
          "metadata": {
            "tags": []
          },
          "execution_count": 80
        }
      ]
    },
    {
      "cell_type": "code",
      "metadata": {
        "colab": {
          "base_uri": "https://localhost:8080/"
        },
        "id": "cv0qZYByEd9X",
        "outputId": "c982de7b-07e6-4a77-b4ab-b266e5fccf86"
      },
      "source": [
        " z = 2 + 3j\n",
        " type(z)\n"
      ],
      "execution_count": null,
      "outputs": [
        {
          "output_type": "execute_result",
          "data": {
            "text/plain": [
              "complex"
            ]
          },
          "metadata": {
            "tags": []
          },
          "execution_count": 81
        }
      ]
    },
    {
      "cell_type": "code",
      "metadata": {
        "colab": {
          "base_uri": "https://localhost:8080/"
        },
        "id": "3Y5kg6B0Ekhh",
        "outputId": "e775763a-b2bc-4654-f848-f0fe5a5fa90a"
      },
      "source": [
        "z.real"
      ],
      "execution_count": null,
      "outputs": [
        {
          "output_type": "execute_result",
          "data": {
            "text/plain": [
              "2.0"
            ]
          },
          "metadata": {
            "tags": []
          },
          "execution_count": 82
        }
      ]
    },
    {
      "cell_type": "code",
      "metadata": {
        "colab": {
          "base_uri": "https://localhost:8080/"
        },
        "id": "fnLOT553EotM",
        "outputId": "e03d368f-7ae7-48e6-d0e2-cdc7d00d74e6"
      },
      "source": [
        "z.imag"
      ],
      "execution_count": null,
      "outputs": [
        {
          "output_type": "execute_result",
          "data": {
            "text/plain": [
              "3.0"
            ]
          },
          "metadata": {
            "tags": []
          },
          "execution_count": 83
        }
      ]
    },
    {
      "cell_type": "code",
      "metadata": {
        "colab": {
          "base_uri": "https://localhost:8080/"
        },
        "id": "DokXxsNLEqPZ",
        "outputId": "fd0914ad-9b0a-4b3f-9695-f5e8781fd762"
      },
      "source": [
        "num = -23.45\n",
        "num"
      ],
      "execution_count": null,
      "outputs": [
        {
          "output_type": "execute_result",
          "data": {
            "text/plain": [
              "-23.45"
            ]
          },
          "metadata": {
            "tags": []
          },
          "execution_count": 84
        }
      ]
    },
    {
      "cell_type": "code",
      "metadata": {
        "colab": {
          "base_uri": "https://localhost:8080/"
        },
        "id": "Fg9pT4FnFVst",
        "outputId": "66ad082d-df1f-4264-8b2f-02a77d80c9b8"
      },
      "source": [
        "type(num)"
      ],
      "execution_count": null,
      "outputs": [
        {
          "output_type": "execute_result",
          "data": {
            "text/plain": [
              "float"
            ]
          },
          "metadata": {
            "tags": []
          },
          "execution_count": 85
        }
      ]
    },
    {
      "cell_type": "code",
      "metadata": {
        "colab": {
          "base_uri": "https://localhost:8080/"
        },
        "id": "5AQTOxyIFW-5",
        "outputId": "5d4eb666-3cb0-416d-deea-312f51fd6b97"
      },
      "source": [
        "num1 = 23\n",
        "num2 = 34\n",
        "print(num1 + num2)"
      ],
      "execution_count": null,
      "outputs": [
        {
          "output_type": "stream",
          "text": [
            "57\n"
          ],
          "name": "stdout"
        }
      ]
    },
    {
      "cell_type": "code",
      "metadata": {
        "colab": {
          "base_uri": "https://localhost:8080/"
        },
        "id": "M-t8jHZmFfa6",
        "outputId": "2bb9ed7b-f121-4133-f348-67b651c9763a"
      },
      "source": [
        "num1 = 18\n",
        "num2 = 2.4\n",
        "print(num1 + num2)"
      ],
      "execution_count": null,
      "outputs": [
        {
          "output_type": "stream",
          "text": [
            "20.4\n"
          ],
          "name": "stdout"
        }
      ]
    },
    {
      "cell_type": "code",
      "metadata": {
        "colab": {
          "base_uri": "https://localhost:8080/"
        },
        "id": "XYQ3BzniFvoA",
        "outputId": "60a51a59-13b5-494d-db44-4087ac5ae0e4"
      },
      "source": [
        "print(num1 - num2)"
      ],
      "execution_count": null,
      "outputs": [
        {
          "output_type": "stream",
          "text": [
            "15.6\n"
          ],
          "name": "stdout"
        }
      ]
    },
    {
      "cell_type": "code",
      "metadata": {
        "colab": {
          "base_uri": "https://localhost:8080/"
        },
        "id": "MtlbsH1BFzfP",
        "outputId": "6cf3c424-3ab2-4cf4-ecb4-2e59ba02adba"
      },
      "source": [
        "print(num1 * num2)"
      ],
      "execution_count": null,
      "outputs": [
        {
          "output_type": "stream",
          "text": [
            "43.199999999999996\n"
          ],
          "name": "stdout"
        }
      ]
    },
    {
      "cell_type": "code",
      "metadata": {
        "colab": {
          "base_uri": "https://localhost:8080/"
        },
        "id": "GEIKhMEvF2RF",
        "outputId": "4d112d46-3c9c-46e8-bce4-169c02f2b858"
      },
      "source": [
        "num1 / num2"
      ],
      "execution_count": null,
      "outputs": [
        {
          "output_type": "execute_result",
          "data": {
            "text/plain": [
              "7.5"
            ]
          },
          "metadata": {
            "tags": []
          },
          "execution_count": 90
        }
      ]
    },
    {
      "cell_type": "code",
      "metadata": {
        "colab": {
          "base_uri": "https://localhost:8080/"
        },
        "id": "dPbpxtwFF564",
        "outputId": "682a902d-1b7b-456a-9fe0-ef25a6178408"
      },
      "source": [
        "num1 // num2"
      ],
      "execution_count": null,
      "outputs": [
        {
          "output_type": "execute_result",
          "data": {
            "text/plain": [
              "7.0"
            ]
          },
          "metadata": {
            "tags": []
          },
          "execution_count": 91
        }
      ]
    },
    {
      "cell_type": "markdown",
      "metadata": {
        "id": "ZpWjXWq3GreL"
      },
      "source": [
        "# CONVERSIONS\n"
      ]
    },
    {
      "cell_type": "code",
      "metadata": {
        "colab": {
          "base_uri": "https://localhost:8080/"
        },
        "id": "cwbycKfAGMEm",
        "outputId": "cbeef444-9613-41d2-be70-14e571fa54c8"
      },
      "source": [
        "x = \"100\"\n",
        "type(x)"
      ],
      "execution_count": null,
      "outputs": [
        {
          "output_type": "execute_result",
          "data": {
            "text/plain": [
              "str"
            ]
          },
          "metadata": {
            "tags": []
          },
          "execution_count": 92
        }
      ]
    },
    {
      "cell_type": "code",
      "metadata": {
        "colab": {
          "base_uri": "https://localhost:8080/"
        },
        "id": "rnsx2FoNHEJv",
        "outputId": "34706e9c-c409-4724-d237-63d4f7714bf4"
      },
      "source": [
        "int(x)"
      ],
      "execution_count": null,
      "outputs": [
        {
          "output_type": "execute_result",
          "data": {
            "text/plain": [
              "100"
            ]
          },
          "metadata": {
            "tags": []
          },
          "execution_count": 93
        }
      ]
    },
    {
      "cell_type": "code",
      "metadata": {
        "colab": {
          "base_uri": "https://localhost:8080/"
        },
        "id": "Zm1W5arsHG3_",
        "outputId": "5ec1131d-1bfd-405f-a427-8c6ed044e162"
      },
      "source": [
        "type(x)"
      ],
      "execution_count": null,
      "outputs": [
        {
          "output_type": "execute_result",
          "data": {
            "text/plain": [
              "str"
            ]
          },
          "metadata": {
            "tags": []
          },
          "execution_count": 94
        }
      ]
    },
    {
      "cell_type": "code",
      "metadata": {
        "colab": {
          "base_uri": "https://localhost:8080/"
        },
        "id": "ON4EjLPbHRHa",
        "outputId": "dd99f6ed-6bdb-4189-ec83-21839987de2f"
      },
      "source": [
        "x = int(x)\n",
        "type(x)"
      ],
      "execution_count": null,
      "outputs": [
        {
          "output_type": "execute_result",
          "data": {
            "text/plain": [
              "int"
            ]
          },
          "metadata": {
            "tags": []
          },
          "execution_count": 95
        }
      ]
    },
    {
      "cell_type": "code",
      "metadata": {
        "id": "LCrQ9GEcHV2T"
      },
      "source": [
        "x = float(x)"
      ],
      "execution_count": null,
      "outputs": []
    },
    {
      "cell_type": "code",
      "metadata": {
        "colab": {
          "base_uri": "https://localhost:8080/"
        },
        "id": "bMzTf1zGHfQk",
        "outputId": "8d437a46-3c40-49ca-d668-b6dd09947746"
      },
      "source": [
        "type(x)"
      ],
      "execution_count": null,
      "outputs": [
        {
          "output_type": "execute_result",
          "data": {
            "text/plain": [
              "float"
            ]
          },
          "metadata": {
            "tags": []
          },
          "execution_count": 97
        }
      ]
    },
    {
      "cell_type": "code",
      "metadata": {
        "colab": {
          "base_uri": "https://localhost:8080/"
        },
        "id": "qMSArOeMHgsr",
        "outputId": "b8d362f6-8a10-496a-bb53-d70512fbe9a4"
      },
      "source": [
        "x = complex(x)\n",
        "x"
      ],
      "execution_count": null,
      "outputs": [
        {
          "output_type": "execute_result",
          "data": {
            "text/plain": [
              "(100+0j)"
            ]
          },
          "metadata": {
            "tags": []
          },
          "execution_count": 98
        }
      ]
    },
    {
      "cell_type": "code",
      "metadata": {
        "colab": {
          "base_uri": "https://localhost:8080/"
        },
        "id": "jVck-yadHyXr",
        "outputId": "7c0554fe-acda-4775-964c-2060289244d7"
      },
      "source": [
        "type(x)"
      ],
      "execution_count": null,
      "outputs": [
        {
          "output_type": "execute_result",
          "data": {
            "text/plain": [
              "complex"
            ]
          },
          "metadata": {
            "tags": []
          },
          "execution_count": 99
        }
      ]
    },
    {
      "cell_type": "code",
      "metadata": {
        "colab": {
          "base_uri": "https://localhost:8080/"
        },
        "id": "zSD9FHB4H1HA",
        "outputId": "382c4c0a-ff50-444e-91b2-479cccc7443a"
      },
      "source": [
        "print(complex(2,5))"
      ],
      "execution_count": null,
      "outputs": [
        {
          "output_type": "stream",
          "text": [
            "(2+5j)\n"
          ],
          "name": "stdout"
        }
      ]
    },
    {
      "cell_type": "code",
      "metadata": {
        "id": "Q9ceAqStIRfp"
      },
      "source": [
        ""
      ],
      "execution_count": null,
      "outputs": []
    },
    {
      "cell_type": "markdown",
      "metadata": {
        "id": "B6BHPvDIITw9"
      },
      "source": [
        "# FUNCTIONS"
      ]
    },
    {
      "cell_type": "code",
      "metadata": {
        "colab": {
          "base_uri": "https://localhost:8080/"
        },
        "id": "FJK0lWj4IZnf",
        "outputId": "e0edd88a-c96d-4660-acb5-c9b1a4f96a39"
      },
      "source": [
        "x = -7.5\n",
        "print(abs(x))"
      ],
      "execution_count": null,
      "outputs": [
        {
          "output_type": "stream",
          "text": [
            "7.5\n"
          ],
          "name": "stdout"
        }
      ]
    },
    {
      "cell_type": "code",
      "metadata": {
        "colab": {
          "base_uri": "https://localhost:8080/"
        },
        "id": "319pnO5GIo8g",
        "outputId": "60aa26c5-9e0f-452e-d647-b04991826a8e"
      },
      "source": [
        "x = 2.9\n",
        "print(abs(x))"
      ],
      "execution_count": null,
      "outputs": [
        {
          "output_type": "stream",
          "text": [
            "2.9\n"
          ],
          "name": "stdout"
        }
      ]
    },
    {
      "cell_type": "code",
      "metadata": {
        "colab": {
          "base_uri": "https://localhost:8080/"
        },
        "id": "QTKqMNuFItbF",
        "outputId": "7ec374f8-f09a-424d-a51b-f7802974bffb"
      },
      "source": [
        "# for math calculations we use import math\n",
        "import math\n",
        "x = 10\n",
        "print(math.exp(x))"
      ],
      "execution_count": null,
      "outputs": [
        {
          "output_type": "stream",
          "text": [
            "22026.465794806718\n"
          ],
          "name": "stdout"
        }
      ]
    },
    {
      "cell_type": "code",
      "metadata": {
        "colab": {
          "base_uri": "https://localhost:8080/"
        },
        "id": "gTLfaLmsJDCp",
        "outputId": "6bc54afc-9711-4a5f-97be-419ce5decbca"
      },
      "source": [
        "math.e"
      ],
      "execution_count": null,
      "outputs": [
        {
          "output_type": "execute_result",
          "data": {
            "text/plain": [
              "2.718281828459045"
            ]
          },
          "metadata": {
            "tags": []
          },
          "execution_count": 104
        }
      ]
    },
    {
      "cell_type": "code",
      "metadata": {
        "colab": {
          "base_uri": "https://localhost:8080/"
        },
        "id": "VLwnyHdJJKoh",
        "outputId": "b9b9c45b-012e-4bb2-c58d-ec7eb9514bd4"
      },
      "source": [
        "math.pi"
      ],
      "execution_count": null,
      "outputs": [
        {
          "output_type": "execute_result",
          "data": {
            "text/plain": [
              "3.141592653589793"
            ]
          },
          "metadata": {
            "tags": []
          },
          "execution_count": 105
        }
      ]
    },
    {
      "cell_type": "code",
      "metadata": {
        "colab": {
          "base_uri": "https://localhost:8080/"
        },
        "id": "drzb5T4xJLxV",
        "outputId": "c2903823-92ac-4304-f479-da26c619cd41"
      },
      "source": [
        "print(math.sqrt(4))"
      ],
      "execution_count": null,
      "outputs": [
        {
          "output_type": "stream",
          "text": [
            "2.0\n"
          ],
          "name": "stdout"
        }
      ]
    },
    {
      "cell_type": "code",
      "metadata": {
        "colab": {
          "base_uri": "https://localhost:8080/"
        },
        "id": "W-sUJnLWJY0-",
        "outputId": "30f15081-b7f0-4f41-874c-d8e5ccb8c62a"
      },
      "source": [
        "print(math.sqrt(3))"
      ],
      "execution_count": null,
      "outputs": [
        {
          "output_type": "stream",
          "text": [
            "1.7320508075688772\n"
          ],
          "name": "stdout"
        }
      ]
    },
    {
      "cell_type": "code",
      "metadata": {
        "id": "i1DpPHHkJcGC"
      },
      "source": [
        "x = (1,2,3,4,4,5,6,6,7,7,8,9,9,100,3,4,5,6,7)"
      ],
      "execution_count": null,
      "outputs": []
    },
    {
      "cell_type": "code",
      "metadata": {
        "colab": {
          "base_uri": "https://localhost:8080/"
        },
        "id": "gQIepNRVJrxa",
        "outputId": "7b0281f5-e894-40a4-d73f-7852b8e16b30"
      },
      "source": [
        "max(x)"
      ],
      "execution_count": null,
      "outputs": [
        {
          "output_type": "execute_result",
          "data": {
            "text/plain": [
              "100"
            ]
          },
          "metadata": {
            "tags": []
          },
          "execution_count": 109
        }
      ]
    },
    {
      "cell_type": "code",
      "metadata": {
        "colab": {
          "base_uri": "https://localhost:8080/"
        },
        "id": "6F5AEpVfJtiJ",
        "outputId": "38239075-7d33-49c9-c330-fcf667b41630"
      },
      "source": [
        "min(x)"
      ],
      "execution_count": null,
      "outputs": [
        {
          "output_type": "execute_result",
          "data": {
            "text/plain": [
              "1"
            ]
          },
          "metadata": {
            "tags": []
          },
          "execution_count": 110
        }
      ]
    },
    {
      "cell_type": "code",
      "metadata": {
        "id": "gQd96ZmQJu-c"
      },
      "source": [
        ""
      ],
      "execution_count": null,
      "outputs": []
    },
    {
      "cell_type": "markdown",
      "metadata": {
        "id": "a4-5KcUDJ8UT"
      },
      "source": [
        "# LISTS ?## A list is collection of data it can hold mutliple data types"
      ]
    },
    {
      "cell_type": "code",
      "metadata": {
        "id": "FXf_LU-QKN8s"
      },
      "source": [
        "x = [1,2,3,4,5,6,7,8,9]\n",
        "x"
      ],
      "execution_count": null,
      "outputs": []
    },
    {
      "cell_type": "code",
      "metadata": {
        "id": "CxLiumwuOsmG"
      },
      "source": [
        "x[3]"
      ],
      "execution_count": null,
      "outputs": []
    },
    {
      "cell_type": "code",
      "metadata": {
        "id": "wsyRjQY2OuSO"
      },
      "source": [
        "y = [\"ram\", \"Reddy\", \"VENKAT\", \"Reddy\"]\n",
        "print(y)"
      ],
      "execution_count": null,
      "outputs": []
    },
    {
      "cell_type": "code",
      "metadata": {
        "id": "p6je7DWs6KLz"
      },
      "source": [
        "z = [1,2,3,4,\"ARJUN\",'reddy']\n",
        "print(z)"
      ],
      "execution_count": null,
      "outputs": []
    },
    {
      "cell_type": "code",
      "metadata": {
        "id": "fIJFaiSF62Oi"
      },
      "source": [
        "x = [[1,2,],[\"RAM\",'REDDY']]\n",
        "print(x)"
      ],
      "execution_count": null,
      "outputs": []
    },
    {
      "cell_type": "code",
      "metadata": {
        "id": "HaBjy7vZ7L5V"
      },
      "source": [
        "x[1]"
      ],
      "execution_count": null,
      "outputs": []
    },
    {
      "cell_type": "code",
      "metadata": {
        "id": "kt8IQXGR7qds"
      },
      "source": [
        "x[1][0]"
      ],
      "execution_count": null,
      "outputs": []
    },
    {
      "cell_type": "code",
      "metadata": {
        "id": "gLZSaUjG7t3y"
      },
      "source": [
        "z[0]*100"
      ],
      "execution_count": null,
      "outputs": []
    },
    {
      "cell_type": "code",
      "metadata": {
        "id": "-j64IJEr-1hu"
      },
      "source": [
        "print(z)"
      ],
      "execution_count": null,
      "outputs": []
    },
    {
      "cell_type": "code",
      "metadata": {
        "id": "wlCmuy9r-3RT"
      },
      "source": [
        "f = [0]*100\n",
        "print(f)"
      ],
      "execution_count": null,
      "outputs": []
    },
    {
      "cell_type": "code",
      "metadata": {
        "id": "kH_9QmjQ-9aQ"
      },
      "source": [
        "a = [1,2,3,4]\n",
        "b = [5,6,7,8]\n",
        "c = ['ram','reddy']\n",
        "print(a + b+ c)"
      ],
      "execution_count": null,
      "outputs": []
    },
    {
      "cell_type": "code",
      "metadata": {
        "id": "JY8u_hse_odJ"
      },
      "source": [
        "x = list(\"arjun reddy\")\n",
        "print(x)"
      ],
      "execution_count": null,
      "outputs": []
    },
    {
      "cell_type": "code",
      "metadata": {
        "id": "D6a6U1c_Ak0e"
      },
      "source": [
        "x = [1,2,3,4,5]\n",
        "x"
      ],
      "execution_count": null,
      "outputs": []
    },
    {
      "cell_type": "code",
      "metadata": {
        "id": "YQ6sUPo0BZGk"
      },
      "source": [
        "one , *other = x\n",
        "print(one)\n",
        "print(other)"
      ],
      "execution_count": null,
      "outputs": []
    },
    {
      "cell_type": "code",
      "metadata": {
        "id": "J_n0kz_QBrri"
      },
      "source": [
        ""
      ],
      "execution_count": null,
      "outputs": []
    },
    {
      "cell_type": "markdown",
      "metadata": {
        "id": "lXQxtIHOE49Q"
      },
      "source": [
        "# METHODS IN LISTS"
      ]
    },
    {
      "cell_type": "code",
      "metadata": {
        "id": "Sfyk1PiQE82z"
      },
      "source": [
        "x = [1,23,4,5,6]\n",
        "x.append(7)"
      ],
      "execution_count": null,
      "outputs": []
    },
    {
      "cell_type": "code",
      "metadata": {
        "colab": {
          "base_uri": "https://localhost:8080/"
        },
        "id": "VTK5h7kpFKHu",
        "outputId": "36538b78-02d9-421a-e6e3-abec0b952c04"
      },
      "source": [
        "print(x)"
      ],
      "execution_count": null,
      "outputs": [
        {
          "output_type": "stream",
          "text": [
            "[1, 23, 4, 5, 6, 7]\n"
          ],
          "name": "stdout"
        }
      ]
    },
    {
      "cell_type": "code",
      "metadata": {
        "id": "W8RAIugpFLqQ"
      },
      "source": [
        "y = [8,3,7,\"Ram\", 'REDDY']\n",
        "x.extend(y)"
      ],
      "execution_count": null,
      "outputs": []
    },
    {
      "cell_type": "code",
      "metadata": {
        "colab": {
          "base_uri": "https://localhost:8080/"
        },
        "id": "W1GrjrXUFZc8",
        "outputId": "08ad5e73-80d2-41cb-8598-7b130579edae"
      },
      "source": [
        "x"
      ],
      "execution_count": null,
      "outputs": [
        {
          "output_type": "execute_result",
          "data": {
            "text/plain": [
              "[1, 23, 4, 5, 6, 7, 8, 3, 7, 'Ram', 'REDDY']"
            ]
          },
          "metadata": {
            "tags": []
          },
          "execution_count": 114
        }
      ]
    },
    {
      "cell_type": "code",
      "metadata": {
        "colab": {
          "base_uri": "https://localhost:8080/"
        },
        "id": "P4pRd52GFa9A",
        "outputId": "3a1564dd-e91e-4a41-ddde-65104733b318"
      },
      "source": [
        "x.insert(5, \"ARJUN\")\n",
        "x"
      ],
      "execution_count": null,
      "outputs": [
        {
          "output_type": "execute_result",
          "data": {
            "text/plain": [
              "[1, 23, 4, 5, 6, 'ARJUN', 7, 8, 3, 7, 'Ram', 'REDDY']"
            ]
          },
          "metadata": {
            "tags": []
          },
          "execution_count": 115
        }
      ]
    },
    {
      "cell_type": "code",
      "metadata": {
        "id": "FQ7j4lTgF3-G"
      },
      "source": [
        "x.remove(\"Ram\")"
      ],
      "execution_count": null,
      "outputs": []
    },
    {
      "cell_type": "code",
      "metadata": {
        "colab": {
          "base_uri": "https://localhost:8080/"
        },
        "id": "3NG-tlrhGAnv",
        "outputId": "a6d3ae20-827b-4742-a1ee-c79ac574a673"
      },
      "source": [
        "x"
      ],
      "execution_count": null,
      "outputs": [
        {
          "output_type": "execute_result",
          "data": {
            "text/plain": [
              "[1, 23, 4, 5, 6, 'ARJUN', 7, 8, 3, 7, 'REDDY']"
            ]
          },
          "metadata": {
            "tags": []
          },
          "execution_count": 117
        }
      ]
    },
    {
      "cell_type": "code",
      "metadata": {
        "colab": {
          "base_uri": "https://localhost:8080/"
        },
        "id": "lVKhZpT3GBLL",
        "outputId": "2684dd66-1b6c-46b1-81c4-f4e928ebc290"
      },
      "source": [
        "x.pop()"
      ],
      "execution_count": null,
      "outputs": [
        {
          "output_type": "execute_result",
          "data": {
            "application/vnd.google.colaboratory.intrinsic+json": {
              "type": "string"
            },
            "text/plain": [
              "'REDDY'"
            ]
          },
          "metadata": {
            "tags": []
          },
          "execution_count": 118
        }
      ]
    },
    {
      "cell_type": "code",
      "metadata": {
        "colab": {
          "base_uri": "https://localhost:8080/"
        },
        "id": "zTUJ2ewFGDdz",
        "outputId": "0892bbb6-56f7-4e62-b2e3-01b8e7056dab"
      },
      "source": [
        "x"
      ],
      "execution_count": null,
      "outputs": [
        {
          "output_type": "execute_result",
          "data": {
            "text/plain": [
              "[1, 23, 4, 5, 6, 'ARJUN', 7, 8, 3, 7]"
            ]
          },
          "metadata": {
            "tags": []
          },
          "execution_count": 119
        }
      ]
    },
    {
      "cell_type": "code",
      "metadata": {
        "colab": {
          "base_uri": "https://localhost:8080/"
        },
        "id": "_6EftsHAGFQp",
        "outputId": "c291745e-1c25-468e-8af9-d6e7ef5df1ef"
      },
      "source": [
        "r = [9,7,5,3,5,1,4,3,2]\n",
        "r.sort()\n",
        "r"
      ],
      "execution_count": null,
      "outputs": [
        {
          "output_type": "execute_result",
          "data": {
            "text/plain": [
              "[1, 2, 3, 3, 4, 5, 5, 7, 9]"
            ]
          },
          "metadata": {
            "tags": []
          },
          "execution_count": 120
        }
      ]
    },
    {
      "cell_type": "code",
      "metadata": {
        "id": "-Dzo2279Gjey"
      },
      "source": [
        ""
      ],
      "execution_count": null,
      "outputs": []
    },
    {
      "cell_type": "markdown",
      "metadata": {
        "id": "HyJCpOw5G2vw"
      },
      "source": [
        "# BULIT IN FUNCTIONS WITH LIST"
      ]
    },
    {
      "cell_type": "code",
      "metadata": {
        "id": "nu7JOuHfG70X"
      },
      "source": [
        "x = [1,32,34,45,6,7,9,0]\n",
        "len(x)"
      ],
      "execution_count": null,
      "outputs": []
    },
    {
      "cell_type": "code",
      "metadata": {
        "id": "tYO2uZuIHb62"
      },
      "source": [
        "max(x)"
      ],
      "execution_count": null,
      "outputs": []
    },
    {
      "cell_type": "code",
      "metadata": {
        "id": "JqgV9YTpHc9e"
      },
      "source": [
        "min(x)"
      ],
      "execution_count": null,
      "outputs": []
    },
    {
      "cell_type": "code",
      "metadata": {
        "id": "NwJDI7xqHgbw"
      },
      "source": [
        "sum(x)"
      ],
      "execution_count": null,
      "outputs": []
    },
    {
      "cell_type": "code",
      "metadata": {
        "id": "m4Z1BdF-HkPL"
      },
      "source": [
        "mean = sum(x)/len(x)\n",
        "print(mean)"
      ],
      "execution_count": null,
      "outputs": []
    },
    {
      "cell_type": "code",
      "metadata": {
        "id": "rEl3e0uuHuay"
      },
      "source": [
        ""
      ],
      "execution_count": null,
      "outputs": []
    },
    {
      "cell_type": "markdown",
      "metadata": {
        "id": "udLSBoZ1I5g6"
      },
      "source": [
        "# TUPLES"
      ]
    },
    {
      "cell_type": "code",
      "metadata": {
        "id": "lTEqZ27FI7YQ"
      },
      "source": [
        "emp = ()\n",
        "print(type(emp))"
      ],
      "execution_count": null,
      "outputs": []
    },
    {
      "cell_type": "code",
      "metadata": {
        "id": "2-O8Ol6CJNoE"
      },
      "source": [
        "print(emp)"
      ],
      "execution_count": null,
      "outputs": []
    },
    {
      "cell_type": "code",
      "metadata": {
        "id": "JP9NNE-7JbWY"
      },
      "source": [
        "p = \"Ram\",\n",
        "print(type(p))"
      ],
      "execution_count": null,
      "outputs": []
    },
    {
      "cell_type": "code",
      "metadata": {
        "id": "uhrKZq25J8G2"
      },
      "source": [
        "print(p)"
      ],
      "execution_count": null,
      "outputs": []
    },
    {
      "cell_type": "code",
      "metadata": {
        "id": "cpsL4_eAKOOw"
      },
      "source": [
        "type(p)"
      ],
      "execution_count": null,
      "outputs": []
    },
    {
      "cell_type": "code",
      "metadata": {
        "id": "RPLrGjN_KRbi"
      },
      "source": [
        "city = (\"Ram\",\"Reddy\",\"Arjun\")\n",
        "city"
      ],
      "execution_count": null,
      "outputs": []
    },
    {
      "cell_type": "code",
      "metadata": {
        "id": "f0bLIEUjK7T4"
      },
      "source": [
        "city[1]"
      ],
      "execution_count": null,
      "outputs": []
    },
    {
      "cell_type": "code",
      "metadata": {
        "id": "4NCfr8OlLriI"
      },
      "source": [
        "ram = (1,2,3,4)\n",
        "ram"
      ],
      "execution_count": null,
      "outputs": []
    },
    {
      "cell_type": "code",
      "metadata": {
        "id": "nf7UzFolP2hm"
      },
      "source": [
        "print(ram + city)"
      ],
      "execution_count": null,
      "outputs": []
    },
    {
      "cell_type": "code",
      "metadata": {
        "id": "C76Mpr8TP5WO"
      },
      "source": [
        ""
      ],
      "execution_count": null,
      "outputs": []
    },
    {
      "cell_type": "markdown",
      "metadata": {
        "id": "ZQguOOgeQBWq"
      },
      "source": [
        "# NESTING"
      ]
    },
    {
      "cell_type": "code",
      "metadata": {
        "id": "Bb-1SZHNQDES"
      },
      "source": [
        "x = (ram, city)"
      ],
      "execution_count": null,
      "outputs": []
    },
    {
      "cell_type": "code",
      "metadata": {
        "id": "iBv3dpY0QF32"
      },
      "source": [
        "print(x)"
      ],
      "execution_count": null,
      "outputs": []
    },
    {
      "cell_type": "code",
      "metadata": {
        "id": "cIryfqVAQHgC"
      },
      "source": [
        ""
      ],
      "execution_count": null,
      "outputs": []
    },
    {
      "cell_type": "markdown",
      "metadata": {
        "id": "zZJe08riQPT_"
      },
      "source": [
        "# REPETITON"
      ]
    },
    {
      "cell_type": "code",
      "metadata": {
        "id": "ujZW5RilQT6p"
      },
      "source": [
        "rep = (\"python\")*5 "
      ],
      "execution_count": null,
      "outputs": []
    },
    {
      "cell_type": "code",
      "metadata": {
        "id": "0ACZn99kQcz0"
      },
      "source": [
        "rep"
      ],
      "execution_count": null,
      "outputs": []
    },
    {
      "cell_type": "code",
      "metadata": {
        "id": "ivvhdmTsQdx3"
      },
      "source": [
        "rep = (\"python\",) * 5"
      ],
      "execution_count": null,
      "outputs": []
    },
    {
      "cell_type": "code",
      "metadata": {
        "id": "mge1WQe9Qjnz"
      },
      "source": [
        "rep"
      ],
      "execution_count": null,
      "outputs": []
    },
    {
      "cell_type": "code",
      "metadata": {
        "id": "AzWY3qsEQkSH"
      },
      "source": [
        "run = (\"Ramanji\",)\n",
        "print(run * 10)"
      ],
      "execution_count": null,
      "outputs": []
    },
    {
      "cell_type": "code",
      "metadata": {
        "id": "GQaFcDOCRELP"
      },
      "source": [
        "run"
      ],
      "execution_count": null,
      "outputs": []
    },
    {
      "cell_type": "code",
      "metadata": {
        "id": "0TwTRuXxRGKH"
      },
      "source": [
        ""
      ],
      "execution_count": null,
      "outputs": []
    },
    {
      "cell_type": "markdown",
      "metadata": {
        "id": "Ayvt8zT_RaIr"
      },
      "source": [
        "# SCLICING"
      ]
    },
    {
      "cell_type": "code",
      "metadata": {
        "id": "vUxQaAFBRbtB"
      },
      "source": [
        "num = (1,2,3,4)\n",
        "print(num)"
      ],
      "execution_count": null,
      "outputs": []
    },
    {
      "cell_type": "code",
      "metadata": {
        "id": "ukdv1EqRRk24"
      },
      "source": [
        "num[2:]"
      ],
      "execution_count": null,
      "outputs": []
    },
    {
      "cell_type": "code",
      "metadata": {
        "id": "JM-G1UXIRnrY"
      },
      "source": [
        "num[::-1]"
      ],
      "execution_count": null,
      "outputs": []
    },
    {
      "cell_type": "code",
      "metadata": {
        "id": "fdA-q260Rt2H"
      },
      "source": [
        "num[::2]"
      ],
      "execution_count": null,
      "outputs": []
    },
    {
      "cell_type": "code",
      "metadata": {
        "id": "lrZc4yEGR2d1"
      },
      "source": [
        ""
      ],
      "execution_count": null,
      "outputs": []
    },
    {
      "cell_type": "markdown",
      "metadata": {
        "id": "vZ7Ub9I1SKSU"
      },
      "source": [
        "# UNPACKING"
      ]
    },
    {
      "cell_type": "code",
      "metadata": {
        "id": "-4rtsJZxSL3L"
      },
      "source": [
        "tuple(\"RAMANJANEYAREDDY\")"
      ],
      "execution_count": null,
      "outputs": []
    },
    {
      "cell_type": "code",
      "metadata": {
        "id": "elmcl4a9SPfV"
      },
      "source": [
        "print(tuple(\"Ramanajneyareddy\"))"
      ],
      "execution_count": null,
      "outputs": []
    },
    {
      "cell_type": "code",
      "metadata": {
        "id": "BxC2UwSXSbFC"
      },
      "source": [
        "print(num)"
      ],
      "execution_count": null,
      "outputs": []
    },
    {
      "cell_type": "code",
      "metadata": {
        "id": "xLW-0p1YShUV"
      },
      "source": [
        "a,b,c,d = num"
      ],
      "execution_count": null,
      "outputs": []
    },
    {
      "cell_type": "code",
      "metadata": {
        "id": "XlE1KblYSzfF"
      },
      "source": [
        "print(a,b,c,d)"
      ],
      "execution_count": null,
      "outputs": []
    },
    {
      "cell_type": "code",
      "metadata": {
        "id": "5Kmalqi-S3Ro"
      },
      "source": [
        "a,*b, c = num"
      ],
      "execution_count": null,
      "outputs": []
    },
    {
      "cell_type": "code",
      "metadata": {
        "id": "Kjh-i4Z3TCIR"
      },
      "source": [
        "print(a,b,c)"
      ],
      "execution_count": null,
      "outputs": []
    },
    {
      "cell_type": "code",
      "metadata": {
        "id": "3gJe1VzcTHWl"
      },
      "source": [
        ""
      ],
      "execution_count": null,
      "outputs": []
    },
    {
      "cell_type": "markdown",
      "metadata": {
        "id": "rptfSb3iTNwj"
      },
      "source": [
        ""
      ]
    },
    {
      "cell_type": "markdown",
      "metadata": {
        "id": "nx9qb4H5TNzu"
      },
      "source": [
        "# DELETEING A TUPLE"
      ]
    },
    {
      "cell_type": "code",
      "metadata": {
        "id": "C8XZySyJTPzd"
      },
      "source": [
        "num = (1,2,3,4,5)\n",
        "print(num)"
      ],
      "execution_count": null,
      "outputs": []
    },
    {
      "cell_type": "code",
      "metadata": {
        "id": "hlcr6khMTqhq"
      },
      "source": [
        "del num"
      ],
      "execution_count": null,
      "outputs": []
    },
    {
      "cell_type": "code",
      "metadata": {
        "id": "UBnYdoMpTrc1"
      },
      "source": [
        "print(num)"
      ],
      "execution_count": null,
      "outputs": []
    },
    {
      "cell_type": "code",
      "metadata": {
        "id": "NYaFcw9zTtFS"
      },
      "source": [
        ""
      ],
      "execution_count": null,
      "outputs": []
    },
    {
      "cell_type": "markdown",
      "metadata": {
        "id": "NS6SelPnTxRo"
      },
      "source": [
        "# Built in  functions\n"
      ]
    },
    {
      "cell_type": "code",
      "metadata": {
        "id": "fKzPJrB_Tzqk"
      },
      "source": [
        "a = (1,2,3,4,5,6,5,4,3,2,3,4,5,3,3,4,5,3,3,4,5,3,3)\n",
        "print(a)"
      ],
      "execution_count": null,
      "outputs": []
    },
    {
      "cell_type": "code",
      "metadata": {
        "id": "DSOCeVI5UQtu"
      },
      "source": [
        "a.count(2)"
      ],
      "execution_count": null,
      "outputs": []
    },
    {
      "cell_type": "code",
      "metadata": {
        "id": "6sOCfXGmUgNx"
      },
      "source": [
        "a.count(3)"
      ],
      "execution_count": null,
      "outputs": []
    },
    {
      "cell_type": "code",
      "metadata": {
        "id": "juPF2n93Uolc"
      },
      "source": [
        "sum(a)"
      ],
      "execution_count": null,
      "outputs": []
    },
    {
      "cell_type": "code",
      "metadata": {
        "id": "arQBY3ALUqtU"
      },
      "source": [
        "len(a)"
      ],
      "execution_count": null,
      "outputs": []
    },
    {
      "cell_type": "code",
      "metadata": {
        "id": "-UZIO0dJUwfP"
      },
      "source": [
        "max(a)"
      ],
      "execution_count": null,
      "outputs": []
    },
    {
      "cell_type": "code",
      "metadata": {
        "id": "BPcYkS1_U2Qm"
      },
      "source": [
        "min(a)"
      ],
      "execution_count": null,
      "outputs": []
    },
    {
      "cell_type": "code",
      "metadata": {
        "id": "nndtoGceU37r"
      },
      "source": [
        ""
      ],
      "execution_count": null,
      "outputs": []
    },
    {
      "cell_type": "markdown",
      "metadata": {
        "id": "XxFN_RJBU98a"
      },
      "source": [
        "# converting list to tuple"
      ]
    },
    {
      "cell_type": "code",
      "metadata": {
        "id": "6sOUEW79VDGk"
      },
      "source": [
        "l = [1,2,3,4]\n",
        "print(type(l))"
      ],
      "execution_count": null,
      "outputs": []
    },
    {
      "cell_type": "code",
      "metadata": {
        "id": "FMlTNMcRVN0c"
      },
      "source": [
        "k = tuple(l)\n",
        "print(type(k))"
      ],
      "execution_count": null,
      "outputs": []
    },
    {
      "cell_type": "code",
      "metadata": {
        "id": "2gdKxhTqVRTV"
      },
      "source": [
        "print(k)"
      ],
      "execution_count": null,
      "outputs": []
    },
    {
      "cell_type": "code",
      "metadata": {
        "id": "8e0-mlGCVS18"
      },
      "source": [
        "type(l)\n",
        "type(k)"
      ],
      "execution_count": null,
      "outputs": []
    },
    {
      "cell_type": "code",
      "metadata": {
        "id": "x_uAnPQAVUwT"
      },
      "source": [
        ""
      ],
      "execution_count": null,
      "outputs": []
    },
    {
      "cell_type": "markdown",
      "metadata": {
        "id": "YTw1lcLLVtVc"
      },
      "source": [
        "# nesting list of a tuple"
      ]
    },
    {
      "cell_type": "code",
      "metadata": {
        "id": "IDYngbbVVxLp"
      },
      "source": [
        "lst = [(1,2,3), (4,5,6)]\n",
        "print(lst)"
      ],
      "execution_count": null,
      "outputs": []
    },
    {
      "cell_type": "code",
      "metadata": {
        "id": "hc_6CGj3V8Eb"
      },
      "source": [
        "print(type(lst))"
      ],
      "execution_count": null,
      "outputs": []
    },
    {
      "cell_type": "code",
      "metadata": {
        "id": "cb5rS9-IV_S5"
      },
      "source": [
        "lst.append(\"tuple is adding\")"
      ],
      "execution_count": null,
      "outputs": []
    },
    {
      "cell_type": "code",
      "metadata": {
        "id": "RrmTkCDDWNvm"
      },
      "source": [
        "print(lst)"
      ],
      "execution_count": null,
      "outputs": []
    },
    {
      "cell_type": "code",
      "metadata": {
        "id": "rBy1EBFxWPTg"
      },
      "source": [
        "lst.remove((1,2,3))"
      ],
      "execution_count": null,
      "outputs": []
    },
    {
      "cell_type": "code",
      "metadata": {
        "id": "CuhUQL7eWZ6K"
      },
      "source": [
        "print(lst)"
      ],
      "execution_count": null,
      "outputs": []
    },
    {
      "cell_type": "code",
      "metadata": {
        "id": "0ypXJtP-WbCj"
      },
      "source": [
        ""
      ],
      "execution_count": null,
      "outputs": []
    },
    {
      "cell_type": "markdown",
      "metadata": {
        "id": "8A8r8WI5Wf-C"
      },
      "source": [
        "# nesting list with tuple"
      ]
    },
    {
      "cell_type": "code",
      "metadata": {
        "id": "Mze4hBOxWiiA"
      },
      "source": [
        "x = ([1,2,3],[4,5,6])\n",
        "x"
      ],
      "execution_count": null,
      "outputs": []
    },
    {
      "cell_type": "code",
      "metadata": {
        "id": "9sVajInjW71x"
      },
      "source": [
        "x[0].append(7)"
      ],
      "execution_count": null,
      "outputs": []
    },
    {
      "cell_type": "code",
      "metadata": {
        "id": "MzGqwQ-bXKmk"
      },
      "source": [
        "print(x)"
      ],
      "execution_count": null,
      "outputs": []
    },
    {
      "cell_type": "code",
      "metadata": {
        "id": "kIKXNEQ4XRYE"
      },
      "source": [
        "x[0].remove(7)"
      ],
      "execution_count": null,
      "outputs": []
    },
    {
      "cell_type": "code",
      "metadata": {
        "id": "abbr2fRAXchi"
      },
      "source": [
        "x"
      ],
      "execution_count": null,
      "outputs": []
    },
    {
      "cell_type": "code",
      "metadata": {
        "id": "cgNi41ecXdFI"
      },
      "source": [
        ""
      ],
      "execution_count": null,
      "outputs": []
    },
    {
      "cell_type": "markdown",
      "metadata": {
        "id": "NBqPh0dZXlB5"
      },
      "source": [
        "# STRINGS IN PYTHON"
      ]
    },
    {
      "cell_type": "code",
      "metadata": {
        "id": "TI-wIhmUYfht"
      },
      "source": [
        "x = 'Ram'\n",
        "x"
      ],
      "execution_count": null,
      "outputs": []
    },
    {
      "cell_type": "code",
      "metadata": {
        "id": "gq8ypovNYn75"
      },
      "source": [
        "y = \"Ram\"\n",
        "y"
      ],
      "execution_count": null,
      "outputs": []
    },
    {
      "cell_type": "code",
      "metadata": {
        "id": "lqABJB8BYqHL"
      },
      "source": [
        "x = \"it's my birthday\"\n",
        "x"
      ],
      "execution_count": null,
      "outputs": []
    },
    {
      "cell_type": "code",
      "metadata": {
        "id": "79L_My6FYzu-"
      },
      "source": [
        "y = 'ram said,\"it\\'s my birthday\"'\n",
        "print(y)"
      ],
      "execution_count": null,
      "outputs": []
    },
    {
      "cell_type": "code",
      "metadata": {
        "id": "9a4kEUkdZCE7"
      },
      "source": [
        "x = '''i love to live alone\n",
        "no one disturb me\n",
        "is my order'''\n",
        "print(x)"
      ],
      "execution_count": null,
      "outputs": []
    },
    {
      "cell_type": "code",
      "metadata": {
        "id": "NtbUKGLIZtd-"
      },
      "source": [
        "x = \"venkataramanajneyareddy\"\n",
        "print(len(x))"
      ],
      "execution_count": null,
      "outputs": []
    },
    {
      "cell_type": "code",
      "metadata": {
        "id": "SZ2HSpqxaiJp"
      },
      "source": [
        "x = \"venkata Ramanjaneya Redyy\"\n",
        "print(x)\n",
        "len(x)"
      ],
      "execution_count": null,
      "outputs": []
    },
    {
      "cell_type": "code",
      "metadata": {
        "id": "iQ5DZl3UaqOT"
      },
      "source": [
        " print(x)\n",
        " print(x[4])"
      ],
      "execution_count": null,
      "outputs": []
    },
    {
      "cell_type": "code",
      "metadata": {
        "id": "WhfKxCZwgX-f"
      },
      "source": [
        "for i in x:\n",
        "  print(i, end=\" \")"
      ],
      "execution_count": null,
      "outputs": []
    },
    {
      "cell_type": "code",
      "metadata": {
        "id": "x-4dO3nZhohv"
      },
      "source": [
        "print(x[5:])"
      ],
      "execution_count": null,
      "outputs": []
    },
    {
      "cell_type": "code",
      "metadata": {
        "id": "fWS0S7o5iDsN"
      },
      "source": [
        "print(x[:5])"
      ],
      "execution_count": null,
      "outputs": []
    },
    {
      "cell_type": "code",
      "metadata": {
        "id": "yc4BkH7PiPdc"
      },
      "source": [
        "print(x[2:11])"
      ],
      "execution_count": null,
      "outputs": []
    },
    {
      "cell_type": "code",
      "metadata": {
        "id": "-F_gEZBgiiJb"
      },
      "source": [
        "print(x[::2])"
      ],
      "execution_count": null,
      "outputs": []
    },
    {
      "cell_type": "code",
      "metadata": {
        "id": "s9GslI4QipRw"
      },
      "source": [
        "print(x[1::2])"
      ],
      "execution_count": null,
      "outputs": []
    },
    {
      "cell_type": "code",
      "metadata": {
        "id": "WJY7EcJCiucm"
      },
      "source": [
        "print(x.upper())"
      ],
      "execution_count": null,
      "outputs": []
    },
    {
      "cell_type": "code",
      "metadata": {
        "id": "Z0EvQmpojHCg"
      },
      "source": [
        "print(x.lower())"
      ],
      "execution_count": null,
      "outputs": []
    },
    {
      "cell_type": "code",
      "metadata": {
        "id": "qegAAg13jJra"
      },
      "source": [
        "print(x.find(\"R\"))"
      ],
      "execution_count": null,
      "outputs": []
    },
    {
      "cell_type": "code",
      "metadata": {
        "id": "0qKGtbQukANZ"
      },
      "source": [
        "print(x.index(\"R\"))"
      ],
      "execution_count": null,
      "outputs": []
    },
    {
      "cell_type": "code",
      "metadata": {
        "id": "wRl8GLFmkIfi"
      },
      "source": [
        "print(x.split(\" \"))\n",
        "print(x)"
      ],
      "execution_count": null,
      "outputs": []
    },
    {
      "cell_type": "code",
      "metadata": {
        "id": "-yI2OHyOk984"
      },
      "source": [
        "print(x.replace(\"Reddy\",\"Tippireddy\"))\n",
        "print(x)"
      ],
      "execution_count": null,
      "outputs": []
    },
    {
      "cell_type": "code",
      "metadata": {
        "id": "-yoK8PPTlsst"
      },
      "source": [
        "print(x.rpartition(\"Ramanajneya\"))"
      ],
      "execution_count": null,
      "outputs": []
    },
    {
      "cell_type": "code",
      "metadata": {
        "id": "X1oPni9vlwDF"
      },
      "source": [
        "r = \"ram\"\n",
        "b = \"reddy\"\n",
        "a = r + '' + b"
      ],
      "execution_count": null,
      "outputs": []
    },
    {
      "cell_type": "code",
      "metadata": {
        "id": "VxyNB5DKoK2d"
      },
      "source": [
        "print(a)"
      ],
      "execution_count": null,
      "outputs": []
    },
    {
      "cell_type": "code",
      "metadata": {
        "id": "PeUQSUScoMqE"
      },
      "source": [
        "x = \"venkat\"\n",
        "y = \"ramanjanaya\"\n",
        "z = \"Reddy\"\n",
        "a = \"{} {} {}!\".format(x,y,z)"
      ],
      "execution_count": null,
      "outputs": []
    },
    {
      "cell_type": "code",
      "metadata": {
        "id": "Ga_kSYjjpdw-"
      },
      "source": [
        "print(a)"
      ],
      "execution_count": null,
      "outputs": []
    },
    {
      "cell_type": "code",
      "metadata": {
        "id": "5Dat4Mxbpeyx"
      },
      "source": [
        ""
      ],
      "execution_count": null,
      "outputs": []
    },
    {
      "cell_type": "markdown",
      "metadata": {
        "id": "F9QbaGkzpxpa"
      },
      "source": [
        "# PYTHON DICT AND SETS"
      ]
    },
    {
      "cell_type": "code",
      "metadata": {
        "id": "xKV1c3Z8p1Mu"
      },
      "source": [
        "d1 = {}\n",
        "print(d1)\n",
        "print(type(d1))"
      ],
      "execution_count": null,
      "outputs": []
    },
    {
      "cell_type": "code",
      "metadata": {
        "id": "2cBJhvEF9aqJ"
      },
      "source": [
        "d2 = {1:\"REDDY\",2:\"RAM\",3:\"RAMANJI\"}\n",
        "print(d2)"
      ],
      "execution_count": null,
      "outputs": []
    },
    {
      "cell_type": "code",
      "metadata": {
        "id": "W5UAsj_z995K"
      },
      "source": [
        "d2[1]"
      ],
      "execution_count": null,
      "outputs": []
    },
    {
      "cell_type": "code",
      "metadata": {
        "id": "gtO8P31ZK6pF"
      },
      "source": [
        "d2.keys()"
      ],
      "execution_count": null,
      "outputs": []
    },
    {
      "cell_type": "code",
      "metadata": {
        "id": "NxRpIRJzK-ze"
      },
      "source": [
        "d2.values()"
      ],
      "execution_count": null,
      "outputs": []
    },
    {
      "cell_type": "code",
      "metadata": {
        "id": "ubBRk_NbLGeO"
      },
      "source": [
        ""
      ],
      "execution_count": null,
      "outputs": []
    },
    {
      "cell_type": "markdown",
      "metadata": {
        "id": "0n2ZqeIKa26t"
      },
      "source": [
        "# python if-else statements"
      ]
    },
    {
      "cell_type": "markdown",
      "metadata": {
        "id": "yCNDg9rCb1xs"
      },
      "source": [
        "# if condition"
      ]
    },
    {
      "cell_type": "code",
      "metadata": {
        "id": "T1q6va1Ia7ZJ"
      },
      "source": [
        "a = 20\n",
        "if a>50:\n",
        "  print(\"TRUE\")\n",
        "print(\"FALSE\")"
      ],
      "execution_count": null,
      "outputs": []
    },
    {
      "cell_type": "code",
      "metadata": {
        "id": "nVf1xs10bhdV"
      },
      "source": [
        "a = 70\n",
        "if a>50:\n",
        "  print(\"TRUE\")\n",
        "print(\"FALSE\")"
      ],
      "execution_count": null,
      "outputs": []
    },
    {
      "cell_type": "code",
      "metadata": {
        "id": "0AbweIm9btTw"
      },
      "source": [
        ""
      ],
      "execution_count": null,
      "outputs": []
    },
    {
      "cell_type": "markdown",
      "metadata": {
        "id": "99Yas175caDE"
      },
      "source": [
        "# if else"
      ]
    },
    {
      "cell_type": "code",
      "metadata": {
        "id": "BbJeS_WHcboo"
      },
      "source": [
        "i = 20\n",
        "if i % 2 == 0:\n",
        "  print(\"this is even number\")\n",
        "else:\n",
        "  print(\"this is odd number\")"
      ],
      "execution_count": null,
      "outputs": []
    },
    {
      "cell_type": "code",
      "metadata": {
        "id": "ZMkKoc6vdIX4"
      },
      "source": [
        "i = 25\n",
        "if i % 2 == 0:\n",
        "  print(\"this is even number\")\n",
        "else:\n",
        "  print(\"this is odd number\")"
      ],
      "execution_count": null,
      "outputs": []
    },
    {
      "cell_type": "code",
      "metadata": {
        "id": "i7LW9YUadSeL"
      },
      "source": [
        ""
      ],
      "execution_count": null,
      "outputs": []
    },
    {
      "cell_type": "markdown",
      "metadata": {
        "id": "qd2ujau6dwzK"
      },
      "source": [
        "# nested if statement"
      ]
    },
    {
      "cell_type": "code",
      "metadata": {
        "id": "9H9yaCyVd0Hi"
      },
      "source": [
        "c = 21\n",
        "if c<25:\n",
        "  if c%2==0:\n",
        "    print(\"even1\")\n",
        "  else:\n",
        "    print(\"odd\")\n",
        "else:\n",
        "  print(\"c is grater than 25\")"
      ],
      "execution_count": null,
      "outputs": []
    },
    {
      "cell_type": "code",
      "metadata": {
        "id": "CRR9gTY2e4PL"
      },
      "source": [
        "c = 40\n",
        "if c<25:\n",
        "  if c%2==0:\n",
        "    print(\"even1\")\n",
        "  else:\n",
        "    print(\"odd\")\n",
        "else:\n",
        "  print(\"c is grater than 25\")"
      ],
      "execution_count": null,
      "outputs": []
    },
    {
      "cell_type": "code",
      "metadata": {
        "id": "p5uMyLnve60c"
      },
      "source": [
        ""
      ],
      "execution_count": null,
      "outputs": []
    },
    {
      "cell_type": "markdown",
      "metadata": {
        "id": "8AdR6Khde9Pm"
      },
      "source": [
        "# if elif else"
      ]
    },
    {
      "cell_type": "code",
      "metadata": {
        "id": "MEz1CPU8fR_p"
      },
      "source": [
        "var = \"z\"\n",
        "if var == \"a\":\n",
        "  print(\"this is vowel of a\")\n",
        "elif var == \"e\":\n",
        "   print(\"this is vowel of a\")\n",
        "elif var == \"i\":\n",
        "   print(\"this is vowel of i\")\n",
        "elif var == 'o':\n",
        "   print(\"this is vowel of o\")\n",
        "elif var == \"u\":\n",
        "   print(\"this is vowel of u\")\n",
        "else:\n",
        "  print(\"this is consant\")"
      ],
      "execution_count": null,
      "outputs": []
    },
    {
      "cell_type": "code",
      "metadata": {
        "id": "Gxp6voAWgrLe"
      },
      "source": [
        "var = \"o\"\n",
        "if var == \"a\":\n",
        "  print(\"this is vowel of a\")\n",
        "elif var == \"e\":\n",
        "   print(\"this is vowel of a\")\n",
        "elif var == \"i\":\n",
        "   print(\"this is vowel of i\")\n",
        "elif var == 'o':\n",
        "   print(\"this is vowel of o\")\n",
        "elif var == \"u\":\n",
        "   print(\"this is vowel of u\")\n",
        "else:\n",
        "  print(\"this is consant\")"
      ],
      "execution_count": null,
      "outputs": []
    },
    {
      "cell_type": "code",
      "metadata": {
        "id": "nfcvMYeDg7X0"
      },
      "source": [
        ""
      ],
      "execution_count": null,
      "outputs": []
    },
    {
      "cell_type": "markdown",
      "metadata": {
        "id": "E1h8b9soha5_"
      },
      "source": [
        "# PYTHON LOOPS"
      ]
    },
    {
      "cell_type": "code",
      "metadata": {
        "colab": {
          "base_uri": "https://localhost:8080/"
        },
        "id": "3CzRSvMAksIG",
        "outputId": "127ab598-27a2-4008-c16c-f37539f8c84c"
      },
      "source": [
        "val = int(input(\"enter a multiple of 7\"))\n",
        "while val % 7 != 0:\n",
        "  val = int(input(\"enter a multiple of 7\"))\n",
        "else:\n",
        "  print(\"%d is multiple of 7\" %v4al)"
      ],
      "execution_count": null,
      "outputs": [
        {
          "output_type": "stream",
          "text": [
            "enter a multiple of 741\n",
            "enter a multiple of 732\n",
            "enter a multiple of 733\n",
            "enter a multiple of 734\n",
            "enter a multiple of 735\n",
            "35 is multiple of 7\n"
          ],
          "name": "stdout"
        }
      ]
    },
    {
      "cell_type": "code",
      "metadata": {
        "id": "mtJydJ-Ihcma"
      },
      "source": [
        ""
      ],
      "execution_count": null,
      "outputs": []
    },
    {
      "cell_type": "markdown",
      "metadata": {
        "id": "V94HQMhqnxG4"
      },
      "source": [
        "# FOR LOOP"
      ]
    },
    {
      "cell_type": "code",
      "metadata": {
        "colab": {
          "base_uri": "https://localhost:8080/"
        },
        "id": "c-oKMxrUnzkJ",
        "outputId": "c2e517c8-fe3b-4a97-aa66-d64923f09890"
      },
      "source": [
        "x = [1,2,3,4,\"ram\",\"Reddy\"]\n",
        "for i in x:\n",
        "  print(i)"
      ],
      "execution_count": null,
      "outputs": [
        {
          "output_type": "stream",
          "text": [
            "1\n",
            "2\n",
            "3\n",
            "4\n",
            "ram\n",
            "Reddy\n"
          ],
          "name": "stdout"
        }
      ]
    },
    {
      "cell_type": "code",
      "metadata": {
        "colab": {
          "base_uri": "https://localhost:8080/"
        },
        "id": "TdicERUppOMj",
        "outputId": "63bac0d9-5a60-4431-a774-3fea371a9a70"
      },
      "source": [
        "x = \"RAMANAJANYA REDDY\"\n",
        "for i in x:\n",
        "  print(i)"
      ],
      "execution_count": null,
      "outputs": [
        {
          "output_type": "stream",
          "text": [
            "R\n",
            "A\n",
            "M\n",
            "A\n",
            "N\n",
            "A\n",
            "J\n",
            "A\n",
            "N\n",
            "Y\n",
            "A\n",
            " \n",
            "R\n",
            "E\n",
            "D\n",
            "D\n",
            "Y\n"
          ],
          "name": "stdout"
        }
      ]
    },
    {
      "cell_type": "code",
      "metadata": {
        "id": "-j4K7I4vpXJS"
      },
      "source": [
        "# NESTED LOPPS"
      ],
      "execution_count": null,
      "outputs": []
    },
    {
      "cell_type": "code",
      "metadata": {
        "id": "v6NoosrHp20r"
      },
      "source": [
        "# for in for loop\n",
        "# while in while loop\n",
        "# for in while loop\n",
        "# while in for loop"
      ],
      "execution_count": null,
      "outputs": []
    },
    {
      "cell_type": "code",
      "metadata": {
        "colab": {
          "base_uri": "https://localhost:8080/"
        },
        "id": "9PrbHLoOqBXy",
        "outputId": "e5060fcf-fa60-4b83-db62-221ac080c67c"
      },
      "source": [
        "x = [[1,2,3],[\"a\",\"b\",\"c\"]]\n",
        "for i in x:\n",
        "  for j in i:\n",
        "    print(j, end = \" \")\n",
        "  print( )"
      ],
      "execution_count": null,
      "outputs": [
        {
          "output_type": "stream",
          "text": [
            "1 2 3 \n",
            "a b c \n"
          ],
          "name": "stdout"
        }
      ]
    },
    {
      "cell_type": "code",
      "metadata": {
        "id": "wWefu8w4sN0W"
      },
      "source": [
        ""
      ],
      "execution_count": null,
      "outputs": []
    },
    {
      "cell_type": "markdown",
      "metadata": {
        "id": "tYNz1DThy7FZ"
      },
      "source": [
        ""
      ]
    },
    {
      "cell_type": "markdown",
      "metadata": {
        "id": "VmVY8YHYw0Sc"
      },
      "source": [
        "# Loop control statements"
      ]
    },
    {
      "cell_type": "code",
      "metadata": {
        "colab": {
          "base_uri": "https://localhost:8080/"
        },
        "id": "iCp3-g7iw29Q",
        "outputId": "51d1ab78-3de9-41a1-e0ac-576019358ffb"
      },
      "source": [
        "x = \"this is Tippireddy . venkataramanjaneyareddy\"\n",
        "for i in x:\n",
        "  if i == \".\":\n",
        "    break\n",
        "  print(i)"
      ],
      "execution_count": null,
      "outputs": [
        {
          "output_type": "stream",
          "text": [
            "t\n",
            "h\n",
            "i\n",
            "s\n",
            " \n",
            "i\n",
            "s\n",
            " \n",
            "T\n",
            "i\n",
            "p\n",
            "p\n",
            "i\n",
            "r\n",
            "e\n",
            "d\n",
            "d\n",
            "y\n",
            " \n"
          ],
          "name": "stdout"
        }
      ]
    },
    {
      "cell_type": "code",
      "metadata": {
        "colab": {
          "base_uri": "https://localhost:8080/"
        },
        "id": "IxNvV4_XxnNQ",
        "outputId": "a53d0434-9722-4607-ee27-cc208d79d21c"
      },
      "source": [
        "x = \"this is Tippireddy . venkataramanjaneyareddy\"\n",
        "for i in x:\n",
        "  if i == \".\":\n",
        "    break\n",
        "  print(i, end =\"\")"
      ],
      "execution_count": null,
      "outputs": [
        {
          "output_type": "stream",
          "text": [
            "this is Tippireddy "
          ],
          "name": "stdout"
        }
      ]
    },
    {
      "cell_type": "code",
      "metadata": {
        "colab": {
          "base_uri": "https://localhost:8080/"
        },
        "id": "2Q-V2AjAx6li",
        "outputId": "21a600c6-8efa-4939-cf30-22c406a471a2"
      },
      "source": [
        "for i in [1,2,45,67,89,3,4]:\n",
        "  if i > 10:\n",
        "    continue\n",
        "  print(i)"
      ],
      "execution_count": null,
      "outputs": [
        {
          "output_type": "stream",
          "text": [
            "1\n",
            "2\n",
            "3\n",
            "4\n"
          ],
          "name": "stdout"
        }
      ]
    },
    {
      "cell_type": "code",
      "metadata": {
        "id": "9qlAWHxxyUNZ"
      },
      "source": [
        ""
      ],
      "execution_count": null,
      "outputs": []
    },
    {
      "cell_type": "markdown",
      "metadata": {
        "id": "Pjt58T5iyy_l"
      },
      "source": [
        "# FOR LOOP IN PYTHON"
      ]
    },
    {
      "cell_type": "code",
      "metadata": {
        "colab": {
          "base_uri": "https://localhost:8080/"
        },
        "id": "Xf75scUYzCPX",
        "outputId": "1f79c60c-5271-4153-bc7d-36146758652f"
      },
      "source": [
        "x = \"ramanjireddy\"\n",
        "for i in x:\n",
        "  print(i, end = \"\")"
      ],
      "execution_count": null,
      "outputs": [
        {
          "output_type": "stream",
          "text": [
            "ramanjireddy"
          ],
          "name": "stdout"
        }
      ]
    },
    {
      "cell_type": "code",
      "metadata": {
        "colab": {
          "base_uri": "https://localhost:8080/"
        },
        "id": "BXDByDQbz4se",
        "outputId": "8e528ffc-e2a6-45ee-f45a-3555bebb2220"
      },
      "source": [
        "x = \"ramanjireddy\"\n",
        "for i in x:\n",
        "  print(i, end = \" \")"
      ],
      "execution_count": null,
      "outputs": [
        {
          "output_type": "stream",
          "text": [
            "r a m a n j i r e d d y "
          ],
          "name": "stdout"
        }
      ]
    },
    {
      "cell_type": "code",
      "metadata": {
        "colab": {
          "base_uri": "https://localhost:8080/"
        },
        "id": "1dBfGzc9z8i_",
        "outputId": "95cb54d2-9195-475e-8474-2ecbe9f7baa4"
      },
      "source": [
        "for i in range(0, 21):\n",
        "  print(i)"
      ],
      "execution_count": null,
      "outputs": [
        {
          "output_type": "stream",
          "text": [
            "0\n",
            "1\n",
            "2\n",
            "3\n",
            "4\n",
            "5\n",
            "6\n",
            "7\n",
            "8\n",
            "9\n",
            "10\n",
            "11\n",
            "12\n",
            "13\n",
            "14\n",
            "15\n",
            "16\n",
            "17\n",
            "18\n",
            "19\n",
            "20\n"
          ],
          "name": "stdout"
        }
      ]
    },
    {
      "cell_type": "code",
      "metadata": {
        "colab": {
          "base_uri": "https://localhost:8080/"
        },
        "id": "sr_wFkdN1Yji",
        "outputId": "161baccd-52ec-4bd7-e3db-c17df00d047a"
      },
      "source": [
        "for i in range(0,21,2):\n",
        "  print(i)"
      ],
      "execution_count": null,
      "outputs": [
        {
          "output_type": "stream",
          "text": [
            "0\n",
            "2\n",
            "4\n",
            "6\n",
            "8\n",
            "10\n",
            "12\n",
            "14\n",
            "16\n",
            "18\n",
            "20\n"
          ],
          "name": "stdout"
        }
      ]
    },
    {
      "cell_type": "code",
      "metadata": {
        "colab": {
          "base_uri": "https://localhost:8080/"
        },
        "id": "5S4zAGNF1ey0",
        "outputId": "b01a68c2-3e6f-4357-bf67-246f23d09af6"
      },
      "source": [
        "for i in range(0,21):\n",
        "  if i % 2 ==0 :\n",
        "    print(i)"
      ],
      "execution_count": null,
      "outputs": [
        {
          "output_type": "stream",
          "text": [
            "0\n",
            "2\n",
            "4\n",
            "6\n",
            "8\n",
            "10\n",
            "12\n",
            "14\n",
            "16\n",
            "18\n",
            "20\n"
          ],
          "name": "stdout"
        }
      ]
    },
    {
      "cell_type": "code",
      "metadata": {
        "colab": {
          "base_uri": "https://localhost:8080/"
        },
        "id": "wxXsGlQi1qnD",
        "outputId": "9b21409e-366d-4b6b-e0e7-b41d41ac6a21"
      },
      "source": [
        "sum = 0\n",
        "for i in range(0,21):\n",
        "  if i%2 == 0:\n",
        "    sum = sum+i\n",
        "    print(sum)\n",
        "print(sum)"
      ],
      "execution_count": null,
      "outputs": [
        {
          "output_type": "stream",
          "text": [
            "0\n",
            "2\n",
            "6\n",
            "12\n",
            "20\n",
            "30\n",
            "42\n",
            "56\n",
            "72\n",
            "90\n",
            "110\n",
            "110\n"
          ],
          "name": "stdout"
        }
      ]
    },
    {
      "cell_type": "code",
      "metadata": {
        "colab": {
          "base_uri": "https://localhost:8080/"
        },
        "id": "KWkGQ8to2PAa",
        "outputId": "09b83d79-3154-4c50-9426-a06e6675e30b"
      },
      "source": [
        "n = int(input(\"enter a number\"))\n",
        "for i in range(1, n+1):\n",
        "  for j in range(1,i):\n",
        "    print(j, end=\" \")\n",
        "  print()"
      ],
      "execution_count": null,
      "outputs": [
        {
          "output_type": "stream",
          "text": [
            "enter a number6\n",
            "\n",
            "1 \n",
            "1 2 \n",
            "1 2 3 \n",
            "1 2 3 4 \n",
            "1 2 3 4 5 \n"
          ],
          "name": "stdout"
        }
      ]
    },
    {
      "cell_type": "code",
      "metadata": {
        "colab": {
          "base_uri": "https://localhost:8080/"
        },
        "id": "lrpn4uWY3kk3",
        "outputId": "b2641d6b-05ff-4136-b101-33b50bdfdea0"
      },
      "source": [
        "n = int(input(\"enter a number\"))\n",
        "for i in range(1, n+1):\n",
        "  for j in range(1,i+1):\n",
        "    print(j, end=\" \")\n",
        "  print()"
      ],
      "execution_count": null,
      "outputs": [
        {
          "output_type": "stream",
          "text": [
            "enter a number6\n",
            "1 \n",
            "1 2 \n",
            "1 2 3 \n",
            "1 2 3 4 \n",
            "1 2 3 4 5 \n",
            "1 2 3 4 5 6 \n"
          ],
          "name": "stdout"
        }
      ]
    },
    {
      "cell_type": "code",
      "metadata": {
        "id": "P7qXhDp-328L"
      },
      "source": [
        ""
      ],
      "execution_count": null,
      "outputs": []
    },
    {
      "cell_type": "markdown",
      "metadata": {
        "id": "BATT_ozM7L-5"
      },
      "source": [
        "# while loop"
      ]
    },
    {
      "cell_type": "code",
      "metadata": {
        "colab": {
          "base_uri": "https://localhost:8080/"
        },
        "id": "4-LanIhp7U7X",
        "outputId": "b74c7d9f-27c5-40c1-ce35-5b5f719a14e6"
      },
      "source": [
        "i = 1\n",
        "while i<=10:\n",
        "  print(\"Reddy\")\n",
        "  i += 1\n"
      ],
      "execution_count": null,
      "outputs": [
        {
          "output_type": "stream",
          "text": [
            "Reddy\n",
            "Reddy\n",
            "Reddy\n",
            "Reddy\n",
            "Reddy\n",
            "Reddy\n",
            "Reddy\n",
            "Reddy\n",
            "Reddy\n",
            "Reddy\n"
          ],
          "name": "stdout"
        }
      ]
    },
    {
      "cell_type": "code",
      "metadata": {
        "colab": {
          "base_uri": "https://localhost:8080/"
        },
        "id": "weKdzkoo8Hc-",
        "outputId": "3e3cd935-9e80-4785-ab47-9298c66cde96"
      },
      "source": [
        "i = 1\n",
        "sum=0\n",
        "while i<=0:\n",
        "  sum = sum+i\n",
        "  i +=1\n",
        "print(sum)"
      ],
      "execution_count": null,
      "outputs": [
        {
          "output_type": "stream",
          "text": [
            "0\n"
          ],
          "name": "stdout"
        }
      ]
    },
    {
      "cell_type": "code",
      "metadata": {
        "colab": {
          "base_uri": "https://localhost:8080/"
        },
        "id": "WMug-6m18JJp",
        "outputId": "a37b710a-273f-4722-de84-2f4014a22c7e"
      },
      "source": [
        "i = 1\n",
        "sum=0\n",
        "while i<=10:\n",
        "  sum = sum+i\n",
        "  i +=1\n",
        "print(sum)"
      ],
      "execution_count": null,
      "outputs": [
        {
          "output_type": "stream",
          "text": [
            "55\n"
          ],
          "name": "stdout"
        }
      ]
    },
    {
      "cell_type": "code",
      "metadata": {
        "colab": {
          "base_uri": "https://localhost:8080/"
        },
        "id": "j8Qw8J7G9UAr",
        "outputId": "016e280b-85c0-418b-c22c-493219c39686"
      },
      "source": [
        "i = 1\n",
        "sum=0\n",
        "while i<=10:\n",
        "  if i%2==0:\n",
        "    sum = sum+i\n",
        "  i +=1\n",
        "print(sum)"
      ],
      "execution_count": null,
      "outputs": [
        {
          "output_type": "stream",
          "text": [
            "30\n"
          ],
          "name": "stdout"
        }
      ]
    },
    {
      "cell_type": "code",
      "metadata": {
        "colab": {
          "base_uri": "https://localhost:8080/"
        },
        "id": "oaicQNp1-Yvn",
        "outputId": "6ea94e2b-7bde-48a8-b0c8-4d4918e1204d"
      },
      "source": [
        "n = int(input(\"enter a number \"))\n",
        "nr = 0\n",
        "while n%10 != 0:\n",
        "  c = n%10\n",
        "  nr = nr*10 +c\n",
        "  n =n//10\n",
        "print(nr)"
      ],
      "execution_count": null,
      "outputs": [
        {
          "output_type": "stream",
          "text": [
            "enter a number 5432\n",
            "2345\n"
          ],
          "name": "stdout"
        }
      ]
    },
    {
      "cell_type": "code",
      "metadata": {
        "id": "WzXPtxOAQE6Q"
      },
      "source": [
        ""
      ],
      "execution_count": null,
      "outputs": []
    },
    {
      "cell_type": "markdown",
      "metadata": {
        "id": "S7g54LPtUKXg"
      },
      "source": [
        "# Arrays in python"
      ]
    },
    {
      "cell_type": "code",
      "metadata": {
        "id": "aeTe2-JaUNKK",
        "colab": {
          "base_uri": "https://localhost:8080/"
        },
        "outputId": "c5b39176-f445-4665-affa-c243a77b442e"
      },
      "source": [
        "from array import*\n",
        "arr = array(\"i\",[1,2,3,4,5])\n",
        "print(arr)"
      ],
      "execution_count": null,
      "outputs": [
        {
          "output_type": "stream",
          "text": [
            "array('i', [1, 2, 3, 4, 5])\n"
          ],
          "name": "stdout"
        }
      ]
    },
    {
      "cell_type": "code",
      "metadata": {
        "colab": {
          "base_uri": "https://localhost:8080/"
        },
        "id": "OAz0tLVCKRo-",
        "outputId": "821e46a3-a29d-4919-f76a-dc8b194ae99c"
      },
      "source": [
        "print(arr.buffer_info())"
      ],
      "execution_count": null,
      "outputs": [
        {
          "output_type": "stream",
          "text": [
            "(140359475603760, 5)\n"
          ],
          "name": "stdout"
        }
      ]
    },
    {
      "cell_type": "code",
      "metadata": {
        "colab": {
          "base_uri": "https://localhost:8080/"
        },
        "id": "LzPhKtfrKuis",
        "outputId": "0ed77f0f-0475-4063-efde-ab5cd2c6ae10"
      },
      "source": [
        "print(arr[2])"
      ],
      "execution_count": null,
      "outputs": [
        {
          "output_type": "stream",
          "text": [
            "3\n"
          ],
          "name": "stdout"
        }
      ]
    },
    {
      "cell_type": "code",
      "metadata": {
        "colab": {
          "base_uri": "https://localhost:8080/"
        },
        "id": "X-LPLSAwLRA-",
        "outputId": "4b5d663d-e300-4854-f607-795bb71cbf5c"
      },
      "source": [
        "for i in arr:\n",
        "  print(i)"
      ],
      "execution_count": null,
      "outputs": [
        {
          "output_type": "stream",
          "text": [
            "1\n",
            "2\n",
            "3\n",
            "4\n",
            "5\n"
          ],
          "name": "stdout"
        }
      ]
    },
    {
      "cell_type": "code",
      "metadata": {
        "colab": {
          "base_uri": "https://localhost:8080/"
        },
        "id": "LAHaF9T5LkhU",
        "outputId": "40efb035-80ed-4a9c-f5d3-485eccb3a2aa"
      },
      "source": [
        "for j in range(5):\n",
        "  print(arr[j])"
      ],
      "execution_count": null,
      "outputs": [
        {
          "output_type": "stream",
          "text": [
            "1\n",
            "2\n",
            "3\n",
            "4\n",
            "5\n"
          ],
          "name": "stdout"
        }
      ]
    },
    {
      "cell_type": "code",
      "metadata": {
        "colab": {
          "base_uri": "https://localhost:8080/"
        },
        "id": "a9bmv0fHLsSB",
        "outputId": "e17597d5-754c-474a-be3d-b2e9a02f5f95"
      },
      "source": [
        " for j in range(1,4):\n",
        "   print(j, arr[j])\n"
      ],
      "execution_count": null,
      "outputs": [
        {
          "output_type": "stream",
          "text": [
            "1 2\n",
            "2 3\n",
            "3 4\n"
          ],
          "name": "stdout"
        }
      ]
    },
    {
      "cell_type": "code",
      "metadata": {
        "colab": {
          "base_uri": "https://localhost:8080/"
        },
        "id": "-sWwS_qYN5yw",
        "outputId": "edac824a-fa14-4de4-b4c6-1d0076f3b305"
      },
      "source": [
        "arr.reverse()\n",
        "print(arr)\n"
      ],
      "execution_count": null,
      "outputs": [
        {
          "output_type": "stream",
          "text": [
            "array('i', [5, 4, 3, 2, 1])\n"
          ],
          "name": "stdout"
        }
      ]
    },
    {
      "cell_type": "code",
      "metadata": {
        "colab": {
          "base_uri": "https://localhost:8080/"
        },
        "id": "FBl_8F5MOKnh",
        "outputId": "a346cbca-0b39-40f6-ff11-4f8ccd63d7a0"
      },
      "source": [
        "arr = array(\"i\", [1,2,2,3,4,5])\n",
        "arr.remove(2)\n",
        "print(arr)"
      ],
      "execution_count": null,
      "outputs": [
        {
          "output_type": "stream",
          "text": [
            "array('i', [1, 2, 3, 4, 5])\n",
            "array('i', [1, 2, 3, 4, 5])\n"
          ],
          "name": "stdout"
        }
      ]
    },
    {
      "cell_type": "code",
      "metadata": {
        "colab": {
          "base_uri": "https://localhost:8080/"
        },
        "id": "3Z6esuRaOq_B",
        "outputId": "cbfb709d-af11-41d2-b8ac-ebf63825605f"
      },
      "source": [
        "print(arr[3])\n",
        "print(arr.index(4))"
      ],
      "execution_count": null,
      "outputs": [
        {
          "output_type": "stream",
          "text": [
            "4\n",
            "3\n"
          ],
          "name": "stdout"
        }
      ]
    },
    {
      "cell_type": "code",
      "metadata": {
        "colab": {
          "base_uri": "https://localhost:8080/"
        },
        "id": "z8dX1iA8PSFb",
        "outputId": "224b2cc8-b37f-4c93-f802-c61b63e73ceb"
      },
      "source": [
        "arr = array(\"i\",[])\n",
        "x = int(input(\"enter size of array\"))\n",
        "print('enter %d elements'%x)"
      ],
      "execution_count": null,
      "outputs": [
        {
          "output_type": "stream",
          "text": [
            "enter size of array5\n",
            "enter 5 elements\n"
          ],
          "name": "stdout"
        }
      ]
    },
    {
      "cell_type": "code",
      "metadata": {
        "colab": {
          "base_uri": "https://localhost:8080/"
        },
        "id": "VyZiQgeuP__V",
        "outputId": "19d5dc6c-a9f1-4cb8-c697-b9edf2d0c270"
      },
      "source": [
        "arr = array(\"i\",[])\n",
        "x = int(input(\"enter size of array\"))\n",
        "print('enter %d elements'%x)\n",
        "for i in range(x):\n",
        "  n = int(input())\n",
        "  arr.append(n)\n",
        "print(arr)"
      ],
      "execution_count": null,
      "outputs": [
        {
          "output_type": "stream",
          "text": [
            "enter size of array5\n",
            "1\n",
            "enter 5 elements\n",
            "2\n",
            "3\n",
            "4\n",
            "5\n",
            "array('i', [1, 2, 3, 4, 5])\n"
          ],
          "name": "stdout"
        }
      ]
    },
    {
      "cell_type": "markdown",
      "metadata": {
        "id": "DGz_MK-hSEg2"
      },
      "source": [
        "# FUNCTIONS IN PYTHON"
      ]
    },
    {
      "cell_type": "code",
      "metadata": {
        "colab": {
          "base_uri": "https://localhost:8080/"
        },
        "id": "XZvwWkXMQvYR",
        "outputId": "f56e24af-f824-4ad0-966a-4580b885b79f"
      },
      "source": [
        "def welcome():\n",
        "  print(\"Good morning\")\n",
        "welcome()"
      ],
      "execution_count": null,
      "outputs": [
        {
          "output_type": "stream",
          "text": [
            "Good morning\n"
          ],
          "name": "stdout"
        }
      ]
    },
    {
      "cell_type": "code",
      "metadata": {
        "colab": {
          "base_uri": "https://localhost:8080/"
        },
        "id": "7M90CB2lTnvo",
        "outputId": "6be6cc4b-4b88-45a7-cada-2f98afdea24d"
      },
      "source": [
        "def add(a,b):\n",
        "  total = a + b\n",
        "  print(\"The sum is\", total)\n",
        "add(10,20)\n",
        "x = 2\n",
        "y = 4\n",
        "add(x,y)\n"
      ],
      "execution_count": null,
      "outputs": [
        {
          "output_type": "stream",
          "text": [
            "The sum is 30\n",
            "The sum is 6\n"
          ],
          "name": "stdout"
        }
      ]
    },
    {
      "cell_type": "code",
      "metadata": {
        "colab": {
          "base_uri": "https://localhost:8080/"
        },
        "id": "VqMeg-faUwfu",
        "outputId": "92aed57b-f24d-4736-ab73-8ca3efe91b97"
      },
      "source": [
        "def add(a,b):\n",
        "  total = a + b\n",
        "  print(\"a:%d, b:%d\" %(a,b))\n",
        "  print(\"The sum is\", total)\n",
        "add(10,20)\n",
        "x = 2\n",
        "y = 4\n",
        "add(x,y)\n"
      ],
      "execution_count": null,
      "outputs": [
        {
          "output_type": "stream",
          "text": [
            "a:10, b:20\n",
            "The sum is 30\n",
            "a:2, b:4\n",
            "The sum is 6\n"
          ],
          "name": "stdout"
        }
      ]
    },
    {
      "cell_type": "code",
      "metadata": {
        "colab": {
          "base_uri": "https://localhost:8080/"
        },
        "id": "42m9zFTjVhyk",
        "outputId": "e1910018-f8ec-42c6-cf5e-fcded8ec2817"
      },
      "source": [
        "def add(a,b):\n",
        "  total = a + b\n",
        "  print(\"a:%d, b:%d\" %(a,b))\n",
        "  print(\"The sum is\", total)\n",
        "add(a=10,b=20)\n",
        "x = 2\n",
        "y = 4\n",
        "add(x,y)\n",
        "\n",
        "\n"
      ],
      "execution_count": null,
      "outputs": [
        {
          "output_type": "stream",
          "text": [
            "a:10, b:20\n",
            "The sum is 30\n",
            "a:2, b:4\n",
            "The sum is 6\n"
          ],
          "name": "stdout"
        }
      ]
    },
    {
      "cell_type": "code",
      "metadata": {
        "colab": {
          "base_uri": "https://localhost:8080/"
        },
        "id": "VejWtRPiV_sD",
        "outputId": "7372dff2-ffe2-4270-8563-53dcd7818481"
      },
      "source": [
        "def add(b,a):\n",
        "  total = a + b\n",
        "  print(\"a:%d, b:%d\" %(a,b))\n",
        "  print(\"The sum is\", total)\n",
        "add(10,20)\n",
        "x = 2\n",
        "y = 4\n",
        "add(x,y)\n"
      ],
      "execution_count": null,
      "outputs": [
        {
          "output_type": "stream",
          "text": [
            "a:20, b:10\n",
            "The sum is 30\n",
            "a:4, b:2\n",
            "The sum is 6\n"
          ],
          "name": "stdout"
        }
      ]
    },
    {
      "cell_type": "code",
      "metadata": {
        "colab": {
          "base_uri": "https://localhost:8080/"
        },
        "id": "B4ReVci8WNXM",
        "outputId": "59c757c7-18e4-478e-93ca-f80f59ff0138"
      },
      "source": [
        "def add(b,a):\n",
        "  total = a + b\n",
        "  print(\"a:%d, b:%d\" %(a,b))\n",
        "  print(\"The sum is\", total)\n",
        "add(a=10,b=20)\n",
        "x = 2\n",
        "y = 4\n",
        "add(x,y)\n",
        "\n",
        "\n"
      ],
      "execution_count": null,
      "outputs": [
        {
          "output_type": "stream",
          "text": [
            "a:10, b:20\n",
            "The sum is 30\n",
            "a:4, b:2\n",
            "The sum is 6\n"
          ],
          "name": "stdout"
        }
      ]
    },
    {
      "cell_type": "code",
      "metadata": {
        "id": "f-yRILdJWTNU"
      },
      "source": [
        " "
      ],
      "execution_count": null,
      "outputs": []
    },
    {
      "cell_type": "markdown",
      "metadata": {
        "id": "gA6PcurtfaxG"
      },
      "source": [
        "# opps in python"
      ]
    },
    {
      "cell_type": "code",
      "metadata": {
        "colab": {
          "base_uri": "https://localhost:8080/"
        },
        "id": "tHqHKuutfckg",
        "outputId": "0c64a30a-a78c-45c1-ff84-e7f247d83658"
      },
      "source": [
        "class Reddy:\n",
        "  print(\"this is class\")\n",
        "  def display(self):\n",
        "    a = 10\n",
        "    b = 12\n",
        "    print(a,b)\n",
        "obj = Reddy()\n",
        "obj.display()"
      ],
      "execution_count": null,
      "outputs": [
        {
          "output_type": "stream",
          "text": [
            "this is class\n",
            "10 12\n"
          ],
          "name": "stdout"
        }
      ]
    },
    {
      "cell_type": "code",
      "metadata": {
        "colab": {
          "base_uri": "https://localhost:8080/"
        },
        "id": "rTL2JhqL2TwN",
        "outputId": "0e4a55b0-e1b4-4664-f8e5-479fba0a5505"
      },
      "source": [
        "class Reddy:\n",
        "  d = 12\n",
        "  def display(self):\n",
        "    a = 10\n",
        "    b = 12\n",
        "    print(a,b)\n",
        "obj = Reddy()\n",
        "obj.display()\n",
        "print(obj.d)"
      ],
      "execution_count": null,
      "outputs": [
        {
          "output_type": "stream",
          "text": [
            "10 12\n",
            "12\n"
          ],
          "name": "stdout"
        }
      ]
    },
    {
      "cell_type": "code",
      "metadata": {
        "colab": {
          "base_uri": "https://localhost:8080/"
        },
        "id": "jpDFtwk429Ll",
        "outputId": "3170709b-d19e-4311-c82c-b78522305316"
      },
      "source": [
        "class Mobile:\n",
        "  def __init__(self,Brand,battery,ram,camera,price):\n",
        "    self.Brand = Brand\n",
        "    self.battery = battery\n",
        "    self.ram = ram\n",
        "    self.camera = camera\n",
        "    self.price = price\n",
        "  def display(self):\n",
        "    print(\"Brand:\",self.Brand)\n",
        "    print(\"Battery:\",self.battery)\n",
        "    print(\"Ram:\",self.ram)\n",
        "    print(\"camera:\",self.camera)\n",
        "    print(\"Price:\",self.price)\n",
        "obj = Mobile(\"Realme\",'4500mah','4gb','32MP','12000')\n",
        "obj.display()"
      ],
      "execution_count": null,
      "outputs": [
        {
          "output_type": "stream",
          "text": [
            "Brand: Realme\n",
            "Battery: 4500mah\n",
            "Ram: 4gb\n",
            "camera: 32MP\n",
            "Price: 12000\n"
          ],
          "name": "stdout"
        }
      ]
    },
    {
      "cell_type": "code",
      "metadata": {
        "colab": {
          "base_uri": "https://localhost:8080/"
        },
        "id": "svFOaF7p6-xb",
        "outputId": "4c2df103-9e29-4e3b-e429-7fabe515ee60"
      },
      "source": [
        "class Mobile:\n",
        "  def __init__(self,Brand,battery,ram,camera,price):\n",
        "    self.Brand = Brand\n",
        "    self.battery = battery\n",
        "    self.ram = ram\n",
        "    self.camera = camera\n",
        "    self.price = price\n",
        "  def display(self):\n",
        "    print(\"Brand:\",self.Brand)\n",
        "    print(\"Battery:\",self.battery)\n",
        "    print(\"Ram:\",self.ram)\n",
        "    print(\"camera:\",self.camera)\n",
        "    print(\"Price:\",self.price)\n",
        "for i in range(5):\n",
        "  obj = Mobile(\"Realme\",'4500mah','4gb','32MP','12000')\n",
        "  obj.display()"
      ],
      "execution_count": null,
      "outputs": [
        {
          "output_type": "stream",
          "text": [
            "Brand: Realme\n",
            "Battery: 4500mah\n",
            "Ram: 4gb\n",
            "camera: 32MP\n",
            "Price: 12000\n",
            "Brand: Realme\n",
            "Battery: 4500mah\n",
            "Ram: 4gb\n",
            "camera: 32MP\n",
            "Price: 12000\n",
            "Brand: Realme\n",
            "Battery: 4500mah\n",
            "Ram: 4gb\n",
            "camera: 32MP\n",
            "Price: 12000\n",
            "Brand: Realme\n",
            "Battery: 4500mah\n",
            "Ram: 4gb\n",
            "camera: 32MP\n",
            "Price: 12000\n",
            "Brand: Realme\n",
            "Battery: 4500mah\n",
            "Ram: 4gb\n",
            "camera: 32MP\n",
            "Price: 12000\n"
          ],
          "name": "stdout"
        }
      ]
    },
    {
      "cell_type": "code",
      "metadata": {
        "colab": {
          "base_uri": "https://localhost:8080/"
        },
        "id": "M2WOJU9Q7X5t",
        "outputId": "9b6b8d18-7572-4676-c150-15c87e6d5cf6"
      },
      "source": [
        "class Mobile:\n",
        "  def __init__(self,Brand,battery,ram,camera,price):\n",
        "    self.Brand = Brand\n",
        "    self.battery = battery\n",
        "    self.ram = ram\n",
        "    self.camera = camera\n",
        "    self.price = price\n",
        "  def display(self):\n",
        "    print(\"Brand:\",self.Brand)\n",
        "    print(\"Battery:\",self.battery)\n",
        "    print(\"Ram:\",self.ram)\n",
        "    print(\"camera:\",self.camera)\n",
        "    print(\"Price:\",self.price)\n",
        "obj = Mobile(\"Realme\",'4500mah','4gb','32MP','12000')\n",
        "obj.display()\n",
        "obj2 = Mobile(\"Redmi\",'4500mah','4gb','48MP','15000')\n",
        "obj2.display()\n"
      ],
      "execution_count": null,
      "outputs": [
        {
          "output_type": "stream",
          "text": [
            "Brand: Realme\n",
            "Battery: 4500mah\n",
            "Ram: 4gb\n",
            "camera: 32MP\n",
            "Price: 12000\n",
            "Brand: Redmi\n",
            "Battery: 4500mah\n",
            "Ram: 4gb\n",
            "camera: 48MP\n",
            "Price: 15000\n"
          ],
          "name": "stdout"
        }
      ]
    },
    {
      "cell_type": "code",
      "metadata": {
        "colab": {
          "base_uri": "https://localhost:8080/"
        },
        "id": "YJvYZ_sM85r7",
        "outputId": "1a38cca4-feb7-42c4-fd33-e697f1569a29"
      },
      "source": [
        "class Mobile:\n",
        "  def __init__(self,Brand,battery,ram,camera,price):\n",
        "    self.Brand = Brand\n",
        "    self.battery = battery\n",
        "    self.ram = ram\n",
        "    self.camera = camera\n",
        "    self.price = price\n",
        "  def display(self):\n",
        "    print(\"Brand:\",self.Brand)\n",
        "    print(\"Battery:\",self.battery)\n",
        "    print(\"Ram:\",self.ram)\n",
        "    print(\"camera:\",self.camera)\n",
        "    print(\"Price:\",self.price)\n",
        "    print(\"--------------------\")\n",
        "obj = Mobile(\"Realme\",'4500mah','4gb','32MP','12000')\n",
        "obj.display()\n",
        "obj2 = Mobile(\"Redmi\",'4500mah','4gb','48MP','15000')\n",
        "obj2.display()\n"
      ],
      "execution_count": null,
      "outputs": [
        {
          "output_type": "stream",
          "text": [
            "Brand: Realme\n",
            "Battery: 4500mah\n",
            "Ram: 4gb\n",
            "camera: 32MP\n",
            "Price: 12000\n",
            "--------------------\n",
            "Brand: Redmi\n",
            "Battery: 4500mah\n",
            "Ram: 4gb\n",
            "camera: 48MP\n",
            "Price: 15000\n",
            "--------------------\n"
          ],
          "name": "stdout"
        }
      ]
    },
    {
      "cell_type": "code",
      "metadata": {
        "colab": {
          "base_uri": "https://localhost:8080/"
        },
        "id": "muVFsA6U9JLR",
        "outputId": "e90756ca-d384-497f-e626-209b8ca214f7"
      },
      "source": [
        "class Mobile:\n",
        "  def __init__(self):\n",
        "    print(\"this is init\")\n",
        "  def display(self):\n",
        "    print(\"this method\")\n",
        "obj = Mobile()"
      ],
      "execution_count": null,
      "outputs": [
        {
          "output_type": "stream",
          "text": [
            "this is init\n"
          ],
          "name": "stdout"
        }
      ]
    },
    {
      "cell_type": "code",
      "metadata": {
        "colab": {
          "base_uri": "https://localhost:8080/"
        },
        "id": "E-NHAzhF-5en",
        "outputId": "69bac137-767e-483e-f9b2-1a9bdb0b930b"
      },
      "source": [
        "class Mobile:\n",
        "  def __init__(self):\n",
        "    print(\"this is init\")\n",
        "  def display(self):\n",
        "    print(\"this method\")\n",
        "obj = Mobile()\n",
        "obj.display()"
      ],
      "execution_count": null,
      "outputs": [
        {
          "output_type": "stream",
          "text": [
            "this is init\n",
            "this method\n"
          ],
          "name": "stdout"
        }
      ]
    },
    {
      "cell_type": "code",
      "metadata": {
        "id": "Yz9vW9Vm-99p"
      },
      "source": [
        "class Mobile:\n",
        "  def __init__(self):\n",
        "    print(\"this is init\")\n",
        "  def display(self):\n",
        "    print(\"this method\")\n",
        "#obj = Mobile()"
      ],
      "execution_count": null,
      "outputs": []
    },
    {
      "cell_type": "markdown",
      "metadata": {
        "id": "xja2gb_8IhNu"
      },
      "source": [
        "# INHERITANCE"
      ]
    },
    {
      "cell_type": "markdown",
      "metadata": {
        "id": "b-hjmCvmakIV"
      },
      "source": [
        "# single"
      ]
    },
    {
      "cell_type": "code",
      "metadata": {
        "id": "1jjjqBk9_NqP",
        "colab": {
          "base_uri": "https://localhost:8080/"
        },
        "outputId": "e00ef9a5-f7a9-401a-e619-2b98e6a088f3"
      },
      "source": [
        "class Parent:\n",
        "  def fun1(self):\n",
        "    print(\"this is parent class\")\n",
        "class Child(Parent):\n",
        "  def fun2(self):\n",
        "    print(\"this is child class\")\n",
        "obj = Child()\n",
        "obj.fun2()\n",
        "obj.fun1()"
      ],
      "execution_count": null,
      "outputs": [
        {
          "output_type": "stream",
          "text": [
            "this is child class\n",
            "this is parent class\n"
          ],
          "name": "stdout"
        }
      ]
    },
    {
      "cell_type": "markdown",
      "metadata": {
        "id": "3_ltAjfBaoZf"
      },
      "source": [
        "# multilevel"
      ]
    },
    {
      "cell_type": "code",
      "metadata": {
        "id": "2a4pBzwcbv35",
        "colab": {
          "base_uri": "https://localhost:8080/"
        },
        "outputId": "52f3d39b-df9a-4919-dad6-d7a515e9a057"
      },
      "source": [
        "class Parent:\n",
        "  def fun1(self):\n",
        "    print(\"this is parent class\")\n",
        "class Child(Parent):\n",
        "  def fun2(self):\n",
        "    print(\"this is child class\")\n",
        "class GrandChild(Child):\n",
        "  def fun3(self):\n",
        "    print(\"this is Grandchild class\")\n",
        "obj = GrandChild()\n",
        "obj.fun3()\n",
        "obj.fun2()\n",
        "obj.fun1()"
      ],
      "execution_count": null,
      "outputs": [
        {
          "output_type": "stream",
          "text": [
            "this is Grandchild class\n",
            "this is child class\n",
            "this is parent class\n"
          ],
          "name": "stdout"
        }
      ]
    },
    {
      "cell_type": "code",
      "metadata": {
        "colab": {
          "base_uri": "https://localhost:8080/"
        },
        "id": "H3NfBXF0R1I8",
        "outputId": "2bd8734d-849d-4203-b563-f6b7e20526e3"
      },
      "source": [
        "class Parent:\n",
        "  def fun1(self):\n",
        "    print(\"this is parent class\")\n",
        "class Child(Parent):\n",
        "  def fun2(self):\n",
        "    print(\"this is child class\")\n",
        "class GrandChild(Child):\n",
        "  def fun3(self):\n",
        "    print(\"this is Grandchild class\")\n",
        "obj = GrandChild()\n",
        "obj.fun1()\n",
        "obj.fun2()\n",
        "obj.fun3()"
      ],
      "execution_count": null,
      "outputs": [
        {
          "output_type": "stream",
          "text": [
            "this is parent class\n",
            "this is child class\n",
            "this is Grandchild class\n"
          ],
          "name": "stdout"
        }
      ]
    },
    {
      "cell_type": "markdown",
      "metadata": {
        "id": "W3KyIGqEaxz3"
      },
      "source": [
        "# HIERARECHICAL"
      ]
    },
    {
      "cell_type": "code",
      "metadata": {
        "colab": {
          "base_uri": "https://localhost:8080/"
        },
        "id": "l5pgsHKJSNmo",
        "outputId": "822fa137-06a4-4e48-c070-ee16394d8bed"
      },
      "source": [
        "class Parent:\n",
        "  def fun1(self):\n",
        "    print(\"this is parent class\")\n",
        "class Child1(Parent):\n",
        "  def fun2(self):\n",
        "    print(\"this is child class\")\n",
        "class Child2(Parent):\n",
        "  def fun3(self):\n",
        "    print(\"this is child2 class\")\n",
        "obj = Child1()\n",
        "obj.fun1()\n",
        "obj.fun2()\n",
        "obj = Child2()\n",
        "obj.fun3()"
      ],
      "execution_count": null,
      "outputs": [
        {
          "output_type": "stream",
          "text": [
            "this is parent class\n",
            "this is child class\n",
            "this is child2 class\n"
          ],
          "name": "stdout"
        }
      ]
    },
    {
      "cell_type": "markdown",
      "metadata": {
        "id": "cCwtgpLba-n1"
      },
      "source": [
        "# Multiple"
      ]
    },
    {
      "cell_type": "code",
      "metadata": {
        "colab": {
          "base_uri": "https://localhost:8080/"
        },
        "id": "vCUFbnRQTrmh",
        "outputId": "8156ad98-64bc-4d11-e91c-32d9bd45cb79"
      },
      "source": [
        "class Father:\n",
        "  def fun1(self):\n",
        "    print(\"this is father calss\")\n",
        "class Mother:\n",
        "  def fun2(self):\n",
        "    print(\"this is mother class\")\n",
        "class Child(Father, Mother):\n",
        "  def fun3(self):\n",
        "    print(\"this is child class\")\n",
        "obj = Child()\n",
        "obj.fun1()\n",
        "obj.fun2()\n",
        "obj.fun3()"
      ],
      "execution_count": null,
      "outputs": [
        {
          "output_type": "stream",
          "text": [
            "this is father calss\n",
            "this is mother class\n",
            "this is child class\n"
          ],
          "name": "stdout"
        }
      ]
    },
    {
      "cell_type": "markdown",
      "metadata": {
        "id": "JqbPL1FVbMxR"
      },
      "source": [
        "# Super "
      ]
    },
    {
      "cell_type": "code",
      "metadata": {
        "colab": {
          "base_uri": "https://localhost:8080/"
        },
        "id": "YYyT6zr3Vtre",
        "outputId": "e893c8fe-a2ba-4d88-fa65-7252e37a1837"
      },
      "source": [
        "class A:\n",
        "  def __init__(self):\n",
        "    print(\"this is class a\")\n",
        "  def fun1(self):\n",
        "    print(\"this is first class\")\n",
        "class B(A):\n",
        "  def __init__(self):\n",
        "    print(\"this is class b\")\n",
        "  def fun2(self):\n",
        "    print(\"this is second class\")\n",
        "obj = B()\n"
      ],
      "execution_count": null,
      "outputs": [
        {
          "output_type": "stream",
          "text": [
            "this is class b\n"
          ],
          "name": "stdout"
        }
      ]
    },
    {
      "cell_type": "code",
      "metadata": {
        "colab": {
          "base_uri": "https://localhost:8080/"
        },
        "id": "3AJjMDcBY7uk",
        "outputId": "98a598cf-5569-4899-8747-c5c7faf6888a"
      },
      "source": [
        "class A:\n",
        "  def __init__(self):\n",
        "    print(\"this is class a\")\n",
        "  def fun1(self):\n",
        "    print(\"this is first class\")\n",
        "class B(A):\n",
        "  def __init__(self):\n",
        "    print(\"this is class b\")\n",
        "\n",
        "    super().__init__()\n",
        "    \n",
        "\n",
        "  def fun2(self):\n",
        "    print(\"this is second class\")\n",
        "obj = B()\n"
      ],
      "execution_count": null,
      "outputs": [
        {
          "output_type": "stream",
          "text": [
            "this is class b\n",
            "this is class a\n"
          ],
          "name": "stdout"
        }
      ]
    },
    {
      "cell_type": "code",
      "metadata": {
        "id": "4Z5sYQ7_ZMxz"
      },
      "source": [
        ""
      ],
      "execution_count": null,
      "outputs": []
    },
    {
      "cell_type": "markdown",
      "metadata": {
        "id": "Kbx2pgqeZIto"
      },
      "source": [
        "# POLYMORPHISM"
      ]
    },
    {
      "cell_type": "markdown",
      "metadata": {
        "id": "5xiVldrEjTa3"
      },
      "source": [
        "# Method over loading"
      ]
    },
    {
      "cell_type": "code",
      "metadata": {
        "id": "EnD4EXSuZN9-",
        "colab": {
          "base_uri": "https://localhost:8080/",
          "height": 195
        },
        "outputId": "b8d7c05e-30e8-4269-a298-20a1bf7df655"
      },
      "source": [
        "class A:\n",
        "  def sum(self, a, b):\n",
        "    return a + b\n",
        "  def sum(self, a, b, c):\n",
        "    return  a + b + c\n",
        "obj = A()\n",
        "print(obj.sum(1,2))"
      ],
      "execution_count": 1,
      "outputs": [
        {
          "output_type": "error",
          "ename": "TypeError",
          "evalue": "ignored",
          "traceback": [
            "\u001b[0;31m---------------------------------------------------------------------------\u001b[0m",
            "\u001b[0;31mTypeError\u001b[0m                                 Traceback (most recent call last)",
            "\u001b[0;32m<ipython-input-1-4f549026b30b>\u001b[0m in \u001b[0;36m<module>\u001b[0;34m()\u001b[0m\n\u001b[1;32m      5\u001b[0m     \u001b[0;32mreturn\u001b[0m  \u001b[0ma\u001b[0m \u001b[0;34m+\u001b[0m \u001b[0mb\u001b[0m \u001b[0;34m+\u001b[0m \u001b[0mc\u001b[0m\u001b[0;34m\u001b[0m\u001b[0;34m\u001b[0m\u001b[0m\n\u001b[1;32m      6\u001b[0m \u001b[0mobj\u001b[0m \u001b[0;34m=\u001b[0m \u001b[0mA\u001b[0m\u001b[0;34m(\u001b[0m\u001b[0;34m)\u001b[0m\u001b[0;34m\u001b[0m\u001b[0;34m\u001b[0m\u001b[0m\n\u001b[0;32m----> 7\u001b[0;31m \u001b[0mprint\u001b[0m\u001b[0;34m(\u001b[0m\u001b[0mobj\u001b[0m\u001b[0;34m.\u001b[0m\u001b[0msum\u001b[0m\u001b[0;34m(\u001b[0m\u001b[0;36m1\u001b[0m\u001b[0;34m,\u001b[0m\u001b[0;36m2\u001b[0m\u001b[0;34m)\u001b[0m\u001b[0;34m)\u001b[0m\u001b[0;34m\u001b[0m\u001b[0;34m\u001b[0m\u001b[0m\n\u001b[0m",
            "\u001b[0;31mTypeError\u001b[0m: sum() missing 1 required positional argument: 'c'"
          ]
        }
      ]
    },
    {
      "cell_type": "code",
      "metadata": {
        "colab": {
          "base_uri": "https://localhost:8080/"
        },
        "id": "rxf_SAIpffrm",
        "outputId": "6295de2c-b83b-4c37-c8ce-6651a94ed106"
      },
      "source": [
        "class A:\n",
        "  def sum(self, a, b):\n",
        "    return a + b\n",
        "  def sum(self, a, b, c):\n",
        "    return  a + b + c\n",
        "obj = A()\n",
        "print(obj.sum(1,2,3))"
      ],
      "execution_count": 2,
      "outputs": [
        {
          "output_type": "stream",
          "text": [
            "6\n"
          ],
          "name": "stdout"
        }
      ]
    },
    {
      "cell_type": "code",
      "metadata": {
        "colab": {
          "base_uri": "https://localhost:8080/"
        },
        "id": "xaERmFdIflt5",
        "outputId": "156158eb-02f7-4a88-93ab-00b22a261a6e"
      },
      "source": [
        "class A:\n",
        "  def sum(self, a, b):\n",
        "    return a + b\n",
        "  def sum(self, a, b, c=4):\n",
        "    return  a + b + c\n",
        "obj = A()\n",
        "print(obj.sum(1,2,))\n",
        "\n"
      ],
      "execution_count": 3,
      "outputs": [
        {
          "output_type": "stream",
          "text": [
            "7\n"
          ],
          "name": "stdout"
        }
      ]
    },
    {
      "cell_type": "code",
      "metadata": {
        "colab": {
          "base_uri": "https://localhost:8080/"
        },
        "id": "0dxeNcUSfsKW",
        "outputId": "31aadb93-e619-4ef8-e0bb-c5114e215f20"
      },
      "source": [
        "class A:\n",
        "  def sum(self, a, b):\n",
        "    return a + b\n",
        "  def sum(self, a, b, c=5):\n",
        "    return  a + b + c\n",
        "obj = A()\n",
        "print(obj.sum(1,2,3))"
      ],
      "execution_count": 4,
      "outputs": [
        {
          "output_type": "stream",
          "text": [
            "6\n"
          ],
          "name": "stdout"
        }
      ]
    },
    {
      "cell_type": "code",
      "metadata": {
        "id": "zYFArSwqfwbc"
      },
      "source": [
        ""
      ],
      "execution_count": null,
      "outputs": []
    },
    {
      "cell_type": "markdown",
      "metadata": {
        "id": "nU1TI5qwg6ZH"
      },
      "source": [
        "# Method over riding"
      ]
    },
    {
      "cell_type": "code",
      "metadata": {
        "colab": {
          "base_uri": "https://localhost:8080/"
        },
        "id": "oBwBryVUhQr8",
        "outputId": "8dbc7e15-0062-4b9c-d3d7-b80ad7401300"
      },
      "source": [
        "class A:\n",
        "  def display(self):\n",
        "    print(\"this is class A\")\n",
        "class B(A):  \n",
        "  def display(self):\n",
        "    print(\"this is class B\")\n",
        "obj = B()\n",
        "obj.display()"
      ],
      "execution_count": 5,
      "outputs": [
        {
          "output_type": "stream",
          "text": [
            "this is class B\n"
          ],
          "name": "stdout"
        }
      ]
    },
    {
      "cell_type": "code",
      "metadata": {
        "colab": {
          "base_uri": "https://localhost:8080/"
        },
        "id": "4IsfbNVGioM4",
        "outputId": "7e05743f-7edc-46fe-fea3-8fbbf5d5ab8f"
      },
      "source": [
        "class A:\n",
        "  def display(self):\n",
        "    print(\"this is class A\")\n",
        "class B(A):  \n",
        "  def display(self):\n",
        "    print(\"this is class B\")\n",
        "    super().display()\n",
        "obj = B()\n",
        "obj.display()"
      ],
      "execution_count": 6,
      "outputs": [
        {
          "output_type": "stream",
          "text": [
            "this is class B\n",
            "this is class A\n"
          ],
          "name": "stdout"
        }
      ]
    },
    {
      "cell_type": "code",
      "metadata": {
        "id": "pOSzQyOgi4cs"
      },
      "source": [
        ""
      ],
      "execution_count": null,
      "outputs": []
    },
    {
      "cell_type": "markdown",
      "metadata": {
        "id": "i-ABhoPmqZ57"
      },
      "source": [
        "# NUMPY"
      ]
    },
    {
      "cell_type": "code",
      "metadata": {
        "id": "hzjEPMCoqb4q"
      },
      "source": [
        "import numpy as np\n"
      ],
      "execution_count": 19,
      "outputs": []
    },
    {
      "cell_type": "code",
      "metadata": {
        "id": "bLY2cLebtD6N"
      },
      "source": [
        "a = np.array([1,2,3])"
      ],
      "execution_count": 8,
      "outputs": []
    },
    {
      "cell_type": "code",
      "metadata": {
        "colab": {
          "base_uri": "https://localhost:8080/"
        },
        "id": "GWYR1Iq4twHQ",
        "outputId": "0689e7d2-f8c4-493c-f8d3-9afe9b22bbd9"
      },
      "source": [
        "a"
      ],
      "execution_count": 9,
      "outputs": [
        {
          "output_type": "execute_result",
          "data": {
            "text/plain": [
              "array([1, 2, 3])"
            ]
          },
          "metadata": {
            "tags": []
          },
          "execution_count": 9
        }
      ]
    },
    {
      "cell_type": "code",
      "metadata": {
        "colab": {
          "base_uri": "https://localhost:8080/"
        },
        "id": "DaoZsIKWtw-_",
        "outputId": "b063ebe1-1aa0-4c24-9f67-5024c6878dab"
      },
      "source": [
        "a[0]"
      ],
      "execution_count": 10,
      "outputs": [
        {
          "output_type": "execute_result",
          "data": {
            "text/plain": [
              "1"
            ]
          },
          "metadata": {
            "tags": []
          },
          "execution_count": 10
        }
      ]
    },
    {
      "cell_type": "code",
      "metadata": {
        "colab": {
          "base_uri": "https://localhost:8080/"
        },
        "id": "d22H4XKqt2HT",
        "outputId": "bb52dc31-f181-4ddd-d8d5-2a906afcdbce"
      },
      "source": [
        "a[2]"
      ],
      "execution_count": 11,
      "outputs": [
        {
          "output_type": "execute_result",
          "data": {
            "text/plain": [
              "3"
            ]
          },
          "metadata": {
            "tags": []
          },
          "execution_count": 11
        }
      ]
    },
    {
      "cell_type": "code",
      "metadata": {
        "colab": {
          "base_uri": "https://localhost:8080/"
        },
        "id": "0Z8tPcyRt3cZ",
        "outputId": "74c3a4b2-dca9-471d-e52a-75331d5b5d04"
      },
      "source": [
        "a[-1]"
      ],
      "execution_count": 12,
      "outputs": [
        {
          "output_type": "execute_result",
          "data": {
            "text/plain": [
              "3"
            ]
          },
          "metadata": {
            "tags": []
          },
          "execution_count": 12
        }
      ]
    },
    {
      "cell_type": "code",
      "metadata": {
        "id": "e-9QE7nIt5EH"
      },
      "source": [
        "import time\n",
        "import sys"
      ],
      "execution_count": 13,
      "outputs": []
    },
    {
      "cell_type": "code",
      "metadata": {
        "colab": {
          "base_uri": "https://localhost:8080/"
        },
        "id": "IkqMcBIEvKIo",
        "outputId": "2011281c-ad18-4ef7-c18e-2d65c9086a76"
      },
      "source": [
        "b = range(1000)\n",
        "print(sys.getsizeof(5)* len(b))"
      ],
      "execution_count": 14,
      "outputs": [
        {
          "output_type": "stream",
          "text": [
            "28000\n"
          ],
          "name": "stdout"
        }
      ]
    },
    {
      "cell_type": "code",
      "metadata": {
        "colab": {
          "base_uri": "https://localhost:8080/"
        },
        "id": "kLl8woJIvVpU",
        "outputId": "0ef89e6c-dcde-4b81-9382-25f2710f9692"
      },
      "source": [
        "c = np.arange(1000)\n",
        "print(c.size*c.itemsize)"
      ],
      "execution_count": 16,
      "outputs": [
        {
          "output_type": "stream",
          "text": [
            "8000\n"
          ],
          "name": "stdout"
        }
      ]
    },
    {
      "cell_type": "code",
      "metadata": {
        "id": "1E52n1TbvfFv"
      },
      "source": [
        "size = 10000"
      ],
      "execution_count": 17,
      "outputs": []
    },
    {
      "cell_type": "code",
      "metadata": {
        "id": "59flwI2LwQib"
      },
      "source": [
        "l1 = range(size)\n",
        "l2 = range(size)\n",
        "a1 = np.arange(size)\n",
        "a2 = np.arange(size)"
      ],
      "execution_count": 21,
      "outputs": []
    },
    {
      "cell_type": "code",
      "metadata": {
        "colab": {
          "base_uri": "https://localhost:8080/"
        },
        "id": "hPVZSVM5wbXO",
        "outputId": "f9a51d99-94ad-475a-b402-5b72149078da"
      },
      "source": [
        "start = time.time()\n",
        "result = [(x + y) for x,y in zip(l1,l2)]\n",
        "print((\"python list look: \", time.time()-start)*1000)\n"
      ],
      "execution_count": 24,
      "outputs": [
        {
          "output_type": "stream",
          "text": [
            "('python list look: ', 0.001424551010131836, 'python list look: ', 0.001424551010131836, 'python list look: ', 0.001424551010131836, 'python list look: ', 0.001424551010131836, 'python list look: ', 0.001424551010131836, 'python list look: ', 0.001424551010131836, 'python list look: ', 0.001424551010131836, 'python list look: ', 0.001424551010131836, 'python list look: ', 0.001424551010131836, 'python list look: ', 0.001424551010131836, 'python list look: ', 0.001424551010131836, 'python list look: ', 0.001424551010131836, 'python list look: ', 0.001424551010131836, 'python list look: ', 0.001424551010131836, 'python list look: ', 0.001424551010131836, 'python list look: ', 0.001424551010131836, 'python list look: ', 0.001424551010131836, 'python list look: ', 0.001424551010131836, 'python list look: ', 0.001424551010131836, 'python list look: ', 0.001424551010131836, 'python list look: ', 0.001424551010131836, 'python list look: ', 0.001424551010131836, 'python list look: ', 0.001424551010131836, 'python list look: ', 0.001424551010131836, 'python list look: ', 0.001424551010131836, 'python list look: ', 0.001424551010131836, 'python list look: ', 0.001424551010131836, 'python list look: ', 0.001424551010131836, 'python list look: ', 0.001424551010131836, 'python list look: ', 0.001424551010131836, 'python list look: ', 0.001424551010131836, 'python list look: ', 0.001424551010131836, 'python list look: ', 0.001424551010131836, 'python list look: ', 0.001424551010131836, 'python list look: ', 0.001424551010131836, 'python list look: ', 0.001424551010131836, 'python list look: ', 0.001424551010131836, 'python list look: ', 0.001424551010131836, 'python list look: ', 0.001424551010131836, 'python list look: ', 0.001424551010131836, 'python list look: ', 0.001424551010131836, 'python list look: ', 0.001424551010131836, 'python list look: ', 0.001424551010131836, 'python list look: ', 0.001424551010131836, 'python list look: ', 0.001424551010131836, 'python list look: ', 0.001424551010131836, 'python list look: ', 0.001424551010131836, 'python list look: ', 0.001424551010131836, 'python list look: ', 0.001424551010131836, 'python list look: ', 0.001424551010131836, 'python list look: ', 0.001424551010131836, 'python list look: ', 0.001424551010131836, 'python list look: ', 0.001424551010131836, 'python list look: ', 0.001424551010131836, 'python list look: ', 0.001424551010131836, 'python list look: ', 0.001424551010131836, 'python list look: ', 0.001424551010131836, 'python list look: ', 0.001424551010131836, 'python list look: ', 0.001424551010131836, 'python list look: ', 0.001424551010131836, 'python list look: ', 0.001424551010131836, 'python list look: ', 0.001424551010131836, 'python list look: ', 0.001424551010131836, 'python list look: ', 0.001424551010131836, 'python list look: ', 0.001424551010131836, 'python list look: ', 0.001424551010131836, 'python list look: ', 0.001424551010131836, 'python list look: ', 0.001424551010131836, 'python list look: ', 0.001424551010131836, 'python list look: ', 0.001424551010131836, 'python list look: ', 0.001424551010131836, 'python list look: ', 0.001424551010131836, 'python list look: ', 0.001424551010131836, 'python list look: ', 0.001424551010131836, 'python list look: ', 0.001424551010131836, 'python list look: ', 0.001424551010131836, 'python list look: ', 0.001424551010131836, 'python list look: ', 0.001424551010131836, 'python list look: ', 0.001424551010131836, 'python list look: ', 0.001424551010131836, 'python list look: ', 0.001424551010131836, 'python list look: ', 0.001424551010131836, 'python list look: ', 0.001424551010131836, 'python list look: ', 0.001424551010131836, 'python list look: ', 0.001424551010131836, 'python list look: ', 0.001424551010131836, 'python list look: ', 0.001424551010131836, 'python list look: ', 0.001424551010131836, 'python list look: ', 0.001424551010131836, 'python list look: ', 0.001424551010131836, 'python list look: ', 0.001424551010131836, 'python list look: ', 0.001424551010131836, 'python list look: ', 0.001424551010131836, 'python list look: ', 0.001424551010131836, 'python list look: ', 0.001424551010131836, 'python list look: ', 0.001424551010131836, 'python list look: ', 0.001424551010131836, 'python list look: ', 0.001424551010131836, 'python list look: ', 0.001424551010131836, 'python list look: ', 0.001424551010131836, 'python list look: ', 0.001424551010131836, 'python list look: ', 0.001424551010131836, 'python list look: ', 0.001424551010131836, 'python list look: ', 0.001424551010131836, 'python list look: ', 0.001424551010131836, 'python list look: ', 0.001424551010131836, 'python list look: ', 0.001424551010131836, 'python list look: ', 0.001424551010131836, 'python list look: ', 0.001424551010131836, 'python list look: ', 0.001424551010131836, 'python list look: ', 0.001424551010131836, 'python list look: ', 0.001424551010131836, 'python list look: ', 0.001424551010131836, 'python list look: ', 0.001424551010131836, 'python list look: ', 0.001424551010131836, 'python list look: ', 0.001424551010131836, 'python list look: ', 0.001424551010131836, 'python list look: ', 0.001424551010131836, 'python list look: ', 0.001424551010131836, 'python list look: ', 0.001424551010131836, 'python list look: ', 0.001424551010131836, 'python list look: ', 0.001424551010131836, 'python list look: ', 0.001424551010131836, 'python list look: ', 0.001424551010131836, 'python list look: ', 0.001424551010131836, 'python list look: ', 0.001424551010131836, 'python list look: ', 0.001424551010131836, 'python list look: ', 0.001424551010131836, 'python list look: ', 0.001424551010131836, 'python list look: ', 0.001424551010131836, 'python list look: ', 0.001424551010131836, 'python list look: ', 0.001424551010131836, 'python list look: ', 0.001424551010131836, 'python list look: ', 0.001424551010131836, 'python list look: ', 0.001424551010131836, 'python list look: ', 0.001424551010131836, 'python list look: ', 0.001424551010131836, 'python list look: ', 0.001424551010131836, 'python list look: ', 0.001424551010131836, 'python list look: ', 0.001424551010131836, 'python list look: ', 0.001424551010131836, 'python list look: ', 0.001424551010131836, 'python list look: ', 0.001424551010131836, 'python list look: ', 0.001424551010131836, 'python list look: ', 0.001424551010131836, 'python list look: ', 0.001424551010131836, 'python list look: ', 0.001424551010131836, 'python list look: ', 0.001424551010131836, 'python list look: ', 0.001424551010131836, 'python list look: ', 0.001424551010131836, 'python list look: ', 0.001424551010131836, 'python list look: ', 0.001424551010131836, 'python list look: ', 0.001424551010131836, 'python list look: ', 0.001424551010131836, 'python list look: ', 0.001424551010131836, 'python list look: ', 0.001424551010131836, 'python list look: ', 0.001424551010131836, 'python list look: ', 0.001424551010131836, 'python list look: ', 0.001424551010131836, 'python list look: ', 0.001424551010131836, 'python list look: ', 0.001424551010131836, 'python list look: ', 0.001424551010131836, 'python list look: ', 0.001424551010131836, 'python list look: ', 0.001424551010131836, 'python list look: ', 0.001424551010131836, 'python list look: ', 0.001424551010131836, 'python list look: ', 0.001424551010131836, 'python list look: ', 0.001424551010131836, 'python list look: ', 0.001424551010131836, 'python list look: ', 0.001424551010131836, 'python list look: ', 0.001424551010131836, 'python list look: ', 0.001424551010131836, 'python list look: ', 0.001424551010131836, 'python list look: ', 0.001424551010131836, 'python list look: ', 0.001424551010131836, 'python list look: ', 0.001424551010131836, 'python list look: ', 0.001424551010131836, 'python list look: ', 0.001424551010131836, 'python list look: ', 0.001424551010131836, 'python list look: ', 0.001424551010131836, 'python list look: ', 0.001424551010131836, 'python list look: ', 0.001424551010131836, 'python list look: ', 0.001424551010131836, 'python list look: ', 0.001424551010131836, 'python list look: ', 0.001424551010131836, 'python list look: ', 0.001424551010131836, 'python list look: ', 0.001424551010131836, 'python list look: ', 0.001424551010131836, 'python list look: ', 0.001424551010131836, 'python list look: ', 0.001424551010131836, 'python list look: ', 0.001424551010131836, 'python list look: ', 0.001424551010131836, 'python list look: ', 0.001424551010131836, 'python list look: ', 0.001424551010131836, 'python list look: ', 0.001424551010131836, 'python list look: ', 0.001424551010131836, 'python list look: ', 0.001424551010131836, 'python list look: ', 0.001424551010131836, 'python list look: ', 0.001424551010131836, 'python list look: ', 0.001424551010131836, 'python list look: ', 0.001424551010131836, 'python list look: ', 0.001424551010131836, 'python list look: ', 0.001424551010131836, 'python list look: ', 0.001424551010131836, 'python list look: ', 0.001424551010131836, 'python list look: ', 0.001424551010131836, 'python list look: ', 0.001424551010131836, 'python list look: ', 0.001424551010131836, 'python list look: ', 0.001424551010131836, 'python list look: ', 0.001424551010131836, 'python list look: ', 0.001424551010131836, 'python list look: ', 0.001424551010131836, 'python list look: ', 0.001424551010131836, 'python list look: ', 0.001424551010131836, 'python list look: ', 0.001424551010131836, 'python list look: ', 0.001424551010131836, 'python list look: ', 0.001424551010131836, 'python list look: ', 0.001424551010131836, 'python list look: ', 0.001424551010131836, 'python list look: ', 0.001424551010131836, 'python list look: ', 0.001424551010131836, 'python list look: ', 0.001424551010131836, 'python list look: ', 0.001424551010131836, 'python list look: ', 0.001424551010131836, 'python list look: ', 0.001424551010131836, 'python list look: ', 0.001424551010131836, 'python list look: ', 0.001424551010131836, 'python list look: ', 0.001424551010131836, 'python list look: ', 0.001424551010131836, 'python list look: ', 0.001424551010131836, 'python list look: ', 0.001424551010131836, 'python list look: ', 0.001424551010131836, 'python list look: ', 0.001424551010131836, 'python list look: ', 0.001424551010131836, 'python list look: ', 0.001424551010131836, 'python list look: ', 0.001424551010131836, 'python list look: ', 0.001424551010131836, 'python list look: ', 0.001424551010131836, 'python list look: ', 0.001424551010131836, 'python list look: ', 0.001424551010131836, 'python list look: ', 0.001424551010131836, 'python list look: ', 0.001424551010131836, 'python list look: ', 0.001424551010131836, 'python list look: ', 0.001424551010131836, 'python list look: ', 0.001424551010131836, 'python list look: ', 0.001424551010131836, 'python list look: ', 0.001424551010131836, 'python list look: ', 0.001424551010131836, 'python list look: ', 0.001424551010131836, 'python list look: ', 0.001424551010131836, 'python list look: ', 0.001424551010131836, 'python list look: ', 0.001424551010131836, 'python list look: ', 0.001424551010131836, 'python list look: ', 0.001424551010131836, 'python list look: ', 0.001424551010131836, 'python list look: ', 0.001424551010131836, 'python list look: ', 0.001424551010131836, 'python list look: ', 0.001424551010131836, 'python list look: ', 0.001424551010131836, 'python list look: ', 0.001424551010131836, 'python list look: ', 0.001424551010131836, 'python list look: ', 0.001424551010131836, 'python list look: ', 0.001424551010131836, 'python list look: ', 0.001424551010131836, 'python list look: ', 0.001424551010131836, 'python list look: ', 0.001424551010131836, 'python list look: ', 0.001424551010131836, 'python list look: ', 0.001424551010131836, 'python list look: ', 0.001424551010131836, 'python list look: ', 0.001424551010131836, 'python list look: ', 0.001424551010131836, 'python list look: ', 0.001424551010131836, 'python list look: ', 0.001424551010131836, 'python list look: ', 0.001424551010131836, 'python list look: ', 0.001424551010131836, 'python list look: ', 0.001424551010131836, 'python list look: ', 0.001424551010131836, 'python list look: ', 0.001424551010131836, 'python list look: ', 0.001424551010131836, 'python list look: ', 0.001424551010131836, 'python list look: ', 0.001424551010131836, 'python list look: ', 0.001424551010131836, 'python list look: ', 0.001424551010131836, 'python list look: ', 0.001424551010131836, 'python list look: ', 0.001424551010131836, 'python list look: ', 0.001424551010131836, 'python list look: ', 0.001424551010131836, 'python list look: ', 0.001424551010131836, 'python list look: ', 0.001424551010131836, 'python list look: ', 0.001424551010131836, 'python list look: ', 0.001424551010131836, 'python list look: ', 0.001424551010131836, 'python list look: ', 0.001424551010131836, 'python list look: ', 0.001424551010131836, 'python list look: ', 0.001424551010131836, 'python list look: ', 0.001424551010131836, 'python list look: ', 0.001424551010131836, 'python list look: ', 0.001424551010131836, 'python list look: ', 0.001424551010131836, 'python list look: ', 0.001424551010131836, 'python list look: ', 0.001424551010131836, 'python list look: ', 0.001424551010131836, 'python list look: ', 0.001424551010131836, 'python list look: ', 0.001424551010131836, 'python list look: ', 0.001424551010131836, 'python list look: ', 0.001424551010131836, 'python list look: ', 0.001424551010131836, 'python list look: ', 0.001424551010131836, 'python list look: ', 0.001424551010131836, 'python list look: ', 0.001424551010131836, 'python list look: ', 0.001424551010131836, 'python list look: ', 0.001424551010131836, 'python list look: ', 0.001424551010131836, 'python list look: ', 0.001424551010131836, 'python list look: ', 0.001424551010131836, 'python list look: ', 0.001424551010131836, 'python list look: ', 0.001424551010131836, 'python list look: ', 0.001424551010131836, 'python list look: ', 0.001424551010131836, 'python list look: ', 0.001424551010131836, 'python list look: ', 0.001424551010131836, 'python list look: ', 0.001424551010131836, 'python list look: ', 0.001424551010131836, 'python list look: ', 0.001424551010131836, 'python list look: ', 0.001424551010131836, 'python list look: ', 0.001424551010131836, 'python list look: ', 0.001424551010131836, 'python list look: ', 0.001424551010131836, 'python list look: ', 0.001424551010131836, 'python list look: ', 0.001424551010131836, 'python list look: ', 0.001424551010131836, 'python list look: ', 0.001424551010131836, 'python list look: ', 0.001424551010131836, 'python list look: ', 0.001424551010131836, 'python list look: ', 0.001424551010131836, 'python list look: ', 0.001424551010131836, 'python list look: ', 0.001424551010131836, 'python list look: ', 0.001424551010131836, 'python list look: ', 0.001424551010131836, 'python list look: ', 0.001424551010131836, 'python list look: ', 0.001424551010131836, 'python list look: ', 0.001424551010131836, 'python list look: ', 0.001424551010131836, 'python list look: ', 0.001424551010131836, 'python list look: ', 0.001424551010131836, 'python list look: ', 0.001424551010131836, 'python list look: ', 0.001424551010131836, 'python list look: ', 0.001424551010131836, 'python list look: ', 0.001424551010131836, 'python list look: ', 0.001424551010131836, 'python list look: ', 0.001424551010131836, 'python list look: ', 0.001424551010131836, 'python list look: ', 0.001424551010131836, 'python list look: ', 0.001424551010131836, 'python list look: ', 0.001424551010131836, 'python list look: ', 0.001424551010131836, 'python list look: ', 0.001424551010131836, 'python list look: ', 0.001424551010131836, 'python list look: ', 0.001424551010131836, 'python list look: ', 0.001424551010131836, 'python list look: ', 0.001424551010131836, 'python list look: ', 0.001424551010131836, 'python list look: ', 0.001424551010131836, 'python list look: ', 0.001424551010131836, 'python list look: ', 0.001424551010131836, 'python list look: ', 0.001424551010131836, 'python list look: ', 0.001424551010131836, 'python list look: ', 0.001424551010131836, 'python list look: ', 0.001424551010131836, 'python list look: ', 0.001424551010131836, 'python list look: ', 0.001424551010131836, 'python list look: ', 0.001424551010131836, 'python list look: ', 0.001424551010131836, 'python list look: ', 0.001424551010131836, 'python list look: ', 0.001424551010131836, 'python list look: ', 0.001424551010131836, 'python list look: ', 0.001424551010131836, 'python list look: ', 0.001424551010131836, 'python list look: ', 0.001424551010131836, 'python list look: ', 0.001424551010131836, 'python list look: ', 0.001424551010131836, 'python list look: ', 0.001424551010131836, 'python list look: ', 0.001424551010131836, 'python list look: ', 0.001424551010131836, 'python list look: ', 0.001424551010131836, 'python list look: ', 0.001424551010131836, 'python list look: ', 0.001424551010131836, 'python list look: ', 0.001424551010131836, 'python list look: ', 0.001424551010131836, 'python list look: ', 0.001424551010131836, 'python list look: ', 0.001424551010131836, 'python list look: ', 0.001424551010131836, 'python list look: ', 0.001424551010131836, 'python list look: ', 0.001424551010131836, 'python list look: ', 0.001424551010131836, 'python list look: ', 0.001424551010131836, 'python list look: ', 0.001424551010131836, 'python list look: ', 0.001424551010131836, 'python list look: ', 0.001424551010131836, 'python list look: ', 0.001424551010131836, 'python list look: ', 0.001424551010131836, 'python list look: ', 0.001424551010131836, 'python list look: ', 0.001424551010131836, 'python list look: ', 0.001424551010131836, 'python list look: ', 0.001424551010131836, 'python list look: ', 0.001424551010131836, 'python list look: ', 0.001424551010131836, 'python list look: ', 0.001424551010131836, 'python list look: ', 0.001424551010131836, 'python list look: ', 0.001424551010131836, 'python list look: ', 0.001424551010131836, 'python list look: ', 0.001424551010131836, 'python list look: ', 0.001424551010131836, 'python list look: ', 0.001424551010131836, 'python list look: ', 0.001424551010131836, 'python list look: ', 0.001424551010131836, 'python list look: ', 0.001424551010131836, 'python list look: ', 0.001424551010131836, 'python list look: ', 0.001424551010131836, 'python list look: ', 0.001424551010131836, 'python list look: ', 0.001424551010131836, 'python list look: ', 0.001424551010131836, 'python list look: ', 0.001424551010131836, 'python list look: ', 0.001424551010131836, 'python list look: ', 0.001424551010131836, 'python list look: ', 0.001424551010131836, 'python list look: ', 0.001424551010131836, 'python list look: ', 0.001424551010131836, 'python list look: ', 0.001424551010131836, 'python list look: ', 0.001424551010131836, 'python list look: ', 0.001424551010131836, 'python list look: ', 0.001424551010131836, 'python list look: ', 0.001424551010131836, 'python list look: ', 0.001424551010131836, 'python list look: ', 0.001424551010131836, 'python list look: ', 0.001424551010131836, 'python list look: ', 0.001424551010131836, 'python list look: ', 0.001424551010131836, 'python list look: ', 0.001424551010131836, 'python list look: ', 0.001424551010131836, 'python list look: ', 0.001424551010131836, 'python list look: ', 0.001424551010131836, 'python list look: ', 0.001424551010131836, 'python list look: ', 0.001424551010131836, 'python list look: ', 0.001424551010131836, 'python list look: ', 0.001424551010131836, 'python list look: ', 0.001424551010131836, 'python list look: ', 0.001424551010131836, 'python list look: ', 0.001424551010131836, 'python list look: ', 0.001424551010131836, 'python list look: ', 0.001424551010131836, 'python list look: ', 0.001424551010131836, 'python list look: ', 0.001424551010131836, 'python list look: ', 0.001424551010131836, 'python list look: ', 0.001424551010131836, 'python list look: ', 0.001424551010131836, 'python list look: ', 0.001424551010131836, 'python list look: ', 0.001424551010131836, 'python list look: ', 0.001424551010131836, 'python list look: ', 0.001424551010131836, 'python list look: ', 0.001424551010131836, 'python list look: ', 0.001424551010131836, 'python list look: ', 0.001424551010131836, 'python list look: ', 0.001424551010131836, 'python list look: ', 0.001424551010131836, 'python list look: ', 0.001424551010131836, 'python list look: ', 0.001424551010131836, 'python list look: ', 0.001424551010131836, 'python list look: ', 0.001424551010131836, 'python list look: ', 0.001424551010131836, 'python list look: ', 0.001424551010131836, 'python list look: ', 0.001424551010131836, 'python list look: ', 0.001424551010131836, 'python list look: ', 0.001424551010131836, 'python list look: ', 0.001424551010131836, 'python list look: ', 0.001424551010131836, 'python list look: ', 0.001424551010131836, 'python list look: ', 0.001424551010131836, 'python list look: ', 0.001424551010131836, 'python list look: ', 0.001424551010131836, 'python list look: ', 0.001424551010131836, 'python list look: ', 0.001424551010131836, 'python list look: ', 0.001424551010131836, 'python list look: ', 0.001424551010131836, 'python list look: ', 0.001424551010131836, 'python list look: ', 0.001424551010131836, 'python list look: ', 0.001424551010131836, 'python list look: ', 0.001424551010131836, 'python list look: ', 0.001424551010131836, 'python list look: ', 0.001424551010131836, 'python list look: ', 0.001424551010131836, 'python list look: ', 0.001424551010131836, 'python list look: ', 0.001424551010131836, 'python list look: ', 0.001424551010131836, 'python list look: ', 0.001424551010131836, 'python list look: ', 0.001424551010131836, 'python list look: ', 0.001424551010131836, 'python list look: ', 0.001424551010131836, 'python list look: ', 0.001424551010131836, 'python list look: ', 0.001424551010131836, 'python list look: ', 0.001424551010131836, 'python list look: ', 0.001424551010131836, 'python list look: ', 0.001424551010131836, 'python list look: ', 0.001424551010131836, 'python list look: ', 0.001424551010131836, 'python list look: ', 0.001424551010131836, 'python list look: ', 0.001424551010131836, 'python list look: ', 0.001424551010131836, 'python list look: ', 0.001424551010131836, 'python list look: ', 0.001424551010131836, 'python list look: ', 0.001424551010131836, 'python list look: ', 0.001424551010131836, 'python list look: ', 0.001424551010131836, 'python list look: ', 0.001424551010131836, 'python list look: ', 0.001424551010131836, 'python list look: ', 0.001424551010131836, 'python list look: ', 0.001424551010131836, 'python list look: ', 0.001424551010131836, 'python list look: ', 0.001424551010131836, 'python list look: ', 0.001424551010131836, 'python list look: ', 0.001424551010131836, 'python list look: ', 0.001424551010131836, 'python list look: ', 0.001424551010131836, 'python list look: ', 0.001424551010131836, 'python list look: ', 0.001424551010131836, 'python list look: ', 0.001424551010131836, 'python list look: ', 0.001424551010131836, 'python list look: ', 0.001424551010131836, 'python list look: ', 0.001424551010131836, 'python list look: ', 0.001424551010131836, 'python list look: ', 0.001424551010131836, 'python list look: ', 0.001424551010131836, 'python list look: ', 0.001424551010131836, 'python list look: ', 0.001424551010131836, 'python list look: ', 0.001424551010131836, 'python list look: ', 0.001424551010131836, 'python list look: ', 0.001424551010131836, 'python list look: ', 0.001424551010131836, 'python list look: ', 0.001424551010131836, 'python list look: ', 0.001424551010131836, 'python list look: ', 0.001424551010131836, 'python list look: ', 0.001424551010131836, 'python list look: ', 0.001424551010131836, 'python list look: ', 0.001424551010131836, 'python list look: ', 0.001424551010131836, 'python list look: ', 0.001424551010131836, 'python list look: ', 0.001424551010131836, 'python list look: ', 0.001424551010131836, 'python list look: ', 0.001424551010131836, 'python list look: ', 0.001424551010131836, 'python list look: ', 0.001424551010131836, 'python list look: ', 0.001424551010131836, 'python list look: ', 0.001424551010131836, 'python list look: ', 0.001424551010131836, 'python list look: ', 0.001424551010131836, 'python list look: ', 0.001424551010131836, 'python list look: ', 0.001424551010131836, 'python list look: ', 0.001424551010131836, 'python list look: ', 0.001424551010131836, 'python list look: ', 0.001424551010131836, 'python list look: ', 0.001424551010131836, 'python list look: ', 0.001424551010131836, 'python list look: ', 0.001424551010131836, 'python list look: ', 0.001424551010131836, 'python list look: ', 0.001424551010131836, 'python list look: ', 0.001424551010131836, 'python list look: ', 0.001424551010131836, 'python list look: ', 0.001424551010131836, 'python list look: ', 0.001424551010131836, 'python list look: ', 0.001424551010131836, 'python list look: ', 0.001424551010131836, 'python list look: ', 0.001424551010131836, 'python list look: ', 0.001424551010131836, 'python list look: ', 0.001424551010131836, 'python list look: ', 0.001424551010131836, 'python list look: ', 0.001424551010131836, 'python list look: ', 0.001424551010131836, 'python list look: ', 0.001424551010131836, 'python list look: ', 0.001424551010131836, 'python list look: ', 0.001424551010131836, 'python list look: ', 0.001424551010131836, 'python list look: ', 0.001424551010131836, 'python list look: ', 0.001424551010131836, 'python list look: ', 0.001424551010131836, 'python list look: ', 0.001424551010131836, 'python list look: ', 0.001424551010131836, 'python list look: ', 0.001424551010131836, 'python list look: ', 0.001424551010131836, 'python list look: ', 0.001424551010131836, 'python list look: ', 0.001424551010131836, 'python list look: ', 0.001424551010131836, 'python list look: ', 0.001424551010131836, 'python list look: ', 0.001424551010131836, 'python list look: ', 0.001424551010131836, 'python list look: ', 0.001424551010131836, 'python list look: ', 0.001424551010131836, 'python list look: ', 0.001424551010131836, 'python list look: ', 0.001424551010131836, 'python list look: ', 0.001424551010131836, 'python list look: ', 0.001424551010131836, 'python list look: ', 0.001424551010131836, 'python list look: ', 0.001424551010131836, 'python list look: ', 0.001424551010131836, 'python list look: ', 0.001424551010131836, 'python list look: ', 0.001424551010131836, 'python list look: ', 0.001424551010131836, 'python list look: ', 0.001424551010131836, 'python list look: ', 0.001424551010131836, 'python list look: ', 0.001424551010131836, 'python list look: ', 0.001424551010131836, 'python list look: ', 0.001424551010131836, 'python list look: ', 0.001424551010131836, 'python list look: ', 0.001424551010131836, 'python list look: ', 0.001424551010131836, 'python list look: ', 0.001424551010131836, 'python list look: ', 0.001424551010131836, 'python list look: ', 0.001424551010131836, 'python list look: ', 0.001424551010131836, 'python list look: ', 0.001424551010131836, 'python list look: ', 0.001424551010131836, 'python list look: ', 0.001424551010131836, 'python list look: ', 0.001424551010131836, 'python list look: ', 0.001424551010131836, 'python list look: ', 0.001424551010131836, 'python list look: ', 0.001424551010131836, 'python list look: ', 0.001424551010131836, 'python list look: ', 0.001424551010131836, 'python list look: ', 0.001424551010131836, 'python list look: ', 0.001424551010131836, 'python list look: ', 0.001424551010131836, 'python list look: ', 0.001424551010131836, 'python list look: ', 0.001424551010131836, 'python list look: ', 0.001424551010131836, 'python list look: ', 0.001424551010131836, 'python list look: ', 0.001424551010131836, 'python list look: ', 0.001424551010131836, 'python list look: ', 0.001424551010131836, 'python list look: ', 0.001424551010131836, 'python list look: ', 0.001424551010131836, 'python list look: ', 0.001424551010131836, 'python list look: ', 0.001424551010131836, 'python list look: ', 0.001424551010131836, 'python list look: ', 0.001424551010131836, 'python list look: ', 0.001424551010131836, 'python list look: ', 0.001424551010131836, 'python list look: ', 0.001424551010131836, 'python list look: ', 0.001424551010131836, 'python list look: ', 0.001424551010131836, 'python list look: ', 0.001424551010131836, 'python list look: ', 0.001424551010131836, 'python list look: ', 0.001424551010131836, 'python list look: ', 0.001424551010131836, 'python list look: ', 0.001424551010131836, 'python list look: ', 0.001424551010131836, 'python list look: ', 0.001424551010131836, 'python list look: ', 0.001424551010131836, 'python list look: ', 0.001424551010131836, 'python list look: ', 0.001424551010131836, 'python list look: ', 0.001424551010131836, 'python list look: ', 0.001424551010131836, 'python list look: ', 0.001424551010131836, 'python list look: ', 0.001424551010131836, 'python list look: ', 0.001424551010131836, 'python list look: ', 0.001424551010131836, 'python list look: ', 0.001424551010131836, 'python list look: ', 0.001424551010131836, 'python list look: ', 0.001424551010131836, 'python list look: ', 0.001424551010131836, 'python list look: ', 0.001424551010131836, 'python list look: ', 0.001424551010131836, 'python list look: ', 0.001424551010131836, 'python list look: ', 0.001424551010131836, 'python list look: ', 0.001424551010131836, 'python list look: ', 0.001424551010131836, 'python list look: ', 0.001424551010131836, 'python list look: ', 0.001424551010131836, 'python list look: ', 0.001424551010131836, 'python list look: ', 0.001424551010131836, 'python list look: ', 0.001424551010131836, 'python list look: ', 0.001424551010131836, 'python list look: ', 0.001424551010131836, 'python list look: ', 0.001424551010131836, 'python list look: ', 0.001424551010131836, 'python list look: ', 0.001424551010131836, 'python list look: ', 0.001424551010131836, 'python list look: ', 0.001424551010131836, 'python list look: ', 0.001424551010131836, 'python list look: ', 0.001424551010131836, 'python list look: ', 0.001424551010131836, 'python list look: ', 0.001424551010131836, 'python list look: ', 0.001424551010131836, 'python list look: ', 0.001424551010131836, 'python list look: ', 0.001424551010131836, 'python list look: ', 0.001424551010131836, 'python list look: ', 0.001424551010131836, 'python list look: ', 0.001424551010131836, 'python list look: ', 0.001424551010131836, 'python list look: ', 0.001424551010131836, 'python list look: ', 0.001424551010131836, 'python list look: ', 0.001424551010131836, 'python list look: ', 0.001424551010131836, 'python list look: ', 0.001424551010131836, 'python list look: ', 0.001424551010131836, 'python list look: ', 0.001424551010131836, 'python list look: ', 0.001424551010131836, 'python list look: ', 0.001424551010131836, 'python list look: ', 0.001424551010131836, 'python list look: ', 0.001424551010131836, 'python list look: ', 0.001424551010131836, 'python list look: ', 0.001424551010131836, 'python list look: ', 0.001424551010131836, 'python list look: ', 0.001424551010131836, 'python list look: ', 0.001424551010131836, 'python list look: ', 0.001424551010131836, 'python list look: ', 0.001424551010131836, 'python list look: ', 0.001424551010131836, 'python list look: ', 0.001424551010131836, 'python list look: ', 0.001424551010131836, 'python list look: ', 0.001424551010131836, 'python list look: ', 0.001424551010131836, 'python list look: ', 0.001424551010131836, 'python list look: ', 0.001424551010131836, 'python list look: ', 0.001424551010131836, 'python list look: ', 0.001424551010131836, 'python list look: ', 0.001424551010131836, 'python list look: ', 0.001424551010131836, 'python list look: ', 0.001424551010131836, 'python list look: ', 0.001424551010131836, 'python list look: ', 0.001424551010131836, 'python list look: ', 0.001424551010131836, 'python list look: ', 0.001424551010131836, 'python list look: ', 0.001424551010131836, 'python list look: ', 0.001424551010131836, 'python list look: ', 0.001424551010131836, 'python list look: ', 0.001424551010131836, 'python list look: ', 0.001424551010131836, 'python list look: ', 0.001424551010131836, 'python list look: ', 0.001424551010131836, 'python list look: ', 0.001424551010131836, 'python list look: ', 0.001424551010131836, 'python list look: ', 0.001424551010131836, 'python list look: ', 0.001424551010131836, 'python list look: ', 0.001424551010131836, 'python list look: ', 0.001424551010131836, 'python list look: ', 0.001424551010131836, 'python list look: ', 0.001424551010131836, 'python list look: ', 0.001424551010131836, 'python list look: ', 0.001424551010131836, 'python list look: ', 0.001424551010131836, 'python list look: ', 0.001424551010131836, 'python list look: ', 0.001424551010131836, 'python list look: ', 0.001424551010131836, 'python list look: ', 0.001424551010131836, 'python list look: ', 0.001424551010131836, 'python list look: ', 0.001424551010131836, 'python list look: ', 0.001424551010131836, 'python list look: ', 0.001424551010131836, 'python list look: ', 0.001424551010131836, 'python list look: ', 0.001424551010131836, 'python list look: ', 0.001424551010131836, 'python list look: ', 0.001424551010131836, 'python list look: ', 0.001424551010131836, 'python list look: ', 0.001424551010131836, 'python list look: ', 0.001424551010131836, 'python list look: ', 0.001424551010131836, 'python list look: ', 0.001424551010131836, 'python list look: ', 0.001424551010131836, 'python list look: ', 0.001424551010131836, 'python list look: ', 0.001424551010131836, 'python list look: ', 0.001424551010131836, 'python list look: ', 0.001424551010131836, 'python list look: ', 0.001424551010131836, 'python list look: ', 0.001424551010131836, 'python list look: ', 0.001424551010131836, 'python list look: ', 0.001424551010131836, 'python list look: ', 0.001424551010131836, 'python list look: ', 0.001424551010131836, 'python list look: ', 0.001424551010131836, 'python list look: ', 0.001424551010131836, 'python list look: ', 0.001424551010131836, 'python list look: ', 0.001424551010131836, 'python list look: ', 0.001424551010131836, 'python list look: ', 0.001424551010131836, 'python list look: ', 0.001424551010131836, 'python list look: ', 0.001424551010131836, 'python list look: ', 0.001424551010131836, 'python list look: ', 0.001424551010131836, 'python list look: ', 0.001424551010131836, 'python list look: ', 0.001424551010131836, 'python list look: ', 0.001424551010131836, 'python list look: ', 0.001424551010131836, 'python list look: ', 0.001424551010131836, 'python list look: ', 0.001424551010131836, 'python list look: ', 0.001424551010131836, 'python list look: ', 0.001424551010131836, 'python list look: ', 0.001424551010131836, 'python list look: ', 0.001424551010131836, 'python list look: ', 0.001424551010131836, 'python list look: ', 0.001424551010131836, 'python list look: ', 0.001424551010131836, 'python list look: ', 0.001424551010131836, 'python list look: ', 0.001424551010131836, 'python list look: ', 0.001424551010131836, 'python list look: ', 0.001424551010131836, 'python list look: ', 0.001424551010131836, 'python list look: ', 0.001424551010131836, 'python list look: ', 0.001424551010131836, 'python list look: ', 0.001424551010131836, 'python list look: ', 0.001424551010131836, 'python list look: ', 0.001424551010131836, 'python list look: ', 0.001424551010131836, 'python list look: ', 0.001424551010131836, 'python list look: ', 0.001424551010131836, 'python list look: ', 0.001424551010131836, 'python list look: ', 0.001424551010131836, 'python list look: ', 0.001424551010131836, 'python list look: ', 0.001424551010131836, 'python list look: ', 0.001424551010131836, 'python list look: ', 0.001424551010131836, 'python list look: ', 0.001424551010131836, 'python list look: ', 0.001424551010131836, 'python list look: ', 0.001424551010131836, 'python list look: ', 0.001424551010131836, 'python list look: ', 0.001424551010131836, 'python list look: ', 0.001424551010131836, 'python list look: ', 0.001424551010131836, 'python list look: ', 0.001424551010131836, 'python list look: ', 0.001424551010131836, 'python list look: ', 0.001424551010131836, 'python list look: ', 0.001424551010131836, 'python list look: ', 0.001424551010131836, 'python list look: ', 0.001424551010131836, 'python list look: ', 0.001424551010131836, 'python list look: ', 0.001424551010131836, 'python list look: ', 0.001424551010131836, 'python list look: ', 0.001424551010131836, 'python list look: ', 0.001424551010131836, 'python list look: ', 0.001424551010131836, 'python list look: ', 0.001424551010131836, 'python list look: ', 0.001424551010131836, 'python list look: ', 0.001424551010131836, 'python list look: ', 0.001424551010131836, 'python list look: ', 0.001424551010131836, 'python list look: ', 0.001424551010131836, 'python list look: ', 0.001424551010131836, 'python list look: ', 0.001424551010131836, 'python list look: ', 0.001424551010131836, 'python list look: ', 0.001424551010131836, 'python list look: ', 0.001424551010131836, 'python list look: ', 0.001424551010131836, 'python list look: ', 0.001424551010131836, 'python list look: ', 0.001424551010131836, 'python list look: ', 0.001424551010131836, 'python list look: ', 0.001424551010131836, 'python list look: ', 0.001424551010131836, 'python list look: ', 0.001424551010131836, 'python list look: ', 0.001424551010131836, 'python list look: ', 0.001424551010131836, 'python list look: ', 0.001424551010131836, 'python list look: ', 0.001424551010131836, 'python list look: ', 0.001424551010131836, 'python list look: ', 0.001424551010131836, 'python list look: ', 0.001424551010131836, 'python list look: ', 0.001424551010131836, 'python list look: ', 0.001424551010131836, 'python list look: ', 0.001424551010131836, 'python list look: ', 0.001424551010131836, 'python list look: ', 0.001424551010131836, 'python list look: ', 0.001424551010131836, 'python list look: ', 0.001424551010131836, 'python list look: ', 0.001424551010131836, 'python list look: ', 0.001424551010131836, 'python list look: ', 0.001424551010131836, 'python list look: ', 0.001424551010131836, 'python list look: ', 0.001424551010131836, 'python list look: ', 0.001424551010131836, 'python list look: ', 0.001424551010131836, 'python list look: ', 0.001424551010131836, 'python list look: ', 0.001424551010131836, 'python list look: ', 0.001424551010131836, 'python list look: ', 0.001424551010131836, 'python list look: ', 0.001424551010131836, 'python list look: ', 0.001424551010131836, 'python list look: ', 0.001424551010131836, 'python list look: ', 0.001424551010131836, 'python list look: ', 0.001424551010131836, 'python list look: ', 0.001424551010131836, 'python list look: ', 0.001424551010131836, 'python list look: ', 0.001424551010131836, 'python list look: ', 0.001424551010131836, 'python list look: ', 0.001424551010131836, 'python list look: ', 0.001424551010131836, 'python list look: ', 0.001424551010131836, 'python list look: ', 0.001424551010131836, 'python list look: ', 0.001424551010131836, 'python list look: ', 0.001424551010131836, 'python list look: ', 0.001424551010131836, 'python list look: ', 0.001424551010131836, 'python list look: ', 0.001424551010131836, 'python list look: ', 0.001424551010131836, 'python list look: ', 0.001424551010131836, 'python list look: ', 0.001424551010131836, 'python list look: ', 0.001424551010131836, 'python list look: ', 0.001424551010131836, 'python list look: ', 0.001424551010131836, 'python list look: ', 0.001424551010131836, 'python list look: ', 0.001424551010131836, 'python list look: ', 0.001424551010131836, 'python list look: ', 0.001424551010131836, 'python list look: ', 0.001424551010131836, 'python list look: ', 0.001424551010131836, 'python list look: ', 0.001424551010131836, 'python list look: ', 0.001424551010131836, 'python list look: ', 0.001424551010131836, 'python list look: ', 0.001424551010131836, 'python list look: ', 0.001424551010131836, 'python list look: ', 0.001424551010131836, 'python list look: ', 0.001424551010131836, 'python list look: ', 0.001424551010131836, 'python list look: ', 0.001424551010131836, 'python list look: ', 0.001424551010131836, 'python list look: ', 0.001424551010131836, 'python list look: ', 0.001424551010131836, 'python list look: ', 0.001424551010131836, 'python list look: ', 0.001424551010131836, 'python list look: ', 0.001424551010131836, 'python list look: ', 0.001424551010131836, 'python list look: ', 0.001424551010131836, 'python list look: ', 0.001424551010131836, 'python list look: ', 0.001424551010131836, 'python list look: ', 0.001424551010131836, 'python list look: ', 0.001424551010131836, 'python list look: ', 0.001424551010131836, 'python list look: ', 0.001424551010131836, 'python list look: ', 0.001424551010131836, 'python list look: ', 0.001424551010131836, 'python list look: ', 0.001424551010131836, 'python list look: ', 0.001424551010131836, 'python list look: ', 0.001424551010131836, 'python list look: ', 0.001424551010131836, 'python list look: ', 0.001424551010131836, 'python list look: ', 0.001424551010131836, 'python list look: ', 0.001424551010131836, 'python list look: ', 0.001424551010131836, 'python list look: ', 0.001424551010131836, 'python list look: ', 0.001424551010131836, 'python list look: ', 0.001424551010131836, 'python list look: ', 0.001424551010131836, 'python list look: ', 0.001424551010131836, 'python list look: ', 0.001424551010131836, 'python list look: ', 0.001424551010131836, 'python list look: ', 0.001424551010131836, 'python list look: ', 0.001424551010131836, 'python list look: ', 0.001424551010131836, 'python list look: ', 0.001424551010131836, 'python list look: ', 0.001424551010131836, 'python list look: ', 0.001424551010131836, 'python list look: ', 0.001424551010131836, 'python list look: ', 0.001424551010131836, 'python list look: ', 0.001424551010131836, 'python list look: ', 0.001424551010131836, 'python list look: ', 0.001424551010131836, 'python list look: ', 0.001424551010131836, 'python list look: ', 0.001424551010131836, 'python list look: ', 0.001424551010131836, 'python list look: ', 0.001424551010131836, 'python list look: ', 0.001424551010131836, 'python list look: ', 0.001424551010131836, 'python list look: ', 0.001424551010131836, 'python list look: ', 0.001424551010131836, 'python list look: ', 0.001424551010131836, 'python list look: ', 0.001424551010131836, 'python list look: ', 0.001424551010131836, 'python list look: ', 0.001424551010131836, 'python list look: ', 0.001424551010131836, 'python list look: ', 0.001424551010131836, 'python list look: ', 0.001424551010131836, 'python list look: ', 0.001424551010131836, 'python list look: ', 0.001424551010131836, 'python list look: ', 0.001424551010131836, 'python list look: ', 0.001424551010131836, 'python list look: ', 0.001424551010131836, 'python list look: ', 0.001424551010131836, 'python list look: ', 0.001424551010131836, 'python list look: ', 0.001424551010131836, 'python list look: ', 0.001424551010131836, 'python list look: ', 0.001424551010131836, 'python list look: ', 0.001424551010131836, 'python list look: ', 0.001424551010131836, 'python list look: ', 0.001424551010131836, 'python list look: ', 0.001424551010131836, 'python list look: ', 0.001424551010131836, 'python list look: ', 0.001424551010131836, 'python list look: ', 0.001424551010131836, 'python list look: ', 0.001424551010131836, 'python list look: ', 0.001424551010131836, 'python list look: ', 0.001424551010131836, 'python list look: ', 0.001424551010131836, 'python list look: ', 0.001424551010131836, 'python list look: ', 0.001424551010131836)\n"
          ],
          "name": "stdout"
        }
      ]
    },
    {
      "cell_type": "code",
      "metadata": {
        "colab": {
          "base_uri": "https://localhost:8080/"
        },
        "id": "fnYsY-iqx3xk",
        "outputId": "15f8bb47-dcd8-49ca-a86b-fef6e61e162c"
      },
      "source": [
        "start = time.time()\n",
        "result = [(x + y) for x,y in zip(a1,a2)]\n",
        "print((\"python list look: \", time.time()-start)*1000)\n"
      ],
      "execution_count": 25,
      "outputs": [
        {
          "output_type": "stream",
          "text": [
            "('python list look: ', 0.003387451171875, 'python list look: ', 0.003387451171875, 'python list look: ', 0.003387451171875, 'python list look: ', 0.003387451171875, 'python list look: ', 0.003387451171875, 'python list look: ', 0.003387451171875, 'python list look: ', 0.003387451171875, 'python list look: ', 0.003387451171875, 'python list look: ', 0.003387451171875, 'python list look: ', 0.003387451171875, 'python list look: ', 0.003387451171875, 'python list look: ', 0.003387451171875, 'python list look: ', 0.003387451171875, 'python list look: ', 0.003387451171875, 'python list look: ', 0.003387451171875, 'python list look: ', 0.003387451171875, 'python list look: ', 0.003387451171875, 'python list look: ', 0.003387451171875, 'python list look: ', 0.003387451171875, 'python list look: ', 0.003387451171875, 'python list look: ', 0.003387451171875, 'python list look: ', 0.003387451171875, 'python list look: ', 0.003387451171875, 'python list look: ', 0.003387451171875, 'python list look: ', 0.003387451171875, 'python list look: ', 0.003387451171875, 'python list look: ', 0.003387451171875, 'python list look: ', 0.003387451171875, 'python list look: ', 0.003387451171875, 'python list look: ', 0.003387451171875, 'python list look: ', 0.003387451171875, 'python list look: ', 0.003387451171875, 'python list look: ', 0.003387451171875, 'python list look: ', 0.003387451171875, 'python list look: ', 0.003387451171875, 'python list look: ', 0.003387451171875, 'python list look: ', 0.003387451171875, 'python list look: ', 0.003387451171875, 'python list look: ', 0.003387451171875, 'python list look: ', 0.003387451171875, 'python list look: ', 0.003387451171875, 'python list look: ', 0.003387451171875, 'python list look: ', 0.003387451171875, 'python list look: ', 0.003387451171875, 'python list look: ', 0.003387451171875, 'python list look: ', 0.003387451171875, 'python list look: ', 0.003387451171875, 'python list look: ', 0.003387451171875, 'python list look: ', 0.003387451171875, 'python list look: ', 0.003387451171875, 'python list look: ', 0.003387451171875, 'python list look: ', 0.003387451171875, 'python list look: ', 0.003387451171875, 'python list look: ', 0.003387451171875, 'python list look: ', 0.003387451171875, 'python list look: ', 0.003387451171875, 'python list look: ', 0.003387451171875, 'python list look: ', 0.003387451171875, 'python list look: ', 0.003387451171875, 'python list look: ', 0.003387451171875, 'python list look: ', 0.003387451171875, 'python list look: ', 0.003387451171875, 'python list look: ', 0.003387451171875, 'python list look: ', 0.003387451171875, 'python list look: ', 0.003387451171875, 'python list look: ', 0.003387451171875, 'python list look: ', 0.003387451171875, 'python list look: ', 0.003387451171875, 'python list look: ', 0.003387451171875, 'python list look: ', 0.003387451171875, 'python list look: ', 0.003387451171875, 'python list look: ', 0.003387451171875, 'python list look: ', 0.003387451171875, 'python list look: ', 0.003387451171875, 'python list look: ', 0.003387451171875, 'python list look: ', 0.003387451171875, 'python list look: ', 0.003387451171875, 'python list look: ', 0.003387451171875, 'python list look: ', 0.003387451171875, 'python list look: ', 0.003387451171875, 'python list look: ', 0.003387451171875, 'python list look: ', 0.003387451171875, 'python list look: ', 0.003387451171875, 'python list look: ', 0.003387451171875, 'python list look: ', 0.003387451171875, 'python list look: ', 0.003387451171875, 'python list look: ', 0.003387451171875, 'python list look: ', 0.003387451171875, 'python list look: ', 0.003387451171875, 'python list look: ', 0.003387451171875, 'python list look: ', 0.003387451171875, 'python list look: ', 0.003387451171875, 'python list look: ', 0.003387451171875, 'python list look: ', 0.003387451171875, 'python list look: ', 0.003387451171875, 'python list look: ', 0.003387451171875, 'python list look: ', 0.003387451171875, 'python list look: ', 0.003387451171875, 'python list look: ', 0.003387451171875, 'python list look: ', 0.003387451171875, 'python list look: ', 0.003387451171875, 'python list look: ', 0.003387451171875, 'python list look: ', 0.003387451171875, 'python list look: ', 0.003387451171875, 'python list look: ', 0.003387451171875, 'python list look: ', 0.003387451171875, 'python list look: ', 0.003387451171875, 'python list look: ', 0.003387451171875, 'python list look: ', 0.003387451171875, 'python list look: ', 0.003387451171875, 'python list look: ', 0.003387451171875, 'python list look: ', 0.003387451171875, 'python list look: ', 0.003387451171875, 'python list look: ', 0.003387451171875, 'python list look: ', 0.003387451171875, 'python list look: ', 0.003387451171875, 'python list look: ', 0.003387451171875, 'python list look: ', 0.003387451171875, 'python list look: ', 0.003387451171875, 'python list look: ', 0.003387451171875, 'python list look: ', 0.003387451171875, 'python list look: ', 0.003387451171875, 'python list look: ', 0.003387451171875, 'python list look: ', 0.003387451171875, 'python list look: ', 0.003387451171875, 'python list look: ', 0.003387451171875, 'python list look: ', 0.003387451171875, 'python list look: ', 0.003387451171875, 'python list look: ', 0.003387451171875, 'python list look: ', 0.003387451171875, 'python list look: ', 0.003387451171875, 'python list look: ', 0.003387451171875, 'python list look: ', 0.003387451171875, 'python list look: ', 0.003387451171875, 'python list look: ', 0.003387451171875, 'python list look: ', 0.003387451171875, 'python list look: ', 0.003387451171875, 'python list look: ', 0.003387451171875, 'python list look: ', 0.003387451171875, 'python list look: ', 0.003387451171875, 'python list look: ', 0.003387451171875, 'python list look: ', 0.003387451171875, 'python list look: ', 0.003387451171875, 'python list look: ', 0.003387451171875, 'python list look: ', 0.003387451171875, 'python list look: ', 0.003387451171875, 'python list look: ', 0.003387451171875, 'python list look: ', 0.003387451171875, 'python list look: ', 0.003387451171875, 'python list look: ', 0.003387451171875, 'python list look: ', 0.003387451171875, 'python list look: ', 0.003387451171875, 'python list look: ', 0.003387451171875, 'python list look: ', 0.003387451171875, 'python list look: ', 0.003387451171875, 'python list look: ', 0.003387451171875, 'python list look: ', 0.003387451171875, 'python list look: ', 0.003387451171875, 'python list look: ', 0.003387451171875, 'python list look: ', 0.003387451171875, 'python list look: ', 0.003387451171875, 'python list look: ', 0.003387451171875, 'python list look: ', 0.003387451171875, 'python list look: ', 0.003387451171875, 'python list look: ', 0.003387451171875, 'python list look: ', 0.003387451171875, 'python list look: ', 0.003387451171875, 'python list look: ', 0.003387451171875, 'python list look: ', 0.003387451171875, 'python list look: ', 0.003387451171875, 'python list look: ', 0.003387451171875, 'python list look: ', 0.003387451171875, 'python list look: ', 0.003387451171875, 'python list look: ', 0.003387451171875, 'python list look: ', 0.003387451171875, 'python list look: ', 0.003387451171875, 'python list look: ', 0.003387451171875, 'python list look: ', 0.003387451171875, 'python list look: ', 0.003387451171875, 'python list look: ', 0.003387451171875, 'python list look: ', 0.003387451171875, 'python list look: ', 0.003387451171875, 'python list look: ', 0.003387451171875, 'python list look: ', 0.003387451171875, 'python list look: ', 0.003387451171875, 'python list look: ', 0.003387451171875, 'python list look: ', 0.003387451171875, 'python list look: ', 0.003387451171875, 'python list look: ', 0.003387451171875, 'python list look: ', 0.003387451171875, 'python list look: ', 0.003387451171875, 'python list look: ', 0.003387451171875, 'python list look: ', 0.003387451171875, 'python list look: ', 0.003387451171875, 'python list look: ', 0.003387451171875, 'python list look: ', 0.003387451171875, 'python list look: ', 0.003387451171875, 'python list look: ', 0.003387451171875, 'python list look: ', 0.003387451171875, 'python list look: ', 0.003387451171875, 'python list look: ', 0.003387451171875, 'python list look: ', 0.003387451171875, 'python list look: ', 0.003387451171875, 'python list look: ', 0.003387451171875, 'python list look: ', 0.003387451171875, 'python list look: ', 0.003387451171875, 'python list look: ', 0.003387451171875, 'python list look: ', 0.003387451171875, 'python list look: ', 0.003387451171875, 'python list look: ', 0.003387451171875, 'python list look: ', 0.003387451171875, 'python list look: ', 0.003387451171875, 'python list look: ', 0.003387451171875, 'python list look: ', 0.003387451171875, 'python list look: ', 0.003387451171875, 'python list look: ', 0.003387451171875, 'python list look: ', 0.003387451171875, 'python list look: ', 0.003387451171875, 'python list look: ', 0.003387451171875, 'python list look: ', 0.003387451171875, 'python list look: ', 0.003387451171875, 'python list look: ', 0.003387451171875, 'python list look: ', 0.003387451171875, 'python list look: ', 0.003387451171875, 'python list look: ', 0.003387451171875, 'python list look: ', 0.003387451171875, 'python list look: ', 0.003387451171875, 'python list look: ', 0.003387451171875, 'python list look: ', 0.003387451171875, 'python list look: ', 0.003387451171875, 'python list look: ', 0.003387451171875, 'python list look: ', 0.003387451171875, 'python list look: ', 0.003387451171875, 'python list look: ', 0.003387451171875, 'python list look: ', 0.003387451171875, 'python list look: ', 0.003387451171875, 'python list look: ', 0.003387451171875, 'python list look: ', 0.003387451171875, 'python list look: ', 0.003387451171875, 'python list look: ', 0.003387451171875, 'python list look: ', 0.003387451171875, 'python list look: ', 0.003387451171875, 'python list look: ', 0.003387451171875, 'python list look: ', 0.003387451171875, 'python list look: ', 0.003387451171875, 'python list look: ', 0.003387451171875, 'python list look: ', 0.003387451171875, 'python list look: ', 0.003387451171875, 'python list look: ', 0.003387451171875, 'python list look: ', 0.003387451171875, 'python list look: ', 0.003387451171875, 'python list look: ', 0.003387451171875, 'python list look: ', 0.003387451171875, 'python list look: ', 0.003387451171875, 'python list look: ', 0.003387451171875, 'python list look: ', 0.003387451171875, 'python list look: ', 0.003387451171875, 'python list look: ', 0.003387451171875, 'python list look: ', 0.003387451171875, 'python list look: ', 0.003387451171875, 'python list look: ', 0.003387451171875, 'python list look: ', 0.003387451171875, 'python list look: ', 0.003387451171875, 'python list look: ', 0.003387451171875, 'python list look: ', 0.003387451171875, 'python list look: ', 0.003387451171875, 'python list look: ', 0.003387451171875, 'python list look: ', 0.003387451171875, 'python list look: ', 0.003387451171875, 'python list look: ', 0.003387451171875, 'python list look: ', 0.003387451171875, 'python list look: ', 0.003387451171875, 'python list look: ', 0.003387451171875, 'python list look: ', 0.003387451171875, 'python list look: ', 0.003387451171875, 'python list look: ', 0.003387451171875, 'python list look: ', 0.003387451171875, 'python list look: ', 0.003387451171875, 'python list look: ', 0.003387451171875, 'python list look: ', 0.003387451171875, 'python list look: ', 0.003387451171875, 'python list look: ', 0.003387451171875, 'python list look: ', 0.003387451171875, 'python list look: ', 0.003387451171875, 'python list look: ', 0.003387451171875, 'python list look: ', 0.003387451171875, 'python list look: ', 0.003387451171875, 'python list look: ', 0.003387451171875, 'python list look: ', 0.003387451171875, 'python list look: ', 0.003387451171875, 'python list look: ', 0.003387451171875, 'python list look: ', 0.003387451171875, 'python list look: ', 0.003387451171875, 'python list look: ', 0.003387451171875, 'python list look: ', 0.003387451171875, 'python list look: ', 0.003387451171875, 'python list look: ', 0.003387451171875, 'python list look: ', 0.003387451171875, 'python list look: ', 0.003387451171875, 'python list look: ', 0.003387451171875, 'python list look: ', 0.003387451171875, 'python list look: ', 0.003387451171875, 'python list look: ', 0.003387451171875, 'python list look: ', 0.003387451171875, 'python list look: ', 0.003387451171875, 'python list look: ', 0.003387451171875, 'python list look: ', 0.003387451171875, 'python list look: ', 0.003387451171875, 'python list look: ', 0.003387451171875, 'python list look: ', 0.003387451171875, 'python list look: ', 0.003387451171875, 'python list look: ', 0.003387451171875, 'python list look: ', 0.003387451171875, 'python list look: ', 0.003387451171875, 'python list look: ', 0.003387451171875, 'python list look: ', 0.003387451171875, 'python list look: ', 0.003387451171875, 'python list look: ', 0.003387451171875, 'python list look: ', 0.003387451171875, 'python list look: ', 0.003387451171875, 'python list look: ', 0.003387451171875, 'python list look: ', 0.003387451171875, 'python list look: ', 0.003387451171875, 'python list look: ', 0.003387451171875, 'python list look: ', 0.003387451171875, 'python list look: ', 0.003387451171875, 'python list look: ', 0.003387451171875, 'python list look: ', 0.003387451171875, 'python list look: ', 0.003387451171875, 'python list look: ', 0.003387451171875, 'python list look: ', 0.003387451171875, 'python list look: ', 0.003387451171875, 'python list look: ', 0.003387451171875, 'python list look: ', 0.003387451171875, 'python list look: ', 0.003387451171875, 'python list look: ', 0.003387451171875, 'python list look: ', 0.003387451171875, 'python list look: ', 0.003387451171875, 'python list look: ', 0.003387451171875, 'python list look: ', 0.003387451171875, 'python list look: ', 0.003387451171875, 'python list look: ', 0.003387451171875, 'python list look: ', 0.003387451171875, 'python list look: ', 0.003387451171875, 'python list look: ', 0.003387451171875, 'python list look: ', 0.003387451171875, 'python list look: ', 0.003387451171875, 'python list look: ', 0.003387451171875, 'python list look: ', 0.003387451171875, 'python list look: ', 0.003387451171875, 'python list look: ', 0.003387451171875, 'python list look: ', 0.003387451171875, 'python list look: ', 0.003387451171875, 'python list look: ', 0.003387451171875, 'python list look: ', 0.003387451171875, 'python list look: ', 0.003387451171875, 'python list look: ', 0.003387451171875, 'python list look: ', 0.003387451171875, 'python list look: ', 0.003387451171875, 'python list look: ', 0.003387451171875, 'python list look: ', 0.003387451171875, 'python list look: ', 0.003387451171875, 'python list look: ', 0.003387451171875, 'python list look: ', 0.003387451171875, 'python list look: ', 0.003387451171875, 'python list look: ', 0.003387451171875, 'python list look: ', 0.003387451171875, 'python list look: ', 0.003387451171875, 'python list look: ', 0.003387451171875, 'python list look: ', 0.003387451171875, 'python list look: ', 0.003387451171875, 'python list look: ', 0.003387451171875, 'python list look: ', 0.003387451171875, 'python list look: ', 0.003387451171875, 'python list look: ', 0.003387451171875, 'python list look: ', 0.003387451171875, 'python list look: ', 0.003387451171875, 'python list look: ', 0.003387451171875, 'python list look: ', 0.003387451171875, 'python list look: ', 0.003387451171875, 'python list look: ', 0.003387451171875, 'python list look: ', 0.003387451171875, 'python list look: ', 0.003387451171875, 'python list look: ', 0.003387451171875, 'python list look: ', 0.003387451171875, 'python list look: ', 0.003387451171875, 'python list look: ', 0.003387451171875, 'python list look: ', 0.003387451171875, 'python list look: ', 0.003387451171875, 'python list look: ', 0.003387451171875, 'python list look: ', 0.003387451171875, 'python list look: ', 0.003387451171875, 'python list look: ', 0.003387451171875, 'python list look: ', 0.003387451171875, 'python list look: ', 0.003387451171875, 'python list look: ', 0.003387451171875, 'python list look: ', 0.003387451171875, 'python list look: ', 0.003387451171875, 'python list look: ', 0.003387451171875, 'python list look: ', 0.003387451171875, 'python list look: ', 0.003387451171875, 'python list look: ', 0.003387451171875, 'python list look: ', 0.003387451171875, 'python list look: ', 0.003387451171875, 'python list look: ', 0.003387451171875, 'python list look: ', 0.003387451171875, 'python list look: ', 0.003387451171875, 'python list look: ', 0.003387451171875, 'python list look: ', 0.003387451171875, 'python list look: ', 0.003387451171875, 'python list look: ', 0.003387451171875, 'python list look: ', 0.003387451171875, 'python list look: ', 0.003387451171875, 'python list look: ', 0.003387451171875, 'python list look: ', 0.003387451171875, 'python list look: ', 0.003387451171875, 'python list look: ', 0.003387451171875, 'python list look: ', 0.003387451171875, 'python list look: ', 0.003387451171875, 'python list look: ', 0.003387451171875, 'python list look: ', 0.003387451171875, 'python list look: ', 0.003387451171875, 'python list look: ', 0.003387451171875, 'python list look: ', 0.003387451171875, 'python list look: ', 0.003387451171875, 'python list look: ', 0.003387451171875, 'python list look: ', 0.003387451171875, 'python list look: ', 0.003387451171875, 'python list look: ', 0.003387451171875, 'python list look: ', 0.003387451171875, 'python list look: ', 0.003387451171875, 'python list look: ', 0.003387451171875, 'python list look: ', 0.003387451171875, 'python list look: ', 0.003387451171875, 'python list look: ', 0.003387451171875, 'python list look: ', 0.003387451171875, 'python list look: ', 0.003387451171875, 'python list look: ', 0.003387451171875, 'python list look: ', 0.003387451171875, 'python list look: ', 0.003387451171875, 'python list look: ', 0.003387451171875, 'python list look: ', 0.003387451171875, 'python list look: ', 0.003387451171875, 'python list look: ', 0.003387451171875, 'python list look: ', 0.003387451171875, 'python list look: ', 0.003387451171875, 'python list look: ', 0.003387451171875, 'python list look: ', 0.003387451171875, 'python list look: ', 0.003387451171875, 'python list look: ', 0.003387451171875, 'python list look: ', 0.003387451171875, 'python list look: ', 0.003387451171875, 'python list look: ', 0.003387451171875, 'python list look: ', 0.003387451171875, 'python list look: ', 0.003387451171875, 'python list look: ', 0.003387451171875, 'python list look: ', 0.003387451171875, 'python list look: ', 0.003387451171875, 'python list look: ', 0.003387451171875, 'python list look: ', 0.003387451171875, 'python list look: ', 0.003387451171875, 'python list look: ', 0.003387451171875, 'python list look: ', 0.003387451171875, 'python list look: ', 0.003387451171875, 'python list look: ', 0.003387451171875, 'python list look: ', 0.003387451171875, 'python list look: ', 0.003387451171875, 'python list look: ', 0.003387451171875, 'python list look: ', 0.003387451171875, 'python list look: ', 0.003387451171875, 'python list look: ', 0.003387451171875, 'python list look: ', 0.003387451171875, 'python list look: ', 0.003387451171875, 'python list look: ', 0.003387451171875, 'python list look: ', 0.003387451171875, 'python list look: ', 0.003387451171875, 'python list look: ', 0.003387451171875, 'python list look: ', 0.003387451171875, 'python list look: ', 0.003387451171875, 'python list look: ', 0.003387451171875, 'python list look: ', 0.003387451171875, 'python list look: ', 0.003387451171875, 'python list look: ', 0.003387451171875, 'python list look: ', 0.003387451171875, 'python list look: ', 0.003387451171875, 'python list look: ', 0.003387451171875, 'python list look: ', 0.003387451171875, 'python list look: ', 0.003387451171875, 'python list look: ', 0.003387451171875, 'python list look: ', 0.003387451171875, 'python list look: ', 0.003387451171875, 'python list look: ', 0.003387451171875, 'python list look: ', 0.003387451171875, 'python list look: ', 0.003387451171875, 'python list look: ', 0.003387451171875, 'python list look: ', 0.003387451171875, 'python list look: ', 0.003387451171875, 'python list look: ', 0.003387451171875, 'python list look: ', 0.003387451171875, 'python list look: ', 0.003387451171875, 'python list look: ', 0.003387451171875, 'python list look: ', 0.003387451171875, 'python list look: ', 0.003387451171875, 'python list look: ', 0.003387451171875, 'python list look: ', 0.003387451171875, 'python list look: ', 0.003387451171875, 'python list look: ', 0.003387451171875, 'python list look: ', 0.003387451171875, 'python list look: ', 0.003387451171875, 'python list look: ', 0.003387451171875, 'python list look: ', 0.003387451171875, 'python list look: ', 0.003387451171875, 'python list look: ', 0.003387451171875, 'python list look: ', 0.003387451171875, 'python list look: ', 0.003387451171875, 'python list look: ', 0.003387451171875, 'python list look: ', 0.003387451171875, 'python list look: ', 0.003387451171875, 'python list look: ', 0.003387451171875, 'python list look: ', 0.003387451171875, 'python list look: ', 0.003387451171875, 'python list look: ', 0.003387451171875, 'python list look: ', 0.003387451171875, 'python list look: ', 0.003387451171875, 'python list look: ', 0.003387451171875, 'python list look: ', 0.003387451171875, 'python list look: ', 0.003387451171875, 'python list look: ', 0.003387451171875, 'python list look: ', 0.003387451171875, 'python list look: ', 0.003387451171875, 'python list look: ', 0.003387451171875, 'python list look: ', 0.003387451171875, 'python list look: ', 0.003387451171875, 'python list look: ', 0.003387451171875, 'python list look: ', 0.003387451171875, 'python list look: ', 0.003387451171875, 'python list look: ', 0.003387451171875, 'python list look: ', 0.003387451171875, 'python list look: ', 0.003387451171875, 'python list look: ', 0.003387451171875, 'python list look: ', 0.003387451171875, 'python list look: ', 0.003387451171875, 'python list look: ', 0.003387451171875, 'python list look: ', 0.003387451171875, 'python list look: ', 0.003387451171875, 'python list look: ', 0.003387451171875, 'python list look: ', 0.003387451171875, 'python list look: ', 0.003387451171875, 'python list look: ', 0.003387451171875, 'python list look: ', 0.003387451171875, 'python list look: ', 0.003387451171875, 'python list look: ', 0.003387451171875, 'python list look: ', 0.003387451171875, 'python list look: ', 0.003387451171875, 'python list look: ', 0.003387451171875, 'python list look: ', 0.003387451171875, 'python list look: ', 0.003387451171875, 'python list look: ', 0.003387451171875, 'python list look: ', 0.003387451171875, 'python list look: ', 0.003387451171875, 'python list look: ', 0.003387451171875, 'python list look: ', 0.003387451171875, 'python list look: ', 0.003387451171875, 'python list look: ', 0.003387451171875, 'python list look: ', 0.003387451171875, 'python list look: ', 0.003387451171875, 'python list look: ', 0.003387451171875, 'python list look: ', 0.003387451171875, 'python list look: ', 0.003387451171875, 'python list look: ', 0.003387451171875, 'python list look: ', 0.003387451171875, 'python list look: ', 0.003387451171875, 'python list look: ', 0.003387451171875, 'python list look: ', 0.003387451171875, 'python list look: ', 0.003387451171875, 'python list look: ', 0.003387451171875, 'python list look: ', 0.003387451171875, 'python list look: ', 0.003387451171875, 'python list look: ', 0.003387451171875, 'python list look: ', 0.003387451171875, 'python list look: ', 0.003387451171875, 'python list look: ', 0.003387451171875, 'python list look: ', 0.003387451171875, 'python list look: ', 0.003387451171875, 'python list look: ', 0.003387451171875, 'python list look: ', 0.003387451171875, 'python list look: ', 0.003387451171875, 'python list look: ', 0.003387451171875, 'python list look: ', 0.003387451171875, 'python list look: ', 0.003387451171875, 'python list look: ', 0.003387451171875, 'python list look: ', 0.003387451171875, 'python list look: ', 0.003387451171875, 'python list look: ', 0.003387451171875, 'python list look: ', 0.003387451171875, 'python list look: ', 0.003387451171875, 'python list look: ', 0.003387451171875, 'python list look: ', 0.003387451171875, 'python list look: ', 0.003387451171875, 'python list look: ', 0.003387451171875, 'python list look: ', 0.003387451171875, 'python list look: ', 0.003387451171875, 'python list look: ', 0.003387451171875, 'python list look: ', 0.003387451171875, 'python list look: ', 0.003387451171875, 'python list look: ', 0.003387451171875, 'python list look: ', 0.003387451171875, 'python list look: ', 0.003387451171875, 'python list look: ', 0.003387451171875, 'python list look: ', 0.003387451171875, 'python list look: ', 0.003387451171875, 'python list look: ', 0.003387451171875, 'python list look: ', 0.003387451171875, 'python list look: ', 0.003387451171875, 'python list look: ', 0.003387451171875, 'python list look: ', 0.003387451171875, 'python list look: ', 0.003387451171875, 'python list look: ', 0.003387451171875, 'python list look: ', 0.003387451171875, 'python list look: ', 0.003387451171875, 'python list look: ', 0.003387451171875, 'python list look: ', 0.003387451171875, 'python list look: ', 0.003387451171875, 'python list look: ', 0.003387451171875, 'python list look: ', 0.003387451171875, 'python list look: ', 0.003387451171875, 'python list look: ', 0.003387451171875, 'python list look: ', 0.003387451171875, 'python list look: ', 0.003387451171875, 'python list look: ', 0.003387451171875, 'python list look: ', 0.003387451171875, 'python list look: ', 0.003387451171875, 'python list look: ', 0.003387451171875, 'python list look: ', 0.003387451171875, 'python list look: ', 0.003387451171875, 'python list look: ', 0.003387451171875, 'python list look: ', 0.003387451171875, 'python list look: ', 0.003387451171875, 'python list look: ', 0.003387451171875, 'python list look: ', 0.003387451171875, 'python list look: ', 0.003387451171875, 'python list look: ', 0.003387451171875, 'python list look: ', 0.003387451171875, 'python list look: ', 0.003387451171875, 'python list look: ', 0.003387451171875, 'python list look: ', 0.003387451171875, 'python list look: ', 0.003387451171875, 'python list look: ', 0.003387451171875, 'python list look: ', 0.003387451171875, 'python list look: ', 0.003387451171875, 'python list look: ', 0.003387451171875, 'python list look: ', 0.003387451171875, 'python list look: ', 0.003387451171875, 'python list look: ', 0.003387451171875, 'python list look: ', 0.003387451171875, 'python list look: ', 0.003387451171875, 'python list look: ', 0.003387451171875, 'python list look: ', 0.003387451171875, 'python list look: ', 0.003387451171875, 'python list look: ', 0.003387451171875, 'python list look: ', 0.003387451171875, 'python list look: ', 0.003387451171875, 'python list look: ', 0.003387451171875, 'python list look: ', 0.003387451171875, 'python list look: ', 0.003387451171875, 'python list look: ', 0.003387451171875, 'python list look: ', 0.003387451171875, 'python list look: ', 0.003387451171875, 'python list look: ', 0.003387451171875, 'python list look: ', 0.003387451171875, 'python list look: ', 0.003387451171875, 'python list look: ', 0.003387451171875, 'python list look: ', 0.003387451171875, 'python list look: ', 0.003387451171875, 'python list look: ', 0.003387451171875, 'python list look: ', 0.003387451171875, 'python list look: ', 0.003387451171875, 'python list look: ', 0.003387451171875, 'python list look: ', 0.003387451171875, 'python list look: ', 0.003387451171875, 'python list look: ', 0.003387451171875, 'python list look: ', 0.003387451171875, 'python list look: ', 0.003387451171875, 'python list look: ', 0.003387451171875, 'python list look: ', 0.003387451171875, 'python list look: ', 0.003387451171875, 'python list look: ', 0.003387451171875, 'python list look: ', 0.003387451171875, 'python list look: ', 0.003387451171875, 'python list look: ', 0.003387451171875, 'python list look: ', 0.003387451171875, 'python list look: ', 0.003387451171875, 'python list look: ', 0.003387451171875, 'python list look: ', 0.003387451171875, 'python list look: ', 0.003387451171875, 'python list look: ', 0.003387451171875, 'python list look: ', 0.003387451171875, 'python list look: ', 0.003387451171875, 'python list look: ', 0.003387451171875, 'python list look: ', 0.003387451171875, 'python list look: ', 0.003387451171875, 'python list look: ', 0.003387451171875, 'python list look: ', 0.003387451171875, 'python list look: ', 0.003387451171875, 'python list look: ', 0.003387451171875, 'python list look: ', 0.003387451171875, 'python list look: ', 0.003387451171875, 'python list look: ', 0.003387451171875, 'python list look: ', 0.003387451171875, 'python list look: ', 0.003387451171875, 'python list look: ', 0.003387451171875, 'python list look: ', 0.003387451171875, 'python list look: ', 0.003387451171875, 'python list look: ', 0.003387451171875, 'python list look: ', 0.003387451171875, 'python list look: ', 0.003387451171875, 'python list look: ', 0.003387451171875, 'python list look: ', 0.003387451171875, 'python list look: ', 0.003387451171875, 'python list look: ', 0.003387451171875, 'python list look: ', 0.003387451171875, 'python list look: ', 0.003387451171875, 'python list look: ', 0.003387451171875, 'python list look: ', 0.003387451171875, 'python list look: ', 0.003387451171875, 'python list look: ', 0.003387451171875, 'python list look: ', 0.003387451171875, 'python list look: ', 0.003387451171875, 'python list look: ', 0.003387451171875, 'python list look: ', 0.003387451171875, 'python list look: ', 0.003387451171875, 'python list look: ', 0.003387451171875, 'python list look: ', 0.003387451171875, 'python list look: ', 0.003387451171875, 'python list look: ', 0.003387451171875, 'python list look: ', 0.003387451171875, 'python list look: ', 0.003387451171875, 'python list look: ', 0.003387451171875, 'python list look: ', 0.003387451171875, 'python list look: ', 0.003387451171875, 'python list look: ', 0.003387451171875, 'python list look: ', 0.003387451171875, 'python list look: ', 0.003387451171875, 'python list look: ', 0.003387451171875, 'python list look: ', 0.003387451171875, 'python list look: ', 0.003387451171875, 'python list look: ', 0.003387451171875, 'python list look: ', 0.003387451171875, 'python list look: ', 0.003387451171875, 'python list look: ', 0.003387451171875, 'python list look: ', 0.003387451171875, 'python list look: ', 0.003387451171875, 'python list look: ', 0.003387451171875, 'python list look: ', 0.003387451171875, 'python list look: ', 0.003387451171875, 'python list look: ', 0.003387451171875, 'python list look: ', 0.003387451171875, 'python list look: ', 0.003387451171875, 'python list look: ', 0.003387451171875, 'python list look: ', 0.003387451171875, 'python list look: ', 0.003387451171875, 'python list look: ', 0.003387451171875, 'python list look: ', 0.003387451171875, 'python list look: ', 0.003387451171875, 'python list look: ', 0.003387451171875, 'python list look: ', 0.003387451171875, 'python list look: ', 0.003387451171875, 'python list look: ', 0.003387451171875, 'python list look: ', 0.003387451171875, 'python list look: ', 0.003387451171875, 'python list look: ', 0.003387451171875, 'python list look: ', 0.003387451171875, 'python list look: ', 0.003387451171875, 'python list look: ', 0.003387451171875, 'python list look: ', 0.003387451171875, 'python list look: ', 0.003387451171875, 'python list look: ', 0.003387451171875, 'python list look: ', 0.003387451171875, 'python list look: ', 0.003387451171875, 'python list look: ', 0.003387451171875, 'python list look: ', 0.003387451171875, 'python list look: ', 0.003387451171875, 'python list look: ', 0.003387451171875, 'python list look: ', 0.003387451171875, 'python list look: ', 0.003387451171875, 'python list look: ', 0.003387451171875, 'python list look: ', 0.003387451171875, 'python list look: ', 0.003387451171875, 'python list look: ', 0.003387451171875, 'python list look: ', 0.003387451171875, 'python list look: ', 0.003387451171875, 'python list look: ', 0.003387451171875, 'python list look: ', 0.003387451171875, 'python list look: ', 0.003387451171875, 'python list look: ', 0.003387451171875, 'python list look: ', 0.003387451171875, 'python list look: ', 0.003387451171875, 'python list look: ', 0.003387451171875, 'python list look: ', 0.003387451171875, 'python list look: ', 0.003387451171875, 'python list look: ', 0.003387451171875, 'python list look: ', 0.003387451171875, 'python list look: ', 0.003387451171875, 'python list look: ', 0.003387451171875, 'python list look: ', 0.003387451171875, 'python list look: ', 0.003387451171875, 'python list look: ', 0.003387451171875, 'python list look: ', 0.003387451171875, 'python list look: ', 0.003387451171875, 'python list look: ', 0.003387451171875, 'python list look: ', 0.003387451171875, 'python list look: ', 0.003387451171875, 'python list look: ', 0.003387451171875, 'python list look: ', 0.003387451171875, 'python list look: ', 0.003387451171875, 'python list look: ', 0.003387451171875, 'python list look: ', 0.003387451171875, 'python list look: ', 0.003387451171875, 'python list look: ', 0.003387451171875, 'python list look: ', 0.003387451171875, 'python list look: ', 0.003387451171875, 'python list look: ', 0.003387451171875, 'python list look: ', 0.003387451171875, 'python list look: ', 0.003387451171875, 'python list look: ', 0.003387451171875, 'python list look: ', 0.003387451171875, 'python list look: ', 0.003387451171875, 'python list look: ', 0.003387451171875, 'python list look: ', 0.003387451171875, 'python list look: ', 0.003387451171875, 'python list look: ', 0.003387451171875, 'python list look: ', 0.003387451171875, 'python list look: ', 0.003387451171875, 'python list look: ', 0.003387451171875, 'python list look: ', 0.003387451171875, 'python list look: ', 0.003387451171875, 'python list look: ', 0.003387451171875, 'python list look: ', 0.003387451171875, 'python list look: ', 0.003387451171875, 'python list look: ', 0.003387451171875, 'python list look: ', 0.003387451171875, 'python list look: ', 0.003387451171875, 'python list look: ', 0.003387451171875, 'python list look: ', 0.003387451171875, 'python list look: ', 0.003387451171875, 'python list look: ', 0.003387451171875, 'python list look: ', 0.003387451171875, 'python list look: ', 0.003387451171875, 'python list look: ', 0.003387451171875, 'python list look: ', 0.003387451171875, 'python list look: ', 0.003387451171875, 'python list look: ', 0.003387451171875, 'python list look: ', 0.003387451171875, 'python list look: ', 0.003387451171875, 'python list look: ', 0.003387451171875, 'python list look: ', 0.003387451171875, 'python list look: ', 0.003387451171875, 'python list look: ', 0.003387451171875, 'python list look: ', 0.003387451171875, 'python list look: ', 0.003387451171875, 'python list look: ', 0.003387451171875, 'python list look: ', 0.003387451171875, 'python list look: ', 0.003387451171875, 'python list look: ', 0.003387451171875, 'python list look: ', 0.003387451171875, 'python list look: ', 0.003387451171875, 'python list look: ', 0.003387451171875, 'python list look: ', 0.003387451171875, 'python list look: ', 0.003387451171875, 'python list look: ', 0.003387451171875, 'python list look: ', 0.003387451171875, 'python list look: ', 0.003387451171875, 'python list look: ', 0.003387451171875, 'python list look: ', 0.003387451171875, 'python list look: ', 0.003387451171875, 'python list look: ', 0.003387451171875, 'python list look: ', 0.003387451171875, 'python list look: ', 0.003387451171875, 'python list look: ', 0.003387451171875, 'python list look: ', 0.003387451171875, 'python list look: ', 0.003387451171875, 'python list look: ', 0.003387451171875, 'python list look: ', 0.003387451171875, 'python list look: ', 0.003387451171875, 'python list look: ', 0.003387451171875, 'python list look: ', 0.003387451171875, 'python list look: ', 0.003387451171875, 'python list look: ', 0.003387451171875, 'python list look: ', 0.003387451171875, 'python list look: ', 0.003387451171875, 'python list look: ', 0.003387451171875, 'python list look: ', 0.003387451171875, 'python list look: ', 0.003387451171875, 'python list look: ', 0.003387451171875, 'python list look: ', 0.003387451171875, 'python list look: ', 0.003387451171875, 'python list look: ', 0.003387451171875, 'python list look: ', 0.003387451171875, 'python list look: ', 0.003387451171875, 'python list look: ', 0.003387451171875, 'python list look: ', 0.003387451171875, 'python list look: ', 0.003387451171875, 'python list look: ', 0.003387451171875, 'python list look: ', 0.003387451171875, 'python list look: ', 0.003387451171875, 'python list look: ', 0.003387451171875, 'python list look: ', 0.003387451171875, 'python list look: ', 0.003387451171875, 'python list look: ', 0.003387451171875, 'python list look: ', 0.003387451171875, 'python list look: ', 0.003387451171875, 'python list look: ', 0.003387451171875, 'python list look: ', 0.003387451171875, 'python list look: ', 0.003387451171875, 'python list look: ', 0.003387451171875, 'python list look: ', 0.003387451171875, 'python list look: ', 0.003387451171875, 'python list look: ', 0.003387451171875, 'python list look: ', 0.003387451171875, 'python list look: ', 0.003387451171875, 'python list look: ', 0.003387451171875, 'python list look: ', 0.003387451171875, 'python list look: ', 0.003387451171875, 'python list look: ', 0.003387451171875, 'python list look: ', 0.003387451171875, 'python list look: ', 0.003387451171875, 'python list look: ', 0.003387451171875, 'python list look: ', 0.003387451171875, 'python list look: ', 0.003387451171875, 'python list look: ', 0.003387451171875, 'python list look: ', 0.003387451171875, 'python list look: ', 0.003387451171875, 'python list look: ', 0.003387451171875, 'python list look: ', 0.003387451171875, 'python list look: ', 0.003387451171875, 'python list look: ', 0.003387451171875, 'python list look: ', 0.003387451171875, 'python list look: ', 0.003387451171875, 'python list look: ', 0.003387451171875, 'python list look: ', 0.003387451171875, 'python list look: ', 0.003387451171875, 'python list look: ', 0.003387451171875, 'python list look: ', 0.003387451171875, 'python list look: ', 0.003387451171875, 'python list look: ', 0.003387451171875, 'python list look: ', 0.003387451171875, 'python list look: ', 0.003387451171875, 'python list look: ', 0.003387451171875, 'python list look: ', 0.003387451171875, 'python list look: ', 0.003387451171875, 'python list look: ', 0.003387451171875, 'python list look: ', 0.003387451171875, 'python list look: ', 0.003387451171875, 'python list look: ', 0.003387451171875, 'python list look: ', 0.003387451171875, 'python list look: ', 0.003387451171875, 'python list look: ', 0.003387451171875, 'python list look: ', 0.003387451171875, 'python list look: ', 0.003387451171875, 'python list look: ', 0.003387451171875, 'python list look: ', 0.003387451171875, 'python list look: ', 0.003387451171875, 'python list look: ', 0.003387451171875, 'python list look: ', 0.003387451171875, 'python list look: ', 0.003387451171875, 'python list look: ', 0.003387451171875, 'python list look: ', 0.003387451171875, 'python list look: ', 0.003387451171875, 'python list look: ', 0.003387451171875, 'python list look: ', 0.003387451171875, 'python list look: ', 0.003387451171875, 'python list look: ', 0.003387451171875, 'python list look: ', 0.003387451171875, 'python list look: ', 0.003387451171875, 'python list look: ', 0.003387451171875, 'python list look: ', 0.003387451171875, 'python list look: ', 0.003387451171875, 'python list look: ', 0.003387451171875, 'python list look: ', 0.003387451171875, 'python list look: ', 0.003387451171875, 'python list look: ', 0.003387451171875, 'python list look: ', 0.003387451171875, 'python list look: ', 0.003387451171875, 'python list look: ', 0.003387451171875, 'python list look: ', 0.003387451171875, 'python list look: ', 0.003387451171875, 'python list look: ', 0.003387451171875, 'python list look: ', 0.003387451171875, 'python list look: ', 0.003387451171875, 'python list look: ', 0.003387451171875, 'python list look: ', 0.003387451171875, 'python list look: ', 0.003387451171875, 'python list look: ', 0.003387451171875, 'python list look: ', 0.003387451171875, 'python list look: ', 0.003387451171875, 'python list look: ', 0.003387451171875, 'python list look: ', 0.003387451171875, 'python list look: ', 0.003387451171875, 'python list look: ', 0.003387451171875, 'python list look: ', 0.003387451171875)\n"
          ],
          "name": "stdout"
        }
      ]
    },
    {
      "cell_type": "code",
      "metadata": {
        "colab": {
          "base_uri": "https://localhost:8080/"
        },
        "id": "Ij4zSf1oyMYC",
        "outputId": "6cb550d9-41a2-4b15-e7d7-edf3e8e7e415"
      },
      "source": [
        "start = time.time()\n",
        "result = [(x + y) for x,y in zip(l1,l2)]\n",
        "print(result)\n",
        "print((\"python list look: \", time.time()-start)*1000)\n"
      ],
      "execution_count": 26,
      "outputs": [
        {
          "output_type": "stream",
          "text": [
            "[0, 2, 4, 6, 8, 10, 12, 14, 16, 18, 20, 22, 24, 26, 28, 30, 32, 34, 36, 38, 40, 42, 44, 46, 48, 50, 52, 54, 56, 58, 60, 62, 64, 66, 68, 70, 72, 74, 76, 78, 80, 82, 84, 86, 88, 90, 92, 94, 96, 98, 100, 102, 104, 106, 108, 110, 112, 114, 116, 118, 120, 122, 124, 126, 128, 130, 132, 134, 136, 138, 140, 142, 144, 146, 148, 150, 152, 154, 156, 158, 160, 162, 164, 166, 168, 170, 172, 174, 176, 178, 180, 182, 184, 186, 188, 190, 192, 194, 196, 198, 200, 202, 204, 206, 208, 210, 212, 214, 216, 218, 220, 222, 224, 226, 228, 230, 232, 234, 236, 238, 240, 242, 244, 246, 248, 250, 252, 254, 256, 258, 260, 262, 264, 266, 268, 270, 272, 274, 276, 278, 280, 282, 284, 286, 288, 290, 292, 294, 296, 298, 300, 302, 304, 306, 308, 310, 312, 314, 316, 318, 320, 322, 324, 326, 328, 330, 332, 334, 336, 338, 340, 342, 344, 346, 348, 350, 352, 354, 356, 358, 360, 362, 364, 366, 368, 370, 372, 374, 376, 378, 380, 382, 384, 386, 388, 390, 392, 394, 396, 398, 400, 402, 404, 406, 408, 410, 412, 414, 416, 418, 420, 422, 424, 426, 428, 430, 432, 434, 436, 438, 440, 442, 444, 446, 448, 450, 452, 454, 456, 458, 460, 462, 464, 466, 468, 470, 472, 474, 476, 478, 480, 482, 484, 486, 488, 490, 492, 494, 496, 498, 500, 502, 504, 506, 508, 510, 512, 514, 516, 518, 520, 522, 524, 526, 528, 530, 532, 534, 536, 538, 540, 542, 544, 546, 548, 550, 552, 554, 556, 558, 560, 562, 564, 566, 568, 570, 572, 574, 576, 578, 580, 582, 584, 586, 588, 590, 592, 594, 596, 598, 600, 602, 604, 606, 608, 610, 612, 614, 616, 618, 620, 622, 624, 626, 628, 630, 632, 634, 636, 638, 640, 642, 644, 646, 648, 650, 652, 654, 656, 658, 660, 662, 664, 666, 668, 670, 672, 674, 676, 678, 680, 682, 684, 686, 688, 690, 692, 694, 696, 698, 700, 702, 704, 706, 708, 710, 712, 714, 716, 718, 720, 722, 724, 726, 728, 730, 732, 734, 736, 738, 740, 742, 744, 746, 748, 750, 752, 754, 756, 758, 760, 762, 764, 766, 768, 770, 772, 774, 776, 778, 780, 782, 784, 786, 788, 790, 792, 794, 796, 798, 800, 802, 804, 806, 808, 810, 812, 814, 816, 818, 820, 822, 824, 826, 828, 830, 832, 834, 836, 838, 840, 842, 844, 846, 848, 850, 852, 854, 856, 858, 860, 862, 864, 866, 868, 870, 872, 874, 876, 878, 880, 882, 884, 886, 888, 890, 892, 894, 896, 898, 900, 902, 904, 906, 908, 910, 912, 914, 916, 918, 920, 922, 924, 926, 928, 930, 932, 934, 936, 938, 940, 942, 944, 946, 948, 950, 952, 954, 956, 958, 960, 962, 964, 966, 968, 970, 972, 974, 976, 978, 980, 982, 984, 986, 988, 990, 992, 994, 996, 998, 1000, 1002, 1004, 1006, 1008, 1010, 1012, 1014, 1016, 1018, 1020, 1022, 1024, 1026, 1028, 1030, 1032, 1034, 1036, 1038, 1040, 1042, 1044, 1046, 1048, 1050, 1052, 1054, 1056, 1058, 1060, 1062, 1064, 1066, 1068, 1070, 1072, 1074, 1076, 1078, 1080, 1082, 1084, 1086, 1088, 1090, 1092, 1094, 1096, 1098, 1100, 1102, 1104, 1106, 1108, 1110, 1112, 1114, 1116, 1118, 1120, 1122, 1124, 1126, 1128, 1130, 1132, 1134, 1136, 1138, 1140, 1142, 1144, 1146, 1148, 1150, 1152, 1154, 1156, 1158, 1160, 1162, 1164, 1166, 1168, 1170, 1172, 1174, 1176, 1178, 1180, 1182, 1184, 1186, 1188, 1190, 1192, 1194, 1196, 1198, 1200, 1202, 1204, 1206, 1208, 1210, 1212, 1214, 1216, 1218, 1220, 1222, 1224, 1226, 1228, 1230, 1232, 1234, 1236, 1238, 1240, 1242, 1244, 1246, 1248, 1250, 1252, 1254, 1256, 1258, 1260, 1262, 1264, 1266, 1268, 1270, 1272, 1274, 1276, 1278, 1280, 1282, 1284, 1286, 1288, 1290, 1292, 1294, 1296, 1298, 1300, 1302, 1304, 1306, 1308, 1310, 1312, 1314, 1316, 1318, 1320, 1322, 1324, 1326, 1328, 1330, 1332, 1334, 1336, 1338, 1340, 1342, 1344, 1346, 1348, 1350, 1352, 1354, 1356, 1358, 1360, 1362, 1364, 1366, 1368, 1370, 1372, 1374, 1376, 1378, 1380, 1382, 1384, 1386, 1388, 1390, 1392, 1394, 1396, 1398, 1400, 1402, 1404, 1406, 1408, 1410, 1412, 1414, 1416, 1418, 1420, 1422, 1424, 1426, 1428, 1430, 1432, 1434, 1436, 1438, 1440, 1442, 1444, 1446, 1448, 1450, 1452, 1454, 1456, 1458, 1460, 1462, 1464, 1466, 1468, 1470, 1472, 1474, 1476, 1478, 1480, 1482, 1484, 1486, 1488, 1490, 1492, 1494, 1496, 1498, 1500, 1502, 1504, 1506, 1508, 1510, 1512, 1514, 1516, 1518, 1520, 1522, 1524, 1526, 1528, 1530, 1532, 1534, 1536, 1538, 1540, 1542, 1544, 1546, 1548, 1550, 1552, 1554, 1556, 1558, 1560, 1562, 1564, 1566, 1568, 1570, 1572, 1574, 1576, 1578, 1580, 1582, 1584, 1586, 1588, 1590, 1592, 1594, 1596, 1598, 1600, 1602, 1604, 1606, 1608, 1610, 1612, 1614, 1616, 1618, 1620, 1622, 1624, 1626, 1628, 1630, 1632, 1634, 1636, 1638, 1640, 1642, 1644, 1646, 1648, 1650, 1652, 1654, 1656, 1658, 1660, 1662, 1664, 1666, 1668, 1670, 1672, 1674, 1676, 1678, 1680, 1682, 1684, 1686, 1688, 1690, 1692, 1694, 1696, 1698, 1700, 1702, 1704, 1706, 1708, 1710, 1712, 1714, 1716, 1718, 1720, 1722, 1724, 1726, 1728, 1730, 1732, 1734, 1736, 1738, 1740, 1742, 1744, 1746, 1748, 1750, 1752, 1754, 1756, 1758, 1760, 1762, 1764, 1766, 1768, 1770, 1772, 1774, 1776, 1778, 1780, 1782, 1784, 1786, 1788, 1790, 1792, 1794, 1796, 1798, 1800, 1802, 1804, 1806, 1808, 1810, 1812, 1814, 1816, 1818, 1820, 1822, 1824, 1826, 1828, 1830, 1832, 1834, 1836, 1838, 1840, 1842, 1844, 1846, 1848, 1850, 1852, 1854, 1856, 1858, 1860, 1862, 1864, 1866, 1868, 1870, 1872, 1874, 1876, 1878, 1880, 1882, 1884, 1886, 1888, 1890, 1892, 1894, 1896, 1898, 1900, 1902, 1904, 1906, 1908, 1910, 1912, 1914, 1916, 1918, 1920, 1922, 1924, 1926, 1928, 1930, 1932, 1934, 1936, 1938, 1940, 1942, 1944, 1946, 1948, 1950, 1952, 1954, 1956, 1958, 1960, 1962, 1964, 1966, 1968, 1970, 1972, 1974, 1976, 1978, 1980, 1982, 1984, 1986, 1988, 1990, 1992, 1994, 1996, 1998, 2000, 2002, 2004, 2006, 2008, 2010, 2012, 2014, 2016, 2018, 2020, 2022, 2024, 2026, 2028, 2030, 2032, 2034, 2036, 2038, 2040, 2042, 2044, 2046, 2048, 2050, 2052, 2054, 2056, 2058, 2060, 2062, 2064, 2066, 2068, 2070, 2072, 2074, 2076, 2078, 2080, 2082, 2084, 2086, 2088, 2090, 2092, 2094, 2096, 2098, 2100, 2102, 2104, 2106, 2108, 2110, 2112, 2114, 2116, 2118, 2120, 2122, 2124, 2126, 2128, 2130, 2132, 2134, 2136, 2138, 2140, 2142, 2144, 2146, 2148, 2150, 2152, 2154, 2156, 2158, 2160, 2162, 2164, 2166, 2168, 2170, 2172, 2174, 2176, 2178, 2180, 2182, 2184, 2186, 2188, 2190, 2192, 2194, 2196, 2198, 2200, 2202, 2204, 2206, 2208, 2210, 2212, 2214, 2216, 2218, 2220, 2222, 2224, 2226, 2228, 2230, 2232, 2234, 2236, 2238, 2240, 2242, 2244, 2246, 2248, 2250, 2252, 2254, 2256, 2258, 2260, 2262, 2264, 2266, 2268, 2270, 2272, 2274, 2276, 2278, 2280, 2282, 2284, 2286, 2288, 2290, 2292, 2294, 2296, 2298, 2300, 2302, 2304, 2306, 2308, 2310, 2312, 2314, 2316, 2318, 2320, 2322, 2324, 2326, 2328, 2330, 2332, 2334, 2336, 2338, 2340, 2342, 2344, 2346, 2348, 2350, 2352, 2354, 2356, 2358, 2360, 2362, 2364, 2366, 2368, 2370, 2372, 2374, 2376, 2378, 2380, 2382, 2384, 2386, 2388, 2390, 2392, 2394, 2396, 2398, 2400, 2402, 2404, 2406, 2408, 2410, 2412, 2414, 2416, 2418, 2420, 2422, 2424, 2426, 2428, 2430, 2432, 2434, 2436, 2438, 2440, 2442, 2444, 2446, 2448, 2450, 2452, 2454, 2456, 2458, 2460, 2462, 2464, 2466, 2468, 2470, 2472, 2474, 2476, 2478, 2480, 2482, 2484, 2486, 2488, 2490, 2492, 2494, 2496, 2498, 2500, 2502, 2504, 2506, 2508, 2510, 2512, 2514, 2516, 2518, 2520, 2522, 2524, 2526, 2528, 2530, 2532, 2534, 2536, 2538, 2540, 2542, 2544, 2546, 2548, 2550, 2552, 2554, 2556, 2558, 2560, 2562, 2564, 2566, 2568, 2570, 2572, 2574, 2576, 2578, 2580, 2582, 2584, 2586, 2588, 2590, 2592, 2594, 2596, 2598, 2600, 2602, 2604, 2606, 2608, 2610, 2612, 2614, 2616, 2618, 2620, 2622, 2624, 2626, 2628, 2630, 2632, 2634, 2636, 2638, 2640, 2642, 2644, 2646, 2648, 2650, 2652, 2654, 2656, 2658, 2660, 2662, 2664, 2666, 2668, 2670, 2672, 2674, 2676, 2678, 2680, 2682, 2684, 2686, 2688, 2690, 2692, 2694, 2696, 2698, 2700, 2702, 2704, 2706, 2708, 2710, 2712, 2714, 2716, 2718, 2720, 2722, 2724, 2726, 2728, 2730, 2732, 2734, 2736, 2738, 2740, 2742, 2744, 2746, 2748, 2750, 2752, 2754, 2756, 2758, 2760, 2762, 2764, 2766, 2768, 2770, 2772, 2774, 2776, 2778, 2780, 2782, 2784, 2786, 2788, 2790, 2792, 2794, 2796, 2798, 2800, 2802, 2804, 2806, 2808, 2810, 2812, 2814, 2816, 2818, 2820, 2822, 2824, 2826, 2828, 2830, 2832, 2834, 2836, 2838, 2840, 2842, 2844, 2846, 2848, 2850, 2852, 2854, 2856, 2858, 2860, 2862, 2864, 2866, 2868, 2870, 2872, 2874, 2876, 2878, 2880, 2882, 2884, 2886, 2888, 2890, 2892, 2894, 2896, 2898, 2900, 2902, 2904, 2906, 2908, 2910, 2912, 2914, 2916, 2918, 2920, 2922, 2924, 2926, 2928, 2930, 2932, 2934, 2936, 2938, 2940, 2942, 2944, 2946, 2948, 2950, 2952, 2954, 2956, 2958, 2960, 2962, 2964, 2966, 2968, 2970, 2972, 2974, 2976, 2978, 2980, 2982, 2984, 2986, 2988, 2990, 2992, 2994, 2996, 2998, 3000, 3002, 3004, 3006, 3008, 3010, 3012, 3014, 3016, 3018, 3020, 3022, 3024, 3026, 3028, 3030, 3032, 3034, 3036, 3038, 3040, 3042, 3044, 3046, 3048, 3050, 3052, 3054, 3056, 3058, 3060, 3062, 3064, 3066, 3068, 3070, 3072, 3074, 3076, 3078, 3080, 3082, 3084, 3086, 3088, 3090, 3092, 3094, 3096, 3098, 3100, 3102, 3104, 3106, 3108, 3110, 3112, 3114, 3116, 3118, 3120, 3122, 3124, 3126, 3128, 3130, 3132, 3134, 3136, 3138, 3140, 3142, 3144, 3146, 3148, 3150, 3152, 3154, 3156, 3158, 3160, 3162, 3164, 3166, 3168, 3170, 3172, 3174, 3176, 3178, 3180, 3182, 3184, 3186, 3188, 3190, 3192, 3194, 3196, 3198, 3200, 3202, 3204, 3206, 3208, 3210, 3212, 3214, 3216, 3218, 3220, 3222, 3224, 3226, 3228, 3230, 3232, 3234, 3236, 3238, 3240, 3242, 3244, 3246, 3248, 3250, 3252, 3254, 3256, 3258, 3260, 3262, 3264, 3266, 3268, 3270, 3272, 3274, 3276, 3278, 3280, 3282, 3284, 3286, 3288, 3290, 3292, 3294, 3296, 3298, 3300, 3302, 3304, 3306, 3308, 3310, 3312, 3314, 3316, 3318, 3320, 3322, 3324, 3326, 3328, 3330, 3332, 3334, 3336, 3338, 3340, 3342, 3344, 3346, 3348, 3350, 3352, 3354, 3356, 3358, 3360, 3362, 3364, 3366, 3368, 3370, 3372, 3374, 3376, 3378, 3380, 3382, 3384, 3386, 3388, 3390, 3392, 3394, 3396, 3398, 3400, 3402, 3404, 3406, 3408, 3410, 3412, 3414, 3416, 3418, 3420, 3422, 3424, 3426, 3428, 3430, 3432, 3434, 3436, 3438, 3440, 3442, 3444, 3446, 3448, 3450, 3452, 3454, 3456, 3458, 3460, 3462, 3464, 3466, 3468, 3470, 3472, 3474, 3476, 3478, 3480, 3482, 3484, 3486, 3488, 3490, 3492, 3494, 3496, 3498, 3500, 3502, 3504, 3506, 3508, 3510, 3512, 3514, 3516, 3518, 3520, 3522, 3524, 3526, 3528, 3530, 3532, 3534, 3536, 3538, 3540, 3542, 3544, 3546, 3548, 3550, 3552, 3554, 3556, 3558, 3560, 3562, 3564, 3566, 3568, 3570, 3572, 3574, 3576, 3578, 3580, 3582, 3584, 3586, 3588, 3590, 3592, 3594, 3596, 3598, 3600, 3602, 3604, 3606, 3608, 3610, 3612, 3614, 3616, 3618, 3620, 3622, 3624, 3626, 3628, 3630, 3632, 3634, 3636, 3638, 3640, 3642, 3644, 3646, 3648, 3650, 3652, 3654, 3656, 3658, 3660, 3662, 3664, 3666, 3668, 3670, 3672, 3674, 3676, 3678, 3680, 3682, 3684, 3686, 3688, 3690, 3692, 3694, 3696, 3698, 3700, 3702, 3704, 3706, 3708, 3710, 3712, 3714, 3716, 3718, 3720, 3722, 3724, 3726, 3728, 3730, 3732, 3734, 3736, 3738, 3740, 3742, 3744, 3746, 3748, 3750, 3752, 3754, 3756, 3758, 3760, 3762, 3764, 3766, 3768, 3770, 3772, 3774, 3776, 3778, 3780, 3782, 3784, 3786, 3788, 3790, 3792, 3794, 3796, 3798, 3800, 3802, 3804, 3806, 3808, 3810, 3812, 3814, 3816, 3818, 3820, 3822, 3824, 3826, 3828, 3830, 3832, 3834, 3836, 3838, 3840, 3842, 3844, 3846, 3848, 3850, 3852, 3854, 3856, 3858, 3860, 3862, 3864, 3866, 3868, 3870, 3872, 3874, 3876, 3878, 3880, 3882, 3884, 3886, 3888, 3890, 3892, 3894, 3896, 3898, 3900, 3902, 3904, 3906, 3908, 3910, 3912, 3914, 3916, 3918, 3920, 3922, 3924, 3926, 3928, 3930, 3932, 3934, 3936, 3938, 3940, 3942, 3944, 3946, 3948, 3950, 3952, 3954, 3956, 3958, 3960, 3962, 3964, 3966, 3968, 3970, 3972, 3974, 3976, 3978, 3980, 3982, 3984, 3986, 3988, 3990, 3992, 3994, 3996, 3998, 4000, 4002, 4004, 4006, 4008, 4010, 4012, 4014, 4016, 4018, 4020, 4022, 4024, 4026, 4028, 4030, 4032, 4034, 4036, 4038, 4040, 4042, 4044, 4046, 4048, 4050, 4052, 4054, 4056, 4058, 4060, 4062, 4064, 4066, 4068, 4070, 4072, 4074, 4076, 4078, 4080, 4082, 4084, 4086, 4088, 4090, 4092, 4094, 4096, 4098, 4100, 4102, 4104, 4106, 4108, 4110, 4112, 4114, 4116, 4118, 4120, 4122, 4124, 4126, 4128, 4130, 4132, 4134, 4136, 4138, 4140, 4142, 4144, 4146, 4148, 4150, 4152, 4154, 4156, 4158, 4160, 4162, 4164, 4166, 4168, 4170, 4172, 4174, 4176, 4178, 4180, 4182, 4184, 4186, 4188, 4190, 4192, 4194, 4196, 4198, 4200, 4202, 4204, 4206, 4208, 4210, 4212, 4214, 4216, 4218, 4220, 4222, 4224, 4226, 4228, 4230, 4232, 4234, 4236, 4238, 4240, 4242, 4244, 4246, 4248, 4250, 4252, 4254, 4256, 4258, 4260, 4262, 4264, 4266, 4268, 4270, 4272, 4274, 4276, 4278, 4280, 4282, 4284, 4286, 4288, 4290, 4292, 4294, 4296, 4298, 4300, 4302, 4304, 4306, 4308, 4310, 4312, 4314, 4316, 4318, 4320, 4322, 4324, 4326, 4328, 4330, 4332, 4334, 4336, 4338, 4340, 4342, 4344, 4346, 4348, 4350, 4352, 4354, 4356, 4358, 4360, 4362, 4364, 4366, 4368, 4370, 4372, 4374, 4376, 4378, 4380, 4382, 4384, 4386, 4388, 4390, 4392, 4394, 4396, 4398, 4400, 4402, 4404, 4406, 4408, 4410, 4412, 4414, 4416, 4418, 4420, 4422, 4424, 4426, 4428, 4430, 4432, 4434, 4436, 4438, 4440, 4442, 4444, 4446, 4448, 4450, 4452, 4454, 4456, 4458, 4460, 4462, 4464, 4466, 4468, 4470, 4472, 4474, 4476, 4478, 4480, 4482, 4484, 4486, 4488, 4490, 4492, 4494, 4496, 4498, 4500, 4502, 4504, 4506, 4508, 4510, 4512, 4514, 4516, 4518, 4520, 4522, 4524, 4526, 4528, 4530, 4532, 4534, 4536, 4538, 4540, 4542, 4544, 4546, 4548, 4550, 4552, 4554, 4556, 4558, 4560, 4562, 4564, 4566, 4568, 4570, 4572, 4574, 4576, 4578, 4580, 4582, 4584, 4586, 4588, 4590, 4592, 4594, 4596, 4598, 4600, 4602, 4604, 4606, 4608, 4610, 4612, 4614, 4616, 4618, 4620, 4622, 4624, 4626, 4628, 4630, 4632, 4634, 4636, 4638, 4640, 4642, 4644, 4646, 4648, 4650, 4652, 4654, 4656, 4658, 4660, 4662, 4664, 4666, 4668, 4670, 4672, 4674, 4676, 4678, 4680, 4682, 4684, 4686, 4688, 4690, 4692, 4694, 4696, 4698, 4700, 4702, 4704, 4706, 4708, 4710, 4712, 4714, 4716, 4718, 4720, 4722, 4724, 4726, 4728, 4730, 4732, 4734, 4736, 4738, 4740, 4742, 4744, 4746, 4748, 4750, 4752, 4754, 4756, 4758, 4760, 4762, 4764, 4766, 4768, 4770, 4772, 4774, 4776, 4778, 4780, 4782, 4784, 4786, 4788, 4790, 4792, 4794, 4796, 4798, 4800, 4802, 4804, 4806, 4808, 4810, 4812, 4814, 4816, 4818, 4820, 4822, 4824, 4826, 4828, 4830, 4832, 4834, 4836, 4838, 4840, 4842, 4844, 4846, 4848, 4850, 4852, 4854, 4856, 4858, 4860, 4862, 4864, 4866, 4868, 4870, 4872, 4874, 4876, 4878, 4880, 4882, 4884, 4886, 4888, 4890, 4892, 4894, 4896, 4898, 4900, 4902, 4904, 4906, 4908, 4910, 4912, 4914, 4916, 4918, 4920, 4922, 4924, 4926, 4928, 4930, 4932, 4934, 4936, 4938, 4940, 4942, 4944, 4946, 4948, 4950, 4952, 4954, 4956, 4958, 4960, 4962, 4964, 4966, 4968, 4970, 4972, 4974, 4976, 4978, 4980, 4982, 4984, 4986, 4988, 4990, 4992, 4994, 4996, 4998, 5000, 5002, 5004, 5006, 5008, 5010, 5012, 5014, 5016, 5018, 5020, 5022, 5024, 5026, 5028, 5030, 5032, 5034, 5036, 5038, 5040, 5042, 5044, 5046, 5048, 5050, 5052, 5054, 5056, 5058, 5060, 5062, 5064, 5066, 5068, 5070, 5072, 5074, 5076, 5078, 5080, 5082, 5084, 5086, 5088, 5090, 5092, 5094, 5096, 5098, 5100, 5102, 5104, 5106, 5108, 5110, 5112, 5114, 5116, 5118, 5120, 5122, 5124, 5126, 5128, 5130, 5132, 5134, 5136, 5138, 5140, 5142, 5144, 5146, 5148, 5150, 5152, 5154, 5156, 5158, 5160, 5162, 5164, 5166, 5168, 5170, 5172, 5174, 5176, 5178, 5180, 5182, 5184, 5186, 5188, 5190, 5192, 5194, 5196, 5198, 5200, 5202, 5204, 5206, 5208, 5210, 5212, 5214, 5216, 5218, 5220, 5222, 5224, 5226, 5228, 5230, 5232, 5234, 5236, 5238, 5240, 5242, 5244, 5246, 5248, 5250, 5252, 5254, 5256, 5258, 5260, 5262, 5264, 5266, 5268, 5270, 5272, 5274, 5276, 5278, 5280, 5282, 5284, 5286, 5288, 5290, 5292, 5294, 5296, 5298, 5300, 5302, 5304, 5306, 5308, 5310, 5312, 5314, 5316, 5318, 5320, 5322, 5324, 5326, 5328, 5330, 5332, 5334, 5336, 5338, 5340, 5342, 5344, 5346, 5348, 5350, 5352, 5354, 5356, 5358, 5360, 5362, 5364, 5366, 5368, 5370, 5372, 5374, 5376, 5378, 5380, 5382, 5384, 5386, 5388, 5390, 5392, 5394, 5396, 5398, 5400, 5402, 5404, 5406, 5408, 5410, 5412, 5414, 5416, 5418, 5420, 5422, 5424, 5426, 5428, 5430, 5432, 5434, 5436, 5438, 5440, 5442, 5444, 5446, 5448, 5450, 5452, 5454, 5456, 5458, 5460, 5462, 5464, 5466, 5468, 5470, 5472, 5474, 5476, 5478, 5480, 5482, 5484, 5486, 5488, 5490, 5492, 5494, 5496, 5498, 5500, 5502, 5504, 5506, 5508, 5510, 5512, 5514, 5516, 5518, 5520, 5522, 5524, 5526, 5528, 5530, 5532, 5534, 5536, 5538, 5540, 5542, 5544, 5546, 5548, 5550, 5552, 5554, 5556, 5558, 5560, 5562, 5564, 5566, 5568, 5570, 5572, 5574, 5576, 5578, 5580, 5582, 5584, 5586, 5588, 5590, 5592, 5594, 5596, 5598, 5600, 5602, 5604, 5606, 5608, 5610, 5612, 5614, 5616, 5618, 5620, 5622, 5624, 5626, 5628, 5630, 5632, 5634, 5636, 5638, 5640, 5642, 5644, 5646, 5648, 5650, 5652, 5654, 5656, 5658, 5660, 5662, 5664, 5666, 5668, 5670, 5672, 5674, 5676, 5678, 5680, 5682, 5684, 5686, 5688, 5690, 5692, 5694, 5696, 5698, 5700, 5702, 5704, 5706, 5708, 5710, 5712, 5714, 5716, 5718, 5720, 5722, 5724, 5726, 5728, 5730, 5732, 5734, 5736, 5738, 5740, 5742, 5744, 5746, 5748, 5750, 5752, 5754, 5756, 5758, 5760, 5762, 5764, 5766, 5768, 5770, 5772, 5774, 5776, 5778, 5780, 5782, 5784, 5786, 5788, 5790, 5792, 5794, 5796, 5798, 5800, 5802, 5804, 5806, 5808, 5810, 5812, 5814, 5816, 5818, 5820, 5822, 5824, 5826, 5828, 5830, 5832, 5834, 5836, 5838, 5840, 5842, 5844, 5846, 5848, 5850, 5852, 5854, 5856, 5858, 5860, 5862, 5864, 5866, 5868, 5870, 5872, 5874, 5876, 5878, 5880, 5882, 5884, 5886, 5888, 5890, 5892, 5894, 5896, 5898, 5900, 5902, 5904, 5906, 5908, 5910, 5912, 5914, 5916, 5918, 5920, 5922, 5924, 5926, 5928, 5930, 5932, 5934, 5936, 5938, 5940, 5942, 5944, 5946, 5948, 5950, 5952, 5954, 5956, 5958, 5960, 5962, 5964, 5966, 5968, 5970, 5972, 5974, 5976, 5978, 5980, 5982, 5984, 5986, 5988, 5990, 5992, 5994, 5996, 5998, 6000, 6002, 6004, 6006, 6008, 6010, 6012, 6014, 6016, 6018, 6020, 6022, 6024, 6026, 6028, 6030, 6032, 6034, 6036, 6038, 6040, 6042, 6044, 6046, 6048, 6050, 6052, 6054, 6056, 6058, 6060, 6062, 6064, 6066, 6068, 6070, 6072, 6074, 6076, 6078, 6080, 6082, 6084, 6086, 6088, 6090, 6092, 6094, 6096, 6098, 6100, 6102, 6104, 6106, 6108, 6110, 6112, 6114, 6116, 6118, 6120, 6122, 6124, 6126, 6128, 6130, 6132, 6134, 6136, 6138, 6140, 6142, 6144, 6146, 6148, 6150, 6152, 6154, 6156, 6158, 6160, 6162, 6164, 6166, 6168, 6170, 6172, 6174, 6176, 6178, 6180, 6182, 6184, 6186, 6188, 6190, 6192, 6194, 6196, 6198, 6200, 6202, 6204, 6206, 6208, 6210, 6212, 6214, 6216, 6218, 6220, 6222, 6224, 6226, 6228, 6230, 6232, 6234, 6236, 6238, 6240, 6242, 6244, 6246, 6248, 6250, 6252, 6254, 6256, 6258, 6260, 6262, 6264, 6266, 6268, 6270, 6272, 6274, 6276, 6278, 6280, 6282, 6284, 6286, 6288, 6290, 6292, 6294, 6296, 6298, 6300, 6302, 6304, 6306, 6308, 6310, 6312, 6314, 6316, 6318, 6320, 6322, 6324, 6326, 6328, 6330, 6332, 6334, 6336, 6338, 6340, 6342, 6344, 6346, 6348, 6350, 6352, 6354, 6356, 6358, 6360, 6362, 6364, 6366, 6368, 6370, 6372, 6374, 6376, 6378, 6380, 6382, 6384, 6386, 6388, 6390, 6392, 6394, 6396, 6398, 6400, 6402, 6404, 6406, 6408, 6410, 6412, 6414, 6416, 6418, 6420, 6422, 6424, 6426, 6428, 6430, 6432, 6434, 6436, 6438, 6440, 6442, 6444, 6446, 6448, 6450, 6452, 6454, 6456, 6458, 6460, 6462, 6464, 6466, 6468, 6470, 6472, 6474, 6476, 6478, 6480, 6482, 6484, 6486, 6488, 6490, 6492, 6494, 6496, 6498, 6500, 6502, 6504, 6506, 6508, 6510, 6512, 6514, 6516, 6518, 6520, 6522, 6524, 6526, 6528, 6530, 6532, 6534, 6536, 6538, 6540, 6542, 6544, 6546, 6548, 6550, 6552, 6554, 6556, 6558, 6560, 6562, 6564, 6566, 6568, 6570, 6572, 6574, 6576, 6578, 6580, 6582, 6584, 6586, 6588, 6590, 6592, 6594, 6596, 6598, 6600, 6602, 6604, 6606, 6608, 6610, 6612, 6614, 6616, 6618, 6620, 6622, 6624, 6626, 6628, 6630, 6632, 6634, 6636, 6638, 6640, 6642, 6644, 6646, 6648, 6650, 6652, 6654, 6656, 6658, 6660, 6662, 6664, 6666, 6668, 6670, 6672, 6674, 6676, 6678, 6680, 6682, 6684, 6686, 6688, 6690, 6692, 6694, 6696, 6698, 6700, 6702, 6704, 6706, 6708, 6710, 6712, 6714, 6716, 6718, 6720, 6722, 6724, 6726, 6728, 6730, 6732, 6734, 6736, 6738, 6740, 6742, 6744, 6746, 6748, 6750, 6752, 6754, 6756, 6758, 6760, 6762, 6764, 6766, 6768, 6770, 6772, 6774, 6776, 6778, 6780, 6782, 6784, 6786, 6788, 6790, 6792, 6794, 6796, 6798, 6800, 6802, 6804, 6806, 6808, 6810, 6812, 6814, 6816, 6818, 6820, 6822, 6824, 6826, 6828, 6830, 6832, 6834, 6836, 6838, 6840, 6842, 6844, 6846, 6848, 6850, 6852, 6854, 6856, 6858, 6860, 6862, 6864, 6866, 6868, 6870, 6872, 6874, 6876, 6878, 6880, 6882, 6884, 6886, 6888, 6890, 6892, 6894, 6896, 6898, 6900, 6902, 6904, 6906, 6908, 6910, 6912, 6914, 6916, 6918, 6920, 6922, 6924, 6926, 6928, 6930, 6932, 6934, 6936, 6938, 6940, 6942, 6944, 6946, 6948, 6950, 6952, 6954, 6956, 6958, 6960, 6962, 6964, 6966, 6968, 6970, 6972, 6974, 6976, 6978, 6980, 6982, 6984, 6986, 6988, 6990, 6992, 6994, 6996, 6998, 7000, 7002, 7004, 7006, 7008, 7010, 7012, 7014, 7016, 7018, 7020, 7022, 7024, 7026, 7028, 7030, 7032, 7034, 7036, 7038, 7040, 7042, 7044, 7046, 7048, 7050, 7052, 7054, 7056, 7058, 7060, 7062, 7064, 7066, 7068, 7070, 7072, 7074, 7076, 7078, 7080, 7082, 7084, 7086, 7088, 7090, 7092, 7094, 7096, 7098, 7100, 7102, 7104, 7106, 7108, 7110, 7112, 7114, 7116, 7118, 7120, 7122, 7124, 7126, 7128, 7130, 7132, 7134, 7136, 7138, 7140, 7142, 7144, 7146, 7148, 7150, 7152, 7154, 7156, 7158, 7160, 7162, 7164, 7166, 7168, 7170, 7172, 7174, 7176, 7178, 7180, 7182, 7184, 7186, 7188, 7190, 7192, 7194, 7196, 7198, 7200, 7202, 7204, 7206, 7208, 7210, 7212, 7214, 7216, 7218, 7220, 7222, 7224, 7226, 7228, 7230, 7232, 7234, 7236, 7238, 7240, 7242, 7244, 7246, 7248, 7250, 7252, 7254, 7256, 7258, 7260, 7262, 7264, 7266, 7268, 7270, 7272, 7274, 7276, 7278, 7280, 7282, 7284, 7286, 7288, 7290, 7292, 7294, 7296, 7298, 7300, 7302, 7304, 7306, 7308, 7310, 7312, 7314, 7316, 7318, 7320, 7322, 7324, 7326, 7328, 7330, 7332, 7334, 7336, 7338, 7340, 7342, 7344, 7346, 7348, 7350, 7352, 7354, 7356, 7358, 7360, 7362, 7364, 7366, 7368, 7370, 7372, 7374, 7376, 7378, 7380, 7382, 7384, 7386, 7388, 7390, 7392, 7394, 7396, 7398, 7400, 7402, 7404, 7406, 7408, 7410, 7412, 7414, 7416, 7418, 7420, 7422, 7424, 7426, 7428, 7430, 7432, 7434, 7436, 7438, 7440, 7442, 7444, 7446, 7448, 7450, 7452, 7454, 7456, 7458, 7460, 7462, 7464, 7466, 7468, 7470, 7472, 7474, 7476, 7478, 7480, 7482, 7484, 7486, 7488, 7490, 7492, 7494, 7496, 7498, 7500, 7502, 7504, 7506, 7508, 7510, 7512, 7514, 7516, 7518, 7520, 7522, 7524, 7526, 7528, 7530, 7532, 7534, 7536, 7538, 7540, 7542, 7544, 7546, 7548, 7550, 7552, 7554, 7556, 7558, 7560, 7562, 7564, 7566, 7568, 7570, 7572, 7574, 7576, 7578, 7580, 7582, 7584, 7586, 7588, 7590, 7592, 7594, 7596, 7598, 7600, 7602, 7604, 7606, 7608, 7610, 7612, 7614, 7616, 7618, 7620, 7622, 7624, 7626, 7628, 7630, 7632, 7634, 7636, 7638, 7640, 7642, 7644, 7646, 7648, 7650, 7652, 7654, 7656, 7658, 7660, 7662, 7664, 7666, 7668, 7670, 7672, 7674, 7676, 7678, 7680, 7682, 7684, 7686, 7688, 7690, 7692, 7694, 7696, 7698, 7700, 7702, 7704, 7706, 7708, 7710, 7712, 7714, 7716, 7718, 7720, 7722, 7724, 7726, 7728, 7730, 7732, 7734, 7736, 7738, 7740, 7742, 7744, 7746, 7748, 7750, 7752, 7754, 7756, 7758, 7760, 7762, 7764, 7766, 7768, 7770, 7772, 7774, 7776, 7778, 7780, 7782, 7784, 7786, 7788, 7790, 7792, 7794, 7796, 7798, 7800, 7802, 7804, 7806, 7808, 7810, 7812, 7814, 7816, 7818, 7820, 7822, 7824, 7826, 7828, 7830, 7832, 7834, 7836, 7838, 7840, 7842, 7844, 7846, 7848, 7850, 7852, 7854, 7856, 7858, 7860, 7862, 7864, 7866, 7868, 7870, 7872, 7874, 7876, 7878, 7880, 7882, 7884, 7886, 7888, 7890, 7892, 7894, 7896, 7898, 7900, 7902, 7904, 7906, 7908, 7910, 7912, 7914, 7916, 7918, 7920, 7922, 7924, 7926, 7928, 7930, 7932, 7934, 7936, 7938, 7940, 7942, 7944, 7946, 7948, 7950, 7952, 7954, 7956, 7958, 7960, 7962, 7964, 7966, 7968, 7970, 7972, 7974, 7976, 7978, 7980, 7982, 7984, 7986, 7988, 7990, 7992, 7994, 7996, 7998, 8000, 8002, 8004, 8006, 8008, 8010, 8012, 8014, 8016, 8018, 8020, 8022, 8024, 8026, 8028, 8030, 8032, 8034, 8036, 8038, 8040, 8042, 8044, 8046, 8048, 8050, 8052, 8054, 8056, 8058, 8060, 8062, 8064, 8066, 8068, 8070, 8072, 8074, 8076, 8078, 8080, 8082, 8084, 8086, 8088, 8090, 8092, 8094, 8096, 8098, 8100, 8102, 8104, 8106, 8108, 8110, 8112, 8114, 8116, 8118, 8120, 8122, 8124, 8126, 8128, 8130, 8132, 8134, 8136, 8138, 8140, 8142, 8144, 8146, 8148, 8150, 8152, 8154, 8156, 8158, 8160, 8162, 8164, 8166, 8168, 8170, 8172, 8174, 8176, 8178, 8180, 8182, 8184, 8186, 8188, 8190, 8192, 8194, 8196, 8198, 8200, 8202, 8204, 8206, 8208, 8210, 8212, 8214, 8216, 8218, 8220, 8222, 8224, 8226, 8228, 8230, 8232, 8234, 8236, 8238, 8240, 8242, 8244, 8246, 8248, 8250, 8252, 8254, 8256, 8258, 8260, 8262, 8264, 8266, 8268, 8270, 8272, 8274, 8276, 8278, 8280, 8282, 8284, 8286, 8288, 8290, 8292, 8294, 8296, 8298, 8300, 8302, 8304, 8306, 8308, 8310, 8312, 8314, 8316, 8318, 8320, 8322, 8324, 8326, 8328, 8330, 8332, 8334, 8336, 8338, 8340, 8342, 8344, 8346, 8348, 8350, 8352, 8354, 8356, 8358, 8360, 8362, 8364, 8366, 8368, 8370, 8372, 8374, 8376, 8378, 8380, 8382, 8384, 8386, 8388, 8390, 8392, 8394, 8396, 8398, 8400, 8402, 8404, 8406, 8408, 8410, 8412, 8414, 8416, 8418, 8420, 8422, 8424, 8426, 8428, 8430, 8432, 8434, 8436, 8438, 8440, 8442, 8444, 8446, 8448, 8450, 8452, 8454, 8456, 8458, 8460, 8462, 8464, 8466, 8468, 8470, 8472, 8474, 8476, 8478, 8480, 8482, 8484, 8486, 8488, 8490, 8492, 8494, 8496, 8498, 8500, 8502, 8504, 8506, 8508, 8510, 8512, 8514, 8516, 8518, 8520, 8522, 8524, 8526, 8528, 8530, 8532, 8534, 8536, 8538, 8540, 8542, 8544, 8546, 8548, 8550, 8552, 8554, 8556, 8558, 8560, 8562, 8564, 8566, 8568, 8570, 8572, 8574, 8576, 8578, 8580, 8582, 8584, 8586, 8588, 8590, 8592, 8594, 8596, 8598, 8600, 8602, 8604, 8606, 8608, 8610, 8612, 8614, 8616, 8618, 8620, 8622, 8624, 8626, 8628, 8630, 8632, 8634, 8636, 8638, 8640, 8642, 8644, 8646, 8648, 8650, 8652, 8654, 8656, 8658, 8660, 8662, 8664, 8666, 8668, 8670, 8672, 8674, 8676, 8678, 8680, 8682, 8684, 8686, 8688, 8690, 8692, 8694, 8696, 8698, 8700, 8702, 8704, 8706, 8708, 8710, 8712, 8714, 8716, 8718, 8720, 8722, 8724, 8726, 8728, 8730, 8732, 8734, 8736, 8738, 8740, 8742, 8744, 8746, 8748, 8750, 8752, 8754, 8756, 8758, 8760, 8762, 8764, 8766, 8768, 8770, 8772, 8774, 8776, 8778, 8780, 8782, 8784, 8786, 8788, 8790, 8792, 8794, 8796, 8798, 8800, 8802, 8804, 8806, 8808, 8810, 8812, 8814, 8816, 8818, 8820, 8822, 8824, 8826, 8828, 8830, 8832, 8834, 8836, 8838, 8840, 8842, 8844, 8846, 8848, 8850, 8852, 8854, 8856, 8858, 8860, 8862, 8864, 8866, 8868, 8870, 8872, 8874, 8876, 8878, 8880, 8882, 8884, 8886, 8888, 8890, 8892, 8894, 8896, 8898, 8900, 8902, 8904, 8906, 8908, 8910, 8912, 8914, 8916, 8918, 8920, 8922, 8924, 8926, 8928, 8930, 8932, 8934, 8936, 8938, 8940, 8942, 8944, 8946, 8948, 8950, 8952, 8954, 8956, 8958, 8960, 8962, 8964, 8966, 8968, 8970, 8972, 8974, 8976, 8978, 8980, 8982, 8984, 8986, 8988, 8990, 8992, 8994, 8996, 8998, 9000, 9002, 9004, 9006, 9008, 9010, 9012, 9014, 9016, 9018, 9020, 9022, 9024, 9026, 9028, 9030, 9032, 9034, 9036, 9038, 9040, 9042, 9044, 9046, 9048, 9050, 9052, 9054, 9056, 9058, 9060, 9062, 9064, 9066, 9068, 9070, 9072, 9074, 9076, 9078, 9080, 9082, 9084, 9086, 9088, 9090, 9092, 9094, 9096, 9098, 9100, 9102, 9104, 9106, 9108, 9110, 9112, 9114, 9116, 9118, 9120, 9122, 9124, 9126, 9128, 9130, 9132, 9134, 9136, 9138, 9140, 9142, 9144, 9146, 9148, 9150, 9152, 9154, 9156, 9158, 9160, 9162, 9164, 9166, 9168, 9170, 9172, 9174, 9176, 9178, 9180, 9182, 9184, 9186, 9188, 9190, 9192, 9194, 9196, 9198, 9200, 9202, 9204, 9206, 9208, 9210, 9212, 9214, 9216, 9218, 9220, 9222, 9224, 9226, 9228, 9230, 9232, 9234, 9236, 9238, 9240, 9242, 9244, 9246, 9248, 9250, 9252, 9254, 9256, 9258, 9260, 9262, 9264, 9266, 9268, 9270, 9272, 9274, 9276, 9278, 9280, 9282, 9284, 9286, 9288, 9290, 9292, 9294, 9296, 9298, 9300, 9302, 9304, 9306, 9308, 9310, 9312, 9314, 9316, 9318, 9320, 9322, 9324, 9326, 9328, 9330, 9332, 9334, 9336, 9338, 9340, 9342, 9344, 9346, 9348, 9350, 9352, 9354, 9356, 9358, 9360, 9362, 9364, 9366, 9368, 9370, 9372, 9374, 9376, 9378, 9380, 9382, 9384, 9386, 9388, 9390, 9392, 9394, 9396, 9398, 9400, 9402, 9404, 9406, 9408, 9410, 9412, 9414, 9416, 9418, 9420, 9422, 9424, 9426, 9428, 9430, 9432, 9434, 9436, 9438, 9440, 9442, 9444, 9446, 9448, 9450, 9452, 9454, 9456, 9458, 9460, 9462, 9464, 9466, 9468, 9470, 9472, 9474, 9476, 9478, 9480, 9482, 9484, 9486, 9488, 9490, 9492, 9494, 9496, 9498, 9500, 9502, 9504, 9506, 9508, 9510, 9512, 9514, 9516, 9518, 9520, 9522, 9524, 9526, 9528, 9530, 9532, 9534, 9536, 9538, 9540, 9542, 9544, 9546, 9548, 9550, 9552, 9554, 9556, 9558, 9560, 9562, 9564, 9566, 9568, 9570, 9572, 9574, 9576, 9578, 9580, 9582, 9584, 9586, 9588, 9590, 9592, 9594, 9596, 9598, 9600, 9602, 9604, 9606, 9608, 9610, 9612, 9614, 9616, 9618, 9620, 9622, 9624, 9626, 9628, 9630, 9632, 9634, 9636, 9638, 9640, 9642, 9644, 9646, 9648, 9650, 9652, 9654, 9656, 9658, 9660, 9662, 9664, 9666, 9668, 9670, 9672, 9674, 9676, 9678, 9680, 9682, 9684, 9686, 9688, 9690, 9692, 9694, 9696, 9698, 9700, 9702, 9704, 9706, 9708, 9710, 9712, 9714, 9716, 9718, 9720, 9722, 9724, 9726, 9728, 9730, 9732, 9734, 9736, 9738, 9740, 9742, 9744, 9746, 9748, 9750, 9752, 9754, 9756, 9758, 9760, 9762, 9764, 9766, 9768, 9770, 9772, 9774, 9776, 9778, 9780, 9782, 9784, 9786, 9788, 9790, 9792, 9794, 9796, 9798, 9800, 9802, 9804, 9806, 9808, 9810, 9812, 9814, 9816, 9818, 9820, 9822, 9824, 9826, 9828, 9830, 9832, 9834, 9836, 9838, 9840, 9842, 9844, 9846, 9848, 9850, 9852, 9854, 9856, 9858, 9860, 9862, 9864, 9866, 9868, 9870, 9872, 9874, 9876, 9878, 9880, 9882, 9884, 9886, 9888, 9890, 9892, 9894, 9896, 9898, 9900, 9902, 9904, 9906, 9908, 9910, 9912, 9914, 9916, 9918, 9920, 9922, 9924, 9926, 9928, 9930, 9932, 9934, 9936, 9938, 9940, 9942, 9944, 9946, 9948, 9950, 9952, 9954, 9956, 9958, 9960, 9962, 9964, 9966, 9968, 9970, 9972, 9974, 9976, 9978, 9980, 9982, 9984, 9986, 9988, 9990, 9992, 9994, 9996, 9998, 10000, 10002, 10004, 10006, 10008, 10010, 10012, 10014, 10016, 10018, 10020, 10022, 10024, 10026, 10028, 10030, 10032, 10034, 10036, 10038, 10040, 10042, 10044, 10046, 10048, 10050, 10052, 10054, 10056, 10058, 10060, 10062, 10064, 10066, 10068, 10070, 10072, 10074, 10076, 10078, 10080, 10082, 10084, 10086, 10088, 10090, 10092, 10094, 10096, 10098, 10100, 10102, 10104, 10106, 10108, 10110, 10112, 10114, 10116, 10118, 10120, 10122, 10124, 10126, 10128, 10130, 10132, 10134, 10136, 10138, 10140, 10142, 10144, 10146, 10148, 10150, 10152, 10154, 10156, 10158, 10160, 10162, 10164, 10166, 10168, 10170, 10172, 10174, 10176, 10178, 10180, 10182, 10184, 10186, 10188, 10190, 10192, 10194, 10196, 10198, 10200, 10202, 10204, 10206, 10208, 10210, 10212, 10214, 10216, 10218, 10220, 10222, 10224, 10226, 10228, 10230, 10232, 10234, 10236, 10238, 10240, 10242, 10244, 10246, 10248, 10250, 10252, 10254, 10256, 10258, 10260, 10262, 10264, 10266, 10268, 10270, 10272, 10274, 10276, 10278, 10280, 10282, 10284, 10286, 10288, 10290, 10292, 10294, 10296, 10298, 10300, 10302, 10304, 10306, 10308, 10310, 10312, 10314, 10316, 10318, 10320, 10322, 10324, 10326, 10328, 10330, 10332, 10334, 10336, 10338, 10340, 10342, 10344, 10346, 10348, 10350, 10352, 10354, 10356, 10358, 10360, 10362, 10364, 10366, 10368, 10370, 10372, 10374, 10376, 10378, 10380, 10382, 10384, 10386, 10388, 10390, 10392, 10394, 10396, 10398, 10400, 10402, 10404, 10406, 10408, 10410, 10412, 10414, 10416, 10418, 10420, 10422, 10424, 10426, 10428, 10430, 10432, 10434, 10436, 10438, 10440, 10442, 10444, 10446, 10448, 10450, 10452, 10454, 10456, 10458, 10460, 10462, 10464, 10466, 10468, 10470, 10472, 10474, 10476, 10478, 10480, 10482, 10484, 10486, 10488, 10490, 10492, 10494, 10496, 10498, 10500, 10502, 10504, 10506, 10508, 10510, 10512, 10514, 10516, 10518, 10520, 10522, 10524, 10526, 10528, 10530, 10532, 10534, 10536, 10538, 10540, 10542, 10544, 10546, 10548, 10550, 10552, 10554, 10556, 10558, 10560, 10562, 10564, 10566, 10568, 10570, 10572, 10574, 10576, 10578, 10580, 10582, 10584, 10586, 10588, 10590, 10592, 10594, 10596, 10598, 10600, 10602, 10604, 10606, 10608, 10610, 10612, 10614, 10616, 10618, 10620, 10622, 10624, 10626, 10628, 10630, 10632, 10634, 10636, 10638, 10640, 10642, 10644, 10646, 10648, 10650, 10652, 10654, 10656, 10658, 10660, 10662, 10664, 10666, 10668, 10670, 10672, 10674, 10676, 10678, 10680, 10682, 10684, 10686, 10688, 10690, 10692, 10694, 10696, 10698, 10700, 10702, 10704, 10706, 10708, 10710, 10712, 10714, 10716, 10718, 10720, 10722, 10724, 10726, 10728, 10730, 10732, 10734, 10736, 10738, 10740, 10742, 10744, 10746, 10748, 10750, 10752, 10754, 10756, 10758, 10760, 10762, 10764, 10766, 10768, 10770, 10772, 10774, 10776, 10778, 10780, 10782, 10784, 10786, 10788, 10790, 10792, 10794, 10796, 10798, 10800, 10802, 10804, 10806, 10808, 10810, 10812, 10814, 10816, 10818, 10820, 10822, 10824, 10826, 10828, 10830, 10832, 10834, 10836, 10838, 10840, 10842, 10844, 10846, 10848, 10850, 10852, 10854, 10856, 10858, 10860, 10862, 10864, 10866, 10868, 10870, 10872, 10874, 10876, 10878, 10880, 10882, 10884, 10886, 10888, 10890, 10892, 10894, 10896, 10898, 10900, 10902, 10904, 10906, 10908, 10910, 10912, 10914, 10916, 10918, 10920, 10922, 10924, 10926, 10928, 10930, 10932, 10934, 10936, 10938, 10940, 10942, 10944, 10946, 10948, 10950, 10952, 10954, 10956, 10958, 10960, 10962, 10964, 10966, 10968, 10970, 10972, 10974, 10976, 10978, 10980, 10982, 10984, 10986, 10988, 10990, 10992, 10994, 10996, 10998, 11000, 11002, 11004, 11006, 11008, 11010, 11012, 11014, 11016, 11018, 11020, 11022, 11024, 11026, 11028, 11030, 11032, 11034, 11036, 11038, 11040, 11042, 11044, 11046, 11048, 11050, 11052, 11054, 11056, 11058, 11060, 11062, 11064, 11066, 11068, 11070, 11072, 11074, 11076, 11078, 11080, 11082, 11084, 11086, 11088, 11090, 11092, 11094, 11096, 11098, 11100, 11102, 11104, 11106, 11108, 11110, 11112, 11114, 11116, 11118, 11120, 11122, 11124, 11126, 11128, 11130, 11132, 11134, 11136, 11138, 11140, 11142, 11144, 11146, 11148, 11150, 11152, 11154, 11156, 11158, 11160, 11162, 11164, 11166, 11168, 11170, 11172, 11174, 11176, 11178, 11180, 11182, 11184, 11186, 11188, 11190, 11192, 11194, 11196, 11198, 11200, 11202, 11204, 11206, 11208, 11210, 11212, 11214, 11216, 11218, 11220, 11222, 11224, 11226, 11228, 11230, 11232, 11234, 11236, 11238, 11240, 11242, 11244, 11246, 11248, 11250, 11252, 11254, 11256, 11258, 11260, 11262, 11264, 11266, 11268, 11270, 11272, 11274, 11276, 11278, 11280, 11282, 11284, 11286, 11288, 11290, 11292, 11294, 11296, 11298, 11300, 11302, 11304, 11306, 11308, 11310, 11312, 11314, 11316, 11318, 11320, 11322, 11324, 11326, 11328, 11330, 11332, 11334, 11336, 11338, 11340, 11342, 11344, 11346, 11348, 11350, 11352, 11354, 11356, 11358, 11360, 11362, 11364, 11366, 11368, 11370, 11372, 11374, 11376, 11378, 11380, 11382, 11384, 11386, 11388, 11390, 11392, 11394, 11396, 11398, 11400, 11402, 11404, 11406, 11408, 11410, 11412, 11414, 11416, 11418, 11420, 11422, 11424, 11426, 11428, 11430, 11432, 11434, 11436, 11438, 11440, 11442, 11444, 11446, 11448, 11450, 11452, 11454, 11456, 11458, 11460, 11462, 11464, 11466, 11468, 11470, 11472, 11474, 11476, 11478, 11480, 11482, 11484, 11486, 11488, 11490, 11492, 11494, 11496, 11498, 11500, 11502, 11504, 11506, 11508, 11510, 11512, 11514, 11516, 11518, 11520, 11522, 11524, 11526, 11528, 11530, 11532, 11534, 11536, 11538, 11540, 11542, 11544, 11546, 11548, 11550, 11552, 11554, 11556, 11558, 11560, 11562, 11564, 11566, 11568, 11570, 11572, 11574, 11576, 11578, 11580, 11582, 11584, 11586, 11588, 11590, 11592, 11594, 11596, 11598, 11600, 11602, 11604, 11606, 11608, 11610, 11612, 11614, 11616, 11618, 11620, 11622, 11624, 11626, 11628, 11630, 11632, 11634, 11636, 11638, 11640, 11642, 11644, 11646, 11648, 11650, 11652, 11654, 11656, 11658, 11660, 11662, 11664, 11666, 11668, 11670, 11672, 11674, 11676, 11678, 11680, 11682, 11684, 11686, 11688, 11690, 11692, 11694, 11696, 11698, 11700, 11702, 11704, 11706, 11708, 11710, 11712, 11714, 11716, 11718, 11720, 11722, 11724, 11726, 11728, 11730, 11732, 11734, 11736, 11738, 11740, 11742, 11744, 11746, 11748, 11750, 11752, 11754, 11756, 11758, 11760, 11762, 11764, 11766, 11768, 11770, 11772, 11774, 11776, 11778, 11780, 11782, 11784, 11786, 11788, 11790, 11792, 11794, 11796, 11798, 11800, 11802, 11804, 11806, 11808, 11810, 11812, 11814, 11816, 11818, 11820, 11822, 11824, 11826, 11828, 11830, 11832, 11834, 11836, 11838, 11840, 11842, 11844, 11846, 11848, 11850, 11852, 11854, 11856, 11858, 11860, 11862, 11864, 11866, 11868, 11870, 11872, 11874, 11876, 11878, 11880, 11882, 11884, 11886, 11888, 11890, 11892, 11894, 11896, 11898, 11900, 11902, 11904, 11906, 11908, 11910, 11912, 11914, 11916, 11918, 11920, 11922, 11924, 11926, 11928, 11930, 11932, 11934, 11936, 11938, 11940, 11942, 11944, 11946, 11948, 11950, 11952, 11954, 11956, 11958, 11960, 11962, 11964, 11966, 11968, 11970, 11972, 11974, 11976, 11978, 11980, 11982, 11984, 11986, 11988, 11990, 11992, 11994, 11996, 11998, 12000, 12002, 12004, 12006, 12008, 12010, 12012, 12014, 12016, 12018, 12020, 12022, 12024, 12026, 12028, 12030, 12032, 12034, 12036, 12038, 12040, 12042, 12044, 12046, 12048, 12050, 12052, 12054, 12056, 12058, 12060, 12062, 12064, 12066, 12068, 12070, 12072, 12074, 12076, 12078, 12080, 12082, 12084, 12086, 12088, 12090, 12092, 12094, 12096, 12098, 12100, 12102, 12104, 12106, 12108, 12110, 12112, 12114, 12116, 12118, 12120, 12122, 12124, 12126, 12128, 12130, 12132, 12134, 12136, 12138, 12140, 12142, 12144, 12146, 12148, 12150, 12152, 12154, 12156, 12158, 12160, 12162, 12164, 12166, 12168, 12170, 12172, 12174, 12176, 12178, 12180, 12182, 12184, 12186, 12188, 12190, 12192, 12194, 12196, 12198, 12200, 12202, 12204, 12206, 12208, 12210, 12212, 12214, 12216, 12218, 12220, 12222, 12224, 12226, 12228, 12230, 12232, 12234, 12236, 12238, 12240, 12242, 12244, 12246, 12248, 12250, 12252, 12254, 12256, 12258, 12260, 12262, 12264, 12266, 12268, 12270, 12272, 12274, 12276, 12278, 12280, 12282, 12284, 12286, 12288, 12290, 12292, 12294, 12296, 12298, 12300, 12302, 12304, 12306, 12308, 12310, 12312, 12314, 12316, 12318, 12320, 12322, 12324, 12326, 12328, 12330, 12332, 12334, 12336, 12338, 12340, 12342, 12344, 12346, 12348, 12350, 12352, 12354, 12356, 12358, 12360, 12362, 12364, 12366, 12368, 12370, 12372, 12374, 12376, 12378, 12380, 12382, 12384, 12386, 12388, 12390, 12392, 12394, 12396, 12398, 12400, 12402, 12404, 12406, 12408, 12410, 12412, 12414, 12416, 12418, 12420, 12422, 12424, 12426, 12428, 12430, 12432, 12434, 12436, 12438, 12440, 12442, 12444, 12446, 12448, 12450, 12452, 12454, 12456, 12458, 12460, 12462, 12464, 12466, 12468, 12470, 12472, 12474, 12476, 12478, 12480, 12482, 12484, 12486, 12488, 12490, 12492, 12494, 12496, 12498, 12500, 12502, 12504, 12506, 12508, 12510, 12512, 12514, 12516, 12518, 12520, 12522, 12524, 12526, 12528, 12530, 12532, 12534, 12536, 12538, 12540, 12542, 12544, 12546, 12548, 12550, 12552, 12554, 12556, 12558, 12560, 12562, 12564, 12566, 12568, 12570, 12572, 12574, 12576, 12578, 12580, 12582, 12584, 12586, 12588, 12590, 12592, 12594, 12596, 12598, 12600, 12602, 12604, 12606, 12608, 12610, 12612, 12614, 12616, 12618, 12620, 12622, 12624, 12626, 12628, 12630, 12632, 12634, 12636, 12638, 12640, 12642, 12644, 12646, 12648, 12650, 12652, 12654, 12656, 12658, 12660, 12662, 12664, 12666, 12668, 12670, 12672, 12674, 12676, 12678, 12680, 12682, 12684, 12686, 12688, 12690, 12692, 12694, 12696, 12698, 12700, 12702, 12704, 12706, 12708, 12710, 12712, 12714, 12716, 12718, 12720, 12722, 12724, 12726, 12728, 12730, 12732, 12734, 12736, 12738, 12740, 12742, 12744, 12746, 12748, 12750, 12752, 12754, 12756, 12758, 12760, 12762, 12764, 12766, 12768, 12770, 12772, 12774, 12776, 12778, 12780, 12782, 12784, 12786, 12788, 12790, 12792, 12794, 12796, 12798, 12800, 12802, 12804, 12806, 12808, 12810, 12812, 12814, 12816, 12818, 12820, 12822, 12824, 12826, 12828, 12830, 12832, 12834, 12836, 12838, 12840, 12842, 12844, 12846, 12848, 12850, 12852, 12854, 12856, 12858, 12860, 12862, 12864, 12866, 12868, 12870, 12872, 12874, 12876, 12878, 12880, 12882, 12884, 12886, 12888, 12890, 12892, 12894, 12896, 12898, 12900, 12902, 12904, 12906, 12908, 12910, 12912, 12914, 12916, 12918, 12920, 12922, 12924, 12926, 12928, 12930, 12932, 12934, 12936, 12938, 12940, 12942, 12944, 12946, 12948, 12950, 12952, 12954, 12956, 12958, 12960, 12962, 12964, 12966, 12968, 12970, 12972, 12974, 12976, 12978, 12980, 12982, 12984, 12986, 12988, 12990, 12992, 12994, 12996, 12998, 13000, 13002, 13004, 13006, 13008, 13010, 13012, 13014, 13016, 13018, 13020, 13022, 13024, 13026, 13028, 13030, 13032, 13034, 13036, 13038, 13040, 13042, 13044, 13046, 13048, 13050, 13052, 13054, 13056, 13058, 13060, 13062, 13064, 13066, 13068, 13070, 13072, 13074, 13076, 13078, 13080, 13082, 13084, 13086, 13088, 13090, 13092, 13094, 13096, 13098, 13100, 13102, 13104, 13106, 13108, 13110, 13112, 13114, 13116, 13118, 13120, 13122, 13124, 13126, 13128, 13130, 13132, 13134, 13136, 13138, 13140, 13142, 13144, 13146, 13148, 13150, 13152, 13154, 13156, 13158, 13160, 13162, 13164, 13166, 13168, 13170, 13172, 13174, 13176, 13178, 13180, 13182, 13184, 13186, 13188, 13190, 13192, 13194, 13196, 13198, 13200, 13202, 13204, 13206, 13208, 13210, 13212, 13214, 13216, 13218, 13220, 13222, 13224, 13226, 13228, 13230, 13232, 13234, 13236, 13238, 13240, 13242, 13244, 13246, 13248, 13250, 13252, 13254, 13256, 13258, 13260, 13262, 13264, 13266, 13268, 13270, 13272, 13274, 13276, 13278, 13280, 13282, 13284, 13286, 13288, 13290, 13292, 13294, 13296, 13298, 13300, 13302, 13304, 13306, 13308, 13310, 13312, 13314, 13316, 13318, 13320, 13322, 13324, 13326, 13328, 13330, 13332, 13334, 13336, 13338, 13340, 13342, 13344, 13346, 13348, 13350, 13352, 13354, 13356, 13358, 13360, 13362, 13364, 13366, 13368, 13370, 13372, 13374, 13376, 13378, 13380, 13382, 13384, 13386, 13388, 13390, 13392, 13394, 13396, 13398, 13400, 13402, 13404, 13406, 13408, 13410, 13412, 13414, 13416, 13418, 13420, 13422, 13424, 13426, 13428, 13430, 13432, 13434, 13436, 13438, 13440, 13442, 13444, 13446, 13448, 13450, 13452, 13454, 13456, 13458, 13460, 13462, 13464, 13466, 13468, 13470, 13472, 13474, 13476, 13478, 13480, 13482, 13484, 13486, 13488, 13490, 13492, 13494, 13496, 13498, 13500, 13502, 13504, 13506, 13508, 13510, 13512, 13514, 13516, 13518, 13520, 13522, 13524, 13526, 13528, 13530, 13532, 13534, 13536, 13538, 13540, 13542, 13544, 13546, 13548, 13550, 13552, 13554, 13556, 13558, 13560, 13562, 13564, 13566, 13568, 13570, 13572, 13574, 13576, 13578, 13580, 13582, 13584, 13586, 13588, 13590, 13592, 13594, 13596, 13598, 13600, 13602, 13604, 13606, 13608, 13610, 13612, 13614, 13616, 13618, 13620, 13622, 13624, 13626, 13628, 13630, 13632, 13634, 13636, 13638, 13640, 13642, 13644, 13646, 13648, 13650, 13652, 13654, 13656, 13658, 13660, 13662, 13664, 13666, 13668, 13670, 13672, 13674, 13676, 13678, 13680, 13682, 13684, 13686, 13688, 13690, 13692, 13694, 13696, 13698, 13700, 13702, 13704, 13706, 13708, 13710, 13712, 13714, 13716, 13718, 13720, 13722, 13724, 13726, 13728, 13730, 13732, 13734, 13736, 13738, 13740, 13742, 13744, 13746, 13748, 13750, 13752, 13754, 13756, 13758, 13760, 13762, 13764, 13766, 13768, 13770, 13772, 13774, 13776, 13778, 13780, 13782, 13784, 13786, 13788, 13790, 13792, 13794, 13796, 13798, 13800, 13802, 13804, 13806, 13808, 13810, 13812, 13814, 13816, 13818, 13820, 13822, 13824, 13826, 13828, 13830, 13832, 13834, 13836, 13838, 13840, 13842, 13844, 13846, 13848, 13850, 13852, 13854, 13856, 13858, 13860, 13862, 13864, 13866, 13868, 13870, 13872, 13874, 13876, 13878, 13880, 13882, 13884, 13886, 13888, 13890, 13892, 13894, 13896, 13898, 13900, 13902, 13904, 13906, 13908, 13910, 13912, 13914, 13916, 13918, 13920, 13922, 13924, 13926, 13928, 13930, 13932, 13934, 13936, 13938, 13940, 13942, 13944, 13946, 13948, 13950, 13952, 13954, 13956, 13958, 13960, 13962, 13964, 13966, 13968, 13970, 13972, 13974, 13976, 13978, 13980, 13982, 13984, 13986, 13988, 13990, 13992, 13994, 13996, 13998, 14000, 14002, 14004, 14006, 14008, 14010, 14012, 14014, 14016, 14018, 14020, 14022, 14024, 14026, 14028, 14030, 14032, 14034, 14036, 14038, 14040, 14042, 14044, 14046, 14048, 14050, 14052, 14054, 14056, 14058, 14060, 14062, 14064, 14066, 14068, 14070, 14072, 14074, 14076, 14078, 14080, 14082, 14084, 14086, 14088, 14090, 14092, 14094, 14096, 14098, 14100, 14102, 14104, 14106, 14108, 14110, 14112, 14114, 14116, 14118, 14120, 14122, 14124, 14126, 14128, 14130, 14132, 14134, 14136, 14138, 14140, 14142, 14144, 14146, 14148, 14150, 14152, 14154, 14156, 14158, 14160, 14162, 14164, 14166, 14168, 14170, 14172, 14174, 14176, 14178, 14180, 14182, 14184, 14186, 14188, 14190, 14192, 14194, 14196, 14198, 14200, 14202, 14204, 14206, 14208, 14210, 14212, 14214, 14216, 14218, 14220, 14222, 14224, 14226, 14228, 14230, 14232, 14234, 14236, 14238, 14240, 14242, 14244, 14246, 14248, 14250, 14252, 14254, 14256, 14258, 14260, 14262, 14264, 14266, 14268, 14270, 14272, 14274, 14276, 14278, 14280, 14282, 14284, 14286, 14288, 14290, 14292, 14294, 14296, 14298, 14300, 14302, 14304, 14306, 14308, 14310, 14312, 14314, 14316, 14318, 14320, 14322, 14324, 14326, 14328, 14330, 14332, 14334, 14336, 14338, 14340, 14342, 14344, 14346, 14348, 14350, 14352, 14354, 14356, 14358, 14360, 14362, 14364, 14366, 14368, 14370, 14372, 14374, 14376, 14378, 14380, 14382, 14384, 14386, 14388, 14390, 14392, 14394, 14396, 14398, 14400, 14402, 14404, 14406, 14408, 14410, 14412, 14414, 14416, 14418, 14420, 14422, 14424, 14426, 14428, 14430, 14432, 14434, 14436, 14438, 14440, 14442, 14444, 14446, 14448, 14450, 14452, 14454, 14456, 14458, 14460, 14462, 14464, 14466, 14468, 14470, 14472, 14474, 14476, 14478, 14480, 14482, 14484, 14486, 14488, 14490, 14492, 14494, 14496, 14498, 14500, 14502, 14504, 14506, 14508, 14510, 14512, 14514, 14516, 14518, 14520, 14522, 14524, 14526, 14528, 14530, 14532, 14534, 14536, 14538, 14540, 14542, 14544, 14546, 14548, 14550, 14552, 14554, 14556, 14558, 14560, 14562, 14564, 14566, 14568, 14570, 14572, 14574, 14576, 14578, 14580, 14582, 14584, 14586, 14588, 14590, 14592, 14594, 14596, 14598, 14600, 14602, 14604, 14606, 14608, 14610, 14612, 14614, 14616, 14618, 14620, 14622, 14624, 14626, 14628, 14630, 14632, 14634, 14636, 14638, 14640, 14642, 14644, 14646, 14648, 14650, 14652, 14654, 14656, 14658, 14660, 14662, 14664, 14666, 14668, 14670, 14672, 14674, 14676, 14678, 14680, 14682, 14684, 14686, 14688, 14690, 14692, 14694, 14696, 14698, 14700, 14702, 14704, 14706, 14708, 14710, 14712, 14714, 14716, 14718, 14720, 14722, 14724, 14726, 14728, 14730, 14732, 14734, 14736, 14738, 14740, 14742, 14744, 14746, 14748, 14750, 14752, 14754, 14756, 14758, 14760, 14762, 14764, 14766, 14768, 14770, 14772, 14774, 14776, 14778, 14780, 14782, 14784, 14786, 14788, 14790, 14792, 14794, 14796, 14798, 14800, 14802, 14804, 14806, 14808, 14810, 14812, 14814, 14816, 14818, 14820, 14822, 14824, 14826, 14828, 14830, 14832, 14834, 14836, 14838, 14840, 14842, 14844, 14846, 14848, 14850, 14852, 14854, 14856, 14858, 14860, 14862, 14864, 14866, 14868, 14870, 14872, 14874, 14876, 14878, 14880, 14882, 14884, 14886, 14888, 14890, 14892, 14894, 14896, 14898, 14900, 14902, 14904, 14906, 14908, 14910, 14912, 14914, 14916, 14918, 14920, 14922, 14924, 14926, 14928, 14930, 14932, 14934, 14936, 14938, 14940, 14942, 14944, 14946, 14948, 14950, 14952, 14954, 14956, 14958, 14960, 14962, 14964, 14966, 14968, 14970, 14972, 14974, 14976, 14978, 14980, 14982, 14984, 14986, 14988, 14990, 14992, 14994, 14996, 14998, 15000, 15002, 15004, 15006, 15008, 15010, 15012, 15014, 15016, 15018, 15020, 15022, 15024, 15026, 15028, 15030, 15032, 15034, 15036, 15038, 15040, 15042, 15044, 15046, 15048, 15050, 15052, 15054, 15056, 15058, 15060, 15062, 15064, 15066, 15068, 15070, 15072, 15074, 15076, 15078, 15080, 15082, 15084, 15086, 15088, 15090, 15092, 15094, 15096, 15098, 15100, 15102, 15104, 15106, 15108, 15110, 15112, 15114, 15116, 15118, 15120, 15122, 15124, 15126, 15128, 15130, 15132, 15134, 15136, 15138, 15140, 15142, 15144, 15146, 15148, 15150, 15152, 15154, 15156, 15158, 15160, 15162, 15164, 15166, 15168, 15170, 15172, 15174, 15176, 15178, 15180, 15182, 15184, 15186, 15188, 15190, 15192, 15194, 15196, 15198, 15200, 15202, 15204, 15206, 15208, 15210, 15212, 15214, 15216, 15218, 15220, 15222, 15224, 15226, 15228, 15230, 15232, 15234, 15236, 15238, 15240, 15242, 15244, 15246, 15248, 15250, 15252, 15254, 15256, 15258, 15260, 15262, 15264, 15266, 15268, 15270, 15272, 15274, 15276, 15278, 15280, 15282, 15284, 15286, 15288, 15290, 15292, 15294, 15296, 15298, 15300, 15302, 15304, 15306, 15308, 15310, 15312, 15314, 15316, 15318, 15320, 15322, 15324, 15326, 15328, 15330, 15332, 15334, 15336, 15338, 15340, 15342, 15344, 15346, 15348, 15350, 15352, 15354, 15356, 15358, 15360, 15362, 15364, 15366, 15368, 15370, 15372, 15374, 15376, 15378, 15380, 15382, 15384, 15386, 15388, 15390, 15392, 15394, 15396, 15398, 15400, 15402, 15404, 15406, 15408, 15410, 15412, 15414, 15416, 15418, 15420, 15422, 15424, 15426, 15428, 15430, 15432, 15434, 15436, 15438, 15440, 15442, 15444, 15446, 15448, 15450, 15452, 15454, 15456, 15458, 15460, 15462, 15464, 15466, 15468, 15470, 15472, 15474, 15476, 15478, 15480, 15482, 15484, 15486, 15488, 15490, 15492, 15494, 15496, 15498, 15500, 15502, 15504, 15506, 15508, 15510, 15512, 15514, 15516, 15518, 15520, 15522, 15524, 15526, 15528, 15530, 15532, 15534, 15536, 15538, 15540, 15542, 15544, 15546, 15548, 15550, 15552, 15554, 15556, 15558, 15560, 15562, 15564, 15566, 15568, 15570, 15572, 15574, 15576, 15578, 15580, 15582, 15584, 15586, 15588, 15590, 15592, 15594, 15596, 15598, 15600, 15602, 15604, 15606, 15608, 15610, 15612, 15614, 15616, 15618, 15620, 15622, 15624, 15626, 15628, 15630, 15632, 15634, 15636, 15638, 15640, 15642, 15644, 15646, 15648, 15650, 15652, 15654, 15656, 15658, 15660, 15662, 15664, 15666, 15668, 15670, 15672, 15674, 15676, 15678, 15680, 15682, 15684, 15686, 15688, 15690, 15692, 15694, 15696, 15698, 15700, 15702, 15704, 15706, 15708, 15710, 15712, 15714, 15716, 15718, 15720, 15722, 15724, 15726, 15728, 15730, 15732, 15734, 15736, 15738, 15740, 15742, 15744, 15746, 15748, 15750, 15752, 15754, 15756, 15758, 15760, 15762, 15764, 15766, 15768, 15770, 15772, 15774, 15776, 15778, 15780, 15782, 15784, 15786, 15788, 15790, 15792, 15794, 15796, 15798, 15800, 15802, 15804, 15806, 15808, 15810, 15812, 15814, 15816, 15818, 15820, 15822, 15824, 15826, 15828, 15830, 15832, 15834, 15836, 15838, 15840, 15842, 15844, 15846, 15848, 15850, 15852, 15854, 15856, 15858, 15860, 15862, 15864, 15866, 15868, 15870, 15872, 15874, 15876, 15878, 15880, 15882, 15884, 15886, 15888, 15890, 15892, 15894, 15896, 15898, 15900, 15902, 15904, 15906, 15908, 15910, 15912, 15914, 15916, 15918, 15920, 15922, 15924, 15926, 15928, 15930, 15932, 15934, 15936, 15938, 15940, 15942, 15944, 15946, 15948, 15950, 15952, 15954, 15956, 15958, 15960, 15962, 15964, 15966, 15968, 15970, 15972, 15974, 15976, 15978, 15980, 15982, 15984, 15986, 15988, 15990, 15992, 15994, 15996, 15998, 16000, 16002, 16004, 16006, 16008, 16010, 16012, 16014, 16016, 16018, 16020, 16022, 16024, 16026, 16028, 16030, 16032, 16034, 16036, 16038, 16040, 16042, 16044, 16046, 16048, 16050, 16052, 16054, 16056, 16058, 16060, 16062, 16064, 16066, 16068, 16070, 16072, 16074, 16076, 16078, 16080, 16082, 16084, 16086, 16088, 16090, 16092, 16094, 16096, 16098, 16100, 16102, 16104, 16106, 16108, 16110, 16112, 16114, 16116, 16118, 16120, 16122, 16124, 16126, 16128, 16130, 16132, 16134, 16136, 16138, 16140, 16142, 16144, 16146, 16148, 16150, 16152, 16154, 16156, 16158, 16160, 16162, 16164, 16166, 16168, 16170, 16172, 16174, 16176, 16178, 16180, 16182, 16184, 16186, 16188, 16190, 16192, 16194, 16196, 16198, 16200, 16202, 16204, 16206, 16208, 16210, 16212, 16214, 16216, 16218, 16220, 16222, 16224, 16226, 16228, 16230, 16232, 16234, 16236, 16238, 16240, 16242, 16244, 16246, 16248, 16250, 16252, 16254, 16256, 16258, 16260, 16262, 16264, 16266, 16268, 16270, 16272, 16274, 16276, 16278, 16280, 16282, 16284, 16286, 16288, 16290, 16292, 16294, 16296, 16298, 16300, 16302, 16304, 16306, 16308, 16310, 16312, 16314, 16316, 16318, 16320, 16322, 16324, 16326, 16328, 16330, 16332, 16334, 16336, 16338, 16340, 16342, 16344, 16346, 16348, 16350, 16352, 16354, 16356, 16358, 16360, 16362, 16364, 16366, 16368, 16370, 16372, 16374, 16376, 16378, 16380, 16382, 16384, 16386, 16388, 16390, 16392, 16394, 16396, 16398, 16400, 16402, 16404, 16406, 16408, 16410, 16412, 16414, 16416, 16418, 16420, 16422, 16424, 16426, 16428, 16430, 16432, 16434, 16436, 16438, 16440, 16442, 16444, 16446, 16448, 16450, 16452, 16454, 16456, 16458, 16460, 16462, 16464, 16466, 16468, 16470, 16472, 16474, 16476, 16478, 16480, 16482, 16484, 16486, 16488, 16490, 16492, 16494, 16496, 16498, 16500, 16502, 16504, 16506, 16508, 16510, 16512, 16514, 16516, 16518, 16520, 16522, 16524, 16526, 16528, 16530, 16532, 16534, 16536, 16538, 16540, 16542, 16544, 16546, 16548, 16550, 16552, 16554, 16556, 16558, 16560, 16562, 16564, 16566, 16568, 16570, 16572, 16574, 16576, 16578, 16580, 16582, 16584, 16586, 16588, 16590, 16592, 16594, 16596, 16598, 16600, 16602, 16604, 16606, 16608, 16610, 16612, 16614, 16616, 16618, 16620, 16622, 16624, 16626, 16628, 16630, 16632, 16634, 16636, 16638, 16640, 16642, 16644, 16646, 16648, 16650, 16652, 16654, 16656, 16658, 16660, 16662, 16664, 16666, 16668, 16670, 16672, 16674, 16676, 16678, 16680, 16682, 16684, 16686, 16688, 16690, 16692, 16694, 16696, 16698, 16700, 16702, 16704, 16706, 16708, 16710, 16712, 16714, 16716, 16718, 16720, 16722, 16724, 16726, 16728, 16730, 16732, 16734, 16736, 16738, 16740, 16742, 16744, 16746, 16748, 16750, 16752, 16754, 16756, 16758, 16760, 16762, 16764, 16766, 16768, 16770, 16772, 16774, 16776, 16778, 16780, 16782, 16784, 16786, 16788, 16790, 16792, 16794, 16796, 16798, 16800, 16802, 16804, 16806, 16808, 16810, 16812, 16814, 16816, 16818, 16820, 16822, 16824, 16826, 16828, 16830, 16832, 16834, 16836, 16838, 16840, 16842, 16844, 16846, 16848, 16850, 16852, 16854, 16856, 16858, 16860, 16862, 16864, 16866, 16868, 16870, 16872, 16874, 16876, 16878, 16880, 16882, 16884, 16886, 16888, 16890, 16892, 16894, 16896, 16898, 16900, 16902, 16904, 16906, 16908, 16910, 16912, 16914, 16916, 16918, 16920, 16922, 16924, 16926, 16928, 16930, 16932, 16934, 16936, 16938, 16940, 16942, 16944, 16946, 16948, 16950, 16952, 16954, 16956, 16958, 16960, 16962, 16964, 16966, 16968, 16970, 16972, 16974, 16976, 16978, 16980, 16982, 16984, 16986, 16988, 16990, 16992, 16994, 16996, 16998, 17000, 17002, 17004, 17006, 17008, 17010, 17012, 17014, 17016, 17018, 17020, 17022, 17024, 17026, 17028, 17030, 17032, 17034, 17036, 17038, 17040, 17042, 17044, 17046, 17048, 17050, 17052, 17054, 17056, 17058, 17060, 17062, 17064, 17066, 17068, 17070, 17072, 17074, 17076, 17078, 17080, 17082, 17084, 17086, 17088, 17090, 17092, 17094, 17096, 17098, 17100, 17102, 17104, 17106, 17108, 17110, 17112, 17114, 17116, 17118, 17120, 17122, 17124, 17126, 17128, 17130, 17132, 17134, 17136, 17138, 17140, 17142, 17144, 17146, 17148, 17150, 17152, 17154, 17156, 17158, 17160, 17162, 17164, 17166, 17168, 17170, 17172, 17174, 17176, 17178, 17180, 17182, 17184, 17186, 17188, 17190, 17192, 17194, 17196, 17198, 17200, 17202, 17204, 17206, 17208, 17210, 17212, 17214, 17216, 17218, 17220, 17222, 17224, 17226, 17228, 17230, 17232, 17234, 17236, 17238, 17240, 17242, 17244, 17246, 17248, 17250, 17252, 17254, 17256, 17258, 17260, 17262, 17264, 17266, 17268, 17270, 17272, 17274, 17276, 17278, 17280, 17282, 17284, 17286, 17288, 17290, 17292, 17294, 17296, 17298, 17300, 17302, 17304, 17306, 17308, 17310, 17312, 17314, 17316, 17318, 17320, 17322, 17324, 17326, 17328, 17330, 17332, 17334, 17336, 17338, 17340, 17342, 17344, 17346, 17348, 17350, 17352, 17354, 17356, 17358, 17360, 17362, 17364, 17366, 17368, 17370, 17372, 17374, 17376, 17378, 17380, 17382, 17384, 17386, 17388, 17390, 17392, 17394, 17396, 17398, 17400, 17402, 17404, 17406, 17408, 17410, 17412, 17414, 17416, 17418, 17420, 17422, 17424, 17426, 17428, 17430, 17432, 17434, 17436, 17438, 17440, 17442, 17444, 17446, 17448, 17450, 17452, 17454, 17456, 17458, 17460, 17462, 17464, 17466, 17468, 17470, 17472, 17474, 17476, 17478, 17480, 17482, 17484, 17486, 17488, 17490, 17492, 17494, 17496, 17498, 17500, 17502, 17504, 17506, 17508, 17510, 17512, 17514, 17516, 17518, 17520, 17522, 17524, 17526, 17528, 17530, 17532, 17534, 17536, 17538, 17540, 17542, 17544, 17546, 17548, 17550, 17552, 17554, 17556, 17558, 17560, 17562, 17564, 17566, 17568, 17570, 17572, 17574, 17576, 17578, 17580, 17582, 17584, 17586, 17588, 17590, 17592, 17594, 17596, 17598, 17600, 17602, 17604, 17606, 17608, 17610, 17612, 17614, 17616, 17618, 17620, 17622, 17624, 17626, 17628, 17630, 17632, 17634, 17636, 17638, 17640, 17642, 17644, 17646, 17648, 17650, 17652, 17654, 17656, 17658, 17660, 17662, 17664, 17666, 17668, 17670, 17672, 17674, 17676, 17678, 17680, 17682, 17684, 17686, 17688, 17690, 17692, 17694, 17696, 17698, 17700, 17702, 17704, 17706, 17708, 17710, 17712, 17714, 17716, 17718, 17720, 17722, 17724, 17726, 17728, 17730, 17732, 17734, 17736, 17738, 17740, 17742, 17744, 17746, 17748, 17750, 17752, 17754, 17756, 17758, 17760, 17762, 17764, 17766, 17768, 17770, 17772, 17774, 17776, 17778, 17780, 17782, 17784, 17786, 17788, 17790, 17792, 17794, 17796, 17798, 17800, 17802, 17804, 17806, 17808, 17810, 17812, 17814, 17816, 17818, 17820, 17822, 17824, 17826, 17828, 17830, 17832, 17834, 17836, 17838, 17840, 17842, 17844, 17846, 17848, 17850, 17852, 17854, 17856, 17858, 17860, 17862, 17864, 17866, 17868, 17870, 17872, 17874, 17876, 17878, 17880, 17882, 17884, 17886, 17888, 17890, 17892, 17894, 17896, 17898, 17900, 17902, 17904, 17906, 17908, 17910, 17912, 17914, 17916, 17918, 17920, 17922, 17924, 17926, 17928, 17930, 17932, 17934, 17936, 17938, 17940, 17942, 17944, 17946, 17948, 17950, 17952, 17954, 17956, 17958, 17960, 17962, 17964, 17966, 17968, 17970, 17972, 17974, 17976, 17978, 17980, 17982, 17984, 17986, 17988, 17990, 17992, 17994, 17996, 17998, 18000, 18002, 18004, 18006, 18008, 18010, 18012, 18014, 18016, 18018, 18020, 18022, 18024, 18026, 18028, 18030, 18032, 18034, 18036, 18038, 18040, 18042, 18044, 18046, 18048, 18050, 18052, 18054, 18056, 18058, 18060, 18062, 18064, 18066, 18068, 18070, 18072, 18074, 18076, 18078, 18080, 18082, 18084, 18086, 18088, 18090, 18092, 18094, 18096, 18098, 18100, 18102, 18104, 18106, 18108, 18110, 18112, 18114, 18116, 18118, 18120, 18122, 18124, 18126, 18128, 18130, 18132, 18134, 18136, 18138, 18140, 18142, 18144, 18146, 18148, 18150, 18152, 18154, 18156, 18158, 18160, 18162, 18164, 18166, 18168, 18170, 18172, 18174, 18176, 18178, 18180, 18182, 18184, 18186, 18188, 18190, 18192, 18194, 18196, 18198, 18200, 18202, 18204, 18206, 18208, 18210, 18212, 18214, 18216, 18218, 18220, 18222, 18224, 18226, 18228, 18230, 18232, 18234, 18236, 18238, 18240, 18242, 18244, 18246, 18248, 18250, 18252, 18254, 18256, 18258, 18260, 18262, 18264, 18266, 18268, 18270, 18272, 18274, 18276, 18278, 18280, 18282, 18284, 18286, 18288, 18290, 18292, 18294, 18296, 18298, 18300, 18302, 18304, 18306, 18308, 18310, 18312, 18314, 18316, 18318, 18320, 18322, 18324, 18326, 18328, 18330, 18332, 18334, 18336, 18338, 18340, 18342, 18344, 18346, 18348, 18350, 18352, 18354, 18356, 18358, 18360, 18362, 18364, 18366, 18368, 18370, 18372, 18374, 18376, 18378, 18380, 18382, 18384, 18386, 18388, 18390, 18392, 18394, 18396, 18398, 18400, 18402, 18404, 18406, 18408, 18410, 18412, 18414, 18416, 18418, 18420, 18422, 18424, 18426, 18428, 18430, 18432, 18434, 18436, 18438, 18440, 18442, 18444, 18446, 18448, 18450, 18452, 18454, 18456, 18458, 18460, 18462, 18464, 18466, 18468, 18470, 18472, 18474, 18476, 18478, 18480, 18482, 18484, 18486, 18488, 18490, 18492, 18494, 18496, 18498, 18500, 18502, 18504, 18506, 18508, 18510, 18512, 18514, 18516, 18518, 18520, 18522, 18524, 18526, 18528, 18530, 18532, 18534, 18536, 18538, 18540, 18542, 18544, 18546, 18548, 18550, 18552, 18554, 18556, 18558, 18560, 18562, 18564, 18566, 18568, 18570, 18572, 18574, 18576, 18578, 18580, 18582, 18584, 18586, 18588, 18590, 18592, 18594, 18596, 18598, 18600, 18602, 18604, 18606, 18608, 18610, 18612, 18614, 18616, 18618, 18620, 18622, 18624, 18626, 18628, 18630, 18632, 18634, 18636, 18638, 18640, 18642, 18644, 18646, 18648, 18650, 18652, 18654, 18656, 18658, 18660, 18662, 18664, 18666, 18668, 18670, 18672, 18674, 18676, 18678, 18680, 18682, 18684, 18686, 18688, 18690, 18692, 18694, 18696, 18698, 18700, 18702, 18704, 18706, 18708, 18710, 18712, 18714, 18716, 18718, 18720, 18722, 18724, 18726, 18728, 18730, 18732, 18734, 18736, 18738, 18740, 18742, 18744, 18746, 18748, 18750, 18752, 18754, 18756, 18758, 18760, 18762, 18764, 18766, 18768, 18770, 18772, 18774, 18776, 18778, 18780, 18782, 18784, 18786, 18788, 18790, 18792, 18794, 18796, 18798, 18800, 18802, 18804, 18806, 18808, 18810, 18812, 18814, 18816, 18818, 18820, 18822, 18824, 18826, 18828, 18830, 18832, 18834, 18836, 18838, 18840, 18842, 18844, 18846, 18848, 18850, 18852, 18854, 18856, 18858, 18860, 18862, 18864, 18866, 18868, 18870, 18872, 18874, 18876, 18878, 18880, 18882, 18884, 18886, 18888, 18890, 18892, 18894, 18896, 18898, 18900, 18902, 18904, 18906, 18908, 18910, 18912, 18914, 18916, 18918, 18920, 18922, 18924, 18926, 18928, 18930, 18932, 18934, 18936, 18938, 18940, 18942, 18944, 18946, 18948, 18950, 18952, 18954, 18956, 18958, 18960, 18962, 18964, 18966, 18968, 18970, 18972, 18974, 18976, 18978, 18980, 18982, 18984, 18986, 18988, 18990, 18992, 18994, 18996, 18998, 19000, 19002, 19004, 19006, 19008, 19010, 19012, 19014, 19016, 19018, 19020, 19022, 19024, 19026, 19028, 19030, 19032, 19034, 19036, 19038, 19040, 19042, 19044, 19046, 19048, 19050, 19052, 19054, 19056, 19058, 19060, 19062, 19064, 19066, 19068, 19070, 19072, 19074, 19076, 19078, 19080, 19082, 19084, 19086, 19088, 19090, 19092, 19094, 19096, 19098, 19100, 19102, 19104, 19106, 19108, 19110, 19112, 19114, 19116, 19118, 19120, 19122, 19124, 19126, 19128, 19130, 19132, 19134, 19136, 19138, 19140, 19142, 19144, 19146, 19148, 19150, 19152, 19154, 19156, 19158, 19160, 19162, 19164, 19166, 19168, 19170, 19172, 19174, 19176, 19178, 19180, 19182, 19184, 19186, 19188, 19190, 19192, 19194, 19196, 19198, 19200, 19202, 19204, 19206, 19208, 19210, 19212, 19214, 19216, 19218, 19220, 19222, 19224, 19226, 19228, 19230, 19232, 19234, 19236, 19238, 19240, 19242, 19244, 19246, 19248, 19250, 19252, 19254, 19256, 19258, 19260, 19262, 19264, 19266, 19268, 19270, 19272, 19274, 19276, 19278, 19280, 19282, 19284, 19286, 19288, 19290, 19292, 19294, 19296, 19298, 19300, 19302, 19304, 19306, 19308, 19310, 19312, 19314, 19316, 19318, 19320, 19322, 19324, 19326, 19328, 19330, 19332, 19334, 19336, 19338, 19340, 19342, 19344, 19346, 19348, 19350, 19352, 19354, 19356, 19358, 19360, 19362, 19364, 19366, 19368, 19370, 19372, 19374, 19376, 19378, 19380, 19382, 19384, 19386, 19388, 19390, 19392, 19394, 19396, 19398, 19400, 19402, 19404, 19406, 19408, 19410, 19412, 19414, 19416, 19418, 19420, 19422, 19424, 19426, 19428, 19430, 19432, 19434, 19436, 19438, 19440, 19442, 19444, 19446, 19448, 19450, 19452, 19454, 19456, 19458, 19460, 19462, 19464, 19466, 19468, 19470, 19472, 19474, 19476, 19478, 19480, 19482, 19484, 19486, 19488, 19490, 19492, 19494, 19496, 19498, 19500, 19502, 19504, 19506, 19508, 19510, 19512, 19514, 19516, 19518, 19520, 19522, 19524, 19526, 19528, 19530, 19532, 19534, 19536, 19538, 19540, 19542, 19544, 19546, 19548, 19550, 19552, 19554, 19556, 19558, 19560, 19562, 19564, 19566, 19568, 19570, 19572, 19574, 19576, 19578, 19580, 19582, 19584, 19586, 19588, 19590, 19592, 19594, 19596, 19598, 19600, 19602, 19604, 19606, 19608, 19610, 19612, 19614, 19616, 19618, 19620, 19622, 19624, 19626, 19628, 19630, 19632, 19634, 19636, 19638, 19640, 19642, 19644, 19646, 19648, 19650, 19652, 19654, 19656, 19658, 19660, 19662, 19664, 19666, 19668, 19670, 19672, 19674, 19676, 19678, 19680, 19682, 19684, 19686, 19688, 19690, 19692, 19694, 19696, 19698, 19700, 19702, 19704, 19706, 19708, 19710, 19712, 19714, 19716, 19718, 19720, 19722, 19724, 19726, 19728, 19730, 19732, 19734, 19736, 19738, 19740, 19742, 19744, 19746, 19748, 19750, 19752, 19754, 19756, 19758, 19760, 19762, 19764, 19766, 19768, 19770, 19772, 19774, 19776, 19778, 19780, 19782, 19784, 19786, 19788, 19790, 19792, 19794, 19796, 19798, 19800, 19802, 19804, 19806, 19808, 19810, 19812, 19814, 19816, 19818, 19820, 19822, 19824, 19826, 19828, 19830, 19832, 19834, 19836, 19838, 19840, 19842, 19844, 19846, 19848, 19850, 19852, 19854, 19856, 19858, 19860, 19862, 19864, 19866, 19868, 19870, 19872, 19874, 19876, 19878, 19880, 19882, 19884, 19886, 19888, 19890, 19892, 19894, 19896, 19898, 19900, 19902, 19904, 19906, 19908, 19910, 19912, 19914, 19916, 19918, 19920, 19922, 19924, 19926, 19928, 19930, 19932, 19934, 19936, 19938, 19940, 19942, 19944, 19946, 19948, 19950, 19952, 19954, 19956, 19958, 19960, 19962, 19964, 19966, 19968, 19970, 19972, 19974, 19976, 19978, 19980, 19982, 19984, 19986, 19988, 19990, 19992, 19994, 19996, 19998]\n",
            "('python list look: ', 0.00489044189453125, 'python list look: ', 0.00489044189453125, 'python list look: ', 0.00489044189453125, 'python list look: ', 0.00489044189453125, 'python list look: ', 0.00489044189453125, 'python list look: ', 0.00489044189453125, 'python list look: ', 0.00489044189453125, 'python list look: ', 0.00489044189453125, 'python list look: ', 0.00489044189453125, 'python list look: ', 0.00489044189453125, 'python list look: ', 0.00489044189453125, 'python list look: ', 0.00489044189453125, 'python list look: ', 0.00489044189453125, 'python list look: ', 0.00489044189453125, 'python list look: ', 0.00489044189453125, 'python list look: ', 0.00489044189453125, 'python list look: ', 0.00489044189453125, 'python list look: ', 0.00489044189453125, 'python list look: ', 0.00489044189453125, 'python list look: ', 0.00489044189453125, 'python list look: ', 0.00489044189453125, 'python list look: ', 0.00489044189453125, 'python list look: ', 0.00489044189453125, 'python list look: ', 0.00489044189453125, 'python list look: ', 0.00489044189453125, 'python list look: ', 0.00489044189453125, 'python list look: ', 0.00489044189453125, 'python list look: ', 0.00489044189453125, 'python list look: ', 0.00489044189453125, 'python list look: ', 0.00489044189453125, 'python list look: ', 0.00489044189453125, 'python list look: ', 0.00489044189453125, 'python list look: ', 0.00489044189453125, 'python list look: ', 0.00489044189453125, 'python list look: ', 0.00489044189453125, 'python list look: ', 0.00489044189453125, 'python list look: ', 0.00489044189453125, 'python list look: ', 0.00489044189453125, 'python list look: ', 0.00489044189453125, 'python list look: ', 0.00489044189453125, 'python list look: ', 0.00489044189453125, 'python list look: ', 0.00489044189453125, 'python list look: ', 0.00489044189453125, 'python list look: ', 0.00489044189453125, 'python list look: ', 0.00489044189453125, 'python list look: ', 0.00489044189453125, 'python list look: ', 0.00489044189453125, 'python list look: ', 0.00489044189453125, 'python list look: ', 0.00489044189453125, 'python list look: ', 0.00489044189453125, 'python list look: ', 0.00489044189453125, 'python list look: ', 0.00489044189453125, 'python list look: ', 0.00489044189453125, 'python list look: ', 0.00489044189453125, 'python list look: ', 0.00489044189453125, 'python list look: ', 0.00489044189453125, 'python list look: ', 0.00489044189453125, 'python list look: ', 0.00489044189453125, 'python list look: ', 0.00489044189453125, 'python list look: ', 0.00489044189453125, 'python list look: ', 0.00489044189453125, 'python list look: ', 0.00489044189453125, 'python list look: ', 0.00489044189453125, 'python list look: ', 0.00489044189453125, 'python list look: ', 0.00489044189453125, 'python list look: ', 0.00489044189453125, 'python list look: ', 0.00489044189453125, 'python list look: ', 0.00489044189453125, 'python list look: ', 0.00489044189453125, 'python list look: ', 0.00489044189453125, 'python list look: ', 0.00489044189453125, 'python list look: ', 0.00489044189453125, 'python list look: ', 0.00489044189453125, 'python list look: ', 0.00489044189453125, 'python list look: ', 0.00489044189453125, 'python list look: ', 0.00489044189453125, 'python list look: ', 0.00489044189453125, 'python list look: ', 0.00489044189453125, 'python list look: ', 0.00489044189453125, 'python list look: ', 0.00489044189453125, 'python list look: ', 0.00489044189453125, 'python list look: ', 0.00489044189453125, 'python list look: ', 0.00489044189453125, 'python list look: ', 0.00489044189453125, 'python list look: ', 0.00489044189453125, 'python list look: ', 0.00489044189453125, 'python list look: ', 0.00489044189453125, 'python list look: ', 0.00489044189453125, 'python list look: ', 0.00489044189453125, 'python list look: ', 0.00489044189453125, 'python list look: ', 0.00489044189453125, 'python list look: ', 0.00489044189453125, 'python list look: ', 0.00489044189453125, 'python list look: ', 0.00489044189453125, 'python list look: ', 0.00489044189453125, 'python list look: ', 0.00489044189453125, 'python list look: ', 0.00489044189453125, 'python list look: ', 0.00489044189453125, 'python list look: ', 0.00489044189453125, 'python list look: ', 0.00489044189453125, 'python list look: ', 0.00489044189453125, 'python list look: ', 0.00489044189453125, 'python list look: ', 0.00489044189453125, 'python list look: ', 0.00489044189453125, 'python list look: ', 0.00489044189453125, 'python list look: ', 0.00489044189453125, 'python list look: ', 0.00489044189453125, 'python list look: ', 0.00489044189453125, 'python list look: ', 0.00489044189453125, 'python list look: ', 0.00489044189453125, 'python list look: ', 0.00489044189453125, 'python list look: ', 0.00489044189453125, 'python list look: ', 0.00489044189453125, 'python list look: ', 0.00489044189453125, 'python list look: ', 0.00489044189453125, 'python list look: ', 0.00489044189453125, 'python list look: ', 0.00489044189453125, 'python list look: ', 0.00489044189453125, 'python list look: ', 0.00489044189453125, 'python list look: ', 0.00489044189453125, 'python list look: ', 0.00489044189453125, 'python list look: ', 0.00489044189453125, 'python list look: ', 0.00489044189453125, 'python list look: ', 0.00489044189453125, 'python list look: ', 0.00489044189453125, 'python list look: ', 0.00489044189453125, 'python list look: ', 0.00489044189453125, 'python list look: ', 0.00489044189453125, 'python list look: ', 0.00489044189453125, 'python list look: ', 0.00489044189453125, 'python list look: ', 0.00489044189453125, 'python list look: ', 0.00489044189453125, 'python list look: ', 0.00489044189453125, 'python list look: ', 0.00489044189453125, 'python list look: ', 0.00489044189453125, 'python list look: ', 0.00489044189453125, 'python list look: ', 0.00489044189453125, 'python list look: ', 0.00489044189453125, 'python list look: ', 0.00489044189453125, 'python list look: ', 0.00489044189453125, 'python list look: ', 0.00489044189453125, 'python list look: ', 0.00489044189453125, 'python list look: ', 0.00489044189453125, 'python list look: ', 0.00489044189453125, 'python list look: ', 0.00489044189453125, 'python list look: ', 0.00489044189453125, 'python list look: ', 0.00489044189453125, 'python list look: ', 0.00489044189453125, 'python list look: ', 0.00489044189453125, 'python list look: ', 0.00489044189453125, 'python list look: ', 0.00489044189453125, 'python list look: ', 0.00489044189453125, 'python list look: ', 0.00489044189453125, 'python list look: ', 0.00489044189453125, 'python list look: ', 0.00489044189453125, 'python list look: ', 0.00489044189453125, 'python list look: ', 0.00489044189453125, 'python list look: ', 0.00489044189453125, 'python list look: ', 0.00489044189453125, 'python list look: ', 0.00489044189453125, 'python list look: ', 0.00489044189453125, 'python list look: ', 0.00489044189453125, 'python list look: ', 0.00489044189453125, 'python list look: ', 0.00489044189453125, 'python list look: ', 0.00489044189453125, 'python list look: ', 0.00489044189453125, 'python list look: ', 0.00489044189453125, 'python list look: ', 0.00489044189453125, 'python list look: ', 0.00489044189453125, 'python list look: ', 0.00489044189453125, 'python list look: ', 0.00489044189453125, 'python list look: ', 0.00489044189453125, 'python list look: ', 0.00489044189453125, 'python list look: ', 0.00489044189453125, 'python list look: ', 0.00489044189453125, 'python list look: ', 0.00489044189453125, 'python list look: ', 0.00489044189453125, 'python list look: ', 0.00489044189453125, 'python list look: ', 0.00489044189453125, 'python list look: ', 0.00489044189453125, 'python list look: ', 0.00489044189453125, 'python list look: ', 0.00489044189453125, 'python list look: ', 0.00489044189453125, 'python list look: ', 0.00489044189453125, 'python list look: ', 0.00489044189453125, 'python list look: ', 0.00489044189453125, 'python list look: ', 0.00489044189453125, 'python list look: ', 0.00489044189453125, 'python list look: ', 0.00489044189453125, 'python list look: ', 0.00489044189453125, 'python list look: ', 0.00489044189453125, 'python list look: ', 0.00489044189453125, 'python list look: ', 0.00489044189453125, 'python list look: ', 0.00489044189453125, 'python list look: ', 0.00489044189453125, 'python list look: ', 0.00489044189453125, 'python list look: ', 0.00489044189453125, 'python list look: ', 0.00489044189453125, 'python list look: ', 0.00489044189453125, 'python list look: ', 0.00489044189453125, 'python list look: ', 0.00489044189453125, 'python list look: ', 0.00489044189453125, 'python list look: ', 0.00489044189453125, 'python list look: ', 0.00489044189453125, 'python list look: ', 0.00489044189453125, 'python list look: ', 0.00489044189453125, 'python list look: ', 0.00489044189453125, 'python list look: ', 0.00489044189453125, 'python list look: ', 0.00489044189453125, 'python list look: ', 0.00489044189453125, 'python list look: ', 0.00489044189453125, 'python list look: ', 0.00489044189453125, 'python list look: ', 0.00489044189453125, 'python list look: ', 0.00489044189453125, 'python list look: ', 0.00489044189453125, 'python list look: ', 0.00489044189453125, 'python list look: ', 0.00489044189453125, 'python list look: ', 0.00489044189453125, 'python list look: ', 0.00489044189453125, 'python list look: ', 0.00489044189453125, 'python list look: ', 0.00489044189453125, 'python list look: ', 0.00489044189453125, 'python list look: ', 0.00489044189453125, 'python list look: ', 0.00489044189453125, 'python list look: ', 0.00489044189453125, 'python list look: ', 0.00489044189453125, 'python list look: ', 0.00489044189453125, 'python list look: ', 0.00489044189453125, 'python list look: ', 0.00489044189453125, 'python list look: ', 0.00489044189453125, 'python list look: ', 0.00489044189453125, 'python list look: ', 0.00489044189453125, 'python list look: ', 0.00489044189453125, 'python list look: ', 0.00489044189453125, 'python list look: ', 0.00489044189453125, 'python list look: ', 0.00489044189453125, 'python list look: ', 0.00489044189453125, 'python list look: ', 0.00489044189453125, 'python list look: ', 0.00489044189453125, 'python list look: ', 0.00489044189453125, 'python list look: ', 0.00489044189453125, 'python list look: ', 0.00489044189453125, 'python list look: ', 0.00489044189453125, 'python list look: ', 0.00489044189453125, 'python list look: ', 0.00489044189453125, 'python list look: ', 0.00489044189453125, 'python list look: ', 0.00489044189453125, 'python list look: ', 0.00489044189453125, 'python list look: ', 0.00489044189453125, 'python list look: ', 0.00489044189453125, 'python list look: ', 0.00489044189453125, 'python list look: ', 0.00489044189453125, 'python list look: ', 0.00489044189453125, 'python list look: ', 0.00489044189453125, 'python list look: ', 0.00489044189453125, 'python list look: ', 0.00489044189453125, 'python list look: ', 0.00489044189453125, 'python list look: ', 0.00489044189453125, 'python list look: ', 0.00489044189453125, 'python list look: ', 0.00489044189453125, 'python list look: ', 0.00489044189453125, 'python list look: ', 0.00489044189453125, 'python list look: ', 0.00489044189453125, 'python list look: ', 0.00489044189453125, 'python list look: ', 0.00489044189453125, 'python list look: ', 0.00489044189453125, 'python list look: ', 0.00489044189453125, 'python list look: ', 0.00489044189453125, 'python list look: ', 0.00489044189453125, 'python list look: ', 0.00489044189453125, 'python list look: ', 0.00489044189453125, 'python list look: ', 0.00489044189453125, 'python list look: ', 0.00489044189453125, 'python list look: ', 0.00489044189453125, 'python list look: ', 0.00489044189453125, 'python list look: ', 0.00489044189453125, 'python list look: ', 0.00489044189453125, 'python list look: ', 0.00489044189453125, 'python list look: ', 0.00489044189453125, 'python list look: ', 0.00489044189453125, 'python list look: ', 0.00489044189453125, 'python list look: ', 0.00489044189453125, 'python list look: ', 0.00489044189453125, 'python list look: ', 0.00489044189453125, 'python list look: ', 0.00489044189453125, 'python list look: ', 0.00489044189453125, 'python list look: ', 0.00489044189453125, 'python list look: ', 0.00489044189453125, 'python list look: ', 0.00489044189453125, 'python list look: ', 0.00489044189453125, 'python list look: ', 0.00489044189453125, 'python list look: ', 0.00489044189453125, 'python list look: ', 0.00489044189453125, 'python list look: ', 0.00489044189453125, 'python list look: ', 0.00489044189453125, 'python list look: ', 0.00489044189453125, 'python list look: ', 0.00489044189453125, 'python list look: ', 0.00489044189453125, 'python list look: ', 0.00489044189453125, 'python list look: ', 0.00489044189453125, 'python list look: ', 0.00489044189453125, 'python list look: ', 0.00489044189453125, 'python list look: ', 0.00489044189453125, 'python list look: ', 0.00489044189453125, 'python list look: ', 0.00489044189453125, 'python list look: ', 0.00489044189453125, 'python list look: ', 0.00489044189453125, 'python list look: ', 0.00489044189453125, 'python list look: ', 0.00489044189453125, 'python list look: ', 0.00489044189453125, 'python list look: ', 0.00489044189453125, 'python list look: ', 0.00489044189453125, 'python list look: ', 0.00489044189453125, 'python list look: ', 0.00489044189453125, 'python list look: ', 0.00489044189453125, 'python list look: ', 0.00489044189453125, 'python list look: ', 0.00489044189453125, 'python list look: ', 0.00489044189453125, 'python list look: ', 0.00489044189453125, 'python list look: ', 0.00489044189453125, 'python list look: ', 0.00489044189453125, 'python list look: ', 0.00489044189453125, 'python list look: ', 0.00489044189453125, 'python list look: ', 0.00489044189453125, 'python list look: ', 0.00489044189453125, 'python list look: ', 0.00489044189453125, 'python list look: ', 0.00489044189453125, 'python list look: ', 0.00489044189453125, 'python list look: ', 0.00489044189453125, 'python list look: ', 0.00489044189453125, 'python list look: ', 0.00489044189453125, 'python list look: ', 0.00489044189453125, 'python list look: ', 0.00489044189453125, 'python list look: ', 0.00489044189453125, 'python list look: ', 0.00489044189453125, 'python list look: ', 0.00489044189453125, 'python list look: ', 0.00489044189453125, 'python list look: ', 0.00489044189453125, 'python list look: ', 0.00489044189453125, 'python list look: ', 0.00489044189453125, 'python list look: ', 0.00489044189453125, 'python list look: ', 0.00489044189453125, 'python list look: ', 0.00489044189453125, 'python list look: ', 0.00489044189453125, 'python list look: ', 0.00489044189453125, 'python list look: ', 0.00489044189453125, 'python list look: ', 0.00489044189453125, 'python list look: ', 0.00489044189453125, 'python list look: ', 0.00489044189453125, 'python list look: ', 0.00489044189453125, 'python list look: ', 0.00489044189453125, 'python list look: ', 0.00489044189453125, 'python list look: ', 0.00489044189453125, 'python list look: ', 0.00489044189453125, 'python list look: ', 0.00489044189453125, 'python list look: ', 0.00489044189453125, 'python list look: ', 0.00489044189453125, 'python list look: ', 0.00489044189453125, 'python list look: ', 0.00489044189453125, 'python list look: ', 0.00489044189453125, 'python list look: ', 0.00489044189453125, 'python list look: ', 0.00489044189453125, 'python list look: ', 0.00489044189453125, 'python list look: ', 0.00489044189453125, 'python list look: ', 0.00489044189453125, 'python list look: ', 0.00489044189453125, 'python list look: ', 0.00489044189453125, 'python list look: ', 0.00489044189453125, 'python list look: ', 0.00489044189453125, 'python list look: ', 0.00489044189453125, 'python list look: ', 0.00489044189453125, 'python list look: ', 0.00489044189453125, 'python list look: ', 0.00489044189453125, 'python list look: ', 0.00489044189453125, 'python list look: ', 0.00489044189453125, 'python list look: ', 0.00489044189453125, 'python list look: ', 0.00489044189453125, 'python list look: ', 0.00489044189453125, 'python list look: ', 0.00489044189453125, 'python list look: ', 0.00489044189453125, 'python list look: ', 0.00489044189453125, 'python list look: ', 0.00489044189453125, 'python list look: ', 0.00489044189453125, 'python list look: ', 0.00489044189453125, 'python list look: ', 0.00489044189453125, 'python list look: ', 0.00489044189453125, 'python list look: ', 0.00489044189453125, 'python list look: ', 0.00489044189453125, 'python list look: ', 0.00489044189453125, 'python list look: ', 0.00489044189453125, 'python list look: ', 0.00489044189453125, 'python list look: ', 0.00489044189453125, 'python list look: ', 0.00489044189453125, 'python list look: ', 0.00489044189453125, 'python list look: ', 0.00489044189453125, 'python list look: ', 0.00489044189453125, 'python list look: ', 0.00489044189453125, 'python list look: ', 0.00489044189453125, 'python list look: ', 0.00489044189453125, 'python list look: ', 0.00489044189453125, 'python list look: ', 0.00489044189453125, 'python list look: ', 0.00489044189453125, 'python list look: ', 0.00489044189453125, 'python list look: ', 0.00489044189453125, 'python list look: ', 0.00489044189453125, 'python list look: ', 0.00489044189453125, 'python list look: ', 0.00489044189453125, 'python list look: ', 0.00489044189453125, 'python list look: ', 0.00489044189453125, 'python list look: ', 0.00489044189453125, 'python list look: ', 0.00489044189453125, 'python list look: ', 0.00489044189453125, 'python list look: ', 0.00489044189453125, 'python list look: ', 0.00489044189453125, 'python list look: ', 0.00489044189453125, 'python list look: ', 0.00489044189453125, 'python list look: ', 0.00489044189453125, 'python list look: ', 0.00489044189453125, 'python list look: ', 0.00489044189453125, 'python list look: ', 0.00489044189453125, 'python list look: ', 0.00489044189453125, 'python list look: ', 0.00489044189453125, 'python list look: ', 0.00489044189453125, 'python list look: ', 0.00489044189453125, 'python list look: ', 0.00489044189453125, 'python list look: ', 0.00489044189453125, 'python list look: ', 0.00489044189453125, 'python list look: ', 0.00489044189453125, 'python list look: ', 0.00489044189453125, 'python list look: ', 0.00489044189453125, 'python list look: ', 0.00489044189453125, 'python list look: ', 0.00489044189453125, 'python list look: ', 0.00489044189453125, 'python list look: ', 0.00489044189453125, 'python list look: ', 0.00489044189453125, 'python list look: ', 0.00489044189453125, 'python list look: ', 0.00489044189453125, 'python list look: ', 0.00489044189453125, 'python list look: ', 0.00489044189453125, 'python list look: ', 0.00489044189453125, 'python list look: ', 0.00489044189453125, 'python list look: ', 0.00489044189453125, 'python list look: ', 0.00489044189453125, 'python list look: ', 0.00489044189453125, 'python list look: ', 0.00489044189453125, 'python list look: ', 0.00489044189453125, 'python list look: ', 0.00489044189453125, 'python list look: ', 0.00489044189453125, 'python list look: ', 0.00489044189453125, 'python list look: ', 0.00489044189453125, 'python list look: ', 0.00489044189453125, 'python list look: ', 0.00489044189453125, 'python list look: ', 0.00489044189453125, 'python list look: ', 0.00489044189453125, 'python list look: ', 0.00489044189453125, 'python list look: ', 0.00489044189453125, 'python list look: ', 0.00489044189453125, 'python list look: ', 0.00489044189453125, 'python list look: ', 0.00489044189453125, 'python list look: ', 0.00489044189453125, 'python list look: ', 0.00489044189453125, 'python list look: ', 0.00489044189453125, 'python list look: ', 0.00489044189453125, 'python list look: ', 0.00489044189453125, 'python list look: ', 0.00489044189453125, 'python list look: ', 0.00489044189453125, 'python list look: ', 0.00489044189453125, 'python list look: ', 0.00489044189453125, 'python list look: ', 0.00489044189453125, 'python list look: ', 0.00489044189453125, 'python list look: ', 0.00489044189453125, 'python list look: ', 0.00489044189453125, 'python list look: ', 0.00489044189453125, 'python list look: ', 0.00489044189453125, 'python list look: ', 0.00489044189453125, 'python list look: ', 0.00489044189453125, 'python list look: ', 0.00489044189453125, 'python list look: ', 0.00489044189453125, 'python list look: ', 0.00489044189453125, 'python list look: ', 0.00489044189453125, 'python list look: ', 0.00489044189453125, 'python list look: ', 0.00489044189453125, 'python list look: ', 0.00489044189453125, 'python list look: ', 0.00489044189453125, 'python list look: ', 0.00489044189453125, 'python list look: ', 0.00489044189453125, 'python list look: ', 0.00489044189453125, 'python list look: ', 0.00489044189453125, 'python list look: ', 0.00489044189453125, 'python list look: ', 0.00489044189453125, 'python list look: ', 0.00489044189453125, 'python list look: ', 0.00489044189453125, 'python list look: ', 0.00489044189453125, 'python list look: ', 0.00489044189453125, 'python list look: ', 0.00489044189453125, 'python list look: ', 0.00489044189453125, 'python list look: ', 0.00489044189453125, 'python list look: ', 0.00489044189453125, 'python list look: ', 0.00489044189453125, 'python list look: ', 0.00489044189453125, 'python list look: ', 0.00489044189453125, 'python list look: ', 0.00489044189453125, 'python list look: ', 0.00489044189453125, 'python list look: ', 0.00489044189453125, 'python list look: ', 0.00489044189453125, 'python list look: ', 0.00489044189453125, 'python list look: ', 0.00489044189453125, 'python list look: ', 0.00489044189453125, 'python list look: ', 0.00489044189453125, 'python list look: ', 0.00489044189453125, 'python list look: ', 0.00489044189453125, 'python list look: ', 0.00489044189453125, 'python list look: ', 0.00489044189453125, 'python list look: ', 0.00489044189453125, 'python list look: ', 0.00489044189453125, 'python list look: ', 0.00489044189453125, 'python list look: ', 0.00489044189453125, 'python list look: ', 0.00489044189453125, 'python list look: ', 0.00489044189453125, 'python list look: ', 0.00489044189453125, 'python list look: ', 0.00489044189453125, 'python list look: ', 0.00489044189453125, 'python list look: ', 0.00489044189453125, 'python list look: ', 0.00489044189453125, 'python list look: ', 0.00489044189453125, 'python list look: ', 0.00489044189453125, 'python list look: ', 0.00489044189453125, 'python list look: ', 0.00489044189453125, 'python list look: ', 0.00489044189453125, 'python list look: ', 0.00489044189453125, 'python list look: ', 0.00489044189453125, 'python list look: ', 0.00489044189453125, 'python list look: ', 0.00489044189453125, 'python list look: ', 0.00489044189453125, 'python list look: ', 0.00489044189453125, 'python list look: ', 0.00489044189453125, 'python list look: ', 0.00489044189453125, 'python list look: ', 0.00489044189453125, 'python list look: ', 0.00489044189453125, 'python list look: ', 0.00489044189453125, 'python list look: ', 0.00489044189453125, 'python list look: ', 0.00489044189453125, 'python list look: ', 0.00489044189453125, 'python list look: ', 0.00489044189453125, 'python list look: ', 0.00489044189453125, 'python list look: ', 0.00489044189453125, 'python list look: ', 0.00489044189453125, 'python list look: ', 0.00489044189453125, 'python list look: ', 0.00489044189453125, 'python list look: ', 0.00489044189453125, 'python list look: ', 0.00489044189453125, 'python list look: ', 0.00489044189453125, 'python list look: ', 0.00489044189453125, 'python list look: ', 0.00489044189453125, 'python list look: ', 0.00489044189453125, 'python list look: ', 0.00489044189453125, 'python list look: ', 0.00489044189453125, 'python list look: ', 0.00489044189453125, 'python list look: ', 0.00489044189453125, 'python list look: ', 0.00489044189453125, 'python list look: ', 0.00489044189453125, 'python list look: ', 0.00489044189453125, 'python list look: ', 0.00489044189453125, 'python list look: ', 0.00489044189453125, 'python list look: ', 0.00489044189453125, 'python list look: ', 0.00489044189453125, 'python list look: ', 0.00489044189453125, 'python list look: ', 0.00489044189453125, 'python list look: ', 0.00489044189453125, 'python list look: ', 0.00489044189453125, 'python list look: ', 0.00489044189453125, 'python list look: ', 0.00489044189453125, 'python list look: ', 0.00489044189453125, 'python list look: ', 0.00489044189453125, 'python list look: ', 0.00489044189453125, 'python list look: ', 0.00489044189453125, 'python list look: ', 0.00489044189453125, 'python list look: ', 0.00489044189453125, 'python list look: ', 0.00489044189453125, 'python list look: ', 0.00489044189453125, 'python list look: ', 0.00489044189453125, 'python list look: ', 0.00489044189453125, 'python list look: ', 0.00489044189453125, 'python list look: ', 0.00489044189453125, 'python list look: ', 0.00489044189453125, 'python list look: ', 0.00489044189453125, 'python list look: ', 0.00489044189453125, 'python list look: ', 0.00489044189453125, 'python list look: ', 0.00489044189453125, 'python list look: ', 0.00489044189453125, 'python list look: ', 0.00489044189453125, 'python list look: ', 0.00489044189453125, 'python list look: ', 0.00489044189453125, 'python list look: ', 0.00489044189453125, 'python list look: ', 0.00489044189453125, 'python list look: ', 0.00489044189453125, 'python list look: ', 0.00489044189453125, 'python list look: ', 0.00489044189453125, 'python list look: ', 0.00489044189453125, 'python list look: ', 0.00489044189453125, 'python list look: ', 0.00489044189453125, 'python list look: ', 0.00489044189453125, 'python list look: ', 0.00489044189453125, 'python list look: ', 0.00489044189453125, 'python list look: ', 0.00489044189453125, 'python list look: ', 0.00489044189453125, 'python list look: ', 0.00489044189453125, 'python list look: ', 0.00489044189453125, 'python list look: ', 0.00489044189453125, 'python list look: ', 0.00489044189453125, 'python list look: ', 0.00489044189453125, 'python list look: ', 0.00489044189453125, 'python list look: ', 0.00489044189453125, 'python list look: ', 0.00489044189453125, 'python list look: ', 0.00489044189453125, 'python list look: ', 0.00489044189453125, 'python list look: ', 0.00489044189453125, 'python list look: ', 0.00489044189453125, 'python list look: ', 0.00489044189453125, 'python list look: ', 0.00489044189453125, 'python list look: ', 0.00489044189453125, 'python list look: ', 0.00489044189453125, 'python list look: ', 0.00489044189453125, 'python list look: ', 0.00489044189453125, 'python list look: ', 0.00489044189453125, 'python list look: ', 0.00489044189453125, 'python list look: ', 0.00489044189453125, 'python list look: ', 0.00489044189453125, 'python list look: ', 0.00489044189453125, 'python list look: ', 0.00489044189453125, 'python list look: ', 0.00489044189453125, 'python list look: ', 0.00489044189453125, 'python list look: ', 0.00489044189453125, 'python list look: ', 0.00489044189453125, 'python list look: ', 0.00489044189453125, 'python list look: ', 0.00489044189453125, 'python list look: ', 0.00489044189453125, 'python list look: ', 0.00489044189453125, 'python list look: ', 0.00489044189453125, 'python list look: ', 0.00489044189453125, 'python list look: ', 0.00489044189453125, 'python list look: ', 0.00489044189453125, 'python list look: ', 0.00489044189453125, 'python list look: ', 0.00489044189453125, 'python list look: ', 0.00489044189453125, 'python list look: ', 0.00489044189453125, 'python list look: ', 0.00489044189453125, 'python list look: ', 0.00489044189453125, 'python list look: ', 0.00489044189453125, 'python list look: ', 0.00489044189453125, 'python list look: ', 0.00489044189453125, 'python list look: ', 0.00489044189453125, 'python list look: ', 0.00489044189453125, 'python list look: ', 0.00489044189453125, 'python list look: ', 0.00489044189453125, 'python list look: ', 0.00489044189453125, 'python list look: ', 0.00489044189453125, 'python list look: ', 0.00489044189453125, 'python list look: ', 0.00489044189453125, 'python list look: ', 0.00489044189453125, 'python list look: ', 0.00489044189453125, 'python list look: ', 0.00489044189453125, 'python list look: ', 0.00489044189453125, 'python list look: ', 0.00489044189453125, 'python list look: ', 0.00489044189453125, 'python list look: ', 0.00489044189453125, 'python list look: ', 0.00489044189453125, 'python list look: ', 0.00489044189453125, 'python list look: ', 0.00489044189453125, 'python list look: ', 0.00489044189453125, 'python list look: ', 0.00489044189453125, 'python list look: ', 0.00489044189453125, 'python list look: ', 0.00489044189453125, 'python list look: ', 0.00489044189453125, 'python list look: ', 0.00489044189453125, 'python list look: ', 0.00489044189453125, 'python list look: ', 0.00489044189453125, 'python list look: ', 0.00489044189453125, 'python list look: ', 0.00489044189453125, 'python list look: ', 0.00489044189453125, 'python list look: ', 0.00489044189453125, 'python list look: ', 0.00489044189453125, 'python list look: ', 0.00489044189453125, 'python list look: ', 0.00489044189453125, 'python list look: ', 0.00489044189453125, 'python list look: ', 0.00489044189453125, 'python list look: ', 0.00489044189453125, 'python list look: ', 0.00489044189453125, 'python list look: ', 0.00489044189453125, 'python list look: ', 0.00489044189453125, 'python list look: ', 0.00489044189453125, 'python list look: ', 0.00489044189453125, 'python list look: ', 0.00489044189453125, 'python list look: ', 0.00489044189453125, 'python list look: ', 0.00489044189453125, 'python list look: ', 0.00489044189453125, 'python list look: ', 0.00489044189453125, 'python list look: ', 0.00489044189453125, 'python list look: ', 0.00489044189453125, 'python list look: ', 0.00489044189453125, 'python list look: ', 0.00489044189453125, 'python list look: ', 0.00489044189453125, 'python list look: ', 0.00489044189453125, 'python list look: ', 0.00489044189453125, 'python list look: ', 0.00489044189453125, 'python list look: ', 0.00489044189453125, 'python list look: ', 0.00489044189453125, 'python list look: ', 0.00489044189453125, 'python list look: ', 0.00489044189453125, 'python list look: ', 0.00489044189453125, 'python list look: ', 0.00489044189453125, 'python list look: ', 0.00489044189453125, 'python list look: ', 0.00489044189453125, 'python list look: ', 0.00489044189453125, 'python list look: ', 0.00489044189453125, 'python list look: ', 0.00489044189453125, 'python list look: ', 0.00489044189453125, 'python list look: ', 0.00489044189453125, 'python list look: ', 0.00489044189453125, 'python list look: ', 0.00489044189453125, 'python list look: ', 0.00489044189453125, 'python list look: ', 0.00489044189453125, 'python list look: ', 0.00489044189453125, 'python list look: ', 0.00489044189453125, 'python list look: ', 0.00489044189453125, 'python list look: ', 0.00489044189453125, 'python list look: ', 0.00489044189453125, 'python list look: ', 0.00489044189453125, 'python list look: ', 0.00489044189453125, 'python list look: ', 0.00489044189453125, 'python list look: ', 0.00489044189453125, 'python list look: ', 0.00489044189453125, 'python list look: ', 0.00489044189453125, 'python list look: ', 0.00489044189453125, 'python list look: ', 0.00489044189453125, 'python list look: ', 0.00489044189453125, 'python list look: ', 0.00489044189453125, 'python list look: ', 0.00489044189453125, 'python list look: ', 0.00489044189453125, 'python list look: ', 0.00489044189453125, 'python list look: ', 0.00489044189453125, 'python list look: ', 0.00489044189453125, 'python list look: ', 0.00489044189453125, 'python list look: ', 0.00489044189453125, 'python list look: ', 0.00489044189453125, 'python list look: ', 0.00489044189453125, 'python list look: ', 0.00489044189453125, 'python list look: ', 0.00489044189453125, 'python list look: ', 0.00489044189453125, 'python list look: ', 0.00489044189453125, 'python list look: ', 0.00489044189453125, 'python list look: ', 0.00489044189453125, 'python list look: ', 0.00489044189453125, 'python list look: ', 0.00489044189453125, 'python list look: ', 0.00489044189453125, 'python list look: ', 0.00489044189453125, 'python list look: ', 0.00489044189453125, 'python list look: ', 0.00489044189453125, 'python list look: ', 0.00489044189453125, 'python list look: ', 0.00489044189453125, 'python list look: ', 0.00489044189453125, 'python list look: ', 0.00489044189453125, 'python list look: ', 0.00489044189453125, 'python list look: ', 0.00489044189453125, 'python list look: ', 0.00489044189453125, 'python list look: ', 0.00489044189453125, 'python list look: ', 0.00489044189453125, 'python list look: ', 0.00489044189453125, 'python list look: ', 0.00489044189453125, 'python list look: ', 0.00489044189453125, 'python list look: ', 0.00489044189453125, 'python list look: ', 0.00489044189453125, 'python list look: ', 0.00489044189453125, 'python list look: ', 0.00489044189453125, 'python list look: ', 0.00489044189453125, 'python list look: ', 0.00489044189453125, 'python list look: ', 0.00489044189453125, 'python list look: ', 0.00489044189453125, 'python list look: ', 0.00489044189453125, 'python list look: ', 0.00489044189453125, 'python list look: ', 0.00489044189453125, 'python list look: ', 0.00489044189453125, 'python list look: ', 0.00489044189453125, 'python list look: ', 0.00489044189453125, 'python list look: ', 0.00489044189453125, 'python list look: ', 0.00489044189453125, 'python list look: ', 0.00489044189453125, 'python list look: ', 0.00489044189453125, 'python list look: ', 0.00489044189453125, 'python list look: ', 0.00489044189453125, 'python list look: ', 0.00489044189453125, 'python list look: ', 0.00489044189453125, 'python list look: ', 0.00489044189453125, 'python list look: ', 0.00489044189453125, 'python list look: ', 0.00489044189453125, 'python list look: ', 0.00489044189453125, 'python list look: ', 0.00489044189453125, 'python list look: ', 0.00489044189453125, 'python list look: ', 0.00489044189453125, 'python list look: ', 0.00489044189453125, 'python list look: ', 0.00489044189453125, 'python list look: ', 0.00489044189453125, 'python list look: ', 0.00489044189453125, 'python list look: ', 0.00489044189453125, 'python list look: ', 0.00489044189453125, 'python list look: ', 0.00489044189453125, 'python list look: ', 0.00489044189453125, 'python list look: ', 0.00489044189453125, 'python list look: ', 0.00489044189453125, 'python list look: ', 0.00489044189453125, 'python list look: ', 0.00489044189453125, 'python list look: ', 0.00489044189453125, 'python list look: ', 0.00489044189453125, 'python list look: ', 0.00489044189453125, 'python list look: ', 0.00489044189453125, 'python list look: ', 0.00489044189453125, 'python list look: ', 0.00489044189453125, 'python list look: ', 0.00489044189453125, 'python list look: ', 0.00489044189453125, 'python list look: ', 0.00489044189453125, 'python list look: ', 0.00489044189453125, 'python list look: ', 0.00489044189453125, 'python list look: ', 0.00489044189453125, 'python list look: ', 0.00489044189453125, 'python list look: ', 0.00489044189453125, 'python list look: ', 0.00489044189453125, 'python list look: ', 0.00489044189453125, 'python list look: ', 0.00489044189453125, 'python list look: ', 0.00489044189453125, 'python list look: ', 0.00489044189453125, 'python list look: ', 0.00489044189453125, 'python list look: ', 0.00489044189453125, 'python list look: ', 0.00489044189453125, 'python list look: ', 0.00489044189453125, 'python list look: ', 0.00489044189453125, 'python list look: ', 0.00489044189453125, 'python list look: ', 0.00489044189453125, 'python list look: ', 0.00489044189453125, 'python list look: ', 0.00489044189453125, 'python list look: ', 0.00489044189453125, 'python list look: ', 0.00489044189453125, 'python list look: ', 0.00489044189453125, 'python list look: ', 0.00489044189453125, 'python list look: ', 0.00489044189453125, 'python list look: ', 0.00489044189453125, 'python list look: ', 0.00489044189453125, 'python list look: ', 0.00489044189453125, 'python list look: ', 0.00489044189453125, 'python list look: ', 0.00489044189453125, 'python list look: ', 0.00489044189453125, 'python list look: ', 0.00489044189453125, 'python list look: ', 0.00489044189453125, 'python list look: ', 0.00489044189453125, 'python list look: ', 0.00489044189453125, 'python list look: ', 0.00489044189453125, 'python list look: ', 0.00489044189453125, 'python list look: ', 0.00489044189453125, 'python list look: ', 0.00489044189453125, 'python list look: ', 0.00489044189453125, 'python list look: ', 0.00489044189453125, 'python list look: ', 0.00489044189453125, 'python list look: ', 0.00489044189453125, 'python list look: ', 0.00489044189453125, 'python list look: ', 0.00489044189453125, 'python list look: ', 0.00489044189453125, 'python list look: ', 0.00489044189453125, 'python list look: ', 0.00489044189453125, 'python list look: ', 0.00489044189453125, 'python list look: ', 0.00489044189453125, 'python list look: ', 0.00489044189453125, 'python list look: ', 0.00489044189453125, 'python list look: ', 0.00489044189453125, 'python list look: ', 0.00489044189453125, 'python list look: ', 0.00489044189453125, 'python list look: ', 0.00489044189453125, 'python list look: ', 0.00489044189453125, 'python list look: ', 0.00489044189453125, 'python list look: ', 0.00489044189453125, 'python list look: ', 0.00489044189453125, 'python list look: ', 0.00489044189453125, 'python list look: ', 0.00489044189453125, 'python list look: ', 0.00489044189453125, 'python list look: ', 0.00489044189453125, 'python list look: ', 0.00489044189453125, 'python list look: ', 0.00489044189453125, 'python list look: ', 0.00489044189453125, 'python list look: ', 0.00489044189453125, 'python list look: ', 0.00489044189453125, 'python list look: ', 0.00489044189453125, 'python list look: ', 0.00489044189453125, 'python list look: ', 0.00489044189453125, 'python list look: ', 0.00489044189453125, 'python list look: ', 0.00489044189453125, 'python list look: ', 0.00489044189453125, 'python list look: ', 0.00489044189453125, 'python list look: ', 0.00489044189453125, 'python list look: ', 0.00489044189453125, 'python list look: ', 0.00489044189453125, 'python list look: ', 0.00489044189453125, 'python list look: ', 0.00489044189453125, 'python list look: ', 0.00489044189453125, 'python list look: ', 0.00489044189453125, 'python list look: ', 0.00489044189453125, 'python list look: ', 0.00489044189453125, 'python list look: ', 0.00489044189453125, 'python list look: ', 0.00489044189453125, 'python list look: ', 0.00489044189453125, 'python list look: ', 0.00489044189453125, 'python list look: ', 0.00489044189453125, 'python list look: ', 0.00489044189453125, 'python list look: ', 0.00489044189453125, 'python list look: ', 0.00489044189453125, 'python list look: ', 0.00489044189453125, 'python list look: ', 0.00489044189453125, 'python list look: ', 0.00489044189453125, 'python list look: ', 0.00489044189453125, 'python list look: ', 0.00489044189453125, 'python list look: ', 0.00489044189453125, 'python list look: ', 0.00489044189453125, 'python list look: ', 0.00489044189453125, 'python list look: ', 0.00489044189453125, 'python list look: ', 0.00489044189453125, 'python list look: ', 0.00489044189453125, 'python list look: ', 0.00489044189453125, 'python list look: ', 0.00489044189453125, 'python list look: ', 0.00489044189453125, 'python list look: ', 0.00489044189453125, 'python list look: ', 0.00489044189453125, 'python list look: ', 0.00489044189453125, 'python list look: ', 0.00489044189453125, 'python list look: ', 0.00489044189453125, 'python list look: ', 0.00489044189453125, 'python list look: ', 0.00489044189453125, 'python list look: ', 0.00489044189453125, 'python list look: ', 0.00489044189453125, 'python list look: ', 0.00489044189453125, 'python list look: ', 0.00489044189453125, 'python list look: ', 0.00489044189453125, 'python list look: ', 0.00489044189453125, 'python list look: ', 0.00489044189453125, 'python list look: ', 0.00489044189453125, 'python list look: ', 0.00489044189453125, 'python list look: ', 0.00489044189453125, 'python list look: ', 0.00489044189453125, 'python list look: ', 0.00489044189453125, 'python list look: ', 0.00489044189453125, 'python list look: ', 0.00489044189453125, 'python list look: ', 0.00489044189453125, 'python list look: ', 0.00489044189453125, 'python list look: ', 0.00489044189453125, 'python list look: ', 0.00489044189453125, 'python list look: ', 0.00489044189453125, 'python list look: ', 0.00489044189453125, 'python list look: ', 0.00489044189453125, 'python list look: ', 0.00489044189453125, 'python list look: ', 0.00489044189453125, 'python list look: ', 0.00489044189453125, 'python list look: ', 0.00489044189453125, 'python list look: ', 0.00489044189453125, 'python list look: ', 0.00489044189453125, 'python list look: ', 0.00489044189453125, 'python list look: ', 0.00489044189453125, 'python list look: ', 0.00489044189453125, 'python list look: ', 0.00489044189453125, 'python list look: ', 0.00489044189453125, 'python list look: ', 0.00489044189453125, 'python list look: ', 0.00489044189453125, 'python list look: ', 0.00489044189453125, 'python list look: ', 0.00489044189453125, 'python list look: ', 0.00489044189453125, 'python list look: ', 0.00489044189453125, 'python list look: ', 0.00489044189453125, 'python list look: ', 0.00489044189453125, 'python list look: ', 0.00489044189453125, 'python list look: ', 0.00489044189453125, 'python list look: ', 0.00489044189453125, 'python list look: ', 0.00489044189453125, 'python list look: ', 0.00489044189453125, 'python list look: ', 0.00489044189453125, 'python list look: ', 0.00489044189453125, 'python list look: ', 0.00489044189453125, 'python list look: ', 0.00489044189453125, 'python list look: ', 0.00489044189453125, 'python list look: ', 0.00489044189453125, 'python list look: ', 0.00489044189453125, 'python list look: ', 0.00489044189453125, 'python list look: ', 0.00489044189453125, 'python list look: ', 0.00489044189453125, 'python list look: ', 0.00489044189453125, 'python list look: ', 0.00489044189453125, 'python list look: ', 0.00489044189453125, 'python list look: ', 0.00489044189453125, 'python list look: ', 0.00489044189453125, 'python list look: ', 0.00489044189453125, 'python list look: ', 0.00489044189453125, 'python list look: ', 0.00489044189453125, 'python list look: ', 0.00489044189453125, 'python list look: ', 0.00489044189453125, 'python list look: ', 0.00489044189453125, 'python list look: ', 0.00489044189453125)\n"
          ],
          "name": "stdout"
        }
      ]
    },
    {
      "cell_type": "code",
      "metadata": {
        "colab": {
          "base_uri": "https://localhost:8080/"
        },
        "id": "7DAp-xiQyXwv",
        "outputId": "bc369527-1a0e-4776-d117-1e8fe881ac8b"
      },
      "source": [
        "start = time.time()\n",
        "result = a1 + a2\n",
        "print((\"numpy list look: \", time.time()-start)*1000)\n"
      ],
      "execution_count": 28,
      "outputs": [
        {
          "output_type": "stream",
          "text": [
            "('numpy list look: ', 0.0006873607635498047, 'numpy list look: ', 0.0006873607635498047, 'numpy list look: ', 0.0006873607635498047, 'numpy list look: ', 0.0006873607635498047, 'numpy list look: ', 0.0006873607635498047, 'numpy list look: ', 0.0006873607635498047, 'numpy list look: ', 0.0006873607635498047, 'numpy list look: ', 0.0006873607635498047, 'numpy list look: ', 0.0006873607635498047, 'numpy list look: ', 0.0006873607635498047, 'numpy list look: ', 0.0006873607635498047, 'numpy list look: ', 0.0006873607635498047, 'numpy list look: ', 0.0006873607635498047, 'numpy list look: ', 0.0006873607635498047, 'numpy list look: ', 0.0006873607635498047, 'numpy list look: ', 0.0006873607635498047, 'numpy list look: ', 0.0006873607635498047, 'numpy list look: ', 0.0006873607635498047, 'numpy list look: ', 0.0006873607635498047, 'numpy list look: ', 0.0006873607635498047, 'numpy list look: ', 0.0006873607635498047, 'numpy list look: ', 0.0006873607635498047, 'numpy list look: ', 0.0006873607635498047, 'numpy list look: ', 0.0006873607635498047, 'numpy list look: ', 0.0006873607635498047, 'numpy list look: ', 0.0006873607635498047, 'numpy list look: ', 0.0006873607635498047, 'numpy list look: ', 0.0006873607635498047, 'numpy list look: ', 0.0006873607635498047, 'numpy list look: ', 0.0006873607635498047, 'numpy list look: ', 0.0006873607635498047, 'numpy list look: ', 0.0006873607635498047, 'numpy list look: ', 0.0006873607635498047, 'numpy list look: ', 0.0006873607635498047, 'numpy list look: ', 0.0006873607635498047, 'numpy list look: ', 0.0006873607635498047, 'numpy list look: ', 0.0006873607635498047, 'numpy list look: ', 0.0006873607635498047, 'numpy list look: ', 0.0006873607635498047, 'numpy list look: ', 0.0006873607635498047, 'numpy list look: ', 0.0006873607635498047, 'numpy list look: ', 0.0006873607635498047, 'numpy list look: ', 0.0006873607635498047, 'numpy list look: ', 0.0006873607635498047, 'numpy list look: ', 0.0006873607635498047, 'numpy list look: ', 0.0006873607635498047, 'numpy list look: ', 0.0006873607635498047, 'numpy list look: ', 0.0006873607635498047, 'numpy list look: ', 0.0006873607635498047, 'numpy list look: ', 0.0006873607635498047, 'numpy list look: ', 0.0006873607635498047, 'numpy list look: ', 0.0006873607635498047, 'numpy list look: ', 0.0006873607635498047, 'numpy list look: ', 0.0006873607635498047, 'numpy list look: ', 0.0006873607635498047, 'numpy list look: ', 0.0006873607635498047, 'numpy list look: ', 0.0006873607635498047, 'numpy list look: ', 0.0006873607635498047, 'numpy list look: ', 0.0006873607635498047, 'numpy list look: ', 0.0006873607635498047, 'numpy list look: ', 0.0006873607635498047, 'numpy list look: ', 0.0006873607635498047, 'numpy list look: ', 0.0006873607635498047, 'numpy list look: ', 0.0006873607635498047, 'numpy list look: ', 0.0006873607635498047, 'numpy list look: ', 0.0006873607635498047, 'numpy list look: ', 0.0006873607635498047, 'numpy list look: ', 0.0006873607635498047, 'numpy list look: ', 0.0006873607635498047, 'numpy list look: ', 0.0006873607635498047, 'numpy list look: ', 0.0006873607635498047, 'numpy list look: ', 0.0006873607635498047, 'numpy list look: ', 0.0006873607635498047, 'numpy list look: ', 0.0006873607635498047, 'numpy list look: ', 0.0006873607635498047, 'numpy list look: ', 0.0006873607635498047, 'numpy list look: ', 0.0006873607635498047, 'numpy list look: ', 0.0006873607635498047, 'numpy list look: ', 0.0006873607635498047, 'numpy list look: ', 0.0006873607635498047, 'numpy list look: ', 0.0006873607635498047, 'numpy list look: ', 0.0006873607635498047, 'numpy list look: ', 0.0006873607635498047, 'numpy list look: ', 0.0006873607635498047, 'numpy list look: ', 0.0006873607635498047, 'numpy list look: ', 0.0006873607635498047, 'numpy list look: ', 0.0006873607635498047, 'numpy list look: ', 0.0006873607635498047, 'numpy list look: ', 0.0006873607635498047, 'numpy list look: ', 0.0006873607635498047, 'numpy list look: ', 0.0006873607635498047, 'numpy list look: ', 0.0006873607635498047, 'numpy list look: ', 0.0006873607635498047, 'numpy list look: ', 0.0006873607635498047, 'numpy list look: ', 0.0006873607635498047, 'numpy list look: ', 0.0006873607635498047, 'numpy list look: ', 0.0006873607635498047, 'numpy list look: ', 0.0006873607635498047, 'numpy list look: ', 0.0006873607635498047, 'numpy list look: ', 0.0006873607635498047, 'numpy list look: ', 0.0006873607635498047, 'numpy list look: ', 0.0006873607635498047, 'numpy list look: ', 0.0006873607635498047, 'numpy list look: ', 0.0006873607635498047, 'numpy list look: ', 0.0006873607635498047, 'numpy list look: ', 0.0006873607635498047, 'numpy list look: ', 0.0006873607635498047, 'numpy list look: ', 0.0006873607635498047, 'numpy list look: ', 0.0006873607635498047, 'numpy list look: ', 0.0006873607635498047, 'numpy list look: ', 0.0006873607635498047, 'numpy list look: ', 0.0006873607635498047, 'numpy list look: ', 0.0006873607635498047, 'numpy list look: ', 0.0006873607635498047, 'numpy list look: ', 0.0006873607635498047, 'numpy list look: ', 0.0006873607635498047, 'numpy list look: ', 0.0006873607635498047, 'numpy list look: ', 0.0006873607635498047, 'numpy list look: ', 0.0006873607635498047, 'numpy list look: ', 0.0006873607635498047, 'numpy list look: ', 0.0006873607635498047, 'numpy list look: ', 0.0006873607635498047, 'numpy list look: ', 0.0006873607635498047, 'numpy list look: ', 0.0006873607635498047, 'numpy list look: ', 0.0006873607635498047, 'numpy list look: ', 0.0006873607635498047, 'numpy list look: ', 0.0006873607635498047, 'numpy list look: ', 0.0006873607635498047, 'numpy list look: ', 0.0006873607635498047, 'numpy list look: ', 0.0006873607635498047, 'numpy list look: ', 0.0006873607635498047, 'numpy list look: ', 0.0006873607635498047, 'numpy list look: ', 0.0006873607635498047, 'numpy list look: ', 0.0006873607635498047, 'numpy list look: ', 0.0006873607635498047, 'numpy list look: ', 0.0006873607635498047, 'numpy list look: ', 0.0006873607635498047, 'numpy list look: ', 0.0006873607635498047, 'numpy list look: ', 0.0006873607635498047, 'numpy list look: ', 0.0006873607635498047, 'numpy list look: ', 0.0006873607635498047, 'numpy list look: ', 0.0006873607635498047, 'numpy list look: ', 0.0006873607635498047, 'numpy list look: ', 0.0006873607635498047, 'numpy list look: ', 0.0006873607635498047, 'numpy list look: ', 0.0006873607635498047, 'numpy list look: ', 0.0006873607635498047, 'numpy list look: ', 0.0006873607635498047, 'numpy list look: ', 0.0006873607635498047, 'numpy list look: ', 0.0006873607635498047, 'numpy list look: ', 0.0006873607635498047, 'numpy list look: ', 0.0006873607635498047, 'numpy list look: ', 0.0006873607635498047, 'numpy list look: ', 0.0006873607635498047, 'numpy list look: ', 0.0006873607635498047, 'numpy list look: ', 0.0006873607635498047, 'numpy list look: ', 0.0006873607635498047, 'numpy list look: ', 0.0006873607635498047, 'numpy list look: ', 0.0006873607635498047, 'numpy list look: ', 0.0006873607635498047, 'numpy list look: ', 0.0006873607635498047, 'numpy list look: ', 0.0006873607635498047, 'numpy list look: ', 0.0006873607635498047, 'numpy list look: ', 0.0006873607635498047, 'numpy list look: ', 0.0006873607635498047, 'numpy list look: ', 0.0006873607635498047, 'numpy list look: ', 0.0006873607635498047, 'numpy list look: ', 0.0006873607635498047, 'numpy list look: ', 0.0006873607635498047, 'numpy list look: ', 0.0006873607635498047, 'numpy list look: ', 0.0006873607635498047, 'numpy list look: ', 0.0006873607635498047, 'numpy list look: ', 0.0006873607635498047, 'numpy list look: ', 0.0006873607635498047, 'numpy list look: ', 0.0006873607635498047, 'numpy list look: ', 0.0006873607635498047, 'numpy list look: ', 0.0006873607635498047, 'numpy list look: ', 0.0006873607635498047, 'numpy list look: ', 0.0006873607635498047, 'numpy list look: ', 0.0006873607635498047, 'numpy list look: ', 0.0006873607635498047, 'numpy list look: ', 0.0006873607635498047, 'numpy list look: ', 0.0006873607635498047, 'numpy list look: ', 0.0006873607635498047, 'numpy list look: ', 0.0006873607635498047, 'numpy list look: ', 0.0006873607635498047, 'numpy list look: ', 0.0006873607635498047, 'numpy list look: ', 0.0006873607635498047, 'numpy list look: ', 0.0006873607635498047, 'numpy list look: ', 0.0006873607635498047, 'numpy list look: ', 0.0006873607635498047, 'numpy list look: ', 0.0006873607635498047, 'numpy list look: ', 0.0006873607635498047, 'numpy list look: ', 0.0006873607635498047, 'numpy list look: ', 0.0006873607635498047, 'numpy list look: ', 0.0006873607635498047, 'numpy list look: ', 0.0006873607635498047, 'numpy list look: ', 0.0006873607635498047, 'numpy list look: ', 0.0006873607635498047, 'numpy list look: ', 0.0006873607635498047, 'numpy list look: ', 0.0006873607635498047, 'numpy list look: ', 0.0006873607635498047, 'numpy list look: ', 0.0006873607635498047, 'numpy list look: ', 0.0006873607635498047, 'numpy list look: ', 0.0006873607635498047, 'numpy list look: ', 0.0006873607635498047, 'numpy list look: ', 0.0006873607635498047, 'numpy list look: ', 0.0006873607635498047, 'numpy list look: ', 0.0006873607635498047, 'numpy list look: ', 0.0006873607635498047, 'numpy list look: ', 0.0006873607635498047, 'numpy list look: ', 0.0006873607635498047, 'numpy list look: ', 0.0006873607635498047, 'numpy list look: ', 0.0006873607635498047, 'numpy list look: ', 0.0006873607635498047, 'numpy list look: ', 0.0006873607635498047, 'numpy list look: ', 0.0006873607635498047, 'numpy list look: ', 0.0006873607635498047, 'numpy list look: ', 0.0006873607635498047, 'numpy list look: ', 0.0006873607635498047, 'numpy list look: ', 0.0006873607635498047, 'numpy list look: ', 0.0006873607635498047, 'numpy list look: ', 0.0006873607635498047, 'numpy list look: ', 0.0006873607635498047, 'numpy list look: ', 0.0006873607635498047, 'numpy list look: ', 0.0006873607635498047, 'numpy list look: ', 0.0006873607635498047, 'numpy list look: ', 0.0006873607635498047, 'numpy list look: ', 0.0006873607635498047, 'numpy list look: ', 0.0006873607635498047, 'numpy list look: ', 0.0006873607635498047, 'numpy list look: ', 0.0006873607635498047, 'numpy list look: ', 0.0006873607635498047, 'numpy list look: ', 0.0006873607635498047, 'numpy list look: ', 0.0006873607635498047, 'numpy list look: ', 0.0006873607635498047, 'numpy list look: ', 0.0006873607635498047, 'numpy list look: ', 0.0006873607635498047, 'numpy list look: ', 0.0006873607635498047, 'numpy list look: ', 0.0006873607635498047, 'numpy list look: ', 0.0006873607635498047, 'numpy list look: ', 0.0006873607635498047, 'numpy list look: ', 0.0006873607635498047, 'numpy list look: ', 0.0006873607635498047, 'numpy list look: ', 0.0006873607635498047, 'numpy list look: ', 0.0006873607635498047, 'numpy list look: ', 0.0006873607635498047, 'numpy list look: ', 0.0006873607635498047, 'numpy list look: ', 0.0006873607635498047, 'numpy list look: ', 0.0006873607635498047, 'numpy list look: ', 0.0006873607635498047, 'numpy list look: ', 0.0006873607635498047, 'numpy list look: ', 0.0006873607635498047, 'numpy list look: ', 0.0006873607635498047, 'numpy list look: ', 0.0006873607635498047, 'numpy list look: ', 0.0006873607635498047, 'numpy list look: ', 0.0006873607635498047, 'numpy list look: ', 0.0006873607635498047, 'numpy list look: ', 0.0006873607635498047, 'numpy list look: ', 0.0006873607635498047, 'numpy list look: ', 0.0006873607635498047, 'numpy list look: ', 0.0006873607635498047, 'numpy list look: ', 0.0006873607635498047, 'numpy list look: ', 0.0006873607635498047, 'numpy list look: ', 0.0006873607635498047, 'numpy list look: ', 0.0006873607635498047, 'numpy list look: ', 0.0006873607635498047, 'numpy list look: ', 0.0006873607635498047, 'numpy list look: ', 0.0006873607635498047, 'numpy list look: ', 0.0006873607635498047, 'numpy list look: ', 0.0006873607635498047, 'numpy list look: ', 0.0006873607635498047, 'numpy list look: ', 0.0006873607635498047, 'numpy list look: ', 0.0006873607635498047, 'numpy list look: ', 0.0006873607635498047, 'numpy list look: ', 0.0006873607635498047, 'numpy list look: ', 0.0006873607635498047, 'numpy list look: ', 0.0006873607635498047, 'numpy list look: ', 0.0006873607635498047, 'numpy list look: ', 0.0006873607635498047, 'numpy list look: ', 0.0006873607635498047, 'numpy list look: ', 0.0006873607635498047, 'numpy list look: ', 0.0006873607635498047, 'numpy list look: ', 0.0006873607635498047, 'numpy list look: ', 0.0006873607635498047, 'numpy list look: ', 0.0006873607635498047, 'numpy list look: ', 0.0006873607635498047, 'numpy list look: ', 0.0006873607635498047, 'numpy list look: ', 0.0006873607635498047, 'numpy list look: ', 0.0006873607635498047, 'numpy list look: ', 0.0006873607635498047, 'numpy list look: ', 0.0006873607635498047, 'numpy list look: ', 0.0006873607635498047, 'numpy list look: ', 0.0006873607635498047, 'numpy list look: ', 0.0006873607635498047, 'numpy list look: ', 0.0006873607635498047, 'numpy list look: ', 0.0006873607635498047, 'numpy list look: ', 0.0006873607635498047, 'numpy list look: ', 0.0006873607635498047, 'numpy list look: ', 0.0006873607635498047, 'numpy list look: ', 0.0006873607635498047, 'numpy list look: ', 0.0006873607635498047, 'numpy list look: ', 0.0006873607635498047, 'numpy list look: ', 0.0006873607635498047, 'numpy list look: ', 0.0006873607635498047, 'numpy list look: ', 0.0006873607635498047, 'numpy list look: ', 0.0006873607635498047, 'numpy list look: ', 0.0006873607635498047, 'numpy list look: ', 0.0006873607635498047, 'numpy list look: ', 0.0006873607635498047, 'numpy list look: ', 0.0006873607635498047, 'numpy list look: ', 0.0006873607635498047, 'numpy list look: ', 0.0006873607635498047, 'numpy list look: ', 0.0006873607635498047, 'numpy list look: ', 0.0006873607635498047, 'numpy list look: ', 0.0006873607635498047, 'numpy list look: ', 0.0006873607635498047, 'numpy list look: ', 0.0006873607635498047, 'numpy list look: ', 0.0006873607635498047, 'numpy list look: ', 0.0006873607635498047, 'numpy list look: ', 0.0006873607635498047, 'numpy list look: ', 0.0006873607635498047, 'numpy list look: ', 0.0006873607635498047, 'numpy list look: ', 0.0006873607635498047, 'numpy list look: ', 0.0006873607635498047, 'numpy list look: ', 0.0006873607635498047, 'numpy list look: ', 0.0006873607635498047, 'numpy list look: ', 0.0006873607635498047, 'numpy list look: ', 0.0006873607635498047, 'numpy list look: ', 0.0006873607635498047, 'numpy list look: ', 0.0006873607635498047, 'numpy list look: ', 0.0006873607635498047, 'numpy list look: ', 0.0006873607635498047, 'numpy list look: ', 0.0006873607635498047, 'numpy list look: ', 0.0006873607635498047, 'numpy list look: ', 0.0006873607635498047, 'numpy list look: ', 0.0006873607635498047, 'numpy list look: ', 0.0006873607635498047, 'numpy list look: ', 0.0006873607635498047, 'numpy list look: ', 0.0006873607635498047, 'numpy list look: ', 0.0006873607635498047, 'numpy list look: ', 0.0006873607635498047, 'numpy list look: ', 0.0006873607635498047, 'numpy list look: ', 0.0006873607635498047, 'numpy list look: ', 0.0006873607635498047, 'numpy list look: ', 0.0006873607635498047, 'numpy list look: ', 0.0006873607635498047, 'numpy list look: ', 0.0006873607635498047, 'numpy list look: ', 0.0006873607635498047, 'numpy list look: ', 0.0006873607635498047, 'numpy list look: ', 0.0006873607635498047, 'numpy list look: ', 0.0006873607635498047, 'numpy list look: ', 0.0006873607635498047, 'numpy list look: ', 0.0006873607635498047, 'numpy list look: ', 0.0006873607635498047, 'numpy list look: ', 0.0006873607635498047, 'numpy list look: ', 0.0006873607635498047, 'numpy list look: ', 0.0006873607635498047, 'numpy list look: ', 0.0006873607635498047, 'numpy list look: ', 0.0006873607635498047, 'numpy list look: ', 0.0006873607635498047, 'numpy list look: ', 0.0006873607635498047, 'numpy list look: ', 0.0006873607635498047, 'numpy list look: ', 0.0006873607635498047, 'numpy list look: ', 0.0006873607635498047, 'numpy list look: ', 0.0006873607635498047, 'numpy list look: ', 0.0006873607635498047, 'numpy list look: ', 0.0006873607635498047, 'numpy list look: ', 0.0006873607635498047, 'numpy list look: ', 0.0006873607635498047, 'numpy list look: ', 0.0006873607635498047, 'numpy list look: ', 0.0006873607635498047, 'numpy list look: ', 0.0006873607635498047, 'numpy list look: ', 0.0006873607635498047, 'numpy list look: ', 0.0006873607635498047, 'numpy list look: ', 0.0006873607635498047, 'numpy list look: ', 0.0006873607635498047, 'numpy list look: ', 0.0006873607635498047, 'numpy list look: ', 0.0006873607635498047, 'numpy list look: ', 0.0006873607635498047, 'numpy list look: ', 0.0006873607635498047, 'numpy list look: ', 0.0006873607635498047, 'numpy list look: ', 0.0006873607635498047, 'numpy list look: ', 0.0006873607635498047, 'numpy list look: ', 0.0006873607635498047, 'numpy list look: ', 0.0006873607635498047, 'numpy list look: ', 0.0006873607635498047, 'numpy list look: ', 0.0006873607635498047, 'numpy list look: ', 0.0006873607635498047, 'numpy list look: ', 0.0006873607635498047, 'numpy list look: ', 0.0006873607635498047, 'numpy list look: ', 0.0006873607635498047, 'numpy list look: ', 0.0006873607635498047, 'numpy list look: ', 0.0006873607635498047, 'numpy list look: ', 0.0006873607635498047, 'numpy list look: ', 0.0006873607635498047, 'numpy list look: ', 0.0006873607635498047, 'numpy list look: ', 0.0006873607635498047, 'numpy list look: ', 0.0006873607635498047, 'numpy list look: ', 0.0006873607635498047, 'numpy list look: ', 0.0006873607635498047, 'numpy list look: ', 0.0006873607635498047, 'numpy list look: ', 0.0006873607635498047, 'numpy list look: ', 0.0006873607635498047, 'numpy list look: ', 0.0006873607635498047, 'numpy list look: ', 0.0006873607635498047, 'numpy list look: ', 0.0006873607635498047, 'numpy list look: ', 0.0006873607635498047, 'numpy list look: ', 0.0006873607635498047, 'numpy list look: ', 0.0006873607635498047, 'numpy list look: ', 0.0006873607635498047, 'numpy list look: ', 0.0006873607635498047, 'numpy list look: ', 0.0006873607635498047, 'numpy list look: ', 0.0006873607635498047, 'numpy list look: ', 0.0006873607635498047, 'numpy list look: ', 0.0006873607635498047, 'numpy list look: ', 0.0006873607635498047, 'numpy list look: ', 0.0006873607635498047, 'numpy list look: ', 0.0006873607635498047, 'numpy list look: ', 0.0006873607635498047, 'numpy list look: ', 0.0006873607635498047, 'numpy list look: ', 0.0006873607635498047, 'numpy list look: ', 0.0006873607635498047, 'numpy list look: ', 0.0006873607635498047, 'numpy list look: ', 0.0006873607635498047, 'numpy list look: ', 0.0006873607635498047, 'numpy list look: ', 0.0006873607635498047, 'numpy list look: ', 0.0006873607635498047, 'numpy list look: ', 0.0006873607635498047, 'numpy list look: ', 0.0006873607635498047, 'numpy list look: ', 0.0006873607635498047, 'numpy list look: ', 0.0006873607635498047, 'numpy list look: ', 0.0006873607635498047, 'numpy list look: ', 0.0006873607635498047, 'numpy list look: ', 0.0006873607635498047, 'numpy list look: ', 0.0006873607635498047, 'numpy list look: ', 0.0006873607635498047, 'numpy list look: ', 0.0006873607635498047, 'numpy list look: ', 0.0006873607635498047, 'numpy list look: ', 0.0006873607635498047, 'numpy list look: ', 0.0006873607635498047, 'numpy list look: ', 0.0006873607635498047, 'numpy list look: ', 0.0006873607635498047, 'numpy list look: ', 0.0006873607635498047, 'numpy list look: ', 0.0006873607635498047, 'numpy list look: ', 0.0006873607635498047, 'numpy list look: ', 0.0006873607635498047, 'numpy list look: ', 0.0006873607635498047, 'numpy list look: ', 0.0006873607635498047, 'numpy list look: ', 0.0006873607635498047, 'numpy list look: ', 0.0006873607635498047, 'numpy list look: ', 0.0006873607635498047, 'numpy list look: ', 0.0006873607635498047, 'numpy list look: ', 0.0006873607635498047, 'numpy list look: ', 0.0006873607635498047, 'numpy list look: ', 0.0006873607635498047, 'numpy list look: ', 0.0006873607635498047, 'numpy list look: ', 0.0006873607635498047, 'numpy list look: ', 0.0006873607635498047, 'numpy list look: ', 0.0006873607635498047, 'numpy list look: ', 0.0006873607635498047, 'numpy list look: ', 0.0006873607635498047, 'numpy list look: ', 0.0006873607635498047, 'numpy list look: ', 0.0006873607635498047, 'numpy list look: ', 0.0006873607635498047, 'numpy list look: ', 0.0006873607635498047, 'numpy list look: ', 0.0006873607635498047, 'numpy list look: ', 0.0006873607635498047, 'numpy list look: ', 0.0006873607635498047, 'numpy list look: ', 0.0006873607635498047, 'numpy list look: ', 0.0006873607635498047, 'numpy list look: ', 0.0006873607635498047, 'numpy list look: ', 0.0006873607635498047, 'numpy list look: ', 0.0006873607635498047, 'numpy list look: ', 0.0006873607635498047, 'numpy list look: ', 0.0006873607635498047, 'numpy list look: ', 0.0006873607635498047, 'numpy list look: ', 0.0006873607635498047, 'numpy list look: ', 0.0006873607635498047, 'numpy list look: ', 0.0006873607635498047, 'numpy list look: ', 0.0006873607635498047, 'numpy list look: ', 0.0006873607635498047, 'numpy list look: ', 0.0006873607635498047, 'numpy list look: ', 0.0006873607635498047, 'numpy list look: ', 0.0006873607635498047, 'numpy list look: ', 0.0006873607635498047, 'numpy list look: ', 0.0006873607635498047, 'numpy list look: ', 0.0006873607635498047, 'numpy list look: ', 0.0006873607635498047, 'numpy list look: ', 0.0006873607635498047, 'numpy list look: ', 0.0006873607635498047, 'numpy list look: ', 0.0006873607635498047, 'numpy list look: ', 0.0006873607635498047, 'numpy list look: ', 0.0006873607635498047, 'numpy list look: ', 0.0006873607635498047, 'numpy list look: ', 0.0006873607635498047, 'numpy list look: ', 0.0006873607635498047, 'numpy list look: ', 0.0006873607635498047, 'numpy list look: ', 0.0006873607635498047, 'numpy list look: ', 0.0006873607635498047, 'numpy list look: ', 0.0006873607635498047, 'numpy list look: ', 0.0006873607635498047, 'numpy list look: ', 0.0006873607635498047, 'numpy list look: ', 0.0006873607635498047, 'numpy list look: ', 0.0006873607635498047, 'numpy list look: ', 0.0006873607635498047, 'numpy list look: ', 0.0006873607635498047, 'numpy list look: ', 0.0006873607635498047, 'numpy list look: ', 0.0006873607635498047, 'numpy list look: ', 0.0006873607635498047, 'numpy list look: ', 0.0006873607635498047, 'numpy list look: ', 0.0006873607635498047, 'numpy list look: ', 0.0006873607635498047, 'numpy list look: ', 0.0006873607635498047, 'numpy list look: ', 0.0006873607635498047, 'numpy list look: ', 0.0006873607635498047, 'numpy list look: ', 0.0006873607635498047, 'numpy list look: ', 0.0006873607635498047, 'numpy list look: ', 0.0006873607635498047, 'numpy list look: ', 0.0006873607635498047, 'numpy list look: ', 0.0006873607635498047, 'numpy list look: ', 0.0006873607635498047, 'numpy list look: ', 0.0006873607635498047, 'numpy list look: ', 0.0006873607635498047, 'numpy list look: ', 0.0006873607635498047, 'numpy list look: ', 0.0006873607635498047, 'numpy list look: ', 0.0006873607635498047, 'numpy list look: ', 0.0006873607635498047, 'numpy list look: ', 0.0006873607635498047, 'numpy list look: ', 0.0006873607635498047, 'numpy list look: ', 0.0006873607635498047, 'numpy list look: ', 0.0006873607635498047, 'numpy list look: ', 0.0006873607635498047, 'numpy list look: ', 0.0006873607635498047, 'numpy list look: ', 0.0006873607635498047, 'numpy list look: ', 0.0006873607635498047, 'numpy list look: ', 0.0006873607635498047, 'numpy list look: ', 0.0006873607635498047, 'numpy list look: ', 0.0006873607635498047, 'numpy list look: ', 0.0006873607635498047, 'numpy list look: ', 0.0006873607635498047, 'numpy list look: ', 0.0006873607635498047, 'numpy list look: ', 0.0006873607635498047, 'numpy list look: ', 0.0006873607635498047, 'numpy list look: ', 0.0006873607635498047, 'numpy list look: ', 0.0006873607635498047, 'numpy list look: ', 0.0006873607635498047, 'numpy list look: ', 0.0006873607635498047, 'numpy list look: ', 0.0006873607635498047, 'numpy list look: ', 0.0006873607635498047, 'numpy list look: ', 0.0006873607635498047, 'numpy list look: ', 0.0006873607635498047, 'numpy list look: ', 0.0006873607635498047, 'numpy list look: ', 0.0006873607635498047, 'numpy list look: ', 0.0006873607635498047, 'numpy list look: ', 0.0006873607635498047, 'numpy list look: ', 0.0006873607635498047, 'numpy list look: ', 0.0006873607635498047, 'numpy list look: ', 0.0006873607635498047, 'numpy list look: ', 0.0006873607635498047, 'numpy list look: ', 0.0006873607635498047, 'numpy list look: ', 0.0006873607635498047, 'numpy list look: ', 0.0006873607635498047, 'numpy list look: ', 0.0006873607635498047, 'numpy list look: ', 0.0006873607635498047, 'numpy list look: ', 0.0006873607635498047, 'numpy list look: ', 0.0006873607635498047, 'numpy list look: ', 0.0006873607635498047, 'numpy list look: ', 0.0006873607635498047, 'numpy list look: ', 0.0006873607635498047, 'numpy list look: ', 0.0006873607635498047, 'numpy list look: ', 0.0006873607635498047, 'numpy list look: ', 0.0006873607635498047, 'numpy list look: ', 0.0006873607635498047, 'numpy list look: ', 0.0006873607635498047, 'numpy list look: ', 0.0006873607635498047, 'numpy list look: ', 0.0006873607635498047, 'numpy list look: ', 0.0006873607635498047, 'numpy list look: ', 0.0006873607635498047, 'numpy list look: ', 0.0006873607635498047, 'numpy list look: ', 0.0006873607635498047, 'numpy list look: ', 0.0006873607635498047, 'numpy list look: ', 0.0006873607635498047, 'numpy list look: ', 0.0006873607635498047, 'numpy list look: ', 0.0006873607635498047, 'numpy list look: ', 0.0006873607635498047, 'numpy list look: ', 0.0006873607635498047, 'numpy list look: ', 0.0006873607635498047, 'numpy list look: ', 0.0006873607635498047, 'numpy list look: ', 0.0006873607635498047, 'numpy list look: ', 0.0006873607635498047, 'numpy list look: ', 0.0006873607635498047, 'numpy list look: ', 0.0006873607635498047, 'numpy list look: ', 0.0006873607635498047, 'numpy list look: ', 0.0006873607635498047, 'numpy list look: ', 0.0006873607635498047, 'numpy list look: ', 0.0006873607635498047, 'numpy list look: ', 0.0006873607635498047, 'numpy list look: ', 0.0006873607635498047, 'numpy list look: ', 0.0006873607635498047, 'numpy list look: ', 0.0006873607635498047, 'numpy list look: ', 0.0006873607635498047, 'numpy list look: ', 0.0006873607635498047, 'numpy list look: ', 0.0006873607635498047, 'numpy list look: ', 0.0006873607635498047, 'numpy list look: ', 0.0006873607635498047, 'numpy list look: ', 0.0006873607635498047, 'numpy list look: ', 0.0006873607635498047, 'numpy list look: ', 0.0006873607635498047, 'numpy list look: ', 0.0006873607635498047, 'numpy list look: ', 0.0006873607635498047, 'numpy list look: ', 0.0006873607635498047, 'numpy list look: ', 0.0006873607635498047, 'numpy list look: ', 0.0006873607635498047, 'numpy list look: ', 0.0006873607635498047, 'numpy list look: ', 0.0006873607635498047, 'numpy list look: ', 0.0006873607635498047, 'numpy list look: ', 0.0006873607635498047, 'numpy list look: ', 0.0006873607635498047, 'numpy list look: ', 0.0006873607635498047, 'numpy list look: ', 0.0006873607635498047, 'numpy list look: ', 0.0006873607635498047, 'numpy list look: ', 0.0006873607635498047, 'numpy list look: ', 0.0006873607635498047, 'numpy list look: ', 0.0006873607635498047, 'numpy list look: ', 0.0006873607635498047, 'numpy list look: ', 0.0006873607635498047, 'numpy list look: ', 0.0006873607635498047, 'numpy list look: ', 0.0006873607635498047, 'numpy list look: ', 0.0006873607635498047, 'numpy list look: ', 0.0006873607635498047, 'numpy list look: ', 0.0006873607635498047, 'numpy list look: ', 0.0006873607635498047, 'numpy list look: ', 0.0006873607635498047, 'numpy list look: ', 0.0006873607635498047, 'numpy list look: ', 0.0006873607635498047, 'numpy list look: ', 0.0006873607635498047, 'numpy list look: ', 0.0006873607635498047, 'numpy list look: ', 0.0006873607635498047, 'numpy list look: ', 0.0006873607635498047, 'numpy list look: ', 0.0006873607635498047, 'numpy list look: ', 0.0006873607635498047, 'numpy list look: ', 0.0006873607635498047, 'numpy list look: ', 0.0006873607635498047, 'numpy list look: ', 0.0006873607635498047, 'numpy list look: ', 0.0006873607635498047, 'numpy list look: ', 0.0006873607635498047, 'numpy list look: ', 0.0006873607635498047, 'numpy list look: ', 0.0006873607635498047, 'numpy list look: ', 0.0006873607635498047, 'numpy list look: ', 0.0006873607635498047, 'numpy list look: ', 0.0006873607635498047, 'numpy list look: ', 0.0006873607635498047, 'numpy list look: ', 0.0006873607635498047, 'numpy list look: ', 0.0006873607635498047, 'numpy list look: ', 0.0006873607635498047, 'numpy list look: ', 0.0006873607635498047, 'numpy list look: ', 0.0006873607635498047, 'numpy list look: ', 0.0006873607635498047, 'numpy list look: ', 0.0006873607635498047, 'numpy list look: ', 0.0006873607635498047, 'numpy list look: ', 0.0006873607635498047, 'numpy list look: ', 0.0006873607635498047, 'numpy list look: ', 0.0006873607635498047, 'numpy list look: ', 0.0006873607635498047, 'numpy list look: ', 0.0006873607635498047, 'numpy list look: ', 0.0006873607635498047, 'numpy list look: ', 0.0006873607635498047, 'numpy list look: ', 0.0006873607635498047, 'numpy list look: ', 0.0006873607635498047, 'numpy list look: ', 0.0006873607635498047, 'numpy list look: ', 0.0006873607635498047, 'numpy list look: ', 0.0006873607635498047, 'numpy list look: ', 0.0006873607635498047, 'numpy list look: ', 0.0006873607635498047, 'numpy list look: ', 0.0006873607635498047, 'numpy list look: ', 0.0006873607635498047, 'numpy list look: ', 0.0006873607635498047, 'numpy list look: ', 0.0006873607635498047, 'numpy list look: ', 0.0006873607635498047, 'numpy list look: ', 0.0006873607635498047, 'numpy list look: ', 0.0006873607635498047, 'numpy list look: ', 0.0006873607635498047, 'numpy list look: ', 0.0006873607635498047, 'numpy list look: ', 0.0006873607635498047, 'numpy list look: ', 0.0006873607635498047, 'numpy list look: ', 0.0006873607635498047, 'numpy list look: ', 0.0006873607635498047, 'numpy list look: ', 0.0006873607635498047, 'numpy list look: ', 0.0006873607635498047, 'numpy list look: ', 0.0006873607635498047, 'numpy list look: ', 0.0006873607635498047, 'numpy list look: ', 0.0006873607635498047, 'numpy list look: ', 0.0006873607635498047, 'numpy list look: ', 0.0006873607635498047, 'numpy list look: ', 0.0006873607635498047, 'numpy list look: ', 0.0006873607635498047, 'numpy list look: ', 0.0006873607635498047, 'numpy list look: ', 0.0006873607635498047, 'numpy list look: ', 0.0006873607635498047, 'numpy list look: ', 0.0006873607635498047, 'numpy list look: ', 0.0006873607635498047, 'numpy list look: ', 0.0006873607635498047, 'numpy list look: ', 0.0006873607635498047, 'numpy list look: ', 0.0006873607635498047, 'numpy list look: ', 0.0006873607635498047, 'numpy list look: ', 0.0006873607635498047, 'numpy list look: ', 0.0006873607635498047, 'numpy list look: ', 0.0006873607635498047, 'numpy list look: ', 0.0006873607635498047, 'numpy list look: ', 0.0006873607635498047, 'numpy list look: ', 0.0006873607635498047, 'numpy list look: ', 0.0006873607635498047, 'numpy list look: ', 0.0006873607635498047, 'numpy list look: ', 0.0006873607635498047, 'numpy list look: ', 0.0006873607635498047, 'numpy list look: ', 0.0006873607635498047, 'numpy list look: ', 0.0006873607635498047, 'numpy list look: ', 0.0006873607635498047, 'numpy list look: ', 0.0006873607635498047, 'numpy list look: ', 0.0006873607635498047, 'numpy list look: ', 0.0006873607635498047, 'numpy list look: ', 0.0006873607635498047, 'numpy list look: ', 0.0006873607635498047, 'numpy list look: ', 0.0006873607635498047, 'numpy list look: ', 0.0006873607635498047, 'numpy list look: ', 0.0006873607635498047, 'numpy list look: ', 0.0006873607635498047, 'numpy list look: ', 0.0006873607635498047, 'numpy list look: ', 0.0006873607635498047, 'numpy list look: ', 0.0006873607635498047, 'numpy list look: ', 0.0006873607635498047, 'numpy list look: ', 0.0006873607635498047, 'numpy list look: ', 0.0006873607635498047, 'numpy list look: ', 0.0006873607635498047, 'numpy list look: ', 0.0006873607635498047, 'numpy list look: ', 0.0006873607635498047, 'numpy list look: ', 0.0006873607635498047, 'numpy list look: ', 0.0006873607635498047, 'numpy list look: ', 0.0006873607635498047, 'numpy list look: ', 0.0006873607635498047, 'numpy list look: ', 0.0006873607635498047, 'numpy list look: ', 0.0006873607635498047, 'numpy list look: ', 0.0006873607635498047, 'numpy list look: ', 0.0006873607635498047, 'numpy list look: ', 0.0006873607635498047, 'numpy list look: ', 0.0006873607635498047, 'numpy list look: ', 0.0006873607635498047, 'numpy list look: ', 0.0006873607635498047, 'numpy list look: ', 0.0006873607635498047, 'numpy list look: ', 0.0006873607635498047, 'numpy list look: ', 0.0006873607635498047, 'numpy list look: ', 0.0006873607635498047, 'numpy list look: ', 0.0006873607635498047, 'numpy list look: ', 0.0006873607635498047, 'numpy list look: ', 0.0006873607635498047, 'numpy list look: ', 0.0006873607635498047, 'numpy list look: ', 0.0006873607635498047, 'numpy list look: ', 0.0006873607635498047, 'numpy list look: ', 0.0006873607635498047, 'numpy list look: ', 0.0006873607635498047, 'numpy list look: ', 0.0006873607635498047, 'numpy list look: ', 0.0006873607635498047, 'numpy list look: ', 0.0006873607635498047, 'numpy list look: ', 0.0006873607635498047, 'numpy list look: ', 0.0006873607635498047, 'numpy list look: ', 0.0006873607635498047, 'numpy list look: ', 0.0006873607635498047, 'numpy list look: ', 0.0006873607635498047, 'numpy list look: ', 0.0006873607635498047, 'numpy list look: ', 0.0006873607635498047, 'numpy list look: ', 0.0006873607635498047, 'numpy list look: ', 0.0006873607635498047, 'numpy list look: ', 0.0006873607635498047, 'numpy list look: ', 0.0006873607635498047, 'numpy list look: ', 0.0006873607635498047, 'numpy list look: ', 0.0006873607635498047, 'numpy list look: ', 0.0006873607635498047, 'numpy list look: ', 0.0006873607635498047, 'numpy list look: ', 0.0006873607635498047, 'numpy list look: ', 0.0006873607635498047, 'numpy list look: ', 0.0006873607635498047, 'numpy list look: ', 0.0006873607635498047, 'numpy list look: ', 0.0006873607635498047, 'numpy list look: ', 0.0006873607635498047, 'numpy list look: ', 0.0006873607635498047, 'numpy list look: ', 0.0006873607635498047, 'numpy list look: ', 0.0006873607635498047, 'numpy list look: ', 0.0006873607635498047, 'numpy list look: ', 0.0006873607635498047, 'numpy list look: ', 0.0006873607635498047, 'numpy list look: ', 0.0006873607635498047, 'numpy list look: ', 0.0006873607635498047, 'numpy list look: ', 0.0006873607635498047, 'numpy list look: ', 0.0006873607635498047, 'numpy list look: ', 0.0006873607635498047, 'numpy list look: ', 0.0006873607635498047, 'numpy list look: ', 0.0006873607635498047, 'numpy list look: ', 0.0006873607635498047, 'numpy list look: ', 0.0006873607635498047, 'numpy list look: ', 0.0006873607635498047, 'numpy list look: ', 0.0006873607635498047, 'numpy list look: ', 0.0006873607635498047, 'numpy list look: ', 0.0006873607635498047, 'numpy list look: ', 0.0006873607635498047, 'numpy list look: ', 0.0006873607635498047, 'numpy list look: ', 0.0006873607635498047, 'numpy list look: ', 0.0006873607635498047, 'numpy list look: ', 0.0006873607635498047, 'numpy list look: ', 0.0006873607635498047, 'numpy list look: ', 0.0006873607635498047, 'numpy list look: ', 0.0006873607635498047, 'numpy list look: ', 0.0006873607635498047, 'numpy list look: ', 0.0006873607635498047, 'numpy list look: ', 0.0006873607635498047, 'numpy list look: ', 0.0006873607635498047, 'numpy list look: ', 0.0006873607635498047, 'numpy list look: ', 0.0006873607635498047, 'numpy list look: ', 0.0006873607635498047, 'numpy list look: ', 0.0006873607635498047, 'numpy list look: ', 0.0006873607635498047, 'numpy list look: ', 0.0006873607635498047, 'numpy list look: ', 0.0006873607635498047, 'numpy list look: ', 0.0006873607635498047, 'numpy list look: ', 0.0006873607635498047, 'numpy list look: ', 0.0006873607635498047, 'numpy list look: ', 0.0006873607635498047, 'numpy list look: ', 0.0006873607635498047, 'numpy list look: ', 0.0006873607635498047, 'numpy list look: ', 0.0006873607635498047, 'numpy list look: ', 0.0006873607635498047, 'numpy list look: ', 0.0006873607635498047, 'numpy list look: ', 0.0006873607635498047, 'numpy list look: ', 0.0006873607635498047, 'numpy list look: ', 0.0006873607635498047, 'numpy list look: ', 0.0006873607635498047, 'numpy list look: ', 0.0006873607635498047, 'numpy list look: ', 0.0006873607635498047, 'numpy list look: ', 0.0006873607635498047, 'numpy list look: ', 0.0006873607635498047, 'numpy list look: ', 0.0006873607635498047, 'numpy list look: ', 0.0006873607635498047, 'numpy list look: ', 0.0006873607635498047, 'numpy list look: ', 0.0006873607635498047, 'numpy list look: ', 0.0006873607635498047, 'numpy list look: ', 0.0006873607635498047, 'numpy list look: ', 0.0006873607635498047, 'numpy list look: ', 0.0006873607635498047, 'numpy list look: ', 0.0006873607635498047, 'numpy list look: ', 0.0006873607635498047, 'numpy list look: ', 0.0006873607635498047, 'numpy list look: ', 0.0006873607635498047, 'numpy list look: ', 0.0006873607635498047, 'numpy list look: ', 0.0006873607635498047, 'numpy list look: ', 0.0006873607635498047, 'numpy list look: ', 0.0006873607635498047, 'numpy list look: ', 0.0006873607635498047, 'numpy list look: ', 0.0006873607635498047, 'numpy list look: ', 0.0006873607635498047, 'numpy list look: ', 0.0006873607635498047, 'numpy list look: ', 0.0006873607635498047, 'numpy list look: ', 0.0006873607635498047, 'numpy list look: ', 0.0006873607635498047, 'numpy list look: ', 0.0006873607635498047, 'numpy list look: ', 0.0006873607635498047, 'numpy list look: ', 0.0006873607635498047, 'numpy list look: ', 0.0006873607635498047, 'numpy list look: ', 0.0006873607635498047, 'numpy list look: ', 0.0006873607635498047, 'numpy list look: ', 0.0006873607635498047, 'numpy list look: ', 0.0006873607635498047, 'numpy list look: ', 0.0006873607635498047, 'numpy list look: ', 0.0006873607635498047, 'numpy list look: ', 0.0006873607635498047, 'numpy list look: ', 0.0006873607635498047, 'numpy list look: ', 0.0006873607635498047, 'numpy list look: ', 0.0006873607635498047, 'numpy list look: ', 0.0006873607635498047, 'numpy list look: ', 0.0006873607635498047, 'numpy list look: ', 0.0006873607635498047, 'numpy list look: ', 0.0006873607635498047, 'numpy list look: ', 0.0006873607635498047, 'numpy list look: ', 0.0006873607635498047, 'numpy list look: ', 0.0006873607635498047, 'numpy list look: ', 0.0006873607635498047, 'numpy list look: ', 0.0006873607635498047, 'numpy list look: ', 0.0006873607635498047, 'numpy list look: ', 0.0006873607635498047, 'numpy list look: ', 0.0006873607635498047, 'numpy list look: ', 0.0006873607635498047, 'numpy list look: ', 0.0006873607635498047, 'numpy list look: ', 0.0006873607635498047, 'numpy list look: ', 0.0006873607635498047, 'numpy list look: ', 0.0006873607635498047, 'numpy list look: ', 0.0006873607635498047, 'numpy list look: ', 0.0006873607635498047, 'numpy list look: ', 0.0006873607635498047, 'numpy list look: ', 0.0006873607635498047, 'numpy list look: ', 0.0006873607635498047, 'numpy list look: ', 0.0006873607635498047, 'numpy list look: ', 0.0006873607635498047, 'numpy list look: ', 0.0006873607635498047, 'numpy list look: ', 0.0006873607635498047, 'numpy list look: ', 0.0006873607635498047, 'numpy list look: ', 0.0006873607635498047, 'numpy list look: ', 0.0006873607635498047, 'numpy list look: ', 0.0006873607635498047, 'numpy list look: ', 0.0006873607635498047, 'numpy list look: ', 0.0006873607635498047, 'numpy list look: ', 0.0006873607635498047, 'numpy list look: ', 0.0006873607635498047, 'numpy list look: ', 0.0006873607635498047, 'numpy list look: ', 0.0006873607635498047, 'numpy list look: ', 0.0006873607635498047, 'numpy list look: ', 0.0006873607635498047, 'numpy list look: ', 0.0006873607635498047, 'numpy list look: ', 0.0006873607635498047, 'numpy list look: ', 0.0006873607635498047, 'numpy list look: ', 0.0006873607635498047, 'numpy list look: ', 0.0006873607635498047, 'numpy list look: ', 0.0006873607635498047, 'numpy list look: ', 0.0006873607635498047, 'numpy list look: ', 0.0006873607635498047, 'numpy list look: ', 0.0006873607635498047, 'numpy list look: ', 0.0006873607635498047, 'numpy list look: ', 0.0006873607635498047, 'numpy list look: ', 0.0006873607635498047, 'numpy list look: ', 0.0006873607635498047, 'numpy list look: ', 0.0006873607635498047, 'numpy list look: ', 0.0006873607635498047, 'numpy list look: ', 0.0006873607635498047, 'numpy list look: ', 0.0006873607635498047, 'numpy list look: ', 0.0006873607635498047, 'numpy list look: ', 0.0006873607635498047, 'numpy list look: ', 0.0006873607635498047, 'numpy list look: ', 0.0006873607635498047, 'numpy list look: ', 0.0006873607635498047, 'numpy list look: ', 0.0006873607635498047, 'numpy list look: ', 0.0006873607635498047, 'numpy list look: ', 0.0006873607635498047, 'numpy list look: ', 0.0006873607635498047, 'numpy list look: ', 0.0006873607635498047, 'numpy list look: ', 0.0006873607635498047, 'numpy list look: ', 0.0006873607635498047, 'numpy list look: ', 0.0006873607635498047, 'numpy list look: ', 0.0006873607635498047, 'numpy list look: ', 0.0006873607635498047, 'numpy list look: ', 0.0006873607635498047, 'numpy list look: ', 0.0006873607635498047, 'numpy list look: ', 0.0006873607635498047, 'numpy list look: ', 0.0006873607635498047, 'numpy list look: ', 0.0006873607635498047, 'numpy list look: ', 0.0006873607635498047, 'numpy list look: ', 0.0006873607635498047, 'numpy list look: ', 0.0006873607635498047, 'numpy list look: ', 0.0006873607635498047, 'numpy list look: ', 0.0006873607635498047, 'numpy list look: ', 0.0006873607635498047, 'numpy list look: ', 0.0006873607635498047, 'numpy list look: ', 0.0006873607635498047, 'numpy list look: ', 0.0006873607635498047, 'numpy list look: ', 0.0006873607635498047, 'numpy list look: ', 0.0006873607635498047, 'numpy list look: ', 0.0006873607635498047, 'numpy list look: ', 0.0006873607635498047, 'numpy list look: ', 0.0006873607635498047, 'numpy list look: ', 0.0006873607635498047, 'numpy list look: ', 0.0006873607635498047, 'numpy list look: ', 0.0006873607635498047, 'numpy list look: ', 0.0006873607635498047, 'numpy list look: ', 0.0006873607635498047, 'numpy list look: ', 0.0006873607635498047, 'numpy list look: ', 0.0006873607635498047, 'numpy list look: ', 0.0006873607635498047, 'numpy list look: ', 0.0006873607635498047, 'numpy list look: ', 0.0006873607635498047, 'numpy list look: ', 0.0006873607635498047, 'numpy list look: ', 0.0006873607635498047, 'numpy list look: ', 0.0006873607635498047, 'numpy list look: ', 0.0006873607635498047, 'numpy list look: ', 0.0006873607635498047, 'numpy list look: ', 0.0006873607635498047, 'numpy list look: ', 0.0006873607635498047, 'numpy list look: ', 0.0006873607635498047, 'numpy list look: ', 0.0006873607635498047, 'numpy list look: ', 0.0006873607635498047, 'numpy list look: ', 0.0006873607635498047, 'numpy list look: ', 0.0006873607635498047, 'numpy list look: ', 0.0006873607635498047, 'numpy list look: ', 0.0006873607635498047, 'numpy list look: ', 0.0006873607635498047, 'numpy list look: ', 0.0006873607635498047, 'numpy list look: ', 0.0006873607635498047, 'numpy list look: ', 0.0006873607635498047, 'numpy list look: ', 0.0006873607635498047, 'numpy list look: ', 0.0006873607635498047, 'numpy list look: ', 0.0006873607635498047, 'numpy list look: ', 0.0006873607635498047, 'numpy list look: ', 0.0006873607635498047, 'numpy list look: ', 0.0006873607635498047)\n"
          ],
          "name": "stdout"
        }
      ]
    },
    {
      "cell_type": "code",
      "metadata": {
        "colab": {
          "base_uri": "https://localhost:8080/"
        },
        "id": "s0AvnzxJyvrq",
        "outputId": "99395745-6260-4b8d-c16b-5dfb7fe0ab82"
      },
      "source": [
        "a = np.array([(1,2), (2,3),(3,4)])\n",
        "a"
      ],
      "execution_count": 29,
      "outputs": [
        {
          "output_type": "execute_result",
          "data": {
            "text/plain": [
              "array([[1, 2],\n",
              "       [2, 3],\n",
              "       [3, 4]])"
            ]
          },
          "metadata": {
            "tags": []
          },
          "execution_count": 29
        }
      ]
    },
    {
      "cell_type": "code",
      "metadata": {
        "colab": {
          "base_uri": "https://localhost:8080/"
        },
        "id": "9MqTh2ZbzTCk",
        "outputId": "1f8ccfa4-c57f-4315-c0f2-66d5ebc42a2f"
      },
      "source": [
        "a = np.array([(1,2), (2,3),(3,4)])\n",
        "print(a)"
      ],
      "execution_count": 30,
      "outputs": [
        {
          "output_type": "stream",
          "text": [
            "[[1 2]\n",
            " [2 3]\n",
            " [3 4]]\n"
          ],
          "name": "stdout"
        }
      ]
    },
    {
      "cell_type": "code",
      "metadata": {
        "colab": {
          "base_uri": "https://localhost:8080/"
        },
        "id": "3eWQPhvAzXhg",
        "outputId": "f888b1b5-9e5e-47f3-eac7-eba9f2f4367c"
      },
      "source": [
        "a.ndim"
      ],
      "execution_count": 31,
      "outputs": [
        {
          "output_type": "execute_result",
          "data": {
            "text/plain": [
              "2"
            ]
          },
          "metadata": {
            "tags": []
          },
          "execution_count": 31
        }
      ]
    },
    {
      "cell_type": "code",
      "metadata": {
        "colab": {
          "base_uri": "https://localhost:8080/"
        },
        "id": "FvcSemfrzfhd",
        "outputId": "8f932fde-103b-4ac6-fa2f-22653cc8082c"
      },
      "source": [
        "a.itemsize"
      ],
      "execution_count": 32,
      "outputs": [
        {
          "output_type": "execute_result",
          "data": {
            "text/plain": [
              "8"
            ]
          },
          "metadata": {
            "tags": []
          },
          "execution_count": 32
        }
      ]
    },
    {
      "cell_type": "code",
      "metadata": {
        "colab": {
          "base_uri": "https://localhost:8080/"
        },
        "id": "KaAk-P76zhFT",
        "outputId": "ff7cd62a-d2c7-4b04-e61d-5a8be71e5343"
      },
      "source": [
        "a.shape"
      ],
      "execution_count": 33,
      "outputs": [
        {
          "output_type": "execute_result",
          "data": {
            "text/plain": [
              "(3, 2)"
            ]
          },
          "metadata": {
            "tags": []
          },
          "execution_count": 33
        }
      ]
    },
    {
      "cell_type": "code",
      "metadata": {
        "id": "2DWSNLI4zoAT"
      },
      "source": [
        "b = np.array([[1,2],[2,3],[3,4]], dtype = np.float64)"
      ],
      "execution_count": 41,
      "outputs": []
    },
    {
      "cell_type": "code",
      "metadata": {
        "colab": {
          "base_uri": "https://localhost:8080/"
        },
        "id": "MUmniNJV0CSb",
        "outputId": "00966c53-a353-4b34-cb54-cd6bbf8119d1"
      },
      "source": [
        "b"
      ],
      "execution_count": 42,
      "outputs": [
        {
          "output_type": "execute_result",
          "data": {
            "text/plain": [
              "array([[1., 2.],\n",
              "       [2., 3.],\n",
              "       [3., 4.]])"
            ]
          },
          "metadata": {
            "tags": []
          },
          "execution_count": 42
        }
      ]
    },
    {
      "cell_type": "code",
      "metadata": {
        "id": "uWuBO2B00DJC"
      },
      "source": [
        "b = np.array([[1,2],[2,3],[3,4]], dtype = np.complex)"
      ],
      "execution_count": 43,
      "outputs": []
    },
    {
      "cell_type": "code",
      "metadata": {
        "colab": {
          "base_uri": "https://localhost:8080/"
        },
        "id": "A0j1-qf402zY",
        "outputId": "a2e07037-2386-4a3b-a0c4-97c0804dd2ca"
      },
      "source": [
        "b"
      ],
      "execution_count": 44,
      "outputs": [
        {
          "output_type": "execute_result",
          "data": {
            "text/plain": [
              "array([[1.+0.j, 2.+0.j],\n",
              "       [2.+0.j, 3.+0.j],\n",
              "       [3.+0.j, 4.+0.j]])"
            ]
          },
          "metadata": {
            "tags": []
          },
          "execution_count": 44
        }
      ]
    },
    {
      "cell_type": "code",
      "metadata": {
        "colab": {
          "base_uri": "https://localhost:8080/"
        },
        "id": "47INOviN07MK",
        "outputId": "f1624bc3-97b6-4ced-ace4-a17dc18f0558"
      },
      "source": [
        "np.zeros((3,4))"
      ],
      "execution_count": 46,
      "outputs": [
        {
          "output_type": "execute_result",
          "data": {
            "text/plain": [
              "array([[0., 0., 0., 0.],\n",
              "       [0., 0., 0., 0.],\n",
              "       [0., 0., 0., 0.]])"
            ]
          },
          "metadata": {
            "tags": []
          },
          "execution_count": 46
        }
      ]
    },
    {
      "cell_type": "code",
      "metadata": {
        "colab": {
          "base_uri": "https://localhost:8080/"
        },
        "id": "v8kwo2SE1qAk",
        "outputId": "405b5063-d0f9-466c-c0cb-e8f3ad9d1789"
      },
      "source": [
        "np.ones((2,3))"
      ],
      "execution_count": 47,
      "outputs": [
        {
          "output_type": "execute_result",
          "data": {
            "text/plain": [
              "array([[1., 1., 1.],\n",
              "       [1., 1., 1.]])"
            ]
          },
          "metadata": {
            "tags": []
          },
          "execution_count": 47
        }
      ]
    },
    {
      "cell_type": "code",
      "metadata": {
        "id": "Q2ckGRXj1znE"
      },
      "source": [
        "l = range(5)"
      ],
      "execution_count": 48,
      "outputs": []
    },
    {
      "cell_type": "code",
      "metadata": {
        "colab": {
          "base_uri": "https://localhost:8080/"
        },
        "id": "ubX0G4Bw18uI",
        "outputId": "9c3038bd-d45d-4b69-dd7f-0c6763c97912"
      },
      "source": [
        "l"
      ],
      "execution_count": 49,
      "outputs": [
        {
          "output_type": "execute_result",
          "data": {
            "text/plain": [
              "range(0, 5)"
            ]
          },
          "metadata": {
            "tags": []
          },
          "execution_count": 49
        }
      ]
    },
    {
      "cell_type": "code",
      "metadata": {
        "colab": {
          "base_uri": "https://localhost:8080/"
        },
        "id": "JL27_zT8192k",
        "outputId": "54b6d5c5-a588-403d-e15d-0fa385c37c8f"
      },
      "source": [
        "r = np.arange(5)\n",
        "r"
      ],
      "execution_count": 51,
      "outputs": [
        {
          "output_type": "execute_result",
          "data": {
            "text/plain": [
              "array([0, 1, 2, 3, 4])"
            ]
          },
          "metadata": {
            "tags": []
          },
          "execution_count": 51
        }
      ]
    },
    {
      "cell_type": "code",
      "metadata": {
        "colab": {
          "base_uri": "https://localhost:8080/"
        },
        "id": "icJJGnRk2DBm",
        "outputId": "2cf43259-eeb1-40e1-a02d-dd9337e3ee7b"
      },
      "source": [
        "print(np.char.add([\"hello\", \"hi\"],[\"abc\", \"ram\"]))"
      ],
      "execution_count": 54,
      "outputs": [
        {
          "output_type": "stream",
          "text": [
            "['helloabc' 'hiram']\n"
          ],
          "name": "stdout"
        }
      ]
    },
    {
      "cell_type": "code",
      "metadata": {
        "colab": {
          "base_uri": "https://localhost:8080/"
        },
        "id": "aJVNYNqE23l6",
        "outputId": "266c4d9e-aa86-49b7-e021-5685e2e07fd4"
      },
      "source": [
        "print(np.char.multiply('hello', 3))\n"
      ],
      "execution_count": 55,
      "outputs": [
        {
          "output_type": "stream",
          "text": [
            "hellohellohello\n"
          ],
          "name": "stdout"
        }
      ]
    },
    {
      "cell_type": "code",
      "metadata": {
        "colab": {
          "base_uri": "https://localhost:8080/"
        },
        "id": "oq3TMrjj7Dba",
        "outputId": "a30b8166-394d-49eb-9617-4ef6261a1a9b"
      },
      "source": [
        "print(np.char.multiply('hello', 3))"
      ],
      "execution_count": 56,
      "outputs": [
        {
          "output_type": "stream",
          "text": [
            "hellohellohello\n"
          ],
          "name": "stdout"
        }
      ]
    },
    {
      "cell_type": "code",
      "metadata": {
        "colab": {
          "base_uri": "https://localhost:8080/"
        },
        "id": "Zi1ZEBpe7lH5",
        "outputId": "ddca6b56-9dc0-425c-b880-7753af38d201"
      },
      "source": [
        "print(np.char.center('hello', 3))\n"
      ],
      "execution_count": 57,
      "outputs": [
        {
          "output_type": "stream",
          "text": [
            "hel\n"
          ],
          "name": "stdout"
        }
      ]
    },
    {
      "cell_type": "code",
      "metadata": {
        "colab": {
          "base_uri": "https://localhost:8080/"
        },
        "id": "KuqG-NOj7v6C",
        "outputId": "bcc4cd14-1759-4658-8754-47686a5b9212"
      },
      "source": [
        "print(np.char.center('hello', 20,fillchar = '-'))"
      ],
      "execution_count": 62,
      "outputs": [
        {
          "output_type": "stream",
          "text": [
            "-------hello--------\n"
          ],
          "name": "stdout"
        }
      ]
    },
    {
      "cell_type": "code",
      "metadata": {
        "colab": {
          "base_uri": "https://localhost:8080/"
        },
        "id": "L26kzj_d74sG",
        "outputId": "4fa9ad97-27e7-426b-b63a-7605f188600a"
      },
      "source": [
        "print(np.char.capitalize('hello world'))"
      ],
      "execution_count": 63,
      "outputs": [
        {
          "output_type": "stream",
          "text": [
            "Hello world\n"
          ],
          "name": "stdout"
        }
      ]
    },
    {
      "cell_type": "code",
      "metadata": {
        "colab": {
          "base_uri": "https://localhost:8080/"
        },
        "id": "vLASx9IQ87KL",
        "outputId": "539cc662-b9c8-4a8f-a881-f77b31a082dc"
      },
      "source": [
        "print(np.char.title('hello world this is ram'))"
      ],
      "execution_count": 64,
      "outputs": [
        {
          "output_type": "stream",
          "text": [
            "Hello World This Is Ram\n"
          ],
          "name": "stdout"
        }
      ]
    },
    {
      "cell_type": "code",
      "metadata": {
        "colab": {
          "base_uri": "https://localhost:8080/"
        },
        "id": "FZ3wtmk09F_s",
        "outputId": "d6809fb4-0e9a-461f-9902-2386276f3605"
      },
      "source": [
        "print(np.char.upper(['hello world']))"
      ],
      "execution_count": 66,
      "outputs": [
        {
          "output_type": "stream",
          "text": [
            "['HELLO WORLD']\n"
          ],
          "name": "stdout"
        }
      ]
    },
    {
      "cell_type": "code",
      "metadata": {
        "colab": {
          "base_uri": "https://localhost:8080/"
        },
        "id": "GeX0wB23-MZ1",
        "outputId": "1d169404-37de-4746-cd5e-e5cc9e24cecd"
      },
      "source": [
        "print(np.char.lower(['HELLO WORLD']))"
      ],
      "execution_count": 67,
      "outputs": [
        {
          "output_type": "stream",
          "text": [
            "['hello world']\n"
          ],
          "name": "stdout"
        }
      ]
    },
    {
      "cell_type": "code",
      "metadata": {
        "colab": {
          "base_uri": "https://localhost:8080/"
        },
        "id": "-WpL48mw-ckl",
        "outputId": "c42ee795-f8a7-497b-b910-78d9435972ed"
      },
      "source": [
        "print(np.char.splitlines(['this is ram from india']))"
      ],
      "execution_count": 68,
      "outputs": [
        {
          "output_type": "stream",
          "text": [
            "[list(['this is ram from india'])]\n"
          ],
          "name": "stdout"
        }
      ]
    },
    {
      "cell_type": "code",
      "metadata": {
        "colab": {
          "base_uri": "https://localhost:8080/"
        },
        "id": "IwNOyScc_1np",
        "outputId": "8014e773-bd13-4fcb-988a-0c600d499b48"
      },
      "source": [
        "print(np.char.split(['this is ram from india']))"
      ],
      "execution_count": 69,
      "outputs": [
        {
          "output_type": "stream",
          "text": [
            "[list(['this', 'is', 'ram', 'from', 'india'])]\n"
          ],
          "name": "stdout"
        }
      ]
    },
    {
      "cell_type": "code",
      "metadata": {
        "colab": {
          "base_uri": "https://localhost:8080/"
        },
        "id": "skUVUz_3_9ev",
        "outputId": "73ef5c5a-6d51-4ba0-8e93-757436641bc4"
      },
      "source": [
        "print(np.char.splitlines(['thisis\\nramfromindia']))"
      ],
      "execution_count": 70,
      "outputs": [
        {
          "output_type": "stream",
          "text": [
            "[list(['thisis', 'ramfromindia'])]\n"
          ],
          "name": "stdout"
        }
      ]
    },
    {
      "cell_type": "code",
      "metadata": {
        "colab": {
          "base_uri": "https://localhost:8080/"
        },
        "id": "3-dtn9bAAQ8p",
        "outputId": "d9502d69-dab1-4646-ed49-7dbd5515110a"
      },
      "source": [
        "print(np.char.strip(['aram', 'harrya', 'aharsha'], 'a'))"
      ],
      "execution_count": 74,
      "outputs": [
        {
          "output_type": "stream",
          "text": [
            "['ram' 'harry' 'harsh']\n"
          ],
          "name": "stdout"
        }
      ]
    },
    {
      "cell_type": "code",
      "metadata": {
        "colab": {
          "base_uri": "https://localhost:8080/"
        },
        "id": "oGnParFFA06z",
        "outputId": "f03a67b2-1a6e-4191-a2bc-711033e1eca1"
      },
      "source": [
        "print(np.char.join([':','-'],['ram','rum']))"
      ],
      "execution_count": 76,
      "outputs": [
        {
          "output_type": "stream",
          "text": [
            "['r:a:m' 'r-u-m']\n"
          ],
          "name": "stdout"
        }
      ]
    },
    {
      "cell_type": "code",
      "metadata": {
        "colab": {
          "base_uri": "https://localhost:8080/"
        },
        "id": "Hd8aCmmjBWIL",
        "outputId": "9c11fc91-efcb-4733-ba96-b00e6448a09b"
      },
      "source": [
        "print(np.char.replace('they is waste stuff', 'is', 'was'))"
      ],
      "execution_count": 78,
      "outputs": [
        {
          "output_type": "stream",
          "text": [
            "they was waste stuff\n"
          ],
          "name": "stdout"
        }
      ]
    },
    {
      "cell_type": "code",
      "metadata": {
        "id": "rHGDrjkRBvXo"
      },
      "source": [
        ""
      ],
      "execution_count": null,
      "outputs": []
    },
    {
      "cell_type": "markdown",
      "metadata": {
        "id": "lE21DHizUW_9"
      },
      "source": [
        "# PANDAS"
      ]
    },
    {
      "cell_type": "code",
      "metadata": {
        "id": "XmDjOu1PUZZq"
      },
      "source": [
        "import pandas as pd"
      ],
      "execution_count": 79,
      "outputs": []
    },
    {
      "cell_type": "code",
      "metadata": {
        "colab": {
          "base_uri": "https://localhost:8080/"
        },
        "id": "MwPlDpDwZ8pH",
        "outputId": "5d5fea94-dadf-48cc-c70c-5fab4225e8d0"
      },
      "source": [
        "print(pd.__version__)"
      ],
      "execution_count": 80,
      "outputs": [
        {
          "output_type": "stream",
          "text": [
            "1.1.5\n"
          ],
          "name": "stdout"
        }
      ]
    },
    {
      "cell_type": "code",
      "metadata": {
        "id": "s8igMQRJaFnj"
      },
      "source": [
        ""
      ],
      "execution_count": null,
      "outputs": []
    },
    {
      "cell_type": "markdown",
      "metadata": {
        "id": "XA6bZsB8aNCN"
      },
      "source": [
        "# Series create, manipulate,querry, delete"
      ]
    },
    {
      "cell_type": "code",
      "metadata": {
        "colab": {
          "base_uri": "https://localhost:8080/"
        },
        "id": "P13nNzT4aXXT",
        "outputId": "2b93ec7c-98e5-4130-ba07-c6864bdbd2ed"
      },
      "source": [
        "#creating a list\n",
        "arr = [0,1,2,3,4,5]\n",
        "s1 = pd.Series(arr)\n",
        "s1"
      ],
      "execution_count": 82,
      "outputs": [
        {
          "output_type": "execute_result",
          "data": {
            "text/plain": [
              "0    0\n",
              "1    1\n",
              "2    2\n",
              "3    3\n",
              "4    4\n",
              "5    5\n",
              "dtype: int64"
            ]
          },
          "metadata": {
            "tags": []
          },
          "execution_count": 82
        }
      ]
    },
    {
      "cell_type": "code",
      "metadata": {
        "colab": {
          "base_uri": "https://localhost:8080/"
        },
        "id": "UlrNUTtqauwi",
        "outputId": "decc873d-2641-4a65-ea6e-e1e697da9bd5"
      },
      "source": [
        "order = [4,5,6,8,9,2]\n",
        "s2 = pd.Series(arr,index = order)\n",
        "s2"
      ],
      "execution_count": 89,
      "outputs": [
        {
          "output_type": "execute_result",
          "data": {
            "text/plain": [
              "4    0\n",
              "5    1\n",
              "6    2\n",
              "8    3\n",
              "9    4\n",
              "2    5\n",
              "dtype: int64"
            ]
          },
          "metadata": {
            "tags": []
          },
          "execution_count": 89
        }
      ]
    },
    {
      "cell_type": "code",
      "metadata": {
        "colab": {
          "base_uri": "https://localhost:8080/"
        },
        "id": "M26ELhM4bMKa",
        "outputId": "d1aaf743-6315-4e0a-855d-ff353e6cb8f7"
      },
      "source": [
        "import numpy as np\n",
        "n = np.random.randn(5)\n",
        "n"
      ],
      "execution_count": 91,
      "outputs": [
        {
          "output_type": "execute_result",
          "data": {
            "text/plain": [
              "array([-0.35392607, -1.58701948, -2.5773152 ,  2.155362  ,  0.67894692])"
            ]
          },
          "metadata": {
            "tags": []
          },
          "execution_count": 91
        }
      ]
    },
    {
      "cell_type": "code",
      "metadata": {
        "id": "LsNrzvwpcGDu"
      },
      "source": [
        "index = ['a','b','c','d','e']\n",
        "s3 = pd.Series(n, index = index)"
      ],
      "execution_count": 92,
      "outputs": []
    },
    {
      "cell_type": "code",
      "metadata": {
        "colab": {
          "base_uri": "https://localhost:8080/"
        },
        "id": "7EfG6G-SiguV",
        "outputId": "d90a9bf9-3212-425c-f858-f9c38a84cf2f"
      },
      "source": [
        "s3"
      ],
      "execution_count": 93,
      "outputs": [
        {
          "output_type": "execute_result",
          "data": {
            "text/plain": [
              "a   -0.353926\n",
              "b   -1.587019\n",
              "c   -2.577315\n",
              "d    2.155362\n",
              "e    0.678947\n",
              "dtype: float64"
            ]
          },
          "metadata": {
            "tags": []
          },
          "execution_count": 93
        }
      ]
    },
    {
      "cell_type": "code",
      "metadata": {
        "colab": {
          "base_uri": "https://localhost:8080/"
        },
        "id": "bMkBDkB3ih28",
        "outputId": "0627d71f-a96b-41dc-84c1-bc372e84b693"
      },
      "source": [
        "# Creating a series from dictionary\n",
        "d = {'a':1, 'b':2, 'c':3, 'd':4}\n",
        "pd.Series(d)"
      ],
      "execution_count": 95,
      "outputs": [
        {
          "output_type": "execute_result",
          "data": {
            "text/plain": [
              "a    1\n",
              "b    2\n",
              "c    3\n",
              "d    4\n",
              "dtype: int64"
            ]
          },
          "metadata": {
            "tags": []
          },
          "execution_count": 95
        }
      ]
    },
    {
      "cell_type": "code",
      "metadata": {
        "colab": {
          "base_uri": "https://localhost:8080/"
        },
        "id": "gX2zTaaKkU8W",
        "outputId": "1d65ea0d-9e45-4ab6-ff87-79e312536b2a"
      },
      "source": [
        "print(s3)"
      ],
      "execution_count": 96,
      "outputs": [
        {
          "output_type": "stream",
          "text": [
            "a   -0.353926\n",
            "b   -1.587019\n",
            "c   -2.577315\n",
            "d    2.155362\n",
            "e    0.678947\n",
            "dtype: float64\n"
          ],
          "name": "stdout"
        }
      ]
    },
    {
      "cell_type": "code",
      "metadata": {
        "colab": {
          "base_uri": "https://localhost:8080/"
        },
        "id": "onxhPiM1kqEV",
        "outputId": "48f8a8cc-0e84-4ac8-db79-2d7a3ed615c6"
      },
      "source": [
        "s3.index = [1,2,3,4,5]\n",
        "s3"
      ],
      "execution_count": 97,
      "outputs": [
        {
          "output_type": "execute_result",
          "data": {
            "text/plain": [
              "1   -0.353926\n",
              "2   -1.587019\n",
              "3   -2.577315\n",
              "4    2.155362\n",
              "5    0.678947\n",
              "dtype: float64"
            ]
          },
          "metadata": {
            "tags": []
          },
          "execution_count": 97
        }
      ]
    },
    {
      "cell_type": "code",
      "metadata": {
        "colab": {
          "base_uri": "https://localhost:8080/"
        },
        "id": "TiiYv6aQkxZQ",
        "outputId": "68f1f432-1a4f-4fb2-a45d-4b7784cce908"
      },
      "source": [
        "s3[2:]"
      ],
      "execution_count": 98,
      "outputs": [
        {
          "output_type": "execute_result",
          "data": {
            "text/plain": [
              "3   -2.577315\n",
              "4    2.155362\n",
              "5    0.678947\n",
              "dtype: float64"
            ]
          },
          "metadata": {
            "tags": []
          },
          "execution_count": 98
        }
      ]
    },
    {
      "cell_type": "code",
      "metadata": {
        "colab": {
          "base_uri": "https://localhost:8080/"
        },
        "id": "21_9zEaYtk4R",
        "outputId": "235e91fa-eb16-47e5-8850-3fd4f520f454"
      },
      "source": [
        "s3[:3]"
      ],
      "execution_count": 99,
      "outputs": [
        {
          "output_type": "execute_result",
          "data": {
            "text/plain": [
              "1   -0.353926\n",
              "2   -1.587019\n",
              "3   -2.577315\n",
              "dtype: float64"
            ]
          },
          "metadata": {
            "tags": []
          },
          "execution_count": 99
        }
      ]
    },
    {
      "cell_type": "code",
      "metadata": {
        "colab": {
          "base_uri": "https://localhost:8080/"
        },
        "id": "AJWc8zZetnVc",
        "outputId": "a6d08795-3565-4a1e-a9d1-67cdddcdde02"
      },
      "source": [
        "s3[1:4]"
      ],
      "execution_count": 100,
      "outputs": [
        {
          "output_type": "execute_result",
          "data": {
            "text/plain": [
              "2   -1.587019\n",
              "3   -2.577315\n",
              "4    2.155362\n",
              "dtype: float64"
            ]
          },
          "metadata": {
            "tags": []
          },
          "execution_count": 100
        }
      ]
    },
    {
      "cell_type": "code",
      "metadata": {
        "colab": {
          "base_uri": "https://localhost:8080/"
        },
        "id": "DHzkayxKtq8a",
        "outputId": "67d3fb02-ecb6-458f-9e46-52940f452ddf"
      },
      "source": [
        "s3[:-1]"
      ],
      "execution_count": 102,
      "outputs": [
        {
          "output_type": "execute_result",
          "data": {
            "text/plain": [
              "1   -0.353926\n",
              "2   -1.587019\n",
              "3   -2.577315\n",
              "4    2.155362\n",
              "dtype: float64"
            ]
          },
          "metadata": {
            "tags": []
          },
          "execution_count": 102
        }
      ]
    },
    {
      "cell_type": "code",
      "metadata": {
        "colab": {
          "base_uri": "https://localhost:8080/"
        },
        "id": "z7ih9DzIuAW0",
        "outputId": "721a1db3-3df8-47de-c99b-58842d1a5d37"
      },
      "source": [
        "s3[::-1]"
      ],
      "execution_count": 103,
      "outputs": [
        {
          "output_type": "execute_result",
          "data": {
            "text/plain": [
              "5    0.678947\n",
              "4    2.155362\n",
              "3   -2.577315\n",
              "2   -1.587019\n",
              "1   -0.353926\n",
              "dtype: float64"
            ]
          },
          "metadata": {
            "tags": []
          },
          "execution_count": 103
        }
      ]
    },
    {
      "cell_type": "code",
      "metadata": {
        "colab": {
          "base_uri": "https://localhost:8080/"
        },
        "id": "HaNkVy3QuGG-",
        "outputId": "2ff18266-739b-401a-dd73-31c0e340e6ae"
      },
      "source": [
        "s3[1::2]"
      ],
      "execution_count": 104,
      "outputs": [
        {
          "output_type": "execute_result",
          "data": {
            "text/plain": [
              "2   -1.587019\n",
              "4    2.155362\n",
              "dtype: float64"
            ]
          },
          "metadata": {
            "tags": []
          },
          "execution_count": 104
        }
      ]
    },
    {
      "cell_type": "code",
      "metadata": {
        "colab": {
          "base_uri": "https://localhost:8080/"
        },
        "id": "9fXbZKyTuJwo",
        "outputId": "2a3f5df5-3a48-4aea-885a-9ce0914c0bf1"
      },
      "source": [
        "s3[::2]"
      ],
      "execution_count": 105,
      "outputs": [
        {
          "output_type": "execute_result",
          "data": {
            "text/plain": [
              "1   -0.353926\n",
              "3   -2.577315\n",
              "5    0.678947\n",
              "dtype: float64"
            ]
          },
          "metadata": {
            "tags": []
          },
          "execution_count": 105
        }
      ]
    },
    {
      "cell_type": "code",
      "metadata": {
        "colab": {
          "base_uri": "https://localhost:8080/"
        },
        "id": "G1KuBVSTuM25",
        "outputId": "5deed5cc-688a-4bd1-d372-4517576d18f7"
      },
      "source": [
        "s4 = s1.append(s3)\n",
        "s4"
      ],
      "execution_count": 107,
      "outputs": [
        {
          "output_type": "execute_result",
          "data": {
            "text/plain": [
              "0    0.000000\n",
              "1    1.000000\n",
              "2    2.000000\n",
              "3    3.000000\n",
              "4    4.000000\n",
              "5    5.000000\n",
              "1   -0.353926\n",
              "2   -1.587019\n",
              "3   -2.577315\n",
              "4    2.155362\n",
              "5    0.678947\n",
              "dtype: float64"
            ]
          },
          "metadata": {
            "tags": []
          },
          "execution_count": 107
        }
      ]
    },
    {
      "cell_type": "code",
      "metadata": {
        "id": "VBYn6UWpuZSC"
      },
      "source": [
        "arr1 = [0,1,2,3,4,5]\n",
        "arr2 = [6,7,8]\n",
        "s5 = pd.Series(arr2)"
      ],
      "execution_count": 111,
      "outputs": []
    },
    {
      "cell_type": "code",
      "metadata": {
        "colab": {
          "base_uri": "https://localhost:8080/"
        },
        "id": "pek3KRNrwOjg",
        "outputId": "2a16f6c4-b036-4868-9722-3f92ca50797f"
      },
      "source": [
        "s5"
      ],
      "execution_count": 112,
      "outputs": [
        {
          "output_type": "execute_result",
          "data": {
            "text/plain": [
              "0    6\n",
              "1    7\n",
              "2    8\n",
              "dtype: int64"
            ]
          },
          "metadata": {
            "tags": []
          },
          "execution_count": 112
        }
      ]
    },
    {
      "cell_type": "code",
      "metadata": {
        "colab": {
          "base_uri": "https://localhost:8080/"
        },
        "id": "jLdvdPdVwPsT",
        "outputId": "0fc36297-17df-4179-8e4e-d0ba34b47fc3"
      },
      "source": [
        "s7 = pd.Series(arr1)\n",
        "s7"
      ],
      "execution_count": 114,
      "outputs": [
        {
          "output_type": "execute_result",
          "data": {
            "text/plain": [
              "0    0\n",
              "1    1\n",
              "2    2\n",
              "3    3\n",
              "4    4\n",
              "5    5\n",
              "dtype: int64"
            ]
          },
          "metadata": {
            "tags": []
          },
          "execution_count": 114
        }
      ]
    },
    {
      "cell_type": "code",
      "metadata": {
        "colab": {
          "base_uri": "https://localhost:8080/"
        },
        "id": "8DGx88vSxPfD",
        "outputId": "9e0cfa72-fe5c-492d-c814-e62874801b9e"
      },
      "source": [
        "s6 = s5.add(s7)\n",
        "s6"
      ],
      "execution_count": 116,
      "outputs": [
        {
          "output_type": "execute_result",
          "data": {
            "text/plain": [
              "0     6.0\n",
              "1     8.0\n",
              "2    10.0\n",
              "3     NaN\n",
              "4     NaN\n",
              "5     NaN\n",
              "dtype: float64"
            ]
          },
          "metadata": {
            "tags": []
          },
          "execution_count": 116
        }
      ]
    },
    {
      "cell_type": "code",
      "metadata": {
        "id": "RYodE-3qyIbH"
      },
      "source": [
        "s6 = s5.sub(s7)"
      ],
      "execution_count": 117,
      "outputs": []
    },
    {
      "cell_type": "code",
      "metadata": {
        "colab": {
          "base_uri": "https://localhost:8080/"
        },
        "id": "ol20ZfL3yZ7s",
        "outputId": "b050ef42-2a2d-4ea8-fcef-214c2e694033"
      },
      "source": [
        "s6"
      ],
      "execution_count": 118,
      "outputs": [
        {
          "output_type": "execute_result",
          "data": {
            "text/plain": [
              "0    6.0\n",
              "1    6.0\n",
              "2    6.0\n",
              "3    NaN\n",
              "4    NaN\n",
              "5    NaN\n",
              "dtype: float64"
            ]
          },
          "metadata": {
            "tags": []
          },
          "execution_count": 118
        }
      ]
    },
    {
      "cell_type": "code",
      "metadata": {
        "colab": {
          "base_uri": "https://localhost:8080/"
        },
        "id": "NlrrR__Gyr_J",
        "outputId": "e385e8f5-266e-4706-eb72-25cd1a3afafb"
      },
      "source": [
        "s5.multiply(s7)"
      ],
      "execution_count": 119,
      "outputs": [
        {
          "output_type": "execute_result",
          "data": {
            "text/plain": [
              "0     0.0\n",
              "1     7.0\n",
              "2    16.0\n",
              "3     NaN\n",
              "4     NaN\n",
              "5     NaN\n",
              "dtype: float64"
            ]
          },
          "metadata": {
            "tags": []
          },
          "execution_count": 119
        }
      ]
    },
    {
      "cell_type": "code",
      "metadata": {
        "colab": {
          "base_uri": "https://localhost:8080/"
        },
        "id": "lcutikSZy44x",
        "outputId": "f7782c72-f38b-48e4-d607-6b22134e3fcd"
      },
      "source": [
        "s5.divide(s7)"
      ],
      "execution_count": 120,
      "outputs": [
        {
          "output_type": "execute_result",
          "data": {
            "text/plain": [
              "0    inf\n",
              "1    7.0\n",
              "2    4.0\n",
              "3    NaN\n",
              "4    NaN\n",
              "5    NaN\n",
              "dtype: float64"
            ]
          },
          "metadata": {
            "tags": []
          },
          "execution_count": 120
        }
      ]
    },
    {
      "cell_type": "code",
      "metadata": {
        "colab": {
          "base_uri": "https://localhost:8080/"
        },
        "id": "BYndMonLzqCF",
        "outputId": "33ff8667-840b-4101-e9b4-45966030d601"
      },
      "source": [
        "s6.median()"
      ],
      "execution_count": 122,
      "outputs": [
        {
          "output_type": "execute_result",
          "data": {
            "text/plain": [
              "6.0"
            ]
          },
          "metadata": {
            "tags": []
          },
          "execution_count": 122
        }
      ]
    },
    {
      "cell_type": "code",
      "metadata": {
        "colab": {
          "base_uri": "https://localhost:8080/"
        },
        "id": "h8nke8B5zjeD",
        "outputId": "4d57d575-0fb2-46de-8cbf-9779836652ad"
      },
      "source": [
        "s6.max()"
      ],
      "execution_count": 123,
      "outputs": [
        {
          "output_type": "execute_result",
          "data": {
            "text/plain": [
              "6.0"
            ]
          },
          "metadata": {
            "tags": []
          },
          "execution_count": 123
        }
      ]
    },
    {
      "cell_type": "code",
      "metadata": {
        "colab": {
          "base_uri": "https://localhost:8080/"
        },
        "id": "Iz0qTDtIz2xN",
        "outputId": "6da6675a-0d31-47bc-8b39-a2b8f9c77071"
      },
      "source": [
        "s6.min()"
      ],
      "execution_count": 124,
      "outputs": [
        {
          "output_type": "execute_result",
          "data": {
            "text/plain": [
              "6.0"
            ]
          },
          "metadata": {
            "tags": []
          },
          "execution_count": 124
        }
      ]
    },
    {
      "cell_type": "code",
      "metadata": {
        "id": "RTzAQu5rz56E"
      },
      "source": [
        ""
      ],
      "execution_count": null,
      "outputs": []
    },
    {
      "cell_type": "markdown",
      "metadata": {
        "id": "4cobdza00Hl0"
      },
      "source": [
        "# Creating data sets"
      ]
    },
    {
      "cell_type": "code",
      "metadata": {
        "colab": {
          "base_uri": "https://localhost:8080/"
        },
        "id": "oot8P3Vl0J2s",
        "outputId": "3d1f80a5-8d2d-4a51-a2c5-5599550be95b"
      },
      "source": [
        "dates = pd.date_range('today', periods = 6)\n",
        "dates"
      ],
      "execution_count": 125,
      "outputs": [
        {
          "output_type": "execute_result",
          "data": {
            "text/plain": [
              "DatetimeIndex(['2021-07-22 10:47:23.604946', '2021-07-23 10:47:23.604946',\n",
              "               '2021-07-24 10:47:23.604946', '2021-07-25 10:47:23.604946',\n",
              "               '2021-07-26 10:47:23.604946', '2021-07-27 10:47:23.604946'],\n",
              "              dtype='datetime64[ns]', freq='D')"
            ]
          },
          "metadata": {
            "tags": []
          },
          "execution_count": 125
        }
      ]
    },
    {
      "cell_type": "code",
      "metadata": {
        "colab": {
          "base_uri": "https://localhost:8080/"
        },
        "id": "vUI9qRh7064r",
        "outputId": "b78d6341-34dc-42be-f314-5b1be8e5fe53"
      },
      "source": [
        "num_arr = np.random.randn(6,4)\n",
        "num_arr"
      ],
      "execution_count": 126,
      "outputs": [
        {
          "output_type": "execute_result",
          "data": {
            "text/plain": [
              "array([[-0.73068567,  1.76636741,  1.49521175,  1.47903851],\n",
              "       [-0.51533954, -0.85242752,  0.78636289, -0.18861692],\n",
              "       [-0.9418026 , -0.53090828, -1.4837934 ,  0.25763988],\n",
              "       [-0.6197829 , -0.60944484, -2.13128939,  0.51516917],\n",
              "       [ 0.51058874,  0.34295909,  0.24080374, -0.77551286],\n",
              "       [ 0.71781091, -0.17374021, -2.18885875,  1.09965096]])"
            ]
          },
          "metadata": {
            "tags": []
          },
          "execution_count": 126
        }
      ]
    },
    {
      "cell_type": "code",
      "metadata": {
        "colab": {
          "base_uri": "https://localhost:8080/"
        },
        "id": "POvDq1QF1cAx",
        "outputId": "ecd41b5c-7b86-4485-9d9f-1ebac0f0e050"
      },
      "source": [
        "columns = ['A','B','C','D']\n",
        "columns"
      ],
      "execution_count": 128,
      "outputs": [
        {
          "output_type": "execute_result",
          "data": {
            "text/plain": [
              "['A', 'B', 'C', 'D']"
            ]
          },
          "metadata": {
            "tags": []
          },
          "execution_count": 128
        }
      ]
    },
    {
      "cell_type": "code",
      "metadata": {
        "colab": {
          "base_uri": "https://localhost:8080/",
          "height": 234
        },
        "id": "AqO8qPrr2Z2Q",
        "outputId": "3fb22173-28d5-4cb5-97ee-cb594f6e5e6e"
      },
      "source": [
        "df1 = pd.DataFrame(num_arr, index = dates, columns=columns)\n",
        "df1"
      ],
      "execution_count": 129,
      "outputs": [
        {
          "output_type": "execute_result",
          "data": {
            "text/html": [
              "<div>\n",
              "<style scoped>\n",
              "    .dataframe tbody tr th:only-of-type {\n",
              "        vertical-align: middle;\n",
              "    }\n",
              "\n",
              "    .dataframe tbody tr th {\n",
              "        vertical-align: top;\n",
              "    }\n",
              "\n",
              "    .dataframe thead th {\n",
              "        text-align: right;\n",
              "    }\n",
              "</style>\n",
              "<table border=\"1\" class=\"dataframe\">\n",
              "  <thead>\n",
              "    <tr style=\"text-align: right;\">\n",
              "      <th></th>\n",
              "      <th>A</th>\n",
              "      <th>B</th>\n",
              "      <th>C</th>\n",
              "      <th>D</th>\n",
              "    </tr>\n",
              "  </thead>\n",
              "  <tbody>\n",
              "    <tr>\n",
              "      <th>2021-07-22 10:47:23.604946</th>\n",
              "      <td>-0.730686</td>\n",
              "      <td>1.766367</td>\n",
              "      <td>1.495212</td>\n",
              "      <td>1.479039</td>\n",
              "    </tr>\n",
              "    <tr>\n",
              "      <th>2021-07-23 10:47:23.604946</th>\n",
              "      <td>-0.515340</td>\n",
              "      <td>-0.852428</td>\n",
              "      <td>0.786363</td>\n",
              "      <td>-0.188617</td>\n",
              "    </tr>\n",
              "    <tr>\n",
              "      <th>2021-07-24 10:47:23.604946</th>\n",
              "      <td>-0.941803</td>\n",
              "      <td>-0.530908</td>\n",
              "      <td>-1.483793</td>\n",
              "      <td>0.257640</td>\n",
              "    </tr>\n",
              "    <tr>\n",
              "      <th>2021-07-25 10:47:23.604946</th>\n",
              "      <td>-0.619783</td>\n",
              "      <td>-0.609445</td>\n",
              "      <td>-2.131289</td>\n",
              "      <td>0.515169</td>\n",
              "    </tr>\n",
              "    <tr>\n",
              "      <th>2021-07-26 10:47:23.604946</th>\n",
              "      <td>0.510589</td>\n",
              "      <td>0.342959</td>\n",
              "      <td>0.240804</td>\n",
              "      <td>-0.775513</td>\n",
              "    </tr>\n",
              "    <tr>\n",
              "      <th>2021-07-27 10:47:23.604946</th>\n",
              "      <td>0.717811</td>\n",
              "      <td>-0.173740</td>\n",
              "      <td>-2.188859</td>\n",
              "      <td>1.099651</td>\n",
              "    </tr>\n",
              "  </tbody>\n",
              "</table>\n",
              "</div>"
            ],
            "text/plain": [
              "                                   A         B         C         D\n",
              "2021-07-22 10:47:23.604946 -0.730686  1.766367  1.495212  1.479039\n",
              "2021-07-23 10:47:23.604946 -0.515340 -0.852428  0.786363 -0.188617\n",
              "2021-07-24 10:47:23.604946 -0.941803 -0.530908 -1.483793  0.257640\n",
              "2021-07-25 10:47:23.604946 -0.619783 -0.609445 -2.131289  0.515169\n",
              "2021-07-26 10:47:23.604946  0.510589  0.342959  0.240804 -0.775513\n",
              "2021-07-27 10:47:23.604946  0.717811 -0.173740 -2.188859  1.099651"
            ]
          },
          "metadata": {
            "tags": []
          },
          "execution_count": 129
        }
      ]
    },
    {
      "cell_type": "code",
      "metadata": {
        "colab": {
          "base_uri": "https://localhost:8080/",
          "height": 357
        },
        "id": "17paevnv3MHF",
        "outputId": "674e944a-8323-441f-e37e-b49d7b7d3431"
      },
      "source": [
        "data = {'animal':['cat', 'cat', 'snake','dog','dog','cat','snake','cat','dog','dog'],\n",
        "        'age':[1.1, 2, 3, np.nan, 5, 2, 4.5, np.nan, 7, 3],\n",
        "        'visits':[1,2,3,4,5,6,1,3,2,1],\n",
        "        'priority':['yes','yes','no','yes','no','no','no','yes','no','no']}\n",
        "labels = ['a','b','c','d','e','f','g','h','i','j']\n",
        "df2 = pd.DataFrame(data, index = labels)\n",
        "df2 "
      ],
      "execution_count": 133,
      "outputs": [
        {
          "output_type": "execute_result",
          "data": {
            "text/html": [
              "<div>\n",
              "<style scoped>\n",
              "    .dataframe tbody tr th:only-of-type {\n",
              "        vertical-align: middle;\n",
              "    }\n",
              "\n",
              "    .dataframe tbody tr th {\n",
              "        vertical-align: top;\n",
              "    }\n",
              "\n",
              "    .dataframe thead th {\n",
              "        text-align: right;\n",
              "    }\n",
              "</style>\n",
              "<table border=\"1\" class=\"dataframe\">\n",
              "  <thead>\n",
              "    <tr style=\"text-align: right;\">\n",
              "      <th></th>\n",
              "      <th>animal</th>\n",
              "      <th>age</th>\n",
              "      <th>visits</th>\n",
              "      <th>priority</th>\n",
              "    </tr>\n",
              "  </thead>\n",
              "  <tbody>\n",
              "    <tr>\n",
              "      <th>a</th>\n",
              "      <td>cat</td>\n",
              "      <td>1.1</td>\n",
              "      <td>1</td>\n",
              "      <td>yes</td>\n",
              "    </tr>\n",
              "    <tr>\n",
              "      <th>b</th>\n",
              "      <td>cat</td>\n",
              "      <td>2.0</td>\n",
              "      <td>2</td>\n",
              "      <td>yes</td>\n",
              "    </tr>\n",
              "    <tr>\n",
              "      <th>c</th>\n",
              "      <td>snake</td>\n",
              "      <td>3.0</td>\n",
              "      <td>3</td>\n",
              "      <td>no</td>\n",
              "    </tr>\n",
              "    <tr>\n",
              "      <th>d</th>\n",
              "      <td>dog</td>\n",
              "      <td>NaN</td>\n",
              "      <td>4</td>\n",
              "      <td>yes</td>\n",
              "    </tr>\n",
              "    <tr>\n",
              "      <th>e</th>\n",
              "      <td>dog</td>\n",
              "      <td>5.0</td>\n",
              "      <td>5</td>\n",
              "      <td>no</td>\n",
              "    </tr>\n",
              "    <tr>\n",
              "      <th>f</th>\n",
              "      <td>cat</td>\n",
              "      <td>2.0</td>\n",
              "      <td>6</td>\n",
              "      <td>no</td>\n",
              "    </tr>\n",
              "    <tr>\n",
              "      <th>g</th>\n",
              "      <td>snake</td>\n",
              "      <td>4.5</td>\n",
              "      <td>1</td>\n",
              "      <td>no</td>\n",
              "    </tr>\n",
              "    <tr>\n",
              "      <th>h</th>\n",
              "      <td>cat</td>\n",
              "      <td>NaN</td>\n",
              "      <td>3</td>\n",
              "      <td>yes</td>\n",
              "    </tr>\n",
              "    <tr>\n",
              "      <th>i</th>\n",
              "      <td>dog</td>\n",
              "      <td>7.0</td>\n",
              "      <td>2</td>\n",
              "      <td>no</td>\n",
              "    </tr>\n",
              "    <tr>\n",
              "      <th>j</th>\n",
              "      <td>dog</td>\n",
              "      <td>3.0</td>\n",
              "      <td>1</td>\n",
              "      <td>no</td>\n",
              "    </tr>\n",
              "  </tbody>\n",
              "</table>\n",
              "</div>"
            ],
            "text/plain": [
              "  animal  age  visits priority\n",
              "a    cat  1.1       1      yes\n",
              "b    cat  2.0       2      yes\n",
              "c  snake  3.0       3       no\n",
              "d    dog  NaN       4      yes\n",
              "e    dog  5.0       5       no\n",
              "f    cat  2.0       6       no\n",
              "g  snake  4.5       1       no\n",
              "h    cat  NaN       3      yes\n",
              "i    dog  7.0       2       no\n",
              "j    dog  3.0       1       no"
            ]
          },
          "metadata": {
            "tags": []
          },
          "execution_count": 133
        }
      ]
    },
    {
      "cell_type": "code",
      "metadata": {
        "colab": {
          "base_uri": "https://localhost:8080/"
        },
        "id": "JTEY3HAc63YK",
        "outputId": "2d577d36-9b7d-4e8b-dd23-24742387f751"
      },
      "source": [
        "# data types of arrays\n",
        "df2.dtypes"
      ],
      "execution_count": 134,
      "outputs": [
        {
          "output_type": "execute_result",
          "data": {
            "text/plain": [
              "animal       object\n",
              "age         float64\n",
              "visits        int64\n",
              "priority     object\n",
              "dtype: object"
            ]
          },
          "metadata": {
            "tags": []
          },
          "execution_count": 134
        }
      ]
    },
    {
      "cell_type": "code",
      "metadata": {
        "colab": {
          "base_uri": "https://localhost:8080/",
          "height": 203
        },
        "id": "aYlA6fuV24jV",
        "outputId": "b359cfd0-3088-4678-a8bc-6db8e8de1cb5"
      },
      "source": [
        "df2.head()"
      ],
      "execution_count": 136,
      "outputs": [
        {
          "output_type": "execute_result",
          "data": {
            "text/html": [
              "<div>\n",
              "<style scoped>\n",
              "    .dataframe tbody tr th:only-of-type {\n",
              "        vertical-align: middle;\n",
              "    }\n",
              "\n",
              "    .dataframe tbody tr th {\n",
              "        vertical-align: top;\n",
              "    }\n",
              "\n",
              "    .dataframe thead th {\n",
              "        text-align: right;\n",
              "    }\n",
              "</style>\n",
              "<table border=\"1\" class=\"dataframe\">\n",
              "  <thead>\n",
              "    <tr style=\"text-align: right;\">\n",
              "      <th></th>\n",
              "      <th>animal</th>\n",
              "      <th>age</th>\n",
              "      <th>visits</th>\n",
              "      <th>priority</th>\n",
              "    </tr>\n",
              "  </thead>\n",
              "  <tbody>\n",
              "    <tr>\n",
              "      <th>a</th>\n",
              "      <td>cat</td>\n",
              "      <td>1.1</td>\n",
              "      <td>1</td>\n",
              "      <td>yes</td>\n",
              "    </tr>\n",
              "    <tr>\n",
              "      <th>b</th>\n",
              "      <td>cat</td>\n",
              "      <td>2.0</td>\n",
              "      <td>2</td>\n",
              "      <td>yes</td>\n",
              "    </tr>\n",
              "    <tr>\n",
              "      <th>c</th>\n",
              "      <td>snake</td>\n",
              "      <td>3.0</td>\n",
              "      <td>3</td>\n",
              "      <td>no</td>\n",
              "    </tr>\n",
              "    <tr>\n",
              "      <th>d</th>\n",
              "      <td>dog</td>\n",
              "      <td>NaN</td>\n",
              "      <td>4</td>\n",
              "      <td>yes</td>\n",
              "    </tr>\n",
              "    <tr>\n",
              "      <th>e</th>\n",
              "      <td>dog</td>\n",
              "      <td>5.0</td>\n",
              "      <td>5</td>\n",
              "      <td>no</td>\n",
              "    </tr>\n",
              "  </tbody>\n",
              "</table>\n",
              "</div>"
            ],
            "text/plain": [
              "  animal  age  visits priority\n",
              "a    cat  1.1       1      yes\n",
              "b    cat  2.0       2      yes\n",
              "c  snake  3.0       3       no\n",
              "d    dog  NaN       4      yes\n",
              "e    dog  5.0       5       no"
            ]
          },
          "metadata": {
            "tags": []
          },
          "execution_count": 136
        }
      ]
    },
    {
      "cell_type": "code",
      "metadata": {
        "colab": {
          "base_uri": "https://localhost:8080/",
          "height": 203
        },
        "id": "TdZnZJYO7SPJ",
        "outputId": "bc8576f0-c3c2-414c-b78c-45d8102b0680"
      },
      "source": [
        "df2.tail()"
      ],
      "execution_count": 137,
      "outputs": [
        {
          "output_type": "execute_result",
          "data": {
            "text/html": [
              "<div>\n",
              "<style scoped>\n",
              "    .dataframe tbody tr th:only-of-type {\n",
              "        vertical-align: middle;\n",
              "    }\n",
              "\n",
              "    .dataframe tbody tr th {\n",
              "        vertical-align: top;\n",
              "    }\n",
              "\n",
              "    .dataframe thead th {\n",
              "        text-align: right;\n",
              "    }\n",
              "</style>\n",
              "<table border=\"1\" class=\"dataframe\">\n",
              "  <thead>\n",
              "    <tr style=\"text-align: right;\">\n",
              "      <th></th>\n",
              "      <th>animal</th>\n",
              "      <th>age</th>\n",
              "      <th>visits</th>\n",
              "      <th>priority</th>\n",
              "    </tr>\n",
              "  </thead>\n",
              "  <tbody>\n",
              "    <tr>\n",
              "      <th>f</th>\n",
              "      <td>cat</td>\n",
              "      <td>2.0</td>\n",
              "      <td>6</td>\n",
              "      <td>no</td>\n",
              "    </tr>\n",
              "    <tr>\n",
              "      <th>g</th>\n",
              "      <td>snake</td>\n",
              "      <td>4.5</td>\n",
              "      <td>1</td>\n",
              "      <td>no</td>\n",
              "    </tr>\n",
              "    <tr>\n",
              "      <th>h</th>\n",
              "      <td>cat</td>\n",
              "      <td>NaN</td>\n",
              "      <td>3</td>\n",
              "      <td>yes</td>\n",
              "    </tr>\n",
              "    <tr>\n",
              "      <th>i</th>\n",
              "      <td>dog</td>\n",
              "      <td>7.0</td>\n",
              "      <td>2</td>\n",
              "      <td>no</td>\n",
              "    </tr>\n",
              "    <tr>\n",
              "      <th>j</th>\n",
              "      <td>dog</td>\n",
              "      <td>3.0</td>\n",
              "      <td>1</td>\n",
              "      <td>no</td>\n",
              "    </tr>\n",
              "  </tbody>\n",
              "</table>\n",
              "</div>"
            ],
            "text/plain": [
              "  animal  age  visits priority\n",
              "f    cat  2.0       6       no\n",
              "g  snake  4.5       1       no\n",
              "h    cat  NaN       3      yes\n",
              "i    dog  7.0       2       no\n",
              "j    dog  3.0       1       no"
            ]
          },
          "metadata": {
            "tags": []
          },
          "execution_count": 137
        }
      ]
    },
    {
      "cell_type": "code",
      "metadata": {
        "colab": {
          "base_uri": "https://localhost:8080/",
          "height": 357
        },
        "id": "gbwjnwsb7Xgd",
        "outputId": "47de3409-0796-4423-aa3c-3edf393cf21a"
      },
      "source": [
        "df2.head(10)"
      ],
      "execution_count": 139,
      "outputs": [
        {
          "output_type": "execute_result",
          "data": {
            "text/html": [
              "<div>\n",
              "<style scoped>\n",
              "    .dataframe tbody tr th:only-of-type {\n",
              "        vertical-align: middle;\n",
              "    }\n",
              "\n",
              "    .dataframe tbody tr th {\n",
              "        vertical-align: top;\n",
              "    }\n",
              "\n",
              "    .dataframe thead th {\n",
              "        text-align: right;\n",
              "    }\n",
              "</style>\n",
              "<table border=\"1\" class=\"dataframe\">\n",
              "  <thead>\n",
              "    <tr style=\"text-align: right;\">\n",
              "      <th></th>\n",
              "      <th>animal</th>\n",
              "      <th>age</th>\n",
              "      <th>visits</th>\n",
              "      <th>priority</th>\n",
              "    </tr>\n",
              "  </thead>\n",
              "  <tbody>\n",
              "    <tr>\n",
              "      <th>a</th>\n",
              "      <td>cat</td>\n",
              "      <td>1.1</td>\n",
              "      <td>1</td>\n",
              "      <td>yes</td>\n",
              "    </tr>\n",
              "    <tr>\n",
              "      <th>b</th>\n",
              "      <td>cat</td>\n",
              "      <td>2.0</td>\n",
              "      <td>2</td>\n",
              "      <td>yes</td>\n",
              "    </tr>\n",
              "    <tr>\n",
              "      <th>c</th>\n",
              "      <td>snake</td>\n",
              "      <td>3.0</td>\n",
              "      <td>3</td>\n",
              "      <td>no</td>\n",
              "    </tr>\n",
              "    <tr>\n",
              "      <th>d</th>\n",
              "      <td>dog</td>\n",
              "      <td>NaN</td>\n",
              "      <td>4</td>\n",
              "      <td>yes</td>\n",
              "    </tr>\n",
              "    <tr>\n",
              "      <th>e</th>\n",
              "      <td>dog</td>\n",
              "      <td>5.0</td>\n",
              "      <td>5</td>\n",
              "      <td>no</td>\n",
              "    </tr>\n",
              "    <tr>\n",
              "      <th>f</th>\n",
              "      <td>cat</td>\n",
              "      <td>2.0</td>\n",
              "      <td>6</td>\n",
              "      <td>no</td>\n",
              "    </tr>\n",
              "    <tr>\n",
              "      <th>g</th>\n",
              "      <td>snake</td>\n",
              "      <td>4.5</td>\n",
              "      <td>1</td>\n",
              "      <td>no</td>\n",
              "    </tr>\n",
              "    <tr>\n",
              "      <th>h</th>\n",
              "      <td>cat</td>\n",
              "      <td>NaN</td>\n",
              "      <td>3</td>\n",
              "      <td>yes</td>\n",
              "    </tr>\n",
              "    <tr>\n",
              "      <th>i</th>\n",
              "      <td>dog</td>\n",
              "      <td>7.0</td>\n",
              "      <td>2</td>\n",
              "      <td>no</td>\n",
              "    </tr>\n",
              "    <tr>\n",
              "      <th>j</th>\n",
              "      <td>dog</td>\n",
              "      <td>3.0</td>\n",
              "      <td>1</td>\n",
              "      <td>no</td>\n",
              "    </tr>\n",
              "  </tbody>\n",
              "</table>\n",
              "</div>"
            ],
            "text/plain": [
              "  animal  age  visits priority\n",
              "a    cat  1.1       1      yes\n",
              "b    cat  2.0       2      yes\n",
              "c  snake  3.0       3       no\n",
              "d    dog  NaN       4      yes\n",
              "e    dog  5.0       5       no\n",
              "f    cat  2.0       6       no\n",
              "g  snake  4.5       1       no\n",
              "h    cat  NaN       3      yes\n",
              "i    dog  7.0       2       no\n",
              "j    dog  3.0       1       no"
            ]
          },
          "metadata": {
            "tags": []
          },
          "execution_count": 139
        }
      ]
    },
    {
      "cell_type": "code",
      "metadata": {
        "colab": {
          "base_uri": "https://localhost:8080/"
        },
        "id": "F0VqA0rd8IpE",
        "outputId": "193a6c2d-41b9-4fe9-a8eb-8d6d012a880b"
      },
      "source": [
        "df2.index"
      ],
      "execution_count": 140,
      "outputs": [
        {
          "output_type": "execute_result",
          "data": {
            "text/plain": [
              "Index(['a', 'b', 'c', 'd', 'e', 'f', 'g', 'h', 'i', 'j'], dtype='object')"
            ]
          },
          "metadata": {
            "tags": []
          },
          "execution_count": 140
        }
      ]
    },
    {
      "cell_type": "code",
      "metadata": {
        "colab": {
          "base_uri": "https://localhost:8080/"
        },
        "id": "5_mgW6Cb8TLh",
        "outputId": "7a1db6f2-0de1-4c69-e60f-c569090649e0"
      },
      "source": [
        "df2.columns"
      ],
      "execution_count": 141,
      "outputs": [
        {
          "output_type": "execute_result",
          "data": {
            "text/plain": [
              "Index(['animal', 'age', 'visits', 'priority'], dtype='object')"
            ]
          },
          "metadata": {
            "tags": []
          },
          "execution_count": 141
        }
      ]
    },
    {
      "cell_type": "code",
      "metadata": {
        "colab": {
          "base_uri": "https://localhost:8080/"
        },
        "id": "VKIO8oD48WH3",
        "outputId": "b033f7d7-4c82-43cd-eba8-c2c77efb8111"
      },
      "source": [
        "df2.values"
      ],
      "execution_count": 142,
      "outputs": [
        {
          "output_type": "execute_result",
          "data": {
            "text/plain": [
              "array([['cat', 1.1, 1, 'yes'],\n",
              "       ['cat', 2.0, 2, 'yes'],\n",
              "       ['snake', 3.0, 3, 'no'],\n",
              "       ['dog', nan, 4, 'yes'],\n",
              "       ['dog', 5.0, 5, 'no'],\n",
              "       ['cat', 2.0, 6, 'no'],\n",
              "       ['snake', 4.5, 1, 'no'],\n",
              "       ['cat', nan, 3, 'yes'],\n",
              "       ['dog', 7.0, 2, 'no'],\n",
              "       ['dog', 3.0, 1, 'no']], dtype=object)"
            ]
          },
          "metadata": {
            "tags": []
          },
          "execution_count": 142
        }
      ]
    },
    {
      "cell_type": "code",
      "metadata": {
        "colab": {
          "base_uri": "https://localhost:8080/",
          "height": 295
        },
        "id": "4aCsPo9N-iJo",
        "outputId": "bf680077-89ed-4495-9cde-a5ed8d62901f"
      },
      "source": [
        "df2.describe()"
      ],
      "execution_count": 143,
      "outputs": [
        {
          "output_type": "execute_result",
          "data": {
            "text/html": [
              "<div>\n",
              "<style scoped>\n",
              "    .dataframe tbody tr th:only-of-type {\n",
              "        vertical-align: middle;\n",
              "    }\n",
              "\n",
              "    .dataframe tbody tr th {\n",
              "        vertical-align: top;\n",
              "    }\n",
              "\n",
              "    .dataframe thead th {\n",
              "        text-align: right;\n",
              "    }\n",
              "</style>\n",
              "<table border=\"1\" class=\"dataframe\">\n",
              "  <thead>\n",
              "    <tr style=\"text-align: right;\">\n",
              "      <th></th>\n",
              "      <th>age</th>\n",
              "      <th>visits</th>\n",
              "    </tr>\n",
              "  </thead>\n",
              "  <tbody>\n",
              "    <tr>\n",
              "      <th>count</th>\n",
              "      <td>8.000000</td>\n",
              "      <td>10.00000</td>\n",
              "    </tr>\n",
              "    <tr>\n",
              "      <th>mean</th>\n",
              "      <td>3.450000</td>\n",
              "      <td>2.80000</td>\n",
              "    </tr>\n",
              "    <tr>\n",
              "      <th>std</th>\n",
              "      <td>1.936123</td>\n",
              "      <td>1.75119</td>\n",
              "    </tr>\n",
              "    <tr>\n",
              "      <th>min</th>\n",
              "      <td>1.100000</td>\n",
              "      <td>1.00000</td>\n",
              "    </tr>\n",
              "    <tr>\n",
              "      <th>25%</th>\n",
              "      <td>2.000000</td>\n",
              "      <td>1.25000</td>\n",
              "    </tr>\n",
              "    <tr>\n",
              "      <th>50%</th>\n",
              "      <td>3.000000</td>\n",
              "      <td>2.50000</td>\n",
              "    </tr>\n",
              "    <tr>\n",
              "      <th>75%</th>\n",
              "      <td>4.625000</td>\n",
              "      <td>3.75000</td>\n",
              "    </tr>\n",
              "    <tr>\n",
              "      <th>max</th>\n",
              "      <td>7.000000</td>\n",
              "      <td>6.00000</td>\n",
              "    </tr>\n",
              "  </tbody>\n",
              "</table>\n",
              "</div>"
            ],
            "text/plain": [
              "            age    visits\n",
              "count  8.000000  10.00000\n",
              "mean   3.450000   2.80000\n",
              "std    1.936123   1.75119\n",
              "min    1.100000   1.00000\n",
              "25%    2.000000   1.25000\n",
              "50%    3.000000   2.50000\n",
              "75%    4.625000   3.75000\n",
              "max    7.000000   6.00000"
            ]
          },
          "metadata": {
            "tags": []
          },
          "execution_count": 143
        }
      ]
    },
    {
      "cell_type": "code",
      "metadata": {
        "colab": {
          "base_uri": "https://localhost:8080/",
          "height": 172
        },
        "id": "kKaN89Z5-yQZ",
        "outputId": "6067de7c-0d5a-4726-b906-c5ac2cb512dd"
      },
      "source": [
        "df2.T"
      ],
      "execution_count": 144,
      "outputs": [
        {
          "output_type": "execute_result",
          "data": {
            "text/html": [
              "<div>\n",
              "<style scoped>\n",
              "    .dataframe tbody tr th:only-of-type {\n",
              "        vertical-align: middle;\n",
              "    }\n",
              "\n",
              "    .dataframe tbody tr th {\n",
              "        vertical-align: top;\n",
              "    }\n",
              "\n",
              "    .dataframe thead th {\n",
              "        text-align: right;\n",
              "    }\n",
              "</style>\n",
              "<table border=\"1\" class=\"dataframe\">\n",
              "  <thead>\n",
              "    <tr style=\"text-align: right;\">\n",
              "      <th></th>\n",
              "      <th>a</th>\n",
              "      <th>b</th>\n",
              "      <th>c</th>\n",
              "      <th>d</th>\n",
              "      <th>e</th>\n",
              "      <th>f</th>\n",
              "      <th>g</th>\n",
              "      <th>h</th>\n",
              "      <th>i</th>\n",
              "      <th>j</th>\n",
              "    </tr>\n",
              "  </thead>\n",
              "  <tbody>\n",
              "    <tr>\n",
              "      <th>animal</th>\n",
              "      <td>cat</td>\n",
              "      <td>cat</td>\n",
              "      <td>snake</td>\n",
              "      <td>dog</td>\n",
              "      <td>dog</td>\n",
              "      <td>cat</td>\n",
              "      <td>snake</td>\n",
              "      <td>cat</td>\n",
              "      <td>dog</td>\n",
              "      <td>dog</td>\n",
              "    </tr>\n",
              "    <tr>\n",
              "      <th>age</th>\n",
              "      <td>1.1</td>\n",
              "      <td>2</td>\n",
              "      <td>3</td>\n",
              "      <td>NaN</td>\n",
              "      <td>5</td>\n",
              "      <td>2</td>\n",
              "      <td>4.5</td>\n",
              "      <td>NaN</td>\n",
              "      <td>7</td>\n",
              "      <td>3</td>\n",
              "    </tr>\n",
              "    <tr>\n",
              "      <th>visits</th>\n",
              "      <td>1</td>\n",
              "      <td>2</td>\n",
              "      <td>3</td>\n",
              "      <td>4</td>\n",
              "      <td>5</td>\n",
              "      <td>6</td>\n",
              "      <td>1</td>\n",
              "      <td>3</td>\n",
              "      <td>2</td>\n",
              "      <td>1</td>\n",
              "    </tr>\n",
              "    <tr>\n",
              "      <th>priority</th>\n",
              "      <td>yes</td>\n",
              "      <td>yes</td>\n",
              "      <td>no</td>\n",
              "      <td>yes</td>\n",
              "      <td>no</td>\n",
              "      <td>no</td>\n",
              "      <td>no</td>\n",
              "      <td>yes</td>\n",
              "      <td>no</td>\n",
              "      <td>no</td>\n",
              "    </tr>\n",
              "  </tbody>\n",
              "</table>\n",
              "</div>"
            ],
            "text/plain": [
              "            a    b      c    d    e    f      g    h    i    j\n",
              "animal    cat  cat  snake  dog  dog  cat  snake  cat  dog  dog\n",
              "age       1.1    2      3  NaN    5    2    4.5  NaN    7    3\n",
              "visits      1    2      3    4    5    6      1    3    2    1\n",
              "priority  yes  yes     no  yes   no   no     no  yes   no   no"
            ]
          },
          "metadata": {
            "tags": []
          },
          "execution_count": 144
        }
      ]
    },
    {
      "cell_type": "code",
      "metadata": {
        "colab": {
          "base_uri": "https://localhost:8080/",
          "height": 357
        },
        "id": "mZXjOa7q_IWV",
        "outputId": "4f39e16d-ff79-4451-b3c5-e4af9f1f581a"
      },
      "source": [
        "df2.sort_values(by = 'age')"
      ],
      "execution_count": 145,
      "outputs": [
        {
          "output_type": "execute_result",
          "data": {
            "text/html": [
              "<div>\n",
              "<style scoped>\n",
              "    .dataframe tbody tr th:only-of-type {\n",
              "        vertical-align: middle;\n",
              "    }\n",
              "\n",
              "    .dataframe tbody tr th {\n",
              "        vertical-align: top;\n",
              "    }\n",
              "\n",
              "    .dataframe thead th {\n",
              "        text-align: right;\n",
              "    }\n",
              "</style>\n",
              "<table border=\"1\" class=\"dataframe\">\n",
              "  <thead>\n",
              "    <tr style=\"text-align: right;\">\n",
              "      <th></th>\n",
              "      <th>animal</th>\n",
              "      <th>age</th>\n",
              "      <th>visits</th>\n",
              "      <th>priority</th>\n",
              "    </tr>\n",
              "  </thead>\n",
              "  <tbody>\n",
              "    <tr>\n",
              "      <th>a</th>\n",
              "      <td>cat</td>\n",
              "      <td>1.1</td>\n",
              "      <td>1</td>\n",
              "      <td>yes</td>\n",
              "    </tr>\n",
              "    <tr>\n",
              "      <th>b</th>\n",
              "      <td>cat</td>\n",
              "      <td>2.0</td>\n",
              "      <td>2</td>\n",
              "      <td>yes</td>\n",
              "    </tr>\n",
              "    <tr>\n",
              "      <th>f</th>\n",
              "      <td>cat</td>\n",
              "      <td>2.0</td>\n",
              "      <td>6</td>\n",
              "      <td>no</td>\n",
              "    </tr>\n",
              "    <tr>\n",
              "      <th>c</th>\n",
              "      <td>snake</td>\n",
              "      <td>3.0</td>\n",
              "      <td>3</td>\n",
              "      <td>no</td>\n",
              "    </tr>\n",
              "    <tr>\n",
              "      <th>j</th>\n",
              "      <td>dog</td>\n",
              "      <td>3.0</td>\n",
              "      <td>1</td>\n",
              "      <td>no</td>\n",
              "    </tr>\n",
              "    <tr>\n",
              "      <th>g</th>\n",
              "      <td>snake</td>\n",
              "      <td>4.5</td>\n",
              "      <td>1</td>\n",
              "      <td>no</td>\n",
              "    </tr>\n",
              "    <tr>\n",
              "      <th>e</th>\n",
              "      <td>dog</td>\n",
              "      <td>5.0</td>\n",
              "      <td>5</td>\n",
              "      <td>no</td>\n",
              "    </tr>\n",
              "    <tr>\n",
              "      <th>i</th>\n",
              "      <td>dog</td>\n",
              "      <td>7.0</td>\n",
              "      <td>2</td>\n",
              "      <td>no</td>\n",
              "    </tr>\n",
              "    <tr>\n",
              "      <th>d</th>\n",
              "      <td>dog</td>\n",
              "      <td>NaN</td>\n",
              "      <td>4</td>\n",
              "      <td>yes</td>\n",
              "    </tr>\n",
              "    <tr>\n",
              "      <th>h</th>\n",
              "      <td>cat</td>\n",
              "      <td>NaN</td>\n",
              "      <td>3</td>\n",
              "      <td>yes</td>\n",
              "    </tr>\n",
              "  </tbody>\n",
              "</table>\n",
              "</div>"
            ],
            "text/plain": [
              "  animal  age  visits priority\n",
              "a    cat  1.1       1      yes\n",
              "b    cat  2.0       2      yes\n",
              "f    cat  2.0       6       no\n",
              "c  snake  3.0       3       no\n",
              "j    dog  3.0       1       no\n",
              "g  snake  4.5       1       no\n",
              "e    dog  5.0       5       no\n",
              "i    dog  7.0       2       no\n",
              "d    dog  NaN       4      yes\n",
              "h    cat  NaN       3      yes"
            ]
          },
          "metadata": {
            "tags": []
          },
          "execution_count": 145
        }
      ]
    },
    {
      "cell_type": "code",
      "metadata": {
        "colab": {
          "base_uri": "https://localhost:8080/",
          "height": 172
        },
        "id": "wWe6vwDV_ipM",
        "outputId": "9cd21e2b-2d0d-4bfb-bc00-68a87cc918fa"
      },
      "source": [
        "df2[1:5]"
      ],
      "execution_count": 146,
      "outputs": [
        {
          "output_type": "execute_result",
          "data": {
            "text/html": [
              "<div>\n",
              "<style scoped>\n",
              "    .dataframe tbody tr th:only-of-type {\n",
              "        vertical-align: middle;\n",
              "    }\n",
              "\n",
              "    .dataframe tbody tr th {\n",
              "        vertical-align: top;\n",
              "    }\n",
              "\n",
              "    .dataframe thead th {\n",
              "        text-align: right;\n",
              "    }\n",
              "</style>\n",
              "<table border=\"1\" class=\"dataframe\">\n",
              "  <thead>\n",
              "    <tr style=\"text-align: right;\">\n",
              "      <th></th>\n",
              "      <th>animal</th>\n",
              "      <th>age</th>\n",
              "      <th>visits</th>\n",
              "      <th>priority</th>\n",
              "    </tr>\n",
              "  </thead>\n",
              "  <tbody>\n",
              "    <tr>\n",
              "      <th>b</th>\n",
              "      <td>cat</td>\n",
              "      <td>2.0</td>\n",
              "      <td>2</td>\n",
              "      <td>yes</td>\n",
              "    </tr>\n",
              "    <tr>\n",
              "      <th>c</th>\n",
              "      <td>snake</td>\n",
              "      <td>3.0</td>\n",
              "      <td>3</td>\n",
              "      <td>no</td>\n",
              "    </tr>\n",
              "    <tr>\n",
              "      <th>d</th>\n",
              "      <td>dog</td>\n",
              "      <td>NaN</td>\n",
              "      <td>4</td>\n",
              "      <td>yes</td>\n",
              "    </tr>\n",
              "    <tr>\n",
              "      <th>e</th>\n",
              "      <td>dog</td>\n",
              "      <td>5.0</td>\n",
              "      <td>5</td>\n",
              "      <td>no</td>\n",
              "    </tr>\n",
              "  </tbody>\n",
              "</table>\n",
              "</div>"
            ],
            "text/plain": [
              "  animal  age  visits priority\n",
              "b    cat  2.0       2      yes\n",
              "c  snake  3.0       3       no\n",
              "d    dog  NaN       4      yes\n",
              "e    dog  5.0       5       no"
            ]
          },
          "metadata": {
            "tags": []
          },
          "execution_count": 146
        }
      ]
    },
    {
      "cell_type": "code",
      "metadata": {
        "colab": {
          "base_uri": "https://localhost:8080/",
          "height": 203
        },
        "id": "q7ZkBt7Q_6p0",
        "outputId": "fcefc865-2a6a-4831-c296-fa8bb9b4dc43"
      },
      "source": [
        "df2.sort_values(by = 'age')[1:6]"
      ],
      "execution_count": 147,
      "outputs": [
        {
          "output_type": "execute_result",
          "data": {
            "text/html": [
              "<div>\n",
              "<style scoped>\n",
              "    .dataframe tbody tr th:only-of-type {\n",
              "        vertical-align: middle;\n",
              "    }\n",
              "\n",
              "    .dataframe tbody tr th {\n",
              "        vertical-align: top;\n",
              "    }\n",
              "\n",
              "    .dataframe thead th {\n",
              "        text-align: right;\n",
              "    }\n",
              "</style>\n",
              "<table border=\"1\" class=\"dataframe\">\n",
              "  <thead>\n",
              "    <tr style=\"text-align: right;\">\n",
              "      <th></th>\n",
              "      <th>animal</th>\n",
              "      <th>age</th>\n",
              "      <th>visits</th>\n",
              "      <th>priority</th>\n",
              "    </tr>\n",
              "  </thead>\n",
              "  <tbody>\n",
              "    <tr>\n",
              "      <th>b</th>\n",
              "      <td>cat</td>\n",
              "      <td>2.0</td>\n",
              "      <td>2</td>\n",
              "      <td>yes</td>\n",
              "    </tr>\n",
              "    <tr>\n",
              "      <th>f</th>\n",
              "      <td>cat</td>\n",
              "      <td>2.0</td>\n",
              "      <td>6</td>\n",
              "      <td>no</td>\n",
              "    </tr>\n",
              "    <tr>\n",
              "      <th>c</th>\n",
              "      <td>snake</td>\n",
              "      <td>3.0</td>\n",
              "      <td>3</td>\n",
              "      <td>no</td>\n",
              "    </tr>\n",
              "    <tr>\n",
              "      <th>j</th>\n",
              "      <td>dog</td>\n",
              "      <td>3.0</td>\n",
              "      <td>1</td>\n",
              "      <td>no</td>\n",
              "    </tr>\n",
              "    <tr>\n",
              "      <th>g</th>\n",
              "      <td>snake</td>\n",
              "      <td>4.5</td>\n",
              "      <td>1</td>\n",
              "      <td>no</td>\n",
              "    </tr>\n",
              "  </tbody>\n",
              "</table>\n",
              "</div>"
            ],
            "text/plain": [
              "  animal  age  visits priority\n",
              "b    cat  2.0       2      yes\n",
              "f    cat  2.0       6       no\n",
              "c  snake  3.0       3       no\n",
              "j    dog  3.0       1       no\n",
              "g  snake  4.5       1       no"
            ]
          },
          "metadata": {
            "tags": []
          },
          "execution_count": 147
        }
      ]
    },
    {
      "cell_type": "code",
      "metadata": {
        "colab": {
          "base_uri": "https://localhost:8080/",
          "height": 357
        },
        "id": "f2o0s-wtAP8b",
        "outputId": "a05b156a-7a86-427b-d011-c14a95648c93"
      },
      "source": [
        "df2[['age','visits']]"
      ],
      "execution_count": 148,
      "outputs": [
        {
          "output_type": "execute_result",
          "data": {
            "text/html": [
              "<div>\n",
              "<style scoped>\n",
              "    .dataframe tbody tr th:only-of-type {\n",
              "        vertical-align: middle;\n",
              "    }\n",
              "\n",
              "    .dataframe tbody tr th {\n",
              "        vertical-align: top;\n",
              "    }\n",
              "\n",
              "    .dataframe thead th {\n",
              "        text-align: right;\n",
              "    }\n",
              "</style>\n",
              "<table border=\"1\" class=\"dataframe\">\n",
              "  <thead>\n",
              "    <tr style=\"text-align: right;\">\n",
              "      <th></th>\n",
              "      <th>age</th>\n",
              "      <th>visits</th>\n",
              "    </tr>\n",
              "  </thead>\n",
              "  <tbody>\n",
              "    <tr>\n",
              "      <th>a</th>\n",
              "      <td>1.1</td>\n",
              "      <td>1</td>\n",
              "    </tr>\n",
              "    <tr>\n",
              "      <th>b</th>\n",
              "      <td>2.0</td>\n",
              "      <td>2</td>\n",
              "    </tr>\n",
              "    <tr>\n",
              "      <th>c</th>\n",
              "      <td>3.0</td>\n",
              "      <td>3</td>\n",
              "    </tr>\n",
              "    <tr>\n",
              "      <th>d</th>\n",
              "      <td>NaN</td>\n",
              "      <td>4</td>\n",
              "    </tr>\n",
              "    <tr>\n",
              "      <th>e</th>\n",
              "      <td>5.0</td>\n",
              "      <td>5</td>\n",
              "    </tr>\n",
              "    <tr>\n",
              "      <th>f</th>\n",
              "      <td>2.0</td>\n",
              "      <td>6</td>\n",
              "    </tr>\n",
              "    <tr>\n",
              "      <th>g</th>\n",
              "      <td>4.5</td>\n",
              "      <td>1</td>\n",
              "    </tr>\n",
              "    <tr>\n",
              "      <th>h</th>\n",
              "      <td>NaN</td>\n",
              "      <td>3</td>\n",
              "    </tr>\n",
              "    <tr>\n",
              "      <th>i</th>\n",
              "      <td>7.0</td>\n",
              "      <td>2</td>\n",
              "    </tr>\n",
              "    <tr>\n",
              "      <th>j</th>\n",
              "      <td>3.0</td>\n",
              "      <td>1</td>\n",
              "    </tr>\n",
              "  </tbody>\n",
              "</table>\n",
              "</div>"
            ],
            "text/plain": [
              "   age  visits\n",
              "a  1.1       1\n",
              "b  2.0       2\n",
              "c  3.0       3\n",
              "d  NaN       4\n",
              "e  5.0       5\n",
              "f  2.0       6\n",
              "g  4.5       1\n",
              "h  NaN       3\n",
              "i  7.0       2\n",
              "j  3.0       1"
            ]
          },
          "metadata": {
            "tags": []
          },
          "execution_count": 148
        }
      ]
    },
    {
      "cell_type": "code",
      "metadata": {
        "colab": {
          "base_uri": "https://localhost:8080/",
          "height": 142
        },
        "id": "3YLp1Ua0Am7a",
        "outputId": "647505c1-3475-4dba-c5ca-1da45ec6238b"
      },
      "source": [
        "df2.iloc[1:4]"
      ],
      "execution_count": 149,
      "outputs": [
        {
          "output_type": "execute_result",
          "data": {
            "text/html": [
              "<div>\n",
              "<style scoped>\n",
              "    .dataframe tbody tr th:only-of-type {\n",
              "        vertical-align: middle;\n",
              "    }\n",
              "\n",
              "    .dataframe tbody tr th {\n",
              "        vertical-align: top;\n",
              "    }\n",
              "\n",
              "    .dataframe thead th {\n",
              "        text-align: right;\n",
              "    }\n",
              "</style>\n",
              "<table border=\"1\" class=\"dataframe\">\n",
              "  <thead>\n",
              "    <tr style=\"text-align: right;\">\n",
              "      <th></th>\n",
              "      <th>animal</th>\n",
              "      <th>age</th>\n",
              "      <th>visits</th>\n",
              "      <th>priority</th>\n",
              "    </tr>\n",
              "  </thead>\n",
              "  <tbody>\n",
              "    <tr>\n",
              "      <th>b</th>\n",
              "      <td>cat</td>\n",
              "      <td>2.0</td>\n",
              "      <td>2</td>\n",
              "      <td>yes</td>\n",
              "    </tr>\n",
              "    <tr>\n",
              "      <th>c</th>\n",
              "      <td>snake</td>\n",
              "      <td>3.0</td>\n",
              "      <td>3</td>\n",
              "      <td>no</td>\n",
              "    </tr>\n",
              "    <tr>\n",
              "      <th>d</th>\n",
              "      <td>dog</td>\n",
              "      <td>NaN</td>\n",
              "      <td>4</td>\n",
              "      <td>yes</td>\n",
              "    </tr>\n",
              "  </tbody>\n",
              "</table>\n",
              "</div>"
            ],
            "text/plain": [
              "  animal  age  visits priority\n",
              "b    cat  2.0       2      yes\n",
              "c  snake  3.0       3       no\n",
              "d    dog  NaN       4      yes"
            ]
          },
          "metadata": {
            "tags": []
          },
          "execution_count": 149
        }
      ]
    },
    {
      "cell_type": "code",
      "metadata": {
        "colab": {
          "base_uri": "https://localhost:8080/",
          "height": 357
        },
        "id": "iBftO1ypAv56",
        "outputId": "83fd646f-e93c-46c2-cc6d-e73749604c46"
      },
      "source": [
        "df3 = df2.copy()\n",
        "df3"
      ],
      "execution_count": 151,
      "outputs": [
        {
          "output_type": "execute_result",
          "data": {
            "text/html": [
              "<div>\n",
              "<style scoped>\n",
              "    .dataframe tbody tr th:only-of-type {\n",
              "        vertical-align: middle;\n",
              "    }\n",
              "\n",
              "    .dataframe tbody tr th {\n",
              "        vertical-align: top;\n",
              "    }\n",
              "\n",
              "    .dataframe thead th {\n",
              "        text-align: right;\n",
              "    }\n",
              "</style>\n",
              "<table border=\"1\" class=\"dataframe\">\n",
              "  <thead>\n",
              "    <tr style=\"text-align: right;\">\n",
              "      <th></th>\n",
              "      <th>animal</th>\n",
              "      <th>age</th>\n",
              "      <th>visits</th>\n",
              "      <th>priority</th>\n",
              "    </tr>\n",
              "  </thead>\n",
              "  <tbody>\n",
              "    <tr>\n",
              "      <th>a</th>\n",
              "      <td>cat</td>\n",
              "      <td>1.1</td>\n",
              "      <td>1</td>\n",
              "      <td>yes</td>\n",
              "    </tr>\n",
              "    <tr>\n",
              "      <th>b</th>\n",
              "      <td>cat</td>\n",
              "      <td>2.0</td>\n",
              "      <td>2</td>\n",
              "      <td>yes</td>\n",
              "    </tr>\n",
              "    <tr>\n",
              "      <th>c</th>\n",
              "      <td>snake</td>\n",
              "      <td>3.0</td>\n",
              "      <td>3</td>\n",
              "      <td>no</td>\n",
              "    </tr>\n",
              "    <tr>\n",
              "      <th>d</th>\n",
              "      <td>dog</td>\n",
              "      <td>NaN</td>\n",
              "      <td>4</td>\n",
              "      <td>yes</td>\n",
              "    </tr>\n",
              "    <tr>\n",
              "      <th>e</th>\n",
              "      <td>dog</td>\n",
              "      <td>5.0</td>\n",
              "      <td>5</td>\n",
              "      <td>no</td>\n",
              "    </tr>\n",
              "    <tr>\n",
              "      <th>f</th>\n",
              "      <td>cat</td>\n",
              "      <td>2.0</td>\n",
              "      <td>6</td>\n",
              "      <td>no</td>\n",
              "    </tr>\n",
              "    <tr>\n",
              "      <th>g</th>\n",
              "      <td>snake</td>\n",
              "      <td>4.5</td>\n",
              "      <td>1</td>\n",
              "      <td>no</td>\n",
              "    </tr>\n",
              "    <tr>\n",
              "      <th>h</th>\n",
              "      <td>cat</td>\n",
              "      <td>NaN</td>\n",
              "      <td>3</td>\n",
              "      <td>yes</td>\n",
              "    </tr>\n",
              "    <tr>\n",
              "      <th>i</th>\n",
              "      <td>dog</td>\n",
              "      <td>7.0</td>\n",
              "      <td>2</td>\n",
              "      <td>no</td>\n",
              "    </tr>\n",
              "    <tr>\n",
              "      <th>j</th>\n",
              "      <td>dog</td>\n",
              "      <td>3.0</td>\n",
              "      <td>1</td>\n",
              "      <td>no</td>\n",
              "    </tr>\n",
              "  </tbody>\n",
              "</table>\n",
              "</div>"
            ],
            "text/plain": [
              "  animal  age  visits priority\n",
              "a    cat  1.1       1      yes\n",
              "b    cat  2.0       2      yes\n",
              "c  snake  3.0       3       no\n",
              "d    dog  NaN       4      yes\n",
              "e    dog  5.0       5       no\n",
              "f    cat  2.0       6       no\n",
              "g  snake  4.5       1       no\n",
              "h    cat  NaN       3      yes\n",
              "i    dog  7.0       2       no\n",
              "j    dog  3.0       1       no"
            ]
          },
          "metadata": {
            "tags": []
          },
          "execution_count": 151
        }
      ]
    },
    {
      "cell_type": "code",
      "metadata": {
        "colab": {
          "base_uri": "https://localhost:8080/",
          "height": 357
        },
        "id": "uaQZuXKiA53D",
        "outputId": "6c1deac5-ea62-493a-f69a-e8c2ba085354"
      },
      "source": [
        "df3.isnull()"
      ],
      "execution_count": 152,
      "outputs": [
        {
          "output_type": "execute_result",
          "data": {
            "text/html": [
              "<div>\n",
              "<style scoped>\n",
              "    .dataframe tbody tr th:only-of-type {\n",
              "        vertical-align: middle;\n",
              "    }\n",
              "\n",
              "    .dataframe tbody tr th {\n",
              "        vertical-align: top;\n",
              "    }\n",
              "\n",
              "    .dataframe thead th {\n",
              "        text-align: right;\n",
              "    }\n",
              "</style>\n",
              "<table border=\"1\" class=\"dataframe\">\n",
              "  <thead>\n",
              "    <tr style=\"text-align: right;\">\n",
              "      <th></th>\n",
              "      <th>animal</th>\n",
              "      <th>age</th>\n",
              "      <th>visits</th>\n",
              "      <th>priority</th>\n",
              "    </tr>\n",
              "  </thead>\n",
              "  <tbody>\n",
              "    <tr>\n",
              "      <th>a</th>\n",
              "      <td>False</td>\n",
              "      <td>False</td>\n",
              "      <td>False</td>\n",
              "      <td>False</td>\n",
              "    </tr>\n",
              "    <tr>\n",
              "      <th>b</th>\n",
              "      <td>False</td>\n",
              "      <td>False</td>\n",
              "      <td>False</td>\n",
              "      <td>False</td>\n",
              "    </tr>\n",
              "    <tr>\n",
              "      <th>c</th>\n",
              "      <td>False</td>\n",
              "      <td>False</td>\n",
              "      <td>False</td>\n",
              "      <td>False</td>\n",
              "    </tr>\n",
              "    <tr>\n",
              "      <th>d</th>\n",
              "      <td>False</td>\n",
              "      <td>True</td>\n",
              "      <td>False</td>\n",
              "      <td>False</td>\n",
              "    </tr>\n",
              "    <tr>\n",
              "      <th>e</th>\n",
              "      <td>False</td>\n",
              "      <td>False</td>\n",
              "      <td>False</td>\n",
              "      <td>False</td>\n",
              "    </tr>\n",
              "    <tr>\n",
              "      <th>f</th>\n",
              "      <td>False</td>\n",
              "      <td>False</td>\n",
              "      <td>False</td>\n",
              "      <td>False</td>\n",
              "    </tr>\n",
              "    <tr>\n",
              "      <th>g</th>\n",
              "      <td>False</td>\n",
              "      <td>False</td>\n",
              "      <td>False</td>\n",
              "      <td>False</td>\n",
              "    </tr>\n",
              "    <tr>\n",
              "      <th>h</th>\n",
              "      <td>False</td>\n",
              "      <td>True</td>\n",
              "      <td>False</td>\n",
              "      <td>False</td>\n",
              "    </tr>\n",
              "    <tr>\n",
              "      <th>i</th>\n",
              "      <td>False</td>\n",
              "      <td>False</td>\n",
              "      <td>False</td>\n",
              "      <td>False</td>\n",
              "    </tr>\n",
              "    <tr>\n",
              "      <th>j</th>\n",
              "      <td>False</td>\n",
              "      <td>False</td>\n",
              "      <td>False</td>\n",
              "      <td>False</td>\n",
              "    </tr>\n",
              "  </tbody>\n",
              "</table>\n",
              "</div>"
            ],
            "text/plain": [
              "   animal    age  visits  priority\n",
              "a   False  False   False     False\n",
              "b   False  False   False     False\n",
              "c   False  False   False     False\n",
              "d   False   True   False     False\n",
              "e   False  False   False     False\n",
              "f   False  False   False     False\n",
              "g   False  False   False     False\n",
              "h   False   True   False     False\n",
              "i   False  False   False     False\n",
              "j   False  False   False     False"
            ]
          },
          "metadata": {
            "tags": []
          },
          "execution_count": 152
        }
      ]
    },
    {
      "cell_type": "code",
      "metadata": {
        "id": "vkwLqxZABHIX"
      },
      "source": [
        "df3.loc['f','age'] = 1.5"
      ],
      "execution_count": 153,
      "outputs": []
    },
    {
      "cell_type": "code",
      "metadata": {
        "colab": {
          "base_uri": "https://localhost:8080/",
          "height": 357
        },
        "id": "w-aTq_hIBuXR",
        "outputId": "b076f8be-097b-4abe-b9a1-204c699fbc2b"
      },
      "source": [
        "df3"
      ],
      "execution_count": 154,
      "outputs": [
        {
          "output_type": "execute_result",
          "data": {
            "text/html": [
              "<div>\n",
              "<style scoped>\n",
              "    .dataframe tbody tr th:only-of-type {\n",
              "        vertical-align: middle;\n",
              "    }\n",
              "\n",
              "    .dataframe tbody tr th {\n",
              "        vertical-align: top;\n",
              "    }\n",
              "\n",
              "    .dataframe thead th {\n",
              "        text-align: right;\n",
              "    }\n",
              "</style>\n",
              "<table border=\"1\" class=\"dataframe\">\n",
              "  <thead>\n",
              "    <tr style=\"text-align: right;\">\n",
              "      <th></th>\n",
              "      <th>animal</th>\n",
              "      <th>age</th>\n",
              "      <th>visits</th>\n",
              "      <th>priority</th>\n",
              "    </tr>\n",
              "  </thead>\n",
              "  <tbody>\n",
              "    <tr>\n",
              "      <th>a</th>\n",
              "      <td>cat</td>\n",
              "      <td>1.1</td>\n",
              "      <td>1</td>\n",
              "      <td>yes</td>\n",
              "    </tr>\n",
              "    <tr>\n",
              "      <th>b</th>\n",
              "      <td>cat</td>\n",
              "      <td>2.0</td>\n",
              "      <td>2</td>\n",
              "      <td>yes</td>\n",
              "    </tr>\n",
              "    <tr>\n",
              "      <th>c</th>\n",
              "      <td>snake</td>\n",
              "      <td>3.0</td>\n",
              "      <td>3</td>\n",
              "      <td>no</td>\n",
              "    </tr>\n",
              "    <tr>\n",
              "      <th>d</th>\n",
              "      <td>dog</td>\n",
              "      <td>NaN</td>\n",
              "      <td>4</td>\n",
              "      <td>yes</td>\n",
              "    </tr>\n",
              "    <tr>\n",
              "      <th>e</th>\n",
              "      <td>dog</td>\n",
              "      <td>5.0</td>\n",
              "      <td>5</td>\n",
              "      <td>no</td>\n",
              "    </tr>\n",
              "    <tr>\n",
              "      <th>f</th>\n",
              "      <td>cat</td>\n",
              "      <td>1.5</td>\n",
              "      <td>6</td>\n",
              "      <td>no</td>\n",
              "    </tr>\n",
              "    <tr>\n",
              "      <th>g</th>\n",
              "      <td>snake</td>\n",
              "      <td>4.5</td>\n",
              "      <td>1</td>\n",
              "      <td>no</td>\n",
              "    </tr>\n",
              "    <tr>\n",
              "      <th>h</th>\n",
              "      <td>cat</td>\n",
              "      <td>NaN</td>\n",
              "      <td>3</td>\n",
              "      <td>yes</td>\n",
              "    </tr>\n",
              "    <tr>\n",
              "      <th>i</th>\n",
              "      <td>dog</td>\n",
              "      <td>7.0</td>\n",
              "      <td>2</td>\n",
              "      <td>no</td>\n",
              "    </tr>\n",
              "    <tr>\n",
              "      <th>j</th>\n",
              "      <td>dog</td>\n",
              "      <td>3.0</td>\n",
              "      <td>1</td>\n",
              "      <td>no</td>\n",
              "    </tr>\n",
              "  </tbody>\n",
              "</table>\n",
              "</div>"
            ],
            "text/plain": [
              "  animal  age  visits priority\n",
              "a    cat  1.1       1      yes\n",
              "b    cat  2.0       2      yes\n",
              "c  snake  3.0       3       no\n",
              "d    dog  NaN       4      yes\n",
              "e    dog  5.0       5       no\n",
              "f    cat  1.5       6       no\n",
              "g  snake  4.5       1       no\n",
              "h    cat  NaN       3      yes\n",
              "i    dog  7.0       2       no\n",
              "j    dog  3.0       1       no"
            ]
          },
          "metadata": {
            "tags": []
          },
          "execution_count": 154
        }
      ]
    },
    {
      "cell_type": "code",
      "metadata": {
        "colab": {
          "base_uri": "https://localhost:8080/"
        },
        "id": "gnMRNogpB7Lc",
        "outputId": "5e03b5d7-e1cd-407d-98e3-49225cdd216d"
      },
      "source": [
        "df3[['age']].mean()"
      ],
      "execution_count": 155,
      "outputs": [
        {
          "output_type": "execute_result",
          "data": {
            "text/plain": [
              "age    3.3875\n",
              "dtype: float64"
            ]
          },
          "metadata": {
            "tags": []
          },
          "execution_count": 155
        }
      ]
    },
    {
      "cell_type": "code",
      "metadata": {
        "colab": {
          "base_uri": "https://localhost:8080/"
        },
        "id": "sZUuxjfxCYOf",
        "outputId": "2f6efa6a-50e2-4730-e706-a972ed58926d"
      },
      "source": [
        "df3[['visits']].mean()"
      ],
      "execution_count": 156,
      "outputs": [
        {
          "output_type": "execute_result",
          "data": {
            "text/plain": [
              "visits    2.8\n",
              "dtype: float64"
            ]
          },
          "metadata": {
            "tags": []
          },
          "execution_count": 156
        }
      ]
    },
    {
      "cell_type": "code",
      "metadata": {
        "colab": {
          "base_uri": "https://localhost:8080/"
        },
        "id": "vQcHZQGZCcwW",
        "outputId": "198d5ea7-2091-482b-9593-3ee791f10f7e"
      },
      "source": [
        "df3.mean()"
      ],
      "execution_count": 157,
      "outputs": [
        {
          "output_type": "execute_result",
          "data": {
            "text/plain": [
              "age       3.3875\n",
              "visits    2.8000\n",
              "dtype: float64"
            ]
          },
          "metadata": {
            "tags": []
          },
          "execution_count": 157
        }
      ]
    },
    {
      "cell_type": "code",
      "metadata": {
        "colab": {
          "base_uri": "https://localhost:8080/"
        },
        "id": "ruRJ2RRbCnLZ",
        "outputId": "bedff22f-e1c7-4739-b5a8-5775816d64a5"
      },
      "source": [
        " df3.sum()"
      ],
      "execution_count": 159,
      "outputs": [
        {
          "output_type": "execute_result",
          "data": {
            "text/plain": [
              "animal      catcatsnakedogdogcatsnakecatdogdog\n",
              "age                                       27.1\n",
              "visits                                      28\n",
              "priority              yesyesnoyesnononoyesnono\n",
              "dtype: object"
            ]
          },
          "metadata": {
            "tags": []
          },
          "execution_count": 159
        }
      ]
    },
    {
      "cell_type": "code",
      "metadata": {
        "colab": {
          "base_uri": "https://localhost:8080/"
        },
        "id": "5ge7GkyiDKgi",
        "outputId": "0afc1de2-92d4-4247-c954-d113967f14ef"
      },
      "source": [
        "df3[[\"age\"]].sum()"
      ],
      "execution_count": 160,
      "outputs": [
        {
          "output_type": "execute_result",
          "data": {
            "text/plain": [
              "age    27.1\n",
              "dtype: float64"
            ]
          },
          "metadata": {
            "tags": []
          },
          "execution_count": 160
        }
      ]
    },
    {
      "cell_type": "code",
      "metadata": {
        "colab": {
          "base_uri": "https://localhost:8080/"
        },
        "id": "WkzvTTUXDehH",
        "outputId": "9cc1df76-3f29-4c6f-87f5-80f1a70d9753"
      },
      "source": [
        "string = pd.Series(['A','B','C','D','F','RAM'])\n",
        "string.str.lower()"
      ],
      "execution_count": 163,
      "outputs": [
        {
          "output_type": "execute_result",
          "data": {
            "text/plain": [
              "0      a\n",
              "1      b\n",
              "2      c\n",
              "3      d\n",
              "4      f\n",
              "5    ram\n",
              "dtype: object"
            ]
          },
          "metadata": {
            "tags": []
          },
          "execution_count": 163
        }
      ]
    },
    {
      "cell_type": "code",
      "metadata": {
        "colab": {
          "base_uri": "https://localhost:8080/"
        },
        "id": "1CWjAeHgEMP2",
        "outputId": "d8b97299-2deb-4a37-adf8-53e8d4a11338"
      },
      "source": [
        "string = pd.Series(['a','b','c','d','f','ram'])\n",
        "string.str.upper()"
      ],
      "execution_count": 164,
      "outputs": [
        {
          "output_type": "execute_result",
          "data": {
            "text/plain": [
              "0      A\n",
              "1      B\n",
              "2      C\n",
              "3      D\n",
              "4      F\n",
              "5    RAM\n",
              "dtype: object"
            ]
          },
          "metadata": {
            "tags": []
          },
          "execution_count": 164
        }
      ]
    },
    {
      "cell_type": "code",
      "metadata": {
        "id": "53fxcMM4E5y-"
      },
      "source": [
        "# operation on dataframe ad missing values"
      ],
      "execution_count": 165,
      "outputs": []
    },
    {
      "cell_type": "code",
      "metadata": {
        "id": "KXqAh4FdG3nt"
      },
      "source": [
        "df4 = df3.copy()"
      ],
      "execution_count": 166,
      "outputs": []
    },
    {
      "cell_type": "code",
      "metadata": {
        "colab": {
          "base_uri": "https://localhost:8080/",
          "height": 357
        },
        "id": "Hf3wyk-qG81k",
        "outputId": "b671e6b9-626b-4789-c34d-9ed6993f1a63"
      },
      "source": [
        "df4"
      ],
      "execution_count": 167,
      "outputs": [
        {
          "output_type": "execute_result",
          "data": {
            "text/html": [
              "<div>\n",
              "<style scoped>\n",
              "    .dataframe tbody tr th:only-of-type {\n",
              "        vertical-align: middle;\n",
              "    }\n",
              "\n",
              "    .dataframe tbody tr th {\n",
              "        vertical-align: top;\n",
              "    }\n",
              "\n",
              "    .dataframe thead th {\n",
              "        text-align: right;\n",
              "    }\n",
              "</style>\n",
              "<table border=\"1\" class=\"dataframe\">\n",
              "  <thead>\n",
              "    <tr style=\"text-align: right;\">\n",
              "      <th></th>\n",
              "      <th>animal</th>\n",
              "      <th>age</th>\n",
              "      <th>visits</th>\n",
              "      <th>priority</th>\n",
              "    </tr>\n",
              "  </thead>\n",
              "  <tbody>\n",
              "    <tr>\n",
              "      <th>a</th>\n",
              "      <td>cat</td>\n",
              "      <td>1.1</td>\n",
              "      <td>1</td>\n",
              "      <td>yes</td>\n",
              "    </tr>\n",
              "    <tr>\n",
              "      <th>b</th>\n",
              "      <td>cat</td>\n",
              "      <td>2.0</td>\n",
              "      <td>2</td>\n",
              "      <td>yes</td>\n",
              "    </tr>\n",
              "    <tr>\n",
              "      <th>c</th>\n",
              "      <td>snake</td>\n",
              "      <td>3.0</td>\n",
              "      <td>3</td>\n",
              "      <td>no</td>\n",
              "    </tr>\n",
              "    <tr>\n",
              "      <th>d</th>\n",
              "      <td>dog</td>\n",
              "      <td>NaN</td>\n",
              "      <td>4</td>\n",
              "      <td>yes</td>\n",
              "    </tr>\n",
              "    <tr>\n",
              "      <th>e</th>\n",
              "      <td>dog</td>\n",
              "      <td>5.0</td>\n",
              "      <td>5</td>\n",
              "      <td>no</td>\n",
              "    </tr>\n",
              "    <tr>\n",
              "      <th>f</th>\n",
              "      <td>cat</td>\n",
              "      <td>1.5</td>\n",
              "      <td>6</td>\n",
              "      <td>no</td>\n",
              "    </tr>\n",
              "    <tr>\n",
              "      <th>g</th>\n",
              "      <td>snake</td>\n",
              "      <td>4.5</td>\n",
              "      <td>1</td>\n",
              "      <td>no</td>\n",
              "    </tr>\n",
              "    <tr>\n",
              "      <th>h</th>\n",
              "      <td>cat</td>\n",
              "      <td>NaN</td>\n",
              "      <td>3</td>\n",
              "      <td>yes</td>\n",
              "    </tr>\n",
              "    <tr>\n",
              "      <th>i</th>\n",
              "      <td>dog</td>\n",
              "      <td>7.0</td>\n",
              "      <td>2</td>\n",
              "      <td>no</td>\n",
              "    </tr>\n",
              "    <tr>\n",
              "      <th>j</th>\n",
              "      <td>dog</td>\n",
              "      <td>3.0</td>\n",
              "      <td>1</td>\n",
              "      <td>no</td>\n",
              "    </tr>\n",
              "  </tbody>\n",
              "</table>\n",
              "</div>"
            ],
            "text/plain": [
              "  animal  age  visits priority\n",
              "a    cat  1.1       1      yes\n",
              "b    cat  2.0       2      yes\n",
              "c  snake  3.0       3       no\n",
              "d    dog  NaN       4      yes\n",
              "e    dog  5.0       5       no\n",
              "f    cat  1.5       6       no\n",
              "g  snake  4.5       1       no\n",
              "h    cat  NaN       3      yes\n",
              "i    dog  7.0       2       no\n",
              "j    dog  3.0       1       no"
            ]
          },
          "metadata": {
            "tags": []
          },
          "execution_count": 167
        }
      ]
    },
    {
      "cell_type": "code",
      "metadata": {
        "colab": {
          "base_uri": "https://localhost:8080/",
          "height": 357
        },
        "id": "n9u1LexhHHyA",
        "outputId": "848309ad-4261-4b9e-f0cf-4993b31a174a"
      },
      "source": [
        "meanage = df4[['age']].mean()\n",
        "df4.fillna(meanage)"
      ],
      "execution_count": 169,
      "outputs": [
        {
          "output_type": "execute_result",
          "data": {
            "text/html": [
              "<div>\n",
              "<style scoped>\n",
              "    .dataframe tbody tr th:only-of-type {\n",
              "        vertical-align: middle;\n",
              "    }\n",
              "\n",
              "    .dataframe tbody tr th {\n",
              "        vertical-align: top;\n",
              "    }\n",
              "\n",
              "    .dataframe thead th {\n",
              "        text-align: right;\n",
              "    }\n",
              "</style>\n",
              "<table border=\"1\" class=\"dataframe\">\n",
              "  <thead>\n",
              "    <tr style=\"text-align: right;\">\n",
              "      <th></th>\n",
              "      <th>animal</th>\n",
              "      <th>age</th>\n",
              "      <th>visits</th>\n",
              "      <th>priority</th>\n",
              "    </tr>\n",
              "  </thead>\n",
              "  <tbody>\n",
              "    <tr>\n",
              "      <th>a</th>\n",
              "      <td>cat</td>\n",
              "      <td>1.1000</td>\n",
              "      <td>1</td>\n",
              "      <td>yes</td>\n",
              "    </tr>\n",
              "    <tr>\n",
              "      <th>b</th>\n",
              "      <td>cat</td>\n",
              "      <td>2.0000</td>\n",
              "      <td>2</td>\n",
              "      <td>yes</td>\n",
              "    </tr>\n",
              "    <tr>\n",
              "      <th>c</th>\n",
              "      <td>snake</td>\n",
              "      <td>3.0000</td>\n",
              "      <td>3</td>\n",
              "      <td>no</td>\n",
              "    </tr>\n",
              "    <tr>\n",
              "      <th>d</th>\n",
              "      <td>dog</td>\n",
              "      <td>3.3875</td>\n",
              "      <td>4</td>\n",
              "      <td>yes</td>\n",
              "    </tr>\n",
              "    <tr>\n",
              "      <th>e</th>\n",
              "      <td>dog</td>\n",
              "      <td>5.0000</td>\n",
              "      <td>5</td>\n",
              "      <td>no</td>\n",
              "    </tr>\n",
              "    <tr>\n",
              "      <th>f</th>\n",
              "      <td>cat</td>\n",
              "      <td>1.5000</td>\n",
              "      <td>6</td>\n",
              "      <td>no</td>\n",
              "    </tr>\n",
              "    <tr>\n",
              "      <th>g</th>\n",
              "      <td>snake</td>\n",
              "      <td>4.5000</td>\n",
              "      <td>1</td>\n",
              "      <td>no</td>\n",
              "    </tr>\n",
              "    <tr>\n",
              "      <th>h</th>\n",
              "      <td>cat</td>\n",
              "      <td>3.3875</td>\n",
              "      <td>3</td>\n",
              "      <td>yes</td>\n",
              "    </tr>\n",
              "    <tr>\n",
              "      <th>i</th>\n",
              "      <td>dog</td>\n",
              "      <td>7.0000</td>\n",
              "      <td>2</td>\n",
              "      <td>no</td>\n",
              "    </tr>\n",
              "    <tr>\n",
              "      <th>j</th>\n",
              "      <td>dog</td>\n",
              "      <td>3.0000</td>\n",
              "      <td>1</td>\n",
              "      <td>no</td>\n",
              "    </tr>\n",
              "  </tbody>\n",
              "</table>\n",
              "</div>"
            ],
            "text/plain": [
              "  animal     age  visits priority\n",
              "a    cat  1.1000       1      yes\n",
              "b    cat  2.0000       2      yes\n",
              "c  snake  3.0000       3       no\n",
              "d    dog  3.3875       4      yes\n",
              "e    dog  5.0000       5       no\n",
              "f    cat  1.5000       6       no\n",
              "g  snake  4.5000       1       no\n",
              "h    cat  3.3875       3      yes\n",
              "i    dog  7.0000       2       no\n",
              "j    dog  3.0000       1       no"
            ]
          },
          "metadata": {
            "tags": []
          },
          "execution_count": 169
        }
      ]
    },
    {
      "cell_type": "code",
      "metadata": {
        "colab": {
          "base_uri": "https://localhost:8080/",
          "height": 295
        },
        "id": "WlheL2PrHis_",
        "outputId": "fe5ad92c-b7aa-482c-e77a-19641eda0649"
      },
      "source": [
        "df5 = df3.copy()\n",
        "df5.dropna()"
      ],
      "execution_count": 171,
      "outputs": [
        {
          "output_type": "execute_result",
          "data": {
            "text/html": [
              "<div>\n",
              "<style scoped>\n",
              "    .dataframe tbody tr th:only-of-type {\n",
              "        vertical-align: middle;\n",
              "    }\n",
              "\n",
              "    .dataframe tbody tr th {\n",
              "        vertical-align: top;\n",
              "    }\n",
              "\n",
              "    .dataframe thead th {\n",
              "        text-align: right;\n",
              "    }\n",
              "</style>\n",
              "<table border=\"1\" class=\"dataframe\">\n",
              "  <thead>\n",
              "    <tr style=\"text-align: right;\">\n",
              "      <th></th>\n",
              "      <th>animal</th>\n",
              "      <th>age</th>\n",
              "      <th>visits</th>\n",
              "      <th>priority</th>\n",
              "    </tr>\n",
              "  </thead>\n",
              "  <tbody>\n",
              "    <tr>\n",
              "      <th>a</th>\n",
              "      <td>cat</td>\n",
              "      <td>1.1</td>\n",
              "      <td>1</td>\n",
              "      <td>yes</td>\n",
              "    </tr>\n",
              "    <tr>\n",
              "      <th>b</th>\n",
              "      <td>cat</td>\n",
              "      <td>2.0</td>\n",
              "      <td>2</td>\n",
              "      <td>yes</td>\n",
              "    </tr>\n",
              "    <tr>\n",
              "      <th>c</th>\n",
              "      <td>snake</td>\n",
              "      <td>3.0</td>\n",
              "      <td>3</td>\n",
              "      <td>no</td>\n",
              "    </tr>\n",
              "    <tr>\n",
              "      <th>e</th>\n",
              "      <td>dog</td>\n",
              "      <td>5.0</td>\n",
              "      <td>5</td>\n",
              "      <td>no</td>\n",
              "    </tr>\n",
              "    <tr>\n",
              "      <th>f</th>\n",
              "      <td>cat</td>\n",
              "      <td>1.5</td>\n",
              "      <td>6</td>\n",
              "      <td>no</td>\n",
              "    </tr>\n",
              "    <tr>\n",
              "      <th>g</th>\n",
              "      <td>snake</td>\n",
              "      <td>4.5</td>\n",
              "      <td>1</td>\n",
              "      <td>no</td>\n",
              "    </tr>\n",
              "    <tr>\n",
              "      <th>i</th>\n",
              "      <td>dog</td>\n",
              "      <td>7.0</td>\n",
              "      <td>2</td>\n",
              "      <td>no</td>\n",
              "    </tr>\n",
              "    <tr>\n",
              "      <th>j</th>\n",
              "      <td>dog</td>\n",
              "      <td>3.0</td>\n",
              "      <td>1</td>\n",
              "      <td>no</td>\n",
              "    </tr>\n",
              "  </tbody>\n",
              "</table>\n",
              "</div>"
            ],
            "text/plain": [
              "  animal  age  visits priority\n",
              "a    cat  1.1       1      yes\n",
              "b    cat  2.0       2      yes\n",
              "c  snake  3.0       3       no\n",
              "e    dog  5.0       5       no\n",
              "f    cat  1.5       6       no\n",
              "g  snake  4.5       1       no\n",
              "i    dog  7.0       2       no\n",
              "j    dog  3.0       1       no"
            ]
          },
          "metadata": {
            "tags": []
          },
          "execution_count": 171
        }
      ]
    },
    {
      "cell_type": "code",
      "metadata": {
        "colab": {
          "base_uri": "https://localhost:8080/",
          "height": 295
        },
        "id": "fLJaMuAMH44V",
        "outputId": "fe0173bd-cb69-47c0-98d2-d9b579f37f78"
      },
      "source": [
        "df5 = df3.copy()\n",
        "df5.dropna(how = 'any')"
      ],
      "execution_count": 172,
      "outputs": [
        {
          "output_type": "execute_result",
          "data": {
            "text/html": [
              "<div>\n",
              "<style scoped>\n",
              "    .dataframe tbody tr th:only-of-type {\n",
              "        vertical-align: middle;\n",
              "    }\n",
              "\n",
              "    .dataframe tbody tr th {\n",
              "        vertical-align: top;\n",
              "    }\n",
              "\n",
              "    .dataframe thead th {\n",
              "        text-align: right;\n",
              "    }\n",
              "</style>\n",
              "<table border=\"1\" class=\"dataframe\">\n",
              "  <thead>\n",
              "    <tr style=\"text-align: right;\">\n",
              "      <th></th>\n",
              "      <th>animal</th>\n",
              "      <th>age</th>\n",
              "      <th>visits</th>\n",
              "      <th>priority</th>\n",
              "    </tr>\n",
              "  </thead>\n",
              "  <tbody>\n",
              "    <tr>\n",
              "      <th>a</th>\n",
              "      <td>cat</td>\n",
              "      <td>1.1</td>\n",
              "      <td>1</td>\n",
              "      <td>yes</td>\n",
              "    </tr>\n",
              "    <tr>\n",
              "      <th>b</th>\n",
              "      <td>cat</td>\n",
              "      <td>2.0</td>\n",
              "      <td>2</td>\n",
              "      <td>yes</td>\n",
              "    </tr>\n",
              "    <tr>\n",
              "      <th>c</th>\n",
              "      <td>snake</td>\n",
              "      <td>3.0</td>\n",
              "      <td>3</td>\n",
              "      <td>no</td>\n",
              "    </tr>\n",
              "    <tr>\n",
              "      <th>e</th>\n",
              "      <td>dog</td>\n",
              "      <td>5.0</td>\n",
              "      <td>5</td>\n",
              "      <td>no</td>\n",
              "    </tr>\n",
              "    <tr>\n",
              "      <th>f</th>\n",
              "      <td>cat</td>\n",
              "      <td>1.5</td>\n",
              "      <td>6</td>\n",
              "      <td>no</td>\n",
              "    </tr>\n",
              "    <tr>\n",
              "      <th>g</th>\n",
              "      <td>snake</td>\n",
              "      <td>4.5</td>\n",
              "      <td>1</td>\n",
              "      <td>no</td>\n",
              "    </tr>\n",
              "    <tr>\n",
              "      <th>i</th>\n",
              "      <td>dog</td>\n",
              "      <td>7.0</td>\n",
              "      <td>2</td>\n",
              "      <td>no</td>\n",
              "    </tr>\n",
              "    <tr>\n",
              "      <th>j</th>\n",
              "      <td>dog</td>\n",
              "      <td>3.0</td>\n",
              "      <td>1</td>\n",
              "      <td>no</td>\n",
              "    </tr>\n",
              "  </tbody>\n",
              "</table>\n",
              "</div>"
            ],
            "text/plain": [
              "  animal  age  visits priority\n",
              "a    cat  1.1       1      yes\n",
              "b    cat  2.0       2      yes\n",
              "c  snake  3.0       3       no\n",
              "e    dog  5.0       5       no\n",
              "f    cat  1.5       6       no\n",
              "g  snake  4.5       1       no\n",
              "i    dog  7.0       2       no\n",
              "j    dog  3.0       1       no"
            ]
          },
          "metadata": {
            "tags": []
          },
          "execution_count": 172
        }
      ]
    },
    {
      "cell_type": "code",
      "metadata": {
        "id": "Dmct2aT3IFRY"
      },
      "source": [
        "# dataframe file operations\n"
      ],
      "execution_count": 173,
      "outputs": []
    },
    {
      "cell_type": "code",
      "metadata": {
        "id": "c2XbeFD3IWt_"
      },
      "source": [
        ""
      ],
      "execution_count": null,
      "outputs": []
    }
  ]
}